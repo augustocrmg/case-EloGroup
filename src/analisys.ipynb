{
 "cells": [
  {
   "cell_type": "code",
   "execution_count": 1115,
   "metadata": {},
   "outputs": [],
   "source": [
    "import pandas as pd\n",
    "import numpy as np\n",
    "import seaborn as sns\n",
    "%matplotlib inline\n",
    "import matplotlib.pyplot as plt\n",
    "from scipy import stats\n",
    "\n",
    "pd.set_option('float_format', '{:.2f}'.format)"
   ]
  },
  {
   "cell_type": "code",
   "execution_count": 1116,
   "metadata": {},
   "outputs": [],
   "source": [
    "prefix  = \"../data/\"\n",
    "\n",
    "df_demographic = pd.read_csv(prefix+\"DemographicData_ZCTAs.csv\")\n",
    "df_economic = pd.read_csv(prefix+\"EconomicData_ZCTAs.csv\")\n",
    "df_geocode = pd.read_csv(prefix+\"df_geocode.csv\")\n",
    "df_tests = pd.read_csv(prefix+\"test_data.csv\")\n",
    "df_transactional = pd.read_csv(prefix+\"transactional_data.csv\",sep=\";\",decimal=\",\")"
   ]
  },
  {
   "cell_type": "markdown",
   "metadata": {},
   "source": [
    "# Sanity check"
   ]
  },
  {
   "cell_type": "markdown",
   "metadata": {},
   "source": [
    "## Sanity check df_demographic"
   ]
  },
  {
   "cell_type": "code",
   "execution_count": 1117,
   "metadata": {},
   "outputs": [
    {
     "data": {
      "text/html": [
       "<div>\n",
       "<style scoped>\n",
       "    .dataframe tbody tr th:only-of-type {\n",
       "        vertical-align: middle;\n",
       "    }\n",
       "\n",
       "    .dataframe tbody tr th {\n",
       "        vertical-align: top;\n",
       "    }\n",
       "\n",
       "    .dataframe thead th {\n",
       "        text-align: right;\n",
       "    }\n",
       "</style>\n",
       "<table border=\"1\" class=\"dataframe\">\n",
       "  <thead>\n",
       "    <tr style=\"text-align: right;\">\n",
       "      <th></th>\n",
       "      <th>Unnamed: 0</th>\n",
       "      <th>Id</th>\n",
       "      <th>GeographicAreaName</th>\n",
       "      <th>TotalPopulation</th>\n",
       "      <th>SexRatio(males per 100 females)</th>\n",
       "      <th>Population_Under5Years</th>\n",
       "      <th>Population_5to9Years</th>\n",
       "      <th>Population_10to14Years</th>\n",
       "      <th>Population_15to19Years</th>\n",
       "      <th>Population_20to24Years</th>\n",
       "      <th>Population_25to34Years</th>\n",
       "      <th>Population_35to44Years</th>\n",
       "      <th>Population_45to54Years</th>\n",
       "      <th>Population_55to59Years</th>\n",
       "      <th>Population_60to64Years</th>\n",
       "      <th>Population_65to74Years</th>\n",
       "      <th>Population_75to84Years</th>\n",
       "      <th>Population_85YearsAndOver</th>\n",
       "      <th>MedianAgeInYears</th>\n",
       "    </tr>\n",
       "  </thead>\n",
       "  <tbody>\n",
       "    <tr>\n",
       "      <th>0</th>\n",
       "      <td>0</td>\n",
       "      <td>8600000US35004</td>\n",
       "      <td>ZCTA5 35004</td>\n",
       "      <td>12045</td>\n",
       "      <td>94.10</td>\n",
       "      <td>805</td>\n",
       "      <td>1075</td>\n",
       "      <td>898</td>\n",
       "      <td>477</td>\n",
       "      <td>578</td>\n",
       "      <td>2088</td>\n",
       "      <td>1628</td>\n",
       "      <td>1200</td>\n",
       "      <td>886</td>\n",
       "      <td>683</td>\n",
       "      <td>1017</td>\n",
       "      <td>534</td>\n",
       "      <td>176</td>\n",
       "      <td>35.50</td>\n",
       "    </tr>\n",
       "    <tr>\n",
       "      <th>1</th>\n",
       "      <td>1</td>\n",
       "      <td>8600000US35005</td>\n",
       "      <td>ZCTA5 35005</td>\n",
       "      <td>7344</td>\n",
       "      <td>86.10</td>\n",
       "      <td>504</td>\n",
       "      <td>453</td>\n",
       "      <td>511</td>\n",
       "      <td>499</td>\n",
       "      <td>214</td>\n",
       "      <td>788</td>\n",
       "      <td>795</td>\n",
       "      <td>968</td>\n",
       "      <td>612</td>\n",
       "      <td>561</td>\n",
       "      <td>798</td>\n",
       "      <td>485</td>\n",
       "      <td>156</td>\n",
       "      <td>44.00</td>\n",
       "    </tr>\n",
       "    <tr>\n",
       "      <th>2</th>\n",
       "      <td>2</td>\n",
       "      <td>8600000US35006</td>\n",
       "      <td>ZCTA5 35006</td>\n",
       "      <td>2883</td>\n",
       "      <td>108.20</td>\n",
       "      <td>96</td>\n",
       "      <td>153</td>\n",
       "      <td>303</td>\n",
       "      <td>129</td>\n",
       "      <td>156</td>\n",
       "      <td>183</td>\n",
       "      <td>367</td>\n",
       "      <td>430</td>\n",
       "      <td>296</td>\n",
       "      <td>260</td>\n",
       "      <td>280</td>\n",
       "      <td>201</td>\n",
       "      <td>29</td>\n",
       "      <td>47.20</td>\n",
       "    </tr>\n",
       "    <tr>\n",
       "      <th>3</th>\n",
       "      <td>3</td>\n",
       "      <td>8600000US35007</td>\n",
       "      <td>ZCTA5 35007</td>\n",
       "      <td>26332</td>\n",
       "      <td>95.00</td>\n",
       "      <td>1936</td>\n",
       "      <td>1992</td>\n",
       "      <td>1837</td>\n",
       "      <td>1762</td>\n",
       "      <td>1376</td>\n",
       "      <td>3119</td>\n",
       "      <td>3849</td>\n",
       "      <td>3907</td>\n",
       "      <td>1665</td>\n",
       "      <td>1323</td>\n",
       "      <td>2096</td>\n",
       "      <td>1106</td>\n",
       "      <td>364</td>\n",
       "      <td>37.70</td>\n",
       "    </tr>\n",
       "    <tr>\n",
       "      <th>4</th>\n",
       "      <td>4</td>\n",
       "      <td>8600000US35010</td>\n",
       "      <td>ZCTA5 35010</td>\n",
       "      <td>20613</td>\n",
       "      <td>90.50</td>\n",
       "      <td>1306</td>\n",
       "      <td>1465</td>\n",
       "      <td>944</td>\n",
       "      <td>1217</td>\n",
       "      <td>1128</td>\n",
       "      <td>2513</td>\n",
       "      <td>2106</td>\n",
       "      <td>2950</td>\n",
       "      <td>1512</td>\n",
       "      <td>1472</td>\n",
       "      <td>2421</td>\n",
       "      <td>1155</td>\n",
       "      <td>424</td>\n",
       "      <td>42.60</td>\n",
       "    </tr>\n",
       "  </tbody>\n",
       "</table>\n",
       "</div>"
      ],
      "text/plain": [
       "   Unnamed: 0              Id GeographicAreaName  TotalPopulation  \\\n",
       "0           0  8600000US35004        ZCTA5 35004            12045   \n",
       "1           1  8600000US35005        ZCTA5 35005             7344   \n",
       "2           2  8600000US35006        ZCTA5 35006             2883   \n",
       "3           3  8600000US35007        ZCTA5 35007            26332   \n",
       "4           4  8600000US35010        ZCTA5 35010            20613   \n",
       "\n",
       "   SexRatio(males per 100 females)  Population_Under5Years  \\\n",
       "0                            94.10                     805   \n",
       "1                            86.10                     504   \n",
       "2                           108.20                      96   \n",
       "3                            95.00                    1936   \n",
       "4                            90.50                    1306   \n",
       "\n",
       "   Population_5to9Years  Population_10to14Years  Population_15to19Years  \\\n",
       "0                  1075                     898                     477   \n",
       "1                   453                     511                     499   \n",
       "2                   153                     303                     129   \n",
       "3                  1992                    1837                    1762   \n",
       "4                  1465                     944                    1217   \n",
       "\n",
       "   Population_20to24Years  Population_25to34Years  Population_35to44Years  \\\n",
       "0                     578                    2088                    1628   \n",
       "1                     214                     788                     795   \n",
       "2                     156                     183                     367   \n",
       "3                    1376                    3119                    3849   \n",
       "4                    1128                    2513                    2106   \n",
       "\n",
       "   Population_45to54Years  Population_55to59Years  Population_60to64Years  \\\n",
       "0                    1200                     886                     683   \n",
       "1                     968                     612                     561   \n",
       "2                     430                     296                     260   \n",
       "3                    3907                    1665                    1323   \n",
       "4                    2950                    1512                    1472   \n",
       "\n",
       "   Population_65to74Years  Population_75to84Years  Population_85YearsAndOver  \\\n",
       "0                    1017                     534                        176   \n",
       "1                     798                     485                        156   \n",
       "2                     280                     201                         29   \n",
       "3                    2096                    1106                        364   \n",
       "4                    2421                    1155                        424   \n",
       "\n",
       "   MedianAgeInYears  \n",
       "0             35.50  \n",
       "1             44.00  \n",
       "2             47.20  \n",
       "3             37.70  \n",
       "4             42.60  "
      ]
     },
     "execution_count": 1117,
     "metadata": {},
     "output_type": "execute_result"
    }
   ],
   "source": [
    "df_demographic.head(5)"
   ]
  },
  {
   "cell_type": "markdown",
   "metadata": {},
   "source": [
    "### Correção de nome das colunas"
   ]
  },
  {
   "cell_type": "code",
   "execution_count": 1118,
   "metadata": {},
   "outputs": [],
   "source": [
    "df_demographic.columns = [x.replace(\" \",\"\").replace(\"(\",\"\").replace(\")\",\"\").replace(\"_\",\"\") for x in df_demographic.columns] # Renomeando as colunas "
   ]
  },
  {
   "cell_type": "markdown",
   "metadata": {},
   "source": [
    "Descartando a coluna Unnamed:0, pois já o dataframe já contém index"
   ]
  },
  {
   "cell_type": "code",
   "execution_count": 1119,
   "metadata": {},
   "outputs": [],
   "source": [
    "df_demographic = df_demographic.iloc[:,1:]"
   ]
  },
  {
   "cell_type": "markdown",
   "metadata": {},
   "source": [
    "### Verificação de nulos"
   ]
  },
  {
   "cell_type": "code",
   "execution_count": 1120,
   "metadata": {},
   "outputs": [
    {
     "data": {
      "text/plain": [
       "Id                              0\n",
       "GeographicAreaName              0\n",
       "TotalPopulation                 0\n",
       "SexRatiomalesper100females    500\n",
       "PopulationUnder5Years           0\n",
       "Population5to9Years             0\n",
       "Population10to14Years           0\n",
       "Population15to19Years           0\n",
       "Population20to24Years           0\n",
       "Population25to34Years           0\n",
       "Population35to44Years           0\n",
       "Population45to54Years           0\n",
       "Population55to59Years           0\n",
       "Population60to64Years           0\n",
       "Population65to74Years           0\n",
       "Population75to84Years           0\n",
       "Population85YearsAndOver        0\n",
       "MedianAgeInYears              569\n",
       "dtype: int64"
      ]
     },
     "execution_count": 1120,
     "metadata": {},
     "output_type": "execute_result"
    }
   ],
   "source": [
    "df_demographic.isnull().sum()"
   ]
  },
  {
   "cell_type": "code",
   "execution_count": 1121,
   "metadata": {},
   "outputs": [
    {
     "name": "stdout",
     "output_type": "stream",
     "text": [
      "Como vemos, cerca de 1.863% das 33120 linhas contém dados nulos\n"
     ]
    }
   ],
   "source": [
    "print(f\"Como vemos, cerca de {((100*df_demographic[df_demographic.isna().any(axis=1)].shape[0])/df_demographic.shape[0]):.3f}\\\n",
    "% das {df_demographic.shape[0]} linhas contém dados nulos\")"
   ]
  },
  {
   "cell_type": "markdown",
   "metadata": {},
   "source": [
    "Como não é possível obter os dados faltantes, as linhas que contém os dados faltantes serão excluidas do dataframe"
   ]
  },
  {
   "cell_type": "code",
   "execution_count": 1122,
   "metadata": {},
   "outputs": [],
   "source": [
    "df_demographic = df_demographic.dropna(how='any') # Dropando os valores nulos"
   ]
  },
  {
   "cell_type": "markdown",
   "metadata": {},
   "source": [
    "Como é possível verificar, não constam mais valores nulos em nenhuma coluna do dataframe"
   ]
  },
  {
   "cell_type": "code",
   "execution_count": 1123,
   "metadata": {},
   "outputs": [
    {
     "data": {
      "text/plain": [
       "Id                            0\n",
       "GeographicAreaName            0\n",
       "TotalPopulation               0\n",
       "SexRatiomalesper100females    0\n",
       "PopulationUnder5Years         0\n",
       "Population5to9Years           0\n",
       "Population10to14Years         0\n",
       "Population15to19Years         0\n",
       "Population20to24Years         0\n",
       "Population25to34Years         0\n",
       "Population35to44Years         0\n",
       "Population45to54Years         0\n",
       "Population55to59Years         0\n",
       "Population60to64Years         0\n",
       "Population65to74Years         0\n",
       "Population75to84Years         0\n",
       "Population85YearsAndOver      0\n",
       "MedianAgeInYears              0\n",
       "dtype: int64"
      ]
     },
     "execution_count": 1123,
     "metadata": {},
     "output_type": "execute_result"
    }
   ],
   "source": [
    "df_demographic.isnull().sum()"
   ]
  },
  {
   "cell_type": "markdown",
   "metadata": {},
   "source": [
    "### Verificação do formato dos dados"
   ]
  },
  {
   "cell_type": "code",
   "execution_count": 1124,
   "metadata": {},
   "outputs": [
    {
     "name": "stdout",
     "output_type": "stream",
     "text": [
      "<class 'pandas.core.frame.DataFrame'>\n",
      "Int64Index: 32503 entries, 0 to 33119\n",
      "Data columns (total 18 columns):\n",
      " #   Column                      Non-Null Count  Dtype  \n",
      "---  ------                      --------------  -----  \n",
      " 0   Id                          32503 non-null  object \n",
      " 1   GeographicAreaName          32503 non-null  object \n",
      " 2   TotalPopulation             32503 non-null  int64  \n",
      " 3   SexRatiomalesper100females  32503 non-null  float64\n",
      " 4   PopulationUnder5Years       32503 non-null  int64  \n",
      " 5   Population5to9Years         32503 non-null  int64  \n",
      " 6   Population10to14Years       32503 non-null  int64  \n",
      " 7   Population15to19Years       32503 non-null  int64  \n",
      " 8   Population20to24Years       32503 non-null  int64  \n",
      " 9   Population25to34Years       32503 non-null  int64  \n",
      " 10  Population35to44Years       32503 non-null  int64  \n",
      " 11  Population45to54Years       32503 non-null  int64  \n",
      " 12  Population55to59Years       32503 non-null  int64  \n",
      " 13  Population60to64Years       32503 non-null  int64  \n",
      " 14  Population65to74Years       32503 non-null  int64  \n",
      " 15  Population75to84Years       32503 non-null  int64  \n",
      " 16  Population85YearsAndOver    32503 non-null  int64  \n",
      " 17  MedianAgeInYears            32503 non-null  float64\n",
      "dtypes: float64(2), int64(14), object(2)\n",
      "memory usage: 4.7+ MB\n"
     ]
    }
   ],
   "source": [
    "df_demographic.info()"
   ]
  },
  {
   "cell_type": "markdown",
   "metadata": {},
   "source": [
    "É possível verificar que as colunas \"Id\" e \"GeographicAreaName\" são do tipo \"object\", e necessitam ser convertidas para tipos específicos"
   ]
  },
  {
   "cell_type": "code",
   "execution_count": 1125,
   "metadata": {},
   "outputs": [],
   "source": [
    "df_demographic[\"Id\"] = df_demographic[\"Id\"].astype(pd.StringDtype())\n",
    "df_demographic[\"GeographicAreaName\"] = df_demographic[\"GeographicAreaName\"].astype(pd.StringDtype())"
   ]
  },
  {
   "cell_type": "markdown",
   "metadata": {},
   "source": [
    "Com isso, todos os Dtype(s) do dataframe foram corrigidos"
   ]
  },
  {
   "cell_type": "code",
   "execution_count": 1126,
   "metadata": {},
   "outputs": [
    {
     "name": "stdout",
     "output_type": "stream",
     "text": [
      "<class 'pandas.core.frame.DataFrame'>\n",
      "Int64Index: 32503 entries, 0 to 33119\n",
      "Data columns (total 18 columns):\n",
      " #   Column                      Non-Null Count  Dtype  \n",
      "---  ------                      --------------  -----  \n",
      " 0   Id                          32503 non-null  string \n",
      " 1   GeographicAreaName          32503 non-null  string \n",
      " 2   TotalPopulation             32503 non-null  int64  \n",
      " 3   SexRatiomalesper100females  32503 non-null  float64\n",
      " 4   PopulationUnder5Years       32503 non-null  int64  \n",
      " 5   Population5to9Years         32503 non-null  int64  \n",
      " 6   Population10to14Years       32503 non-null  int64  \n",
      " 7   Population15to19Years       32503 non-null  int64  \n",
      " 8   Population20to24Years       32503 non-null  int64  \n",
      " 9   Population25to34Years       32503 non-null  int64  \n",
      " 10  Population35to44Years       32503 non-null  int64  \n",
      " 11  Population45to54Years       32503 non-null  int64  \n",
      " 12  Population55to59Years       32503 non-null  int64  \n",
      " 13  Population60to64Years       32503 non-null  int64  \n",
      " 14  Population65to74Years       32503 non-null  int64  \n",
      " 15  Population75to84Years       32503 non-null  int64  \n",
      " 16  Population85YearsAndOver    32503 non-null  int64  \n",
      " 17  MedianAgeInYears            32503 non-null  float64\n",
      "dtypes: float64(2), int64(14), string(2)\n",
      "memory usage: 4.7 MB\n"
     ]
    }
   ],
   "source": [
    "df_demographic.info()"
   ]
  },
  {
   "cell_type": "markdown",
   "metadata": {},
   "source": [
    "### Verificação de registros duplicados"
   ]
  },
  {
   "cell_type": "code",
   "execution_count": 1127,
   "metadata": {},
   "outputs": [
    {
     "data": {
      "text/plain": [
       "0"
      ]
     },
     "execution_count": 1127,
     "metadata": {},
     "output_type": "execute_result"
    }
   ],
   "source": [
    "# Aqui verificamos se em geral existe alguma linha totalmente igual a outra, com os valores\n",
    "#de todas as colunas iguais\n",
    "df_demographic.duplicated().sum()"
   ]
  },
  {
   "cell_type": "code",
   "execution_count": 1128,
   "metadata": {},
   "outputs": [
    {
     "data": {
      "text/plain": [
       "0"
      ]
     },
     "execution_count": 1128,
     "metadata": {},
     "output_type": "execute_result"
    }
   ],
   "source": [
    "# Aqui verificamos se existe algum Id duplicado\n",
    "df_demographic[\"Id\"].duplicated().sum()"
   ]
  },
  {
   "cell_type": "code",
   "execution_count": 1129,
   "metadata": {},
   "outputs": [
    {
     "data": {
      "text/plain": [
       "0"
      ]
     },
     "execution_count": 1129,
     "metadata": {},
     "output_type": "execute_result"
    }
   ],
   "source": [
    "# Aqui verificamos se existem registros duplicados,\n",
    "#excluindo o Id e levando em consideração apenas as variáveis numéricas\n",
    "df_demographic[df_demographic.columns[1:]].duplicated().sum()"
   ]
  },
  {
   "cell_type": "markdown",
   "metadata": {},
   "source": [
    "### Verificação dos outliers"
   ]
  },
  {
   "cell_type": "code",
   "execution_count": 1130,
   "metadata": {},
   "outputs": [
    {
     "data": {
      "text/html": [
       "<div>\n",
       "<style scoped>\n",
       "    .dataframe tbody tr th:only-of-type {\n",
       "        vertical-align: middle;\n",
       "    }\n",
       "\n",
       "    .dataframe tbody tr th {\n",
       "        vertical-align: top;\n",
       "    }\n",
       "\n",
       "    .dataframe thead th {\n",
       "        text-align: right;\n",
       "    }\n",
       "</style>\n",
       "<table border=\"1\" class=\"dataframe\">\n",
       "  <thead>\n",
       "    <tr style=\"text-align: right;\">\n",
       "      <th></th>\n",
       "      <th>TotalPopulation</th>\n",
       "      <th>SexRatiomalesper100females</th>\n",
       "      <th>PopulationUnder5Years</th>\n",
       "      <th>Population5to9Years</th>\n",
       "      <th>Population10to14Years</th>\n",
       "      <th>Population15to19Years</th>\n",
       "      <th>Population20to24Years</th>\n",
       "      <th>Population25to34Years</th>\n",
       "      <th>Population35to44Years</th>\n",
       "      <th>Population45to54Years</th>\n",
       "      <th>Population55to59Years</th>\n",
       "      <th>Population60to64Years</th>\n",
       "      <th>Population65to74Years</th>\n",
       "      <th>Population75to84Years</th>\n",
       "      <th>Population85YearsAndOver</th>\n",
       "      <th>MedianAgeInYears</th>\n",
       "    </tr>\n",
       "  </thead>\n",
       "  <tbody>\n",
       "    <tr>\n",
       "      <th>count</th>\n",
       "      <td>32503.00</td>\n",
       "      <td>32503.00</td>\n",
       "      <td>32503.00</td>\n",
       "      <td>32503.00</td>\n",
       "      <td>32503.00</td>\n",
       "      <td>32503.00</td>\n",
       "      <td>32503.00</td>\n",
       "      <td>32503.00</td>\n",
       "      <td>32503.00</td>\n",
       "      <td>32503.00</td>\n",
       "      <td>32503.00</td>\n",
       "      <td>32503.00</td>\n",
       "      <td>32503.00</td>\n",
       "      <td>32503.00</td>\n",
       "      <td>32503.00</td>\n",
       "      <td>32503.00</td>\n",
       "    </tr>\n",
       "    <tr>\n",
       "      <th>mean</th>\n",
       "      <td>10090.08</td>\n",
       "      <td>116.87</td>\n",
       "      <td>612.57</td>\n",
       "      <td>625.54</td>\n",
       "      <td>649.97</td>\n",
       "      <td>659.21</td>\n",
       "      <td>684.25</td>\n",
       "      <td>1397.67</td>\n",
       "      <td>1273.12</td>\n",
       "      <td>1307.58</td>\n",
       "      <td>672.80</td>\n",
       "      <td>624.96</td>\n",
       "      <td>919.97</td>\n",
       "      <td>467.14</td>\n",
       "      <td>195.29</td>\n",
       "      <td>42.70</td>\n",
       "    </tr>\n",
       "    <tr>\n",
       "      <th>std</th>\n",
       "      <td>14789.83</td>\n",
       "      <td>1485.83</td>\n",
       "      <td>1001.88</td>\n",
       "      <td>1000.97</td>\n",
       "      <td>1031.72</td>\n",
       "      <td>1056.97</td>\n",
       "      <td>1244.84</td>\n",
       "      <td>2340.57</td>\n",
       "      <td>2005.38</td>\n",
       "      <td>1935.22</td>\n",
       "      <td>943.71</td>\n",
       "      <td>861.29</td>\n",
       "      <td>1274.94</td>\n",
       "      <td>684.79</td>\n",
       "      <td>314.38</td>\n",
       "      <td>9.09</td>\n",
       "    </tr>\n",
       "    <tr>\n",
       "      <th>min</th>\n",
       "      <td>3.00</td>\n",
       "      <td>0.50</td>\n",
       "      <td>0.00</td>\n",
       "      <td>0.00</td>\n",
       "      <td>0.00</td>\n",
       "      <td>0.00</td>\n",
       "      <td>0.00</td>\n",
       "      <td>0.00</td>\n",
       "      <td>0.00</td>\n",
       "      <td>0.00</td>\n",
       "      <td>0.00</td>\n",
       "      <td>0.00</td>\n",
       "      <td>0.00</td>\n",
       "      <td>0.00</td>\n",
       "      <td>0.00</td>\n",
       "      <td>1.90</td>\n",
       "    </tr>\n",
       "    <tr>\n",
       "      <th>25%</th>\n",
       "      <td>765.00</td>\n",
       "      <td>91.30</td>\n",
       "      <td>34.00</td>\n",
       "      <td>38.00</td>\n",
       "      <td>41.00</td>\n",
       "      <td>41.00</td>\n",
       "      <td>34.00</td>\n",
       "      <td>72.00</td>\n",
       "      <td>76.00</td>\n",
       "      <td>94.00</td>\n",
       "      <td>56.00</td>\n",
       "      <td>56.00</td>\n",
       "      <td>85.00</td>\n",
       "      <td>41.00</td>\n",
       "      <td>11.00</td>\n",
       "      <td>37.10</td>\n",
       "    </tr>\n",
       "    <tr>\n",
       "      <th>50%</th>\n",
       "      <td>2947.00</td>\n",
       "      <td>98.40</td>\n",
       "      <td>155.00</td>\n",
       "      <td>168.00</td>\n",
       "      <td>183.00</td>\n",
       "      <td>180.00</td>\n",
       "      <td>158.00</td>\n",
       "      <td>314.00</td>\n",
       "      <td>330.00</td>\n",
       "      <td>385.00</td>\n",
       "      <td>221.00</td>\n",
       "      <td>212.00</td>\n",
       "      <td>318.00</td>\n",
       "      <td>159.00</td>\n",
       "      <td>54.00</td>\n",
       "      <td>42.00</td>\n",
       "    </tr>\n",
       "    <tr>\n",
       "      <th>75%</th>\n",
       "      <td>13826.00</td>\n",
       "      <td>107.90</td>\n",
       "      <td>770.00</td>\n",
       "      <td>804.00</td>\n",
       "      <td>837.00</td>\n",
       "      <td>844.00</td>\n",
       "      <td>806.00</td>\n",
       "      <td>1672.00</td>\n",
       "      <td>1639.00</td>\n",
       "      <td>1781.00</td>\n",
       "      <td>946.00</td>\n",
       "      <td>888.00</td>\n",
       "      <td>1303.00</td>\n",
       "      <td>640.00</td>\n",
       "      <td>249.00</td>\n",
       "      <td>47.60</td>\n",
       "    </tr>\n",
       "    <tr>\n",
       "      <th>max</th>\n",
       "      <td>128294.00</td>\n",
       "      <td>265600.00</td>\n",
       "      <td>17564.00</td>\n",
       "      <td>14784.00</td>\n",
       "      <td>12289.00</td>\n",
       "      <td>13357.00</td>\n",
       "      <td>23027.00</td>\n",
       "      <td>28192.00</td>\n",
       "      <td>23166.00</td>\n",
       "      <td>18058.00</td>\n",
       "      <td>7392.00</td>\n",
       "      <td>7018.00</td>\n",
       "      <td>26465.00</td>\n",
       "      <td>16934.00</td>\n",
       "      <td>4633.00</td>\n",
       "      <td>98.20</td>\n",
       "    </tr>\n",
       "  </tbody>\n",
       "</table>\n",
       "</div>"
      ],
      "text/plain": [
       "       TotalPopulation  SexRatiomalesper100females  PopulationUnder5Years  \\\n",
       "count         32503.00                    32503.00               32503.00   \n",
       "mean          10090.08                      116.87                 612.57   \n",
       "std           14789.83                     1485.83                1001.88   \n",
       "min               3.00                        0.50                   0.00   \n",
       "25%             765.00                       91.30                  34.00   \n",
       "50%            2947.00                       98.40                 155.00   \n",
       "75%           13826.00                      107.90                 770.00   \n",
       "max          128294.00                   265600.00               17564.00   \n",
       "\n",
       "       Population5to9Years  Population10to14Years  Population15to19Years  \\\n",
       "count             32503.00               32503.00               32503.00   \n",
       "mean                625.54                 649.97                 659.21   \n",
       "std                1000.97                1031.72                1056.97   \n",
       "min                   0.00                   0.00                   0.00   \n",
       "25%                  38.00                  41.00                  41.00   \n",
       "50%                 168.00                 183.00                 180.00   \n",
       "75%                 804.00                 837.00                 844.00   \n",
       "max               14784.00               12289.00               13357.00   \n",
       "\n",
       "       Population20to24Years  Population25to34Years  Population35to44Years  \\\n",
       "count               32503.00               32503.00               32503.00   \n",
       "mean                  684.25                1397.67                1273.12   \n",
       "std                  1244.84                2340.57                2005.38   \n",
       "min                     0.00                   0.00                   0.00   \n",
       "25%                    34.00                  72.00                  76.00   \n",
       "50%                   158.00                 314.00                 330.00   \n",
       "75%                   806.00                1672.00                1639.00   \n",
       "max                 23027.00               28192.00               23166.00   \n",
       "\n",
       "       Population45to54Years  Population55to59Years  Population60to64Years  \\\n",
       "count               32503.00               32503.00               32503.00   \n",
       "mean                 1307.58                 672.80                 624.96   \n",
       "std                  1935.22                 943.71                 861.29   \n",
       "min                     0.00                   0.00                   0.00   \n",
       "25%                    94.00                  56.00                  56.00   \n",
       "50%                   385.00                 221.00                 212.00   \n",
       "75%                  1781.00                 946.00                 888.00   \n",
       "max                 18058.00                7392.00                7018.00   \n",
       "\n",
       "       Population65to74Years  Population75to84Years  Population85YearsAndOver  \\\n",
       "count               32503.00               32503.00                  32503.00   \n",
       "mean                  919.97                 467.14                    195.29   \n",
       "std                  1274.94                 684.79                    314.38   \n",
       "min                     0.00                   0.00                      0.00   \n",
       "25%                    85.00                  41.00                     11.00   \n",
       "50%                   318.00                 159.00                     54.00   \n",
       "75%                  1303.00                 640.00                    249.00   \n",
       "max                 26465.00               16934.00                   4633.00   \n",
       "\n",
       "       MedianAgeInYears  \n",
       "count          32503.00  \n",
       "mean              42.70  \n",
       "std                9.09  \n",
       "min                1.90  \n",
       "25%               37.10  \n",
       "50%               42.00  \n",
       "75%               47.60  \n",
       "max               98.20  "
      ]
     },
     "execution_count": 1130,
     "metadata": {},
     "output_type": "execute_result"
    }
   ],
   "source": [
    "df_demographic.describe()"
   ]
  },
  {
   "cell_type": "markdown",
   "metadata": {},
   "source": [
    "Como verficamos acima, a primeira vista, na coluna \"SexRatiomalesper100females\" existem dados muito incomuns, tanto nos valores máximos quanto mínimos. É possível evidenciar locais com 265600 homens para cada mulher e 0.50 homens para cada mulher, o que é muito improvavel "
   ]
  },
  {
   "cell_type": "markdown",
   "metadata": {},
   "source": [
    "Em vista disso, iremos remove-los, utilizando a técnica z-score"
   ]
  },
  {
   "cell_type": "code",
   "execution_count": 1131,
   "metadata": {},
   "outputs": [
    {
     "data": {
      "text/plain": [
       "<AxesSubplot:xlabel='SexRatiomalesper100females'>"
      ]
     },
     "execution_count": 1131,
     "metadata": {},
     "output_type": "execute_result"
    },
    {
     "data": {
      "image/png": "[encoded data removed]",
      "text/plain": [
       "<Figure size 1080x288 with 2 Axes>"
      ]
     },
     "metadata": {
      "needs_background": "light"
     },
     "output_type": "display_data"
    }
   ],
   "source": [
    "fig, ax = plt.subplots(1,2,figsize=(15, 4))\n",
    "sns.kdeplot(data=df_demographic, x=\"SexRatiomalesper100females\", ax=ax[0])\n",
    "sns.boxplot(data=df_demographic, x=\"SexRatiomalesper100females\", ax=ax[1])"
   ]
  },
  {
   "cell_type": "markdown",
   "metadata": {},
   "source": [
    "É possível evidenciar graficamente os outliers, logo iremos remove-los utilizando a técnica zscore"
   ]
  },
  {
   "cell_type": "code",
   "execution_count": 1132,
   "metadata": {},
   "outputs": [],
   "source": [
    "df_demographic[\"zscore\"] = stats.zscore(df_demographic[\"SexRatiomalesper100females\"])\n",
    "df_demographic = df_demographic[(df_demographic[\"zscore\"] < 3)&(df_demographic[\"zscore\"] > -3)]"
   ]
  },
  {
   "cell_type": "code",
   "execution_count": 1133,
   "metadata": {},
   "outputs": [
    {
     "data": {
      "text/plain": [
       "<AxesSubplot:xlabel='SexRatiomalesper100females'>"
      ]
     },
     "execution_count": 1133,
     "metadata": {},
     "output_type": "execute_result"
    },
    {
     "data": {
      "image/png": "[encoded data removed]",
      "text/plain": [
       "<Figure size 1080x288 with 2 Axes>"
      ]
     },
     "metadata": {
      "needs_background": "light"
     },
     "output_type": "display_data"
    }
   ],
   "source": [
    "fig, ax = plt.subplots(1,2,figsize=(15, 4))\n",
    "sns.kdeplot(data=df_demographic, x=\"SexRatiomalesper100females\", ax=ax[0])\n",
    "sns.boxplot(data=df_demographic, x=\"SexRatiomalesper100females\", ax=ax[1])"
   ]
  },
  {
   "cell_type": "code",
   "execution_count": 1134,
   "metadata": {},
   "outputs": [
    {
     "data": {
      "text/html": [
       "<div>\n",
       "<style scoped>\n",
       "    .dataframe tbody tr th:only-of-type {\n",
       "        vertical-align: middle;\n",
       "    }\n",
       "\n",
       "    .dataframe tbody tr th {\n",
       "        vertical-align: top;\n",
       "    }\n",
       "\n",
       "    .dataframe thead th {\n",
       "        text-align: right;\n",
       "    }\n",
       "</style>\n",
       "<table border=\"1\" class=\"dataframe\">\n",
       "  <thead>\n",
       "    <tr style=\"text-align: right;\">\n",
       "      <th></th>\n",
       "      <th>TotalPopulation</th>\n",
       "      <th>SexRatiomalesper100females</th>\n",
       "      <th>PopulationUnder5Years</th>\n",
       "      <th>Population5to9Years</th>\n",
       "      <th>Population10to14Years</th>\n",
       "      <th>Population15to19Years</th>\n",
       "      <th>Population20to24Years</th>\n",
       "      <th>Population25to34Years</th>\n",
       "      <th>Population35to44Years</th>\n",
       "      <th>Population45to54Years</th>\n",
       "      <th>Population55to59Years</th>\n",
       "      <th>Population60to64Years</th>\n",
       "      <th>Population65to74Years</th>\n",
       "      <th>Population75to84Years</th>\n",
       "      <th>Population85YearsAndOver</th>\n",
       "      <th>MedianAgeInYears</th>\n",
       "      <th>zscore</th>\n",
       "    </tr>\n",
       "  </thead>\n",
       "  <tbody>\n",
       "    <tr>\n",
       "      <th>count</th>\n",
       "      <td>32492.00</td>\n",
       "      <td>32492.00</td>\n",
       "      <td>32492.00</td>\n",
       "      <td>32492.00</td>\n",
       "      <td>32492.00</td>\n",
       "      <td>32492.00</td>\n",
       "      <td>32492.00</td>\n",
       "      <td>32492.00</td>\n",
       "      <td>32492.00</td>\n",
       "      <td>32492.00</td>\n",
       "      <td>32492.00</td>\n",
       "      <td>32492.00</td>\n",
       "      <td>32492.00</td>\n",
       "      <td>32492.00</td>\n",
       "      <td>32492.00</td>\n",
       "      <td>32492.00</td>\n",
       "      <td>32492.00</td>\n",
       "    </tr>\n",
       "    <tr>\n",
       "      <th>mean</th>\n",
       "      <td>10092.85</td>\n",
       "      <td>106.13</td>\n",
       "      <td>612.78</td>\n",
       "      <td>625.75</td>\n",
       "      <td>650.19</td>\n",
       "      <td>659.40</td>\n",
       "      <td>684.42</td>\n",
       "      <td>1397.96</td>\n",
       "      <td>1273.40</td>\n",
       "      <td>1307.90</td>\n",
       "      <td>672.98</td>\n",
       "      <td>625.15</td>\n",
       "      <td>920.26</td>\n",
       "      <td>467.30</td>\n",
       "      <td>195.36</td>\n",
       "      <td>42.70</td>\n",
       "      <td>-0.01</td>\n",
       "    </tr>\n",
       "    <tr>\n",
       "      <th>std</th>\n",
       "      <td>14791.55</td>\n",
       "      <td>75.31</td>\n",
       "      <td>1001.99</td>\n",
       "      <td>1001.07</td>\n",
       "      <td>1031.82</td>\n",
       "      <td>1057.09</td>\n",
       "      <td>1245.02</td>\n",
       "      <td>2340.90</td>\n",
       "      <td>2005.65</td>\n",
       "      <td>1935.46</td>\n",
       "      <td>943.81</td>\n",
       "      <td>861.38</td>\n",
       "      <td>1275.06</td>\n",
       "      <td>684.86</td>\n",
       "      <td>314.41</td>\n",
       "      <td>9.09</td>\n",
       "      <td>0.05</td>\n",
       "    </tr>\n",
       "    <tr>\n",
       "      <th>min</th>\n",
       "      <td>3.00</td>\n",
       "      <td>0.50</td>\n",
       "      <td>0.00</td>\n",
       "      <td>0.00</td>\n",
       "      <td>0.00</td>\n",
       "      <td>0.00</td>\n",
       "      <td>0.00</td>\n",
       "      <td>0.00</td>\n",
       "      <td>0.00</td>\n",
       "      <td>0.00</td>\n",
       "      <td>0.00</td>\n",
       "      <td>0.00</td>\n",
       "      <td>0.00</td>\n",
       "      <td>0.00</td>\n",
       "      <td>0.00</td>\n",
       "      <td>1.90</td>\n",
       "      <td>-0.08</td>\n",
       "    </tr>\n",
       "    <tr>\n",
       "      <th>25%</th>\n",
       "      <td>765.00</td>\n",
       "      <td>91.30</td>\n",
       "      <td>34.00</td>\n",
       "      <td>38.00</td>\n",
       "      <td>41.00</td>\n",
       "      <td>41.00</td>\n",
       "      <td>33.75</td>\n",
       "      <td>72.00</td>\n",
       "      <td>76.00</td>\n",
       "      <td>94.00</td>\n",
       "      <td>56.00</td>\n",
       "      <td>56.00</td>\n",
       "      <td>85.00</td>\n",
       "      <td>41.00</td>\n",
       "      <td>11.00</td>\n",
       "      <td>37.10</td>\n",
       "      <td>-0.02</td>\n",
       "    </tr>\n",
       "    <tr>\n",
       "      <th>50%</th>\n",
       "      <td>2949.50</td>\n",
       "      <td>98.40</td>\n",
       "      <td>155.00</td>\n",
       "      <td>168.00</td>\n",
       "      <td>183.00</td>\n",
       "      <td>180.50</td>\n",
       "      <td>158.00</td>\n",
       "      <td>314.00</td>\n",
       "      <td>330.00</td>\n",
       "      <td>385.00</td>\n",
       "      <td>221.00</td>\n",
       "      <td>212.00</td>\n",
       "      <td>318.00</td>\n",
       "      <td>159.00</td>\n",
       "      <td>54.00</td>\n",
       "      <td>42.00</td>\n",
       "      <td>-0.01</td>\n",
       "    </tr>\n",
       "    <tr>\n",
       "      <th>75%</th>\n",
       "      <td>13830.50</td>\n",
       "      <td>107.90</td>\n",
       "      <td>770.00</td>\n",
       "      <td>804.00</td>\n",
       "      <td>837.25</td>\n",
       "      <td>844.00</td>\n",
       "      <td>806.25</td>\n",
       "      <td>1672.00</td>\n",
       "      <td>1639.00</td>\n",
       "      <td>1781.25</td>\n",
       "      <td>946.00</td>\n",
       "      <td>888.00</td>\n",
       "      <td>1303.25</td>\n",
       "      <td>640.00</td>\n",
       "      <td>249.00</td>\n",
       "      <td>47.60</td>\n",
       "      <td>-0.01</td>\n",
       "    </tr>\n",
       "    <tr>\n",
       "      <th>max</th>\n",
       "      <td>128294.00</td>\n",
       "      <td>3833.70</td>\n",
       "      <td>17564.00</td>\n",
       "      <td>14784.00</td>\n",
       "      <td>12289.00</td>\n",
       "      <td>13357.00</td>\n",
       "      <td>23027.00</td>\n",
       "      <td>28192.00</td>\n",
       "      <td>23166.00</td>\n",
       "      <td>18058.00</td>\n",
       "      <td>7392.00</td>\n",
       "      <td>7018.00</td>\n",
       "      <td>26465.00</td>\n",
       "      <td>16934.00</td>\n",
       "      <td>4633.00</td>\n",
       "      <td>98.20</td>\n",
       "      <td>2.50</td>\n",
       "    </tr>\n",
       "  </tbody>\n",
       "</table>\n",
       "</div>"
      ],
      "text/plain": [
       "       TotalPopulation  SexRatiomalesper100females  PopulationUnder5Years  \\\n",
       "count         32492.00                    32492.00               32492.00   \n",
       "mean          10092.85                      106.13                 612.78   \n",
       "std           14791.55                       75.31                1001.99   \n",
       "min               3.00                        0.50                   0.00   \n",
       "25%             765.00                       91.30                  34.00   \n",
       "50%            2949.50                       98.40                 155.00   \n",
       "75%           13830.50                      107.90                 770.00   \n",
       "max          128294.00                     3833.70               17564.00   \n",
       "\n",
       "       Population5to9Years  Population10to14Years  Population15to19Years  \\\n",
       "count             32492.00               32492.00               32492.00   \n",
       "mean                625.75                 650.19                 659.40   \n",
       "std                1001.07                1031.82                1057.09   \n",
       "min                   0.00                   0.00                   0.00   \n",
       "25%                  38.00                  41.00                  41.00   \n",
       "50%                 168.00                 183.00                 180.50   \n",
       "75%                 804.00                 837.25                 844.00   \n",
       "max               14784.00               12289.00               13357.00   \n",
       "\n",
       "       Population20to24Years  Population25to34Years  Population35to44Years  \\\n",
       "count               32492.00               32492.00               32492.00   \n",
       "mean                  684.42                1397.96                1273.40   \n",
       "std                  1245.02                2340.90                2005.65   \n",
       "min                     0.00                   0.00                   0.00   \n",
       "25%                    33.75                  72.00                  76.00   \n",
       "50%                   158.00                 314.00                 330.00   \n",
       "75%                   806.25                1672.00                1639.00   \n",
       "max                 23027.00               28192.00               23166.00   \n",
       "\n",
       "       Population45to54Years  Population55to59Years  Population60to64Years  \\\n",
       "count               32492.00               32492.00               32492.00   \n",
       "mean                 1307.90                 672.98                 625.15   \n",
       "std                  1935.46                 943.81                 861.38   \n",
       "min                     0.00                   0.00                   0.00   \n",
       "25%                    94.00                  56.00                  56.00   \n",
       "50%                   385.00                 221.00                 212.00   \n",
       "75%                  1781.25                 946.00                 888.00   \n",
       "max                 18058.00                7392.00                7018.00   \n",
       "\n",
       "       Population65to74Years  Population75to84Years  Population85YearsAndOver  \\\n",
       "count               32492.00               32492.00                  32492.00   \n",
       "mean                  920.26                 467.30                    195.36   \n",
       "std                  1275.06                 684.86                    314.41   \n",
       "min                     0.00                   0.00                      0.00   \n",
       "25%                    85.00                  41.00                     11.00   \n",
       "50%                   318.00                 159.00                     54.00   \n",
       "75%                  1303.25                 640.00                    249.00   \n",
       "max                 26465.00               16934.00                   4633.00   \n",
       "\n",
       "       MedianAgeInYears   zscore  \n",
       "count          32492.00 32492.00  \n",
       "mean              42.70    -0.01  \n",
       "std                9.09     0.05  \n",
       "min                1.90    -0.08  \n",
       "25%               37.10    -0.02  \n",
       "50%               42.00    -0.01  \n",
       "75%               47.60    -0.01  \n",
       "max               98.20     2.50  "
      ]
     },
     "execution_count": 1134,
     "metadata": {},
     "output_type": "execute_result"
    }
   ],
   "source": [
    "df_demographic.describe()"
   ]
  },
  {
   "cell_type": "markdown",
   "metadata": {},
   "source": [
    "Utilizei valores extremos no zscore para normalizar os dados, como vemos nos gráficos acima, a distribuição ainda se encontra fora do comum, no entanto agora os valores máximos e mínimos estão dentro do aceitável "
   ]
  },
  {
   "cell_type": "code",
   "execution_count": 1135,
   "metadata": {},
   "outputs": [],
   "source": [
    "df_demographic = df_demographic.drop(columns=[\"zscore\"])"
   ]
  },
  {
   "cell_type": "markdown",
   "metadata": {},
   "source": [
    "### Correção do index"
   ]
  },
  {
   "cell_type": "code",
   "execution_count": 1136,
   "metadata": {},
   "outputs": [],
   "source": [
    "df_demographic = df_demographic.reset_index(drop=True)"
   ]
  },
  {
   "cell_type": "markdown",
   "metadata": {},
   "source": [
    "## Sanity check df_economic"
   ]
  },
  {
   "cell_type": "code",
   "execution_count": 1137,
   "metadata": {},
   "outputs": [
    {
     "data": {
      "text/html": [
       "<div>\n",
       "<style scoped>\n",
       "    .dataframe tbody tr th:only-of-type {\n",
       "        vertical-align: middle;\n",
       "    }\n",
       "\n",
       "    .dataframe tbody tr th {\n",
       "        vertical-align: top;\n",
       "    }\n",
       "\n",
       "    .dataframe thead th {\n",
       "        text-align: right;\n",
       "    }\n",
       "</style>\n",
       "<table border=\"1\" class=\"dataframe\">\n",
       "  <thead>\n",
       "    <tr style=\"text-align: right;\">\n",
       "      <th></th>\n",
       "      <th>Unnamed: 0</th>\n",
       "      <th>id</th>\n",
       "      <th>Geographic Area Name</th>\n",
       "      <th>TotalHouseholds_LessThan$10.000</th>\n",
       "      <th>TotalHouseholds_$10.000to$14.999</th>\n",
       "      <th>TotalHouseholds_$15.000to$24.999</th>\n",
       "      <th>TotalHouseholds_$25.000to$34.999</th>\n",
       "      <th>TotalHouseholds_$35.000to$49.999</th>\n",
       "      <th>TotalHouseholds_$50.000to$74.999</th>\n",
       "      <th>TotalHouseholds_$75.000to$99.999</th>\n",
       "      <th>TotalHouseholds_$100.000to$149.999</th>\n",
       "      <th>TotalHouseholds_$150.000to$199.999</th>\n",
       "      <th>TotalHouseholds_$200.000OrMore</th>\n",
       "    </tr>\n",
       "  </thead>\n",
       "  <tbody>\n",
       "    <tr>\n",
       "      <th>0</th>\n",
       "      <td>0</td>\n",
       "      <td>8600000US35004</td>\n",
       "      <td>ZCTA5 35004</td>\n",
       "      <td>198</td>\n",
       "      <td>71</td>\n",
       "      <td>298</td>\n",
       "      <td>513</td>\n",
       "      <td>647</td>\n",
       "      <td>1117</td>\n",
       "      <td>529</td>\n",
       "      <td>945</td>\n",
       "      <td>245</td>\n",
       "      <td>61</td>\n",
       "    </tr>\n",
       "    <tr>\n",
       "      <th>1</th>\n",
       "      <td>1</td>\n",
       "      <td>8600000US35005</td>\n",
       "      <td>ZCTA5 35005</td>\n",
       "      <td>188</td>\n",
       "      <td>184</td>\n",
       "      <td>318</td>\n",
       "      <td>293</td>\n",
       "      <td>353</td>\n",
       "      <td>562</td>\n",
       "      <td>299</td>\n",
       "      <td>407</td>\n",
       "      <td>67</td>\n",
       "      <td>26</td>\n",
       "    </tr>\n",
       "    <tr>\n",
       "      <th>2</th>\n",
       "      <td>2</td>\n",
       "      <td>8600000US35006</td>\n",
       "      <td>ZCTA5 35006</td>\n",
       "      <td>71</td>\n",
       "      <td>20</td>\n",
       "      <td>117</td>\n",
       "      <td>104</td>\n",
       "      <td>154</td>\n",
       "      <td>176</td>\n",
       "      <td>124</td>\n",
       "      <td>194</td>\n",
       "      <td>51</td>\n",
       "      <td>7</td>\n",
       "    </tr>\n",
       "    <tr>\n",
       "      <th>3</th>\n",
       "      <td>3</td>\n",
       "      <td>8600000US35007</td>\n",
       "      <td>ZCTA5 35007</td>\n",
       "      <td>396</td>\n",
       "      <td>208</td>\n",
       "      <td>670</td>\n",
       "      <td>462</td>\n",
       "      <td>1173</td>\n",
       "      <td>1854</td>\n",
       "      <td>1578</td>\n",
       "      <td>2224</td>\n",
       "      <td>473</td>\n",
       "      <td>254</td>\n",
       "    </tr>\n",
       "    <tr>\n",
       "      <th>4</th>\n",
       "      <td>4</td>\n",
       "      <td>8600000US35010</td>\n",
       "      <td>ZCTA5 35010</td>\n",
       "      <td>700</td>\n",
       "      <td>610</td>\n",
       "      <td>1093</td>\n",
       "      <td>957</td>\n",
       "      <td>1056</td>\n",
       "      <td>1512</td>\n",
       "      <td>807</td>\n",
       "      <td>749</td>\n",
       "      <td>254</td>\n",
       "      <td>249</td>\n",
       "    </tr>\n",
       "  </tbody>\n",
       "</table>\n",
       "</div>"
      ],
      "text/plain": [
       "   Unnamed: 0              id Geographic Area Name  \\\n",
       "0           0  8600000US35004          ZCTA5 35004   \n",
       "1           1  8600000US35005          ZCTA5 35005   \n",
       "2           2  8600000US35006          ZCTA5 35006   \n",
       "3           3  8600000US35007          ZCTA5 35007   \n",
       "4           4  8600000US35010          ZCTA5 35010   \n",
       "\n",
       "   TotalHouseholds_LessThan$10.000  TotalHouseholds_$10.000to$14.999  \\\n",
       "0                              198                                71   \n",
       "1                              188                               184   \n",
       "2                               71                                20   \n",
       "3                              396                               208   \n",
       "4                              700                               610   \n",
       "\n",
       "   TotalHouseholds_$15.000to$24.999  TotalHouseholds_$25.000to$34.999  \\\n",
       "0                               298                               513   \n",
       "1                               318                               293   \n",
       "2                               117                               104   \n",
       "3                               670                               462   \n",
       "4                              1093                               957   \n",
       "\n",
       "   TotalHouseholds_$35.000to$49.999  TotalHouseholds_$50.000to$74.999  \\\n",
       "0                               647                              1117   \n",
       "1                               353                               562   \n",
       "2                               154                               176   \n",
       "3                              1173                              1854   \n",
       "4                              1056                              1512   \n",
       "\n",
       "   TotalHouseholds_$75.000to$99.999  TotalHouseholds_$100.000to$149.999  \\\n",
       "0                               529                                 945   \n",
       "1                               299                                 407   \n",
       "2                               124                                 194   \n",
       "3                              1578                                2224   \n",
       "4                               807                                 749   \n",
       "\n",
       "   TotalHouseholds_$150.000to$199.999  TotalHouseholds_$200.000OrMore  \n",
       "0                                 245                              61  \n",
       "1                                  67                              26  \n",
       "2                                  51                               7  \n",
       "3                                 473                             254  \n",
       "4                                 254                             249  "
      ]
     },
     "execution_count": 1137,
     "metadata": {},
     "output_type": "execute_result"
    }
   ],
   "source": [
    "df_economic.head(5)"
   ]
  },
  {
   "cell_type": "markdown",
   "metadata": {},
   "source": [
    "### Correção de nome das colunas"
   ]
  },
  {
   "cell_type": "code",
   "execution_count": 1138,
   "metadata": {},
   "outputs": [],
   "source": [
    "df_economic.columns = [x.replace(\" \",\"\").replace(\"(\",\"_\").replace(\")\",\"\") for x in df_economic.columns] # Renomeando as colunas \n",
    "df_economic=df_economic.rename(columns = {'id':'Id'}) # Renomeando apenas a coluna de Id para seguir o padrão do resto do dataframe"
   ]
  },
  {
   "cell_type": "markdown",
   "metadata": {},
   "source": [
    "Descartando a coluna Unnamed:0, pois já o dataframe já contém index"
   ]
  },
  {
   "cell_type": "code",
   "execution_count": 1139,
   "metadata": {},
   "outputs": [],
   "source": [
    "df_economic = df_economic.iloc[:,1:]"
   ]
  },
  {
   "cell_type": "markdown",
   "metadata": {},
   "source": [
    "### Verificação de nulos"
   ]
  },
  {
   "cell_type": "code",
   "execution_count": 1140,
   "metadata": {},
   "outputs": [
    {
     "data": {
      "text/plain": [
       "Id                                    0\n",
       "GeographicAreaName                    0\n",
       "TotalHouseholds_LessThan$10.000       0\n",
       "TotalHouseholds_$10.000to$14.999      0\n",
       "TotalHouseholds_$15.000to$24.999      0\n",
       "TotalHouseholds_$25.000to$34.999      0\n",
       "TotalHouseholds_$35.000to$49.999      0\n",
       "TotalHouseholds_$50.000to$74.999      0\n",
       "TotalHouseholds_$75.000to$99.999      0\n",
       "TotalHouseholds_$100.000to$149.999    0\n",
       "TotalHouseholds_$150.000to$199.999    0\n",
       "TotalHouseholds_$200.000OrMore        0\n",
       "dtype: int64"
      ]
     },
     "execution_count": 1140,
     "metadata": {},
     "output_type": "execute_result"
    }
   ],
   "source": [
    "df_economic.isnull().sum()"
   ]
  },
  {
   "cell_type": "markdown",
   "metadata": {},
   "source": [
    "Como verificamos, nesse dataframe não está presente nenhum nulo. Podemos passar para a verificação dos formatos dos dados nas colunas"
   ]
  },
  {
   "cell_type": "markdown",
   "metadata": {},
   "source": [
    "### Verificação do formato dos dados"
   ]
  },
  {
   "cell_type": "code",
   "execution_count": 1141,
   "metadata": {},
   "outputs": [
    {
     "name": "stdout",
     "output_type": "stream",
     "text": [
      "<class 'pandas.core.frame.DataFrame'>\n",
      "RangeIndex: 629280 entries, 0 to 629279\n",
      "Data columns (total 12 columns):\n",
      " #   Column                              Non-Null Count   Dtype \n",
      "---  ------                              --------------   ----- \n",
      " 0   Id                                  629280 non-null  object\n",
      " 1   GeographicAreaName                  629280 non-null  object\n",
      " 2   TotalHouseholds_LessThan$10.000     629280 non-null  int64 \n",
      " 3   TotalHouseholds_$10.000to$14.999    629280 non-null  int64 \n",
      " 4   TotalHouseholds_$15.000to$24.999    629280 non-null  int64 \n",
      " 5   TotalHouseholds_$25.000to$34.999    629280 non-null  int64 \n",
      " 6   TotalHouseholds_$35.000to$49.999    629280 non-null  int64 \n",
      " 7   TotalHouseholds_$50.000to$74.999    629280 non-null  int64 \n",
      " 8   TotalHouseholds_$75.000to$99.999    629280 non-null  int64 \n",
      " 9   TotalHouseholds_$100.000to$149.999  629280 non-null  int64 \n",
      " 10  TotalHouseholds_$150.000to$199.999  629280 non-null  int64 \n",
      " 11  TotalHouseholds_$200.000OrMore      629280 non-null  int64 \n",
      "dtypes: int64(10), object(2)\n",
      "memory usage: 57.6+ MB\n"
     ]
    }
   ],
   "source": [
    "df_economic.info()"
   ]
  },
  {
   "cell_type": "markdown",
   "metadata": {},
   "source": [
    "É possível verificar que as colunas \"Id\" e \"GeographicAreaName\" são do tipo \"object\", e necessitam ser convertidas para tipos específicos"
   ]
  },
  {
   "cell_type": "code",
   "execution_count": 1142,
   "metadata": {},
   "outputs": [],
   "source": [
    "df_economic[\"Id\"] = df_economic[\"Id\"].astype(pd.StringDtype())\n",
    "df_economic[\"GeographicAreaName\"] = df_economic[\"GeographicAreaName\"].astype(pd.StringDtype())"
   ]
  },
  {
   "cell_type": "markdown",
   "metadata": {},
   "source": [
    "Com isso, todos os Dtype(s) do dataframe foram corrigidos"
   ]
  },
  {
   "cell_type": "code",
   "execution_count": 1143,
   "metadata": {},
   "outputs": [
    {
     "name": "stdout",
     "output_type": "stream",
     "text": [
      "<class 'pandas.core.frame.DataFrame'>\n",
      "RangeIndex: 629280 entries, 0 to 629279\n",
      "Data columns (total 12 columns):\n",
      " #   Column                              Non-Null Count   Dtype \n",
      "---  ------                              --------------   ----- \n",
      " 0   Id                                  629280 non-null  string\n",
      " 1   GeographicAreaName                  629280 non-null  string\n",
      " 2   TotalHouseholds_LessThan$10.000     629280 non-null  int64 \n",
      " 3   TotalHouseholds_$10.000to$14.999    629280 non-null  int64 \n",
      " 4   TotalHouseholds_$15.000to$24.999    629280 non-null  int64 \n",
      " 5   TotalHouseholds_$25.000to$34.999    629280 non-null  int64 \n",
      " 6   TotalHouseholds_$35.000to$49.999    629280 non-null  int64 \n",
      " 7   TotalHouseholds_$50.000to$74.999    629280 non-null  int64 \n",
      " 8   TotalHouseholds_$75.000to$99.999    629280 non-null  int64 \n",
      " 9   TotalHouseholds_$100.000to$149.999  629280 non-null  int64 \n",
      " 10  TotalHouseholds_$150.000to$199.999  629280 non-null  int64 \n",
      " 11  TotalHouseholds_$200.000OrMore      629280 non-null  int64 \n",
      "dtypes: int64(10), string(2)\n",
      "memory usage: 57.6 MB\n"
     ]
    }
   ],
   "source": [
    "df_economic.info()"
   ]
  },
  {
   "cell_type": "markdown",
   "metadata": {},
   "source": [
    "### Verificação de registros duplicados"
   ]
  },
  {
   "cell_type": "code",
   "execution_count": 1144,
   "metadata": {},
   "outputs": [
    {
     "data": {
      "text/plain": [
       "596160"
      ]
     },
     "execution_count": 1144,
     "metadata": {},
     "output_type": "execute_result"
    }
   ],
   "source": [
    "# Aqui verificamos se em geral existe alguma linha totalmente igual a outra, com os valores\n",
    "#de todas as colunas iguais\n",
    "df_economic.duplicated().sum()"
   ]
  },
  {
   "cell_type": "code",
   "execution_count": 1145,
   "metadata": {},
   "outputs": [
    {
     "data": {
      "text/plain": [
       "596160"
      ]
     },
     "execution_count": 1145,
     "metadata": {},
     "output_type": "execute_result"
    }
   ],
   "source": [
    "# Aqui verificamos se existe valor duplicados ans colunas identificadoras\n",
    "df_economic[[\"Id\",\"GeographicAreaName\"]].duplicated().sum()"
   ]
  },
  {
   "cell_type": "code",
   "execution_count": 1146,
   "metadata": {},
   "outputs": [
    {
     "data": {
      "text/plain": [
       "596160"
      ]
     },
     "execution_count": 1146,
     "metadata": {},
     "output_type": "execute_result"
    }
   ],
   "source": [
    "# Aqui verificamos se existem registros duplicados,\n",
    "#excluindo o Id e levando em consideração apenas as variáveis numéricas\n",
    "df_economic[df_economic.columns[1:]].duplicated().sum()"
   ]
  },
  {
   "cell_type": "code",
   "execution_count": 1147,
   "metadata": {},
   "outputs": [
    {
     "name": "stdout",
     "output_type": "stream",
     "text": [
      "Cerca de 94.737 % dos dados estão duplicados\n"
     ]
    }
   ],
   "source": [
    "print(f\"Cerca de {((100*df_economic.duplicated().sum())/df_economic.shape[0]):.3f} % dos dados estão duplicados\")"
   ]
  },
  {
   "cell_type": "markdown",
   "metadata": {},
   "source": [
    "Em vista disso é necessário remover os dados duplicados"
   ]
  },
  {
   "cell_type": "code",
   "execution_count": 1148,
   "metadata": {},
   "outputs": [],
   "source": [
    "df_economic = df_economic.drop_duplicates()"
   ]
  },
  {
   "cell_type": "markdown",
   "metadata": {},
   "source": [
    "### Verificação de outliers"
   ]
  },
  {
   "cell_type": "code",
   "execution_count": 1149,
   "metadata": {},
   "outputs": [
    {
     "data": {
      "text/html": [
       "<div>\n",
       "<style scoped>\n",
       "    .dataframe tbody tr th:only-of-type {\n",
       "        vertical-align: middle;\n",
       "    }\n",
       "\n",
       "    .dataframe tbody tr th {\n",
       "        vertical-align: top;\n",
       "    }\n",
       "\n",
       "    .dataframe thead th {\n",
       "        text-align: right;\n",
       "    }\n",
       "</style>\n",
       "<table border=\"1\" class=\"dataframe\">\n",
       "  <thead>\n",
       "    <tr style=\"text-align: right;\">\n",
       "      <th></th>\n",
       "      <th>TotalHouseholds_LessThan$10.000</th>\n",
       "      <th>TotalHouseholds_$10.000to$14.999</th>\n",
       "      <th>TotalHouseholds_$15.000to$24.999</th>\n",
       "      <th>TotalHouseholds_$25.000to$34.999</th>\n",
       "      <th>TotalHouseholds_$35.000to$49.999</th>\n",
       "      <th>TotalHouseholds_$50.000to$74.999</th>\n",
       "      <th>TotalHouseholds_$75.000to$99.999</th>\n",
       "      <th>TotalHouseholds_$100.000to$149.999</th>\n",
       "      <th>TotalHouseholds_$150.000to$199.999</th>\n",
       "      <th>TotalHouseholds_$200.000OrMore</th>\n",
       "    </tr>\n",
       "  </thead>\n",
       "  <tbody>\n",
       "    <tr>\n",
       "      <th>count</th>\n",
       "      <td>33120.00</td>\n",
       "      <td>33120.00</td>\n",
       "      <td>33120.00</td>\n",
       "      <td>33120.00</td>\n",
       "      <td>33120.00</td>\n",
       "      <td>33120.00</td>\n",
       "      <td>33120.00</td>\n",
       "      <td>33120.00</td>\n",
       "      <td>33120.00</td>\n",
       "      <td>33120.00</td>\n",
       "    </tr>\n",
       "    <tr>\n",
       "      <th>mean</th>\n",
       "      <td>230.23</td>\n",
       "      <td>160.92</td>\n",
       "      <td>331.45</td>\n",
       "      <td>330.24</td>\n",
       "      <td>451.80</td>\n",
       "      <td>631.31</td>\n",
       "      <td>465.69</td>\n",
       "      <td>553.14</td>\n",
       "      <td>247.10</td>\n",
       "      <td>280.06</td>\n",
       "    </tr>\n",
       "    <tr>\n",
       "      <th>std</th>\n",
       "      <td>441.47</td>\n",
       "      <td>276.90</td>\n",
       "      <td>520.93</td>\n",
       "      <td>503.57</td>\n",
       "      <td>673.92</td>\n",
       "      <td>927.03</td>\n",
       "      <td>696.96</td>\n",
       "      <td>888.38</td>\n",
       "      <td>469.37</td>\n",
       "      <td>684.82</td>\n",
       "    </tr>\n",
       "    <tr>\n",
       "      <th>min</th>\n",
       "      <td>0.00</td>\n",
       "      <td>0.00</td>\n",
       "      <td>0.00</td>\n",
       "      <td>0.00</td>\n",
       "      <td>0.00</td>\n",
       "      <td>0.00</td>\n",
       "      <td>0.00</td>\n",
       "      <td>0.00</td>\n",
       "      <td>0.00</td>\n",
       "      <td>0.00</td>\n",
       "    </tr>\n",
       "    <tr>\n",
       "      <th>25%</th>\n",
       "      <td>11.00</td>\n",
       "      <td>9.00</td>\n",
       "      <td>25.00</td>\n",
       "      <td>25.00</td>\n",
       "      <td>36.00</td>\n",
       "      <td>49.00</td>\n",
       "      <td>31.00</td>\n",
       "      <td>29.00</td>\n",
       "      <td>6.00</td>\n",
       "      <td>3.00</td>\n",
       "    </tr>\n",
       "    <tr>\n",
       "      <th>50%</th>\n",
       "      <td>55.00</td>\n",
       "      <td>45.00</td>\n",
       "      <td>98.00</td>\n",
       "      <td>100.00</td>\n",
       "      <td>139.00</td>\n",
       "      <td>195.00</td>\n",
       "      <td>137.00</td>\n",
       "      <td>135.00</td>\n",
       "      <td>40.00</td>\n",
       "      <td>29.00</td>\n",
       "    </tr>\n",
       "    <tr>\n",
       "      <th>75%</th>\n",
       "      <td>257.00</td>\n",
       "      <td>188.00</td>\n",
       "      <td>415.00</td>\n",
       "      <td>416.00</td>\n",
       "      <td>578.00</td>\n",
       "      <td>831.00</td>\n",
       "      <td>611.00</td>\n",
       "      <td>681.25</td>\n",
       "      <td>254.00</td>\n",
       "      <td>202.00</td>\n",
       "    </tr>\n",
       "    <tr>\n",
       "      <th>max</th>\n",
       "      <td>7901.00</td>\n",
       "      <td>3942.00</td>\n",
       "      <td>5410.00</td>\n",
       "      <td>4349.00</td>\n",
       "      <td>5988.00</td>\n",
       "      <td>8466.00</td>\n",
       "      <td>6491.00</td>\n",
       "      <td>8705.00</td>\n",
       "      <td>6095.00</td>\n",
       "      <td>11968.00</td>\n",
       "    </tr>\n",
       "  </tbody>\n",
       "</table>\n",
       "</div>"
      ],
      "text/plain": [
       "       TotalHouseholds_LessThan$10.000  TotalHouseholds_$10.000to$14.999  \\\n",
       "count                         33120.00                          33120.00   \n",
       "mean                            230.23                            160.92   \n",
       "std                             441.47                            276.90   \n",
       "min                               0.00                              0.00   \n",
       "25%                              11.00                              9.00   \n",
       "50%                              55.00                             45.00   \n",
       "75%                             257.00                            188.00   \n",
       "max                            7901.00                           3942.00   \n",
       "\n",
       "       TotalHouseholds_$15.000to$24.999  TotalHouseholds_$25.000to$34.999  \\\n",
       "count                          33120.00                          33120.00   \n",
       "mean                             331.45                            330.24   \n",
       "std                              520.93                            503.57   \n",
       "min                                0.00                              0.00   \n",
       "25%                               25.00                             25.00   \n",
       "50%                               98.00                            100.00   \n",
       "75%                              415.00                            416.00   \n",
       "max                             5410.00                           4349.00   \n",
       "\n",
       "       TotalHouseholds_$35.000to$49.999  TotalHouseholds_$50.000to$74.999  \\\n",
       "count                          33120.00                          33120.00   \n",
       "mean                             451.80                            631.31   \n",
       "std                              673.92                            927.03   \n",
       "min                                0.00                              0.00   \n",
       "25%                               36.00                             49.00   \n",
       "50%                              139.00                            195.00   \n",
       "75%                              578.00                            831.00   \n",
       "max                             5988.00                           8466.00   \n",
       "\n",
       "       TotalHouseholds_$75.000to$99.999  TotalHouseholds_$100.000to$149.999  \\\n",
       "count                          33120.00                            33120.00   \n",
       "mean                             465.69                              553.14   \n",
       "std                              696.96                              888.38   \n",
       "min                                0.00                                0.00   \n",
       "25%                               31.00                               29.00   \n",
       "50%                              137.00                              135.00   \n",
       "75%                              611.00                              681.25   \n",
       "max                             6491.00                             8705.00   \n",
       "\n",
       "       TotalHouseholds_$150.000to$199.999  TotalHouseholds_$200.000OrMore  \n",
       "count                            33120.00                        33120.00  \n",
       "mean                               247.10                          280.06  \n",
       "std                                469.37                          684.82  \n",
       "min                                  0.00                            0.00  \n",
       "25%                                  6.00                            3.00  \n",
       "50%                                 40.00                           29.00  \n",
       "75%                                254.00                          202.00  \n",
       "max                               6095.00                        11968.00  "
      ]
     },
     "execution_count": 1149,
     "metadata": {},
     "output_type": "execute_result"
    }
   ],
   "source": [
    "df_economic.describe()"
   ]
  },
  {
   "cell_type": "markdown",
   "metadata": {},
   "source": [
    "A primeira vista, o único valor discrepante que vemos é pessoas com household de mais de 200 mil dolares, logo vale a pena verificar a distribuição, pois são valores muito incomuns"
   ]
  },
  {
   "cell_type": "code",
   "execution_count": 1150,
   "metadata": {},
   "outputs": [
    {
     "data": {
      "text/plain": [
       "<AxesSubplot:xlabel='TotalHouseholds_$200.000OrMore'>"
      ]
     },
     "execution_count": 1150,
     "metadata": {},
     "output_type": "execute_result"
    },
    {
     "data": {
      "image/png": "[encoded data removed]",
      "text/plain": [
       "<Figure size 1080x288 with 2 Axes>"
      ]
     },
     "metadata": {
      "needs_background": "light"
     },
     "output_type": "display_data"
    }
   ],
   "source": [
    "fig, ax = plt.subplots(1,2,figsize=(15, 4))\n",
    "sns.kdeplot(data=df_economic, x=\"TotalHouseholds_$200.000OrMore\", ax=ax[0])\n",
    "sns.boxplot(data=df_economic, x=\"TotalHouseholds_$200.000OrMore\", ax=ax[1])"
   ]
  },
  {
   "cell_type": "code",
   "execution_count": 1151,
   "metadata": {},
   "outputs": [],
   "source": [
    "df_economic[\"zscore\"] = stats.zscore(df_economic[\"TotalHouseholds_$200.000OrMore\"])\n",
    "df_economic = df_economic[(df_economic[\"zscore\"] < 3)&(df_economic[\"zscore\"] > -3)]"
   ]
  },
  {
   "cell_type": "code",
   "execution_count": 1152,
   "metadata": {},
   "outputs": [
    {
     "data": {
      "text/plain": [
       "<AxesSubplot:xlabel='TotalHouseholds_$200.000OrMore'>"
      ]
     },
     "execution_count": 1152,
     "metadata": {},
     "output_type": "execute_result"
    },
    {
     "data": {
      "image/png": "[encoded data removed]",
      "text/plain": [
       "<Figure size 1080x288 with 2 Axes>"
      ]
     },
     "metadata": {
      "needs_background": "light"
     },
     "output_type": "display_data"
    }
   ],
   "source": [
    "fig, ax = plt.subplots(1,2,figsize=(15, 4))\n",
    "sns.kdeplot(data=df_economic, x=\"TotalHouseholds_$200.000OrMore\", ax=ax[0])\n",
    "sns.boxplot(data=df_economic, x=\"TotalHouseholds_$200.000OrMore\", ax=ax[1])"
   ]
  },
  {
   "cell_type": "code",
   "execution_count": 1153,
   "metadata": {},
   "outputs": [
    {
     "data": {
      "text/html": [
       "<div>\n",
       "<style scoped>\n",
       "    .dataframe tbody tr th:only-of-type {\n",
       "        vertical-align: middle;\n",
       "    }\n",
       "\n",
       "    .dataframe tbody tr th {\n",
       "        vertical-align: top;\n",
       "    }\n",
       "\n",
       "    .dataframe thead th {\n",
       "        text-align: right;\n",
       "    }\n",
       "</style>\n",
       "<table border=\"1\" class=\"dataframe\">\n",
       "  <thead>\n",
       "    <tr style=\"text-align: right;\">\n",
       "      <th></th>\n",
       "      <th>TotalHouseholds_LessThan$10.000</th>\n",
       "      <th>TotalHouseholds_$10.000to$14.999</th>\n",
       "      <th>TotalHouseholds_$15.000to$24.999</th>\n",
       "      <th>TotalHouseholds_$25.000to$34.999</th>\n",
       "      <th>TotalHouseholds_$35.000to$49.999</th>\n",
       "      <th>TotalHouseholds_$50.000to$74.999</th>\n",
       "      <th>TotalHouseholds_$75.000to$99.999</th>\n",
       "      <th>TotalHouseholds_$100.000to$149.999</th>\n",
       "      <th>TotalHouseholds_$150.000to$199.999</th>\n",
       "      <th>TotalHouseholds_$200.000OrMore</th>\n",
       "      <th>zscore</th>\n",
       "    </tr>\n",
       "  </thead>\n",
       "  <tbody>\n",
       "    <tr>\n",
       "      <th>count</th>\n",
       "      <td>32349.00</td>\n",
       "      <td>32349.00</td>\n",
       "      <td>32349.00</td>\n",
       "      <td>32349.00</td>\n",
       "      <td>32349.00</td>\n",
       "      <td>32349.00</td>\n",
       "      <td>32349.00</td>\n",
       "      <td>32349.00</td>\n",
       "      <td>32349.00</td>\n",
       "      <td>32349.00</td>\n",
       "      <td>32349.00</td>\n",
       "    </tr>\n",
       "    <tr>\n",
       "      <th>mean</th>\n",
       "      <td>222.23</td>\n",
       "      <td>156.45</td>\n",
       "      <td>322.90</td>\n",
       "      <td>320.66</td>\n",
       "      <td>436.42</td>\n",
       "      <td>601.44</td>\n",
       "      <td>434.78</td>\n",
       "      <td>496.71</td>\n",
       "      <td>206.02</td>\n",
       "      <td>200.42</td>\n",
       "      <td>-0.12</td>\n",
       "    </tr>\n",
       "    <tr>\n",
       "      <th>std</th>\n",
       "      <td>436.65</td>\n",
       "      <td>273.26</td>\n",
       "      <td>518.34</td>\n",
       "      <td>500.40</td>\n",
       "      <td>666.37</td>\n",
       "      <td>902.67</td>\n",
       "      <td>660.38</td>\n",
       "      <td>791.23</td>\n",
       "      <td>368.82</td>\n",
       "      <td>399.21</td>\n",
       "      <td>0.58</td>\n",
       "    </tr>\n",
       "    <tr>\n",
       "      <th>min</th>\n",
       "      <td>0.00</td>\n",
       "      <td>0.00</td>\n",
       "      <td>0.00</td>\n",
       "      <td>0.00</td>\n",
       "      <td>0.00</td>\n",
       "      <td>0.00</td>\n",
       "      <td>0.00</td>\n",
       "      <td>0.00</td>\n",
       "      <td>0.00</td>\n",
       "      <td>0.00</td>\n",
       "      <td>-0.41</td>\n",
       "    </tr>\n",
       "    <tr>\n",
       "      <th>25%</th>\n",
       "      <td>11.00</td>\n",
       "      <td>9.00</td>\n",
       "      <td>24.00</td>\n",
       "      <td>24.00</td>\n",
       "      <td>35.00</td>\n",
       "      <td>48.00</td>\n",
       "      <td>30.00</td>\n",
       "      <td>27.00</td>\n",
       "      <td>5.00</td>\n",
       "      <td>3.00</td>\n",
       "      <td>-0.40</td>\n",
       "    </tr>\n",
       "    <tr>\n",
       "      <th>50%</th>\n",
       "      <td>52.00</td>\n",
       "      <td>42.00</td>\n",
       "      <td>93.00</td>\n",
       "      <td>95.00</td>\n",
       "      <td>131.00</td>\n",
       "      <td>184.00</td>\n",
       "      <td>129.00</td>\n",
       "      <td>127.00</td>\n",
       "      <td>37.00</td>\n",
       "      <td>27.00</td>\n",
       "      <td>-0.37</td>\n",
       "    </tr>\n",
       "    <tr>\n",
       "      <th>75%</th>\n",
       "      <td>235.00</td>\n",
       "      <td>176.00</td>\n",
       "      <td>387.00</td>\n",
       "      <td>388.00</td>\n",
       "      <td>536.00</td>\n",
       "      <td>761.00</td>\n",
       "      <td>550.00</td>\n",
       "      <td>608.00</td>\n",
       "      <td>220.00</td>\n",
       "      <td>175.00</td>\n",
       "      <td>-0.15</td>\n",
       "    </tr>\n",
       "    <tr>\n",
       "      <th>max</th>\n",
       "      <td>7901.00</td>\n",
       "      <td>3633.00</td>\n",
       "      <td>5410.00</td>\n",
       "      <td>4349.00</td>\n",
       "      <td>5988.00</td>\n",
       "      <td>8466.00</td>\n",
       "      <td>6491.00</td>\n",
       "      <td>8705.00</td>\n",
       "      <td>3122.00</td>\n",
       "      <td>2334.00</td>\n",
       "      <td>3.00</td>\n",
       "    </tr>\n",
       "  </tbody>\n",
       "</table>\n",
       "</div>"
      ],
      "text/plain": [
       "       TotalHouseholds_LessThan$10.000  TotalHouseholds_$10.000to$14.999  \\\n",
       "count                         32349.00                          32349.00   \n",
       "mean                            222.23                            156.45   \n",
       "std                             436.65                            273.26   \n",
       "min                               0.00                              0.00   \n",
       "25%                              11.00                              9.00   \n",
       "50%                              52.00                             42.00   \n",
       "75%                             235.00                            176.00   \n",
       "max                            7901.00                           3633.00   \n",
       "\n",
       "       TotalHouseholds_$15.000to$24.999  TotalHouseholds_$25.000to$34.999  \\\n",
       "count                          32349.00                          32349.00   \n",
       "mean                             322.90                            320.66   \n",
       "std                              518.34                            500.40   \n",
       "min                                0.00                              0.00   \n",
       "25%                               24.00                             24.00   \n",
       "50%                               93.00                             95.00   \n",
       "75%                              387.00                            388.00   \n",
       "max                             5410.00                           4349.00   \n",
       "\n",
       "       TotalHouseholds_$35.000to$49.999  TotalHouseholds_$50.000to$74.999  \\\n",
       "count                          32349.00                          32349.00   \n",
       "mean                             436.42                            601.44   \n",
       "std                              666.37                            902.67   \n",
       "min                                0.00                              0.00   \n",
       "25%                               35.00                             48.00   \n",
       "50%                              131.00                            184.00   \n",
       "75%                              536.00                            761.00   \n",
       "max                             5988.00                           8466.00   \n",
       "\n",
       "       TotalHouseholds_$75.000to$99.999  TotalHouseholds_$100.000to$149.999  \\\n",
       "count                          32349.00                            32349.00   \n",
       "mean                             434.78                              496.71   \n",
       "std                              660.38                              791.23   \n",
       "min                                0.00                                0.00   \n",
       "25%                               30.00                               27.00   \n",
       "50%                              129.00                              127.00   \n",
       "75%                              550.00                              608.00   \n",
       "max                             6491.00                             8705.00   \n",
       "\n",
       "       TotalHouseholds_$150.000to$199.999  TotalHouseholds_$200.000OrMore  \\\n",
       "count                            32349.00                        32349.00   \n",
       "mean                               206.02                          200.42   \n",
       "std                                368.82                          399.21   \n",
       "min                                  0.00                            0.00   \n",
       "25%                                  5.00                            3.00   \n",
       "50%                                 37.00                           27.00   \n",
       "75%                                220.00                          175.00   \n",
       "max                               3122.00                         2334.00   \n",
       "\n",
       "        zscore  \n",
       "count 32349.00  \n",
       "mean     -0.12  \n",
       "std       0.58  \n",
       "min      -0.41  \n",
       "25%      -0.40  \n",
       "50%      -0.37  \n",
       "75%      -0.15  \n",
       "max       3.00  "
      ]
     },
     "execution_count": 1153,
     "metadata": {},
     "output_type": "execute_result"
    }
   ],
   "source": [
    "df_economic.describe()"
   ]
  },
  {
   "cell_type": "markdown",
   "metadata": {},
   "source": [
    "Acredito não ser necessária a remoção de mais dados, pois tanto o df_economic quanto o df_demografic são dados de sensos de algumas cidades dos EUA, e após a remoção de valores extremos, ainda sim temos valores máximos e mínimos pequenos, pois eles podem pertencer a casos extremos, como cidades muito grandes, ou abandonadas."
   ]
  },
  {
   "cell_type": "code",
   "execution_count": 1154,
   "metadata": {},
   "outputs": [],
   "source": [
    "df_economic = df_economic.drop(columns=[\"zscore\"])"
   ]
  },
  {
   "cell_type": "markdown",
   "metadata": {},
   "source": [
    "### Correção do index"
   ]
  },
  {
   "cell_type": "code",
   "execution_count": 1155,
   "metadata": {},
   "outputs": [],
   "source": [
    "df_economic = df_economic.reset_index(drop=True)"
   ]
  },
  {
   "cell_type": "markdown",
   "metadata": {},
   "source": [
    "## Sanity check df_geocode"
   ]
  },
  {
   "cell_type": "code",
   "execution_count": 1156,
   "metadata": {},
   "outputs": [
    {
     "data": {
      "text/html": [
       "<div>\n",
       "<style scoped>\n",
       "    .dataframe tbody tr th:only-of-type {\n",
       "        vertical-align: middle;\n",
       "    }\n",
       "\n",
       "    .dataframe tbody tr th {\n",
       "        vertical-align: top;\n",
       "    }\n",
       "\n",
       "    .dataframe thead th {\n",
       "        text-align: right;\n",
       "    }\n",
       "</style>\n",
       "<table border=\"1\" class=\"dataframe\">\n",
       "  <thead>\n",
       "    <tr style=\"text-align: right;\">\n",
       "      <th></th>\n",
       "      <th>Unnamed: 0</th>\n",
       "      <th>Lab Id</th>\n",
       "      <th>Address</th>\n",
       "      <th>Location</th>\n",
       "      <th>Zipcode</th>\n",
       "    </tr>\n",
       "  </thead>\n",
       "  <tbody>\n",
       "    <tr>\n",
       "      <th>0</th>\n",
       "      <td>0</td>\n",
       "      <td>L152</td>\n",
       "      <td>3800 PLEASANT HILL RD STE 1, DULUTH, GA 30096</td>\n",
       "      <td>34.000319,-84.1629724</td>\n",
       "      <td>30096.00</td>\n",
       "    </tr>\n",
       "    <tr>\n",
       "      <th>1</th>\n",
       "      <td>1</td>\n",
       "      <td>L520</td>\n",
       "      <td>1614 N JAMES ST, ROME, NY 13440</td>\n",
       "      <td>43.2311327,-75.4445363</td>\n",
       "      <td>13440.00</td>\n",
       "    </tr>\n",
       "    <tr>\n",
       "      <th>2</th>\n",
       "      <td>2</td>\n",
       "      <td>L141</td>\n",
       "      <td>12911 120TH AVE NE STE D60, KIRKLAND, WA 98034</td>\n",
       "      <td>47.7162786,-122.1838152</td>\n",
       "      <td>98034.00</td>\n",
       "    </tr>\n",
       "    <tr>\n",
       "      <th>3</th>\n",
       "      <td>3</td>\n",
       "      <td>L524</td>\n",
       "      <td>5667 PEACHTREE DUNWOODY RD 250, ATLANTA, GA 30342</td>\n",
       "      <td>33.9093875,-84.3529096</td>\n",
       "      <td>30342.00</td>\n",
       "    </tr>\n",
       "    <tr>\n",
       "      <th>4</th>\n",
       "      <td>4</td>\n",
       "      <td>L545</td>\n",
       "      <td>1204 IL HWY 164, OQUAWKA, IL 61469</td>\n",
       "      <td>40.9309925,-90.9437598</td>\n",
       "      <td>61469.00</td>\n",
       "    </tr>\n",
       "  </tbody>\n",
       "</table>\n",
       "</div>"
      ],
      "text/plain": [
       "   Unnamed: 0 Lab Id                                            Address  \\\n",
       "0           0   L152      3800 PLEASANT HILL RD STE 1, DULUTH, GA 30096   \n",
       "1           1   L520                    1614 N JAMES ST, ROME, NY 13440   \n",
       "2           2   L141     12911 120TH AVE NE STE D60, KIRKLAND, WA 98034   \n",
       "3           3   L524  5667 PEACHTREE DUNWOODY RD 250, ATLANTA, GA 30342   \n",
       "4           4   L545                 1204 IL HWY 164, OQUAWKA, IL 61469   \n",
       "\n",
       "                  Location  Zipcode  \n",
       "0    34.000319,-84.1629724 30096.00  \n",
       "1   43.2311327,-75.4445363 13440.00  \n",
       "2  47.7162786,-122.1838152 98034.00  \n",
       "3   33.9093875,-84.3529096 30342.00  \n",
       "4   40.9309925,-90.9437598 61469.00  "
      ]
     },
     "execution_count": 1156,
     "metadata": {},
     "output_type": "execute_result"
    }
   ],
   "source": [
    "df_geocode.head(5)"
   ]
  },
  {
   "cell_type": "markdown",
   "metadata": {},
   "source": [
    "### Correção do nome das colunas"
   ]
  },
  {
   "cell_type": "code",
   "execution_count": 1157,
   "metadata": {},
   "outputs": [],
   "source": [
    "df_geocode.columns = [x.replace(\" \",\"\") for x in df_geocode.columns] # Renomeando as colunas "
   ]
  },
  {
   "cell_type": "markdown",
   "metadata": {},
   "source": [
    "Descartando a coluna Unnamed:0, pois já o dataframe já contém index"
   ]
  },
  {
   "cell_type": "code",
   "execution_count": 1158,
   "metadata": {},
   "outputs": [],
   "source": [
    "df_geocode = df_geocode.iloc[:,1:]"
   ]
  },
  {
   "cell_type": "markdown",
   "metadata": {},
   "source": [
    "### Verificação de valores nulos"
   ]
  },
  {
   "cell_type": "code",
   "execution_count": 1159,
   "metadata": {},
   "outputs": [
    {
     "data": {
      "text/plain": [
       "LabId       0\n",
       "Address     0\n",
       "Location    0\n",
       "Zipcode     1\n",
       "dtype: int64"
      ]
     },
     "execution_count": 1159,
     "metadata": {},
     "output_type": "execute_result"
    }
   ],
   "source": [
    "df_geocode.isnull().sum()"
   ]
  },
  {
   "cell_type": "code",
   "execution_count": 1160,
   "metadata": {},
   "outputs": [
    {
     "data": {
      "text/plain": [
       "1"
      ]
     },
     "execution_count": 1160,
     "metadata": {},
     "output_type": "execute_result"
    }
   ],
   "source": [
    "df_geocode[df_geocode.isna().any(axis=1)].shape[0]"
   ]
  },
  {
   "cell_type": "code",
   "execution_count": 1161,
   "metadata": {},
   "outputs": [
    {
     "data": {
      "text/html": [
       "<div>\n",
       "<style scoped>\n",
       "    .dataframe tbody tr th:only-of-type {\n",
       "        vertical-align: middle;\n",
       "    }\n",
       "\n",
       "    .dataframe tbody tr th {\n",
       "        vertical-align: top;\n",
       "    }\n",
       "\n",
       "    .dataframe thead th {\n",
       "        text-align: right;\n",
       "    }\n",
       "</style>\n",
       "<table border=\"1\" class=\"dataframe\">\n",
       "  <thead>\n",
       "    <tr style=\"text-align: right;\">\n",
       "      <th></th>\n",
       "      <th>LabId</th>\n",
       "      <th>Address</th>\n",
       "      <th>Location</th>\n",
       "      <th>Zipcode</th>\n",
       "    </tr>\n",
       "  </thead>\n",
       "  <tbody>\n",
       "    <tr>\n",
       "      <th>83</th>\n",
       "      <td>-2</td>\n",
       "      <td>Unavailable</td>\n",
       "      <td>Unavailable</td>\n",
       "      <td>NaN</td>\n",
       "    </tr>\n",
       "  </tbody>\n",
       "</table>\n",
       "</div>"
      ],
      "text/plain": [
       "   LabId      Address     Location  Zipcode\n",
       "83    -2  Unavailable  Unavailable      NaN"
      ]
     },
     "execution_count": 1161,
     "metadata": {},
     "output_type": "execute_result"
    }
   ],
   "source": [
    "df_geocode[df_geocode.isna().any(axis=1)]"
   ]
  },
  {
   "cell_type": "markdown",
   "metadata": {},
   "source": [
    "Como podemos ver é apenas uma linha com valores faltantes e além de o zip code estar faltando, o endereço por extenso e as coordenadas também estão, o que impossibilita a busca das informações através de uma API ou dataframe auxiliar com endereços. Logo é necessário remover a linha"
   ]
  },
  {
   "cell_type": "code",
   "execution_count": 1162,
   "metadata": {},
   "outputs": [],
   "source": [
    "df_geocode = df_geocode.dropna(how='any') # Dropando os valores nulos"
   ]
  },
  {
   "cell_type": "markdown",
   "metadata": {},
   "source": [
    "Como é possível verificar, não constam mais valores nulos em nenhuma coluna do dataframe"
   ]
  },
  {
   "cell_type": "code",
   "execution_count": 1163,
   "metadata": {},
   "outputs": [
    {
     "data": {
      "text/plain": [
       "LabId       0\n",
       "Address     0\n",
       "Location    0\n",
       "Zipcode     0\n",
       "dtype: int64"
      ]
     },
     "execution_count": 1163,
     "metadata": {},
     "output_type": "execute_result"
    }
   ],
   "source": [
    "df_geocode.isnull().sum()"
   ]
  },
  {
   "cell_type": "markdown",
   "metadata": {},
   "source": [
    "### Verificação do formato dos dados"
   ]
  },
  {
   "cell_type": "code",
   "execution_count": 1164,
   "metadata": {},
   "outputs": [
    {
     "name": "stdout",
     "output_type": "stream",
     "text": [
      "<class 'pandas.core.frame.DataFrame'>\n",
      "Int64Index: 118 entries, 0 to 118\n",
      "Data columns (total 4 columns):\n",
      " #   Column    Non-Null Count  Dtype  \n",
      "---  ------    --------------  -----  \n",
      " 0   LabId     118 non-null    object \n",
      " 1   Address   118 non-null    object \n",
      " 2   Location  118 non-null    object \n",
      " 3   Zipcode   118 non-null    float64\n",
      "dtypes: float64(1), object(3)\n",
      "memory usage: 4.6+ KB\n"
     ]
    }
   ],
   "source": [
    "df_geocode.info()"
   ]
  },
  {
   "cell_type": "markdown",
   "metadata": {},
   "source": [
    "A coluna location deve se tornar duas colunas, latitude e longitude, visto que ela armazena dois valores, que deveriam estar no formato float, pois os dois são números reais"
   ]
  },
  {
   "cell_type": "code",
   "execution_count": 1165,
   "metadata": {},
   "outputs": [],
   "source": [
    "def get_latitude(location):\n",
    "    latitude = location.split(',')[0]\n",
    "    return float(latitude)\n",
    "\n",
    "def get_longitude(location):\n",
    "    longitude = location.split(',')[1]\n",
    "    return float(longitude)\n",
    "\n",
    "df_geocode[\"Latitude\"] = df_geocode[\"Location\"].apply(get_latitude)\n",
    "df_geocode[\"Longitude\"] = df_geocode[\"Location\"].apply(get_longitude)"
   ]
  },
  {
   "cell_type": "code",
   "execution_count": 1166,
   "metadata": {},
   "outputs": [],
   "source": [
    "df_geocode[\"LabId\"] = df_geocode[\"LabId\"].astype(pd.StringDtype())\n",
    "df_geocode[\"Address\"] = df_geocode[\"Address\"].astype(pd.StringDtype())\n",
    "df_geocode[\"Zipcode\"] = df_geocode[\"Zipcode\"].astype(\"int64\").astype(pd.StringDtype())"
   ]
  },
  {
   "cell_type": "code",
   "execution_count": 1167,
   "metadata": {},
   "outputs": [],
   "source": [
    "# Removendo a coluna location\n",
    "df_geocode = df_geocode[[\"LabId\",\"Address\",\"Zipcode\",\"Latitude\",\"Longitude\"]]"
   ]
  },
  {
   "cell_type": "code",
   "execution_count": 1168,
   "metadata": {},
   "outputs": [
    {
     "name": "stdout",
     "output_type": "stream",
     "text": [
      "<class 'pandas.core.frame.DataFrame'>\n",
      "Int64Index: 118 entries, 0 to 118\n",
      "Data columns (total 5 columns):\n",
      " #   Column     Non-Null Count  Dtype  \n",
      "---  ------     --------------  -----  \n",
      " 0   LabId      118 non-null    string \n",
      " 1   Address    118 non-null    string \n",
      " 2   Zipcode    118 non-null    string \n",
      " 3   Latitude   118 non-null    float64\n",
      " 4   Longitude  118 non-null    float64\n",
      "dtypes: float64(2), string(3)\n",
      "memory usage: 5.5 KB\n"
     ]
    }
   ],
   "source": [
    "df_geocode.info()"
   ]
  },
  {
   "cell_type": "markdown",
   "metadata": {},
   "source": [
    "### Verificação de registros duplicados"
   ]
  },
  {
   "cell_type": "code",
   "execution_count": 1169,
   "metadata": {},
   "outputs": [
    {
     "data": {
      "text/plain": [
       "0"
      ]
     },
     "execution_count": 1169,
     "metadata": {},
     "output_type": "execute_result"
    }
   ],
   "source": [
    "# Aqui verificamos se em geral existe alguma linha totalmente igual a outra, com os valores\n",
    "#de todas as colunas iguais\n",
    "df_geocode.duplicated().sum()"
   ]
  },
  {
   "cell_type": "code",
   "execution_count": 1170,
   "metadata": {},
   "outputs": [
    {
     "data": {
      "text/plain": [
       "0"
      ]
     },
     "execution_count": 1170,
     "metadata": {},
     "output_type": "execute_result"
    }
   ],
   "source": [
    "# Aqui verificamos se existe algum Id duplicado\n",
    "df_geocode[\"LabId\"].duplicated().sum()"
   ]
  },
  {
   "cell_type": "code",
   "execution_count": 1171,
   "metadata": {},
   "outputs": [
    {
     "data": {
      "text/plain": [
       "(0, 0)"
      ]
     },
     "execution_count": 1171,
     "metadata": {},
     "output_type": "execute_result"
    }
   ],
   "source": [
    "# Aqui verificamos se tem algum endereço que não seja único, e depois verificamos o zipcode \n",
    "#juntamente com latitude e longitude, visto que podem existir mais de um laboratório em \n",
    "#um zip code\n",
    "df_geocode[\"Address\"].duplicated().sum(),\\\n",
    "df_geocode[[\"Zipcode\",\"Latitude\",\"Longitude\"]].duplicated().sum()"
   ]
  },
  {
   "cell_type": "markdown",
   "metadata": {},
   "source": [
    "### Verificação de outliers"
   ]
  },
  {
   "cell_type": "markdown",
   "metadata": {},
   "source": [
    "Neste dataframe não é necessário a verificação de outliers, visto que ele é composto apenas por variáveis categóricas"
   ]
  },
  {
   "cell_type": "markdown",
   "metadata": {},
   "source": [
    "### Correção do index"
   ]
  },
  {
   "cell_type": "code",
   "execution_count": 1172,
   "metadata": {},
   "outputs": [],
   "source": [
    "df_geocode = df_geocode.reset_index(drop=True)"
   ]
  },
  {
   "cell_type": "markdown",
   "metadata": {},
   "source": [
    "## Sanity check df_tests"
   ]
  },
  {
   "cell_type": "code",
   "execution_count": 1173,
   "metadata": {},
   "outputs": [
    {
     "data": {
      "text/html": [
       "<div>\n",
       "<style scoped>\n",
       "    .dataframe tbody tr th:only-of-type {\n",
       "        vertical-align: middle;\n",
       "    }\n",
       "\n",
       "    .dataframe tbody tr th {\n",
       "        vertical-align: top;\n",
       "    }\n",
       "\n",
       "    .dataframe thead th {\n",
       "        text-align: right;\n",
       "    }\n",
       "</style>\n",
       "<table border=\"1\" class=\"dataframe\">\n",
       "  <thead>\n",
       "    <tr style=\"text-align: right;\">\n",
       "      <th></th>\n",
       "      <th>CodItem</th>\n",
       "      <th>Desc Item</th>\n",
       "      <th>Category</th>\n",
       "      <th>Family</th>\n",
       "      <th>Speciality</th>\n",
       "      <th>Testing Cost</th>\n",
       "    </tr>\n",
       "  </thead>\n",
       "  <tbody>\n",
       "    <tr>\n",
       "      <th>0</th>\n",
       "      <td>70003237</td>\n",
       "      <td>MAGNESIO, SORO (EXEMPLO DE EXPRESSAO DE RESULT...</td>\n",
       "      <td>CA</td>\n",
       "      <td>CORELAB</td>\n",
       "      <td>BIOCHEMISTRY</td>\n",
       "      <td>1.78</td>\n",
       "    </tr>\n",
       "    <tr>\n",
       "      <th>1</th>\n",
       "      <td>70000638</td>\n",
       "      <td>HEMOGRAMA, AUTOMATIZADO, SANGUE</td>\n",
       "      <td>CA</td>\n",
       "      <td>HEMATO</td>\n",
       "      <td>BLOOD COUNT</td>\n",
       "      <td>2.46</td>\n",
       "    </tr>\n",
       "    <tr>\n",
       "      <th>2</th>\n",
       "      <td>70001597</td>\n",
       "      <td>FERRITINA, SORO</td>\n",
       "      <td>CA</td>\n",
       "      <td>CORELAB</td>\n",
       "      <td>IMMUNOHORMONE</td>\n",
       "      <td>2.11</td>\n",
       "    </tr>\n",
       "    <tr>\n",
       "      <th>3</th>\n",
       "      <td>70000103</td>\n",
       "      <td>FERRO, DOSAGEM, SORO (EXEMPLO DE EXPRESSAO DE ...</td>\n",
       "      <td>CA</td>\n",
       "      <td>CORELAB</td>\n",
       "      <td>BIOCHEMISTRY</td>\n",
       "      <td>0.80</td>\n",
       "    </tr>\n",
       "    <tr>\n",
       "      <th>4</th>\n",
       "      <td>70000224</td>\n",
       "      <td>CALCIO, DOSAGEM, SORO (EXEMPLO DE EXPRESSAO DE...</td>\n",
       "      <td>CA</td>\n",
       "      <td>CORELAB</td>\n",
       "      <td>BIOCHEMISTRY</td>\n",
       "      <td>1.02</td>\n",
       "    </tr>\n",
       "  </tbody>\n",
       "</table>\n",
       "</div>"
      ],
      "text/plain": [
       "    CodItem                                          Desc Item Category  \\\n",
       "0  70003237  MAGNESIO, SORO (EXEMPLO DE EXPRESSAO DE RESULT...       CA   \n",
       "1  70000638                    HEMOGRAMA, AUTOMATIZADO, SANGUE       CA   \n",
       "2  70001597                                    FERRITINA, SORO       CA   \n",
       "3  70000103  FERRO, DOSAGEM, SORO (EXEMPLO DE EXPRESSAO DE ...       CA   \n",
       "4  70000224  CALCIO, DOSAGEM, SORO (EXEMPLO DE EXPRESSAO DE...       CA   \n",
       "\n",
       "    Family     Speciality  Testing Cost  \n",
       "0  CORELAB   BIOCHEMISTRY          1.78  \n",
       "1   HEMATO    BLOOD COUNT          2.46  \n",
       "2  CORELAB  IMMUNOHORMONE          2.11  \n",
       "3  CORELAB   BIOCHEMISTRY          0.80  \n",
       "4  CORELAB   BIOCHEMISTRY          1.02  "
      ]
     },
     "execution_count": 1173,
     "metadata": {},
     "output_type": "execute_result"
    }
   ],
   "source": [
    "df_tests.head(5)"
   ]
  },
  {
   "cell_type": "markdown",
   "metadata": {},
   "source": [
    "### Correção de nome de colunas"
   ]
  },
  {
   "cell_type": "code",
   "execution_count": 1174,
   "metadata": {},
   "outputs": [],
   "source": [
    "df_tests.columns = [x.replace(\" \",\"\") for x in df_tests.columns] # Renomeando as colunas "
   ]
  },
  {
   "cell_type": "markdown",
   "metadata": {},
   "source": [
    "### Verificação de nulos"
   ]
  },
  {
   "cell_type": "code",
   "execution_count": 1175,
   "metadata": {},
   "outputs": [
    {
     "data": {
      "text/plain": [
       "CodItem        0\n",
       "DescItem       0\n",
       "Category       0\n",
       "Family         0\n",
       "Speciality     0\n",
       "TestingCost    0\n",
       "dtype: int64"
      ]
     },
     "execution_count": 1175,
     "metadata": {},
     "output_type": "execute_result"
    }
   ],
   "source": [
    "df_tests.isnull().sum()"
   ]
  },
  {
   "cell_type": "markdown",
   "metadata": {},
   "source": [
    "Como não foi verificado nenhum valor nulo, não é necessário tratamento e podemos passar para a verificação do formato das colunas"
   ]
  },
  {
   "cell_type": "markdown",
   "metadata": {},
   "source": [
    "### Verificação de formato dos dados"
   ]
  },
  {
   "cell_type": "code",
   "execution_count": 1176,
   "metadata": {},
   "outputs": [
    {
     "name": "stdout",
     "output_type": "stream",
     "text": [
      "<class 'pandas.core.frame.DataFrame'>\n",
      "RangeIndex: 2002 entries, 0 to 2001\n",
      "Data columns (total 6 columns):\n",
      " #   Column       Non-Null Count  Dtype  \n",
      "---  ------       --------------  -----  \n",
      " 0   CodItem      2002 non-null   int64  \n",
      " 1   DescItem     2002 non-null   object \n",
      " 2   Category     2002 non-null   object \n",
      " 3   Family       2002 non-null   object \n",
      " 4   Speciality   2002 non-null   object \n",
      " 5   TestingCost  2002 non-null   float64\n",
      "dtypes: float64(1), int64(1), object(4)\n",
      "memory usage: 94.0+ KB\n"
     ]
    }
   ],
   "source": [
    "df_tests.info()"
   ]
  },
  {
   "cell_type": "markdown",
   "metadata": {},
   "source": [
    "Aqui é notável que a maioria das colunas estão no formato object e é necessário um casting "
   ]
  },
  {
   "cell_type": "code",
   "execution_count": 1177,
   "metadata": {},
   "outputs": [],
   "source": [
    "df_tests[\"CodItem\"] = df_tests[\"CodItem\"].astype(pd.StringDtype())\n",
    "df_tests[\"DescItem\"] = df_tests[\"DescItem\"].astype(pd.StringDtype())\n",
    "df_tests[\"Category\"] = df_tests[\"Category\"].astype(pd.StringDtype())\n",
    "df_tests[\"Family\"] = df_tests[\"Family\"].astype(pd.StringDtype())\n",
    "df_tests[\"Speciality\"] = df_tests[\"Speciality\"].astype(pd.StringDtype())"
   ]
  },
  {
   "cell_type": "markdown",
   "metadata": {},
   "source": [
    "Com isso, todos os Dtype(s) do dataframe foram corrigidos"
   ]
  },
  {
   "cell_type": "code",
   "execution_count": 1178,
   "metadata": {},
   "outputs": [
    {
     "name": "stdout",
     "output_type": "stream",
     "text": [
      "<class 'pandas.core.frame.DataFrame'>\n",
      "RangeIndex: 2002 entries, 0 to 2001\n",
      "Data columns (total 6 columns):\n",
      " #   Column       Non-Null Count  Dtype  \n",
      "---  ------       --------------  -----  \n",
      " 0   CodItem      2002 non-null   string \n",
      " 1   DescItem     2002 non-null   string \n",
      " 2   Category     2002 non-null   string \n",
      " 3   Family       2002 non-null   string \n",
      " 4   Speciality   2002 non-null   string \n",
      " 5   TestingCost  2002 non-null   float64\n",
      "dtypes: float64(1), string(5)\n",
      "memory usage: 94.0 KB\n"
     ]
    }
   ],
   "source": [
    "df_tests.info()"
   ]
  },
  {
   "cell_type": "markdown",
   "metadata": {},
   "source": [
    "### Verifição de registros duplicados"
   ]
  },
  {
   "cell_type": "code",
   "execution_count": 1179,
   "metadata": {},
   "outputs": [
    {
     "data": {
      "text/plain": [
       "0"
      ]
     },
     "execution_count": 1179,
     "metadata": {},
     "output_type": "execute_result"
    }
   ],
   "source": [
    "# Aqui verificamos se em geral existe alguma linha totalmente igual a outra, com os valores\n",
    "#de todas as colunas iguais\n",
    "df_tests.duplicated().sum()"
   ]
  },
  {
   "cell_type": "code",
   "execution_count": 1180,
   "metadata": {},
   "outputs": [
    {
     "data": {
      "text/plain": [
       "1"
      ]
     },
     "execution_count": 1180,
     "metadata": {},
     "output_type": "execute_result"
    }
   ],
   "source": [
    "# Aqui verificamos se existe valor duplicados ans colunas identificadoras\n",
    "df_tests[\"CodItem\"].duplicated().sum()"
   ]
  },
  {
   "cell_type": "code",
   "execution_count": 1181,
   "metadata": {},
   "outputs": [
    {
     "data": {
      "text/html": [
       "<div>\n",
       "<style scoped>\n",
       "    .dataframe tbody tr th:only-of-type {\n",
       "        vertical-align: middle;\n",
       "    }\n",
       "\n",
       "    .dataframe tbody tr th {\n",
       "        vertical-align: top;\n",
       "    }\n",
       "\n",
       "    .dataframe thead th {\n",
       "        text-align: right;\n",
       "    }\n",
       "</style>\n",
       "<table border=\"1\" class=\"dataframe\">\n",
       "  <thead>\n",
       "    <tr style=\"text-align: right;\">\n",
       "      <th></th>\n",
       "      <th>CodItem</th>\n",
       "      <th>DescItem</th>\n",
       "      <th>Category</th>\n",
       "      <th>Family</th>\n",
       "      <th>Speciality</th>\n",
       "      <th>TestingCost</th>\n",
       "    </tr>\n",
       "  </thead>\n",
       "  <tbody>\n",
       "    <tr>\n",
       "      <th>1968</th>\n",
       "      <td>70004701</td>\n",
       "      <td>PROCEDIMENTO DIAGNOSTICO EM PAINEL DE IMUNOIST...</td>\n",
       "      <td>PA</td>\n",
       "      <td>ANATOMO</td>\n",
       "      <td>IMMUNOHISTOCHEMISTRY</td>\n",
       "      <td>362.96</td>\n",
       "    </tr>\n",
       "  </tbody>\n",
       "</table>\n",
       "</div>"
      ],
      "text/plain": [
       "       CodItem                                           DescItem  \\\n",
       "1968  70004701  PROCEDIMENTO DIAGNOSTICO EM PAINEL DE IMUNOIST...   \n",
       "\n",
       "                                      Category   Family            Speciality  \\\n",
       "1968  PA                                        ANATOMO  IMMUNOHISTOCHEMISTRY   \n",
       "\n",
       "      TestingCost  \n",
       "1968       362.96  "
      ]
     },
     "execution_count": 1181,
     "metadata": {},
     "output_type": "execute_result"
    }
   ],
   "source": [
    "# Aqui verificamos se existe valor duplicados ans colunas identificadoras\n",
    "df_tests[df_tests[\"CodItem\"].duplicated()]"
   ]
  },
  {
   "cell_type": "markdown",
   "metadata": {},
   "source": [
    "Como vemos, existe apenas uma linha duplicada, que será removida"
   ]
  },
  {
   "cell_type": "code",
   "execution_count": 1182,
   "metadata": {},
   "outputs": [],
   "source": [
    "df_tests = df_tests.drop_duplicates(subset=\"CodItem\", keep=\"last\")"
   ]
  },
  {
   "cell_type": "markdown",
   "metadata": {},
   "source": [
    "### Verificação dos outliers"
   ]
  },
  {
   "cell_type": "markdown",
   "metadata": {},
   "source": [
    "Agora verificamos a existência de outliers no dataframe, caso detectados iremos removelos para que seja possível tirarmos conclusões mais claras a respeito dos dados. Iremos verificar abaixo"
   ]
  },
  {
   "cell_type": "code",
   "execution_count": 1183,
   "metadata": {},
   "outputs": [
    {
     "data": {
      "text/html": [
       "<div>\n",
       "<style scoped>\n",
       "    .dataframe tbody tr th:only-of-type {\n",
       "        vertical-align: middle;\n",
       "    }\n",
       "\n",
       "    .dataframe tbody tr th {\n",
       "        vertical-align: top;\n",
       "    }\n",
       "\n",
       "    .dataframe thead th {\n",
       "        text-align: right;\n",
       "    }\n",
       "</style>\n",
       "<table border=\"1\" class=\"dataframe\">\n",
       "  <thead>\n",
       "    <tr style=\"text-align: right;\">\n",
       "      <th></th>\n",
       "      <th>TestingCost</th>\n",
       "    </tr>\n",
       "  </thead>\n",
       "  <tbody>\n",
       "    <tr>\n",
       "      <th>count</th>\n",
       "      <td>2001.00</td>\n",
       "    </tr>\n",
       "    <tr>\n",
       "      <th>mean</th>\n",
       "      <td>77.62</td>\n",
       "    </tr>\n",
       "    <tr>\n",
       "      <th>std</th>\n",
       "      <td>145.96</td>\n",
       "    </tr>\n",
       "    <tr>\n",
       "      <th>min</th>\n",
       "      <td>0.00</td>\n",
       "    </tr>\n",
       "    <tr>\n",
       "      <th>25%</th>\n",
       "      <td>4.81</td>\n",
       "    </tr>\n",
       "    <tr>\n",
       "      <th>50%</th>\n",
       "      <td>21.14</td>\n",
       "    </tr>\n",
       "    <tr>\n",
       "      <th>75%</th>\n",
       "      <td>78.97</td>\n",
       "    </tr>\n",
       "    <tr>\n",
       "      <th>max</th>\n",
       "      <td>1762.46</td>\n",
       "    </tr>\n",
       "  </tbody>\n",
       "</table>\n",
       "</div>"
      ],
      "text/plain": [
       "       TestingCost\n",
       "count      2001.00\n",
       "mean         77.62\n",
       "std         145.96\n",
       "min           0.00\n",
       "25%           4.81\n",
       "50%          21.14\n",
       "75%          78.97\n",
       "max        1762.46"
      ]
     },
     "execution_count": 1183,
     "metadata": {},
     "output_type": "execute_result"
    }
   ],
   "source": [
    "df_tests.describe()"
   ]
  },
  {
   "cell_type": "code",
   "execution_count": 1184,
   "metadata": {},
   "outputs": [
    {
     "data": {
      "text/plain": [
       "<AxesSubplot:xlabel='TestingCost'>"
      ]
     },
     "execution_count": 1184,
     "metadata": {},
     "output_type": "execute_result"
    },
    {
     "data": {
      "image/png": "[encoded data removed]",
      "text/plain": [
       "<Figure size 1080x288 with 2 Axes>"
      ]
     },
     "metadata": {
      "needs_background": "light"
     },
     "output_type": "display_data"
    }
   ],
   "source": [
    "fig, ax = plt.subplots(1,2,figsize=(15, 4))\n",
    "sns.kdeplot(data=df_tests, x=\"TestingCost\", ax=ax[0])\n",
    "sns.boxplot(data=df_tests, x=\"TestingCost\", ax=ax[1])"
   ]
  },
  {
   "cell_type": "markdown",
   "metadata": {},
   "source": [
    "Como vemos, claramente temos outliers na unica coluna numérica presente neste dataframe, logo será necessário remove-los"
   ]
  },
  {
   "cell_type": "code",
   "execution_count": 1185,
   "metadata": {},
   "outputs": [],
   "source": [
    "df_tests[\"zscore\"] = stats.zscore(df_tests[\"TestingCost\"])"
   ]
  },
  {
   "cell_type": "code",
   "execution_count": 1186,
   "metadata": {},
   "outputs": [],
   "source": [
    "df_tests = df_tests[(df_tests[\"zscore\"] < 1)&(df_tests[\"zscore\"] > -1)]"
   ]
  },
  {
   "cell_type": "code",
   "execution_count": 1187,
   "metadata": {},
   "outputs": [
    {
     "data": {
      "text/plain": [
       "<AxesSubplot:xlabel='TestingCost'>"
      ]
     },
     "execution_count": 1187,
     "metadata": {},
     "output_type": "execute_result"
    },
    {
     "data": {
      "image/png": "[encoded data removed]",
      "text/plain": [
       "<Figure size 1080x288 with 2 Axes>"
      ]
     },
     "metadata": {
      "needs_background": "light"
     },
     "output_type": "display_data"
    }
   ],
   "source": [
    "fig, ax = plt.subplots(1,2,figsize=(15, 4))\n",
    "sns.kdeplot(data=df_tests, x=\"TestingCost\", ax=ax[0])\n",
    "sns.boxplot(data=df_tests, x=\"TestingCost\", ax=ax[1])"
   ]
  },
  {
   "cell_type": "code",
   "execution_count": 1188,
   "metadata": {},
   "outputs": [
    {
     "data": {
      "text/html": [
       "<div>\n",
       "<style scoped>\n",
       "    .dataframe tbody tr th:only-of-type {\n",
       "        vertical-align: middle;\n",
       "    }\n",
       "\n",
       "    .dataframe tbody tr th {\n",
       "        vertical-align: top;\n",
       "    }\n",
       "\n",
       "    .dataframe thead th {\n",
       "        text-align: right;\n",
       "    }\n",
       "</style>\n",
       "<table border=\"1\" class=\"dataframe\">\n",
       "  <thead>\n",
       "    <tr style=\"text-align: right;\">\n",
       "      <th></th>\n",
       "      <th>TestingCost</th>\n",
       "      <th>zscore</th>\n",
       "    </tr>\n",
       "  </thead>\n",
       "  <tbody>\n",
       "    <tr>\n",
       "      <th>count</th>\n",
       "      <td>1798.00</td>\n",
       "      <td>1798.00</td>\n",
       "    </tr>\n",
       "    <tr>\n",
       "      <th>mean</th>\n",
       "      <td>40.25</td>\n",
       "      <td>-0.26</td>\n",
       "    </tr>\n",
       "    <tr>\n",
       "      <th>std</th>\n",
       "      <td>52.05</td>\n",
       "      <td>0.36</td>\n",
       "    </tr>\n",
       "    <tr>\n",
       "      <th>min</th>\n",
       "      <td>0.00</td>\n",
       "      <td>-0.53</td>\n",
       "    </tr>\n",
       "    <tr>\n",
       "      <th>25%</th>\n",
       "      <td>4.43</td>\n",
       "      <td>-0.50</td>\n",
       "    </tr>\n",
       "    <tr>\n",
       "      <th>50%</th>\n",
       "      <td>13.66</td>\n",
       "      <td>-0.44</td>\n",
       "    </tr>\n",
       "    <tr>\n",
       "      <th>75%</th>\n",
       "      <td>63.41</td>\n",
       "      <td>-0.10</td>\n",
       "    </tr>\n",
       "    <tr>\n",
       "      <th>max</th>\n",
       "      <td>222.97</td>\n",
       "      <td>1.00</td>\n",
       "    </tr>\n",
       "  </tbody>\n",
       "</table>\n",
       "</div>"
      ],
      "text/plain": [
       "       TestingCost  zscore\n",
       "count      1798.00 1798.00\n",
       "mean         40.25   -0.26\n",
       "std          52.05    0.36\n",
       "min           0.00   -0.53\n",
       "25%           4.43   -0.50\n",
       "50%          13.66   -0.44\n",
       "75%          63.41   -0.10\n",
       "max         222.97    1.00"
      ]
     },
     "execution_count": 1188,
     "metadata": {},
     "output_type": "execute_result"
    }
   ],
   "source": [
    "df_tests.describe()"
   ]
  },
  {
   "cell_type": "code",
   "execution_count": 1189,
   "metadata": {},
   "outputs": [],
   "source": [
    "df_tests = df_tests.drop(columns=[\"zscore\"])"
   ]
  },
  {
   "cell_type": "markdown",
   "metadata": {},
   "source": [
    "### Correção do index"
   ]
  },
  {
   "cell_type": "code",
   "execution_count": 1190,
   "metadata": {},
   "outputs": [],
   "source": [
    "df_tests = df_tests.reset_index(drop=True)"
   ]
  },
  {
   "cell_type": "markdown",
   "metadata": {},
   "source": [
    "## Sanity check df_transactional"
   ]
  },
  {
   "cell_type": "code",
   "execution_count": 1191,
   "metadata": {},
   "outputs": [
    {
     "data": {
      "text/html": [
       "<div>\n",
       "<style scoped>\n",
       "    .dataframe tbody tr th:only-of-type {\n",
       "        vertical-align: middle;\n",
       "    }\n",
       "\n",
       "    .dataframe tbody tr th {\n",
       "        vertical-align: top;\n",
       "    }\n",
       "\n",
       "    .dataframe thead th {\n",
       "        text-align: right;\n",
       "    }\n",
       "</style>\n",
       "<table border=\"1\" class=\"dataframe\">\n",
       "  <thead>\n",
       "    <tr style=\"text-align: right;\">\n",
       "      <th></th>\n",
       "      <th>Patient Id</th>\n",
       "      <th>Gender</th>\n",
       "      <th>Date of birth</th>\n",
       "      <th>Date of service</th>\n",
       "      <th>Service Id</th>\n",
       "      <th>Lab Id</th>\n",
       "      <th>CodItem</th>\n",
       "      <th>Testing Cost</th>\n",
       "    </tr>\n",
       "  </thead>\n",
       "  <tbody>\n",
       "    <tr>\n",
       "      <th>0</th>\n",
       "      <td>10210830256-BIO003</td>\n",
       "      <td>F</td>\n",
       "      <td>01/08/1976 00:00:00</td>\n",
       "      <td>2019-01-07</td>\n",
       "      <td>571904533475-38</td>\n",
       "      <td>L133</td>\n",
       "      <td>70003237</td>\n",
       "      <td>9.00</td>\n",
       "    </tr>\n",
       "    <tr>\n",
       "      <th>1</th>\n",
       "      <td>10210830256-BIO003</td>\n",
       "      <td>F</td>\n",
       "      <td>01/08/1976 00:00:00</td>\n",
       "      <td>2019-01-07</td>\n",
       "      <td>571904533475-38</td>\n",
       "      <td>L133</td>\n",
       "      <td>70000638</td>\n",
       "      <td>13.00</td>\n",
       "    </tr>\n",
       "    <tr>\n",
       "      <th>2</th>\n",
       "      <td>10210830256-BIO003</td>\n",
       "      <td>F</td>\n",
       "      <td>01/08/1976 00:00:00</td>\n",
       "      <td>2019-01-07</td>\n",
       "      <td>571904533475-38</td>\n",
       "      <td>L133</td>\n",
       "      <td>70001597</td>\n",
       "      <td>49.00</td>\n",
       "    </tr>\n",
       "    <tr>\n",
       "      <th>3</th>\n",
       "      <td>10210830256-BIO003</td>\n",
       "      <td>F</td>\n",
       "      <td>01/08/1976 00:00:00</td>\n",
       "      <td>2019-01-07</td>\n",
       "      <td>571904533475-38</td>\n",
       "      <td>L133</td>\n",
       "      <td>70000103</td>\n",
       "      <td>11.00</td>\n",
       "    </tr>\n",
       "    <tr>\n",
       "      <th>4</th>\n",
       "      <td>10210830256-BIO003</td>\n",
       "      <td>F</td>\n",
       "      <td>01/08/1976 00:00:00</td>\n",
       "      <td>2019-01-07</td>\n",
       "      <td>571904533475-38</td>\n",
       "      <td>L133</td>\n",
       "      <td>70000224</td>\n",
       "      <td>10.00</td>\n",
       "    </tr>\n",
       "  </tbody>\n",
       "</table>\n",
       "</div>"
      ],
      "text/plain": [
       "           Patient Id Gender        Date of birth Date of service  \\\n",
       "0  10210830256-BIO003      F  01/08/1976 00:00:00      2019-01-07   \n",
       "1  10210830256-BIO003      F  01/08/1976 00:00:00      2019-01-07   \n",
       "2  10210830256-BIO003      F  01/08/1976 00:00:00      2019-01-07   \n",
       "3  10210830256-BIO003      F  01/08/1976 00:00:00      2019-01-07   \n",
       "4  10210830256-BIO003      F  01/08/1976 00:00:00      2019-01-07   \n",
       "\n",
       "        Service Id Lab Id   CodItem  Testing Cost  \n",
       "0  571904533475-38   L133  70003237          9.00  \n",
       "1  571904533475-38   L133  70000638         13.00  \n",
       "2  571904533475-38   L133  70001597         49.00  \n",
       "3  571904533475-38   L133  70000103         11.00  \n",
       "4  571904533475-38   L133  70000224         10.00  "
      ]
     },
     "execution_count": 1191,
     "metadata": {},
     "output_type": "execute_result"
    }
   ],
   "source": [
    "df_transactional.head(5)"
   ]
  },
  {
   "cell_type": "markdown",
   "metadata": {},
   "source": [
    "### Correção de nome das colunas"
   ]
  },
  {
   "cell_type": "code",
   "execution_count": 1192,
   "metadata": {},
   "outputs": [],
   "source": [
    "df_transactional.columns = [x.replace(\" \",\"\") for x in df_transactional.columns] # Renomeando as colunas "
   ]
  },
  {
   "cell_type": "markdown",
   "metadata": {},
   "source": [
    "### Verificação de nulos"
   ]
  },
  {
   "cell_type": "code",
   "execution_count": 1193,
   "metadata": {},
   "outputs": [
    {
     "data": {
      "text/plain": [
       "PatientId        0\n",
       "Gender           0\n",
       "Dateofbirth      1\n",
       "Dateofservice    0\n",
       "ServiceId        0\n",
       "LabId            0\n",
       "CodItem          0\n",
       "TestingCost      0\n",
       "dtype: int64"
      ]
     },
     "execution_count": 1193,
     "metadata": {},
     "output_type": "execute_result"
    }
   ],
   "source": [
    "df_transactional.isnull().sum()"
   ]
  },
  {
   "cell_type": "code",
   "execution_count": 1194,
   "metadata": {},
   "outputs": [
    {
     "name": "stdout",
     "output_type": "stream",
     "text": [
      "Como vemos, cerca de 0.003% das 32492 linhas contém dados nulos\n"
     ]
    }
   ],
   "source": [
    "print(f\"Como vemos, cerca de {((100*df_transactional[df_transactional.isna().any(axis=1)].shape[0])/df_demographic.shape[0]):.3f}\\\n",
    "% das {df_demographic.shape[0]} linhas contém dados nulos\")"
   ]
  },
  {
   "cell_type": "code",
   "execution_count": 1195,
   "metadata": {},
   "outputs": [
    {
     "data": {
      "text/html": [
       "<div>\n",
       "<style scoped>\n",
       "    .dataframe tbody tr th:only-of-type {\n",
       "        vertical-align: middle;\n",
       "    }\n",
       "\n",
       "    .dataframe tbody tr th {\n",
       "        vertical-align: top;\n",
       "    }\n",
       "\n",
       "    .dataframe thead th {\n",
       "        text-align: right;\n",
       "    }\n",
       "</style>\n",
       "<table border=\"1\" class=\"dataframe\">\n",
       "  <thead>\n",
       "    <tr style=\"text-align: right;\">\n",
       "      <th></th>\n",
       "      <th>PatientId</th>\n",
       "      <th>Gender</th>\n",
       "      <th>Dateofbirth</th>\n",
       "      <th>Dateofservice</th>\n",
       "      <th>ServiceId</th>\n",
       "      <th>LabId</th>\n",
       "      <th>CodItem</th>\n",
       "      <th>TestingCost</th>\n",
       "    </tr>\n",
       "  </thead>\n",
       "  <tbody>\n",
       "    <tr>\n",
       "      <th>1253947</th>\n",
       "      <td>7659985004-1</td>\n",
       "      <td>F</td>\n",
       "      <td>NaN</td>\n",
       "      <td>2020-02-22</td>\n",
       "      <td>7659985004-2-1</td>\n",
       "      <td>L152</td>\n",
       "      <td>70000107</td>\n",
       "      <td>48.00</td>\n",
       "    </tr>\n",
       "  </tbody>\n",
       "</table>\n",
       "</div>"
      ],
      "text/plain": [
       "            PatientId Gender Dateofbirth Dateofservice       ServiceId LabId  \\\n",
       "1253947  7659985004-1      F         NaN    2020-02-22  7659985004-2-1  L152   \n",
       "\n",
       "          CodItem  TestingCost  \n",
       "1253947  70000107        48.00  "
      ]
     },
     "execution_count": 1195,
     "metadata": {},
     "output_type": "execute_result"
    }
   ],
   "source": [
    "df_transactional[df_transactional.isna().any(axis=1)]"
   ]
  },
  {
   "cell_type": "markdown",
   "metadata": {},
   "source": [
    "Apesar de ser apenas uma linha, por ser uma série temporal é melhor para não perdermos o dado, e apenas preenchê-lo. Para isso, usaremos uma técnica de interpolação. "
   ]
  },
  {
   "cell_type": "code",
   "execution_count": 1196,
   "metadata": {},
   "outputs": [],
   "source": [
    "df_transactional['Dateofbirth'] = df_transactional['Dateofbirth']\\\n",
    "    .interpolate(option=\"spline\")\\\n",
    "        .fillna(method='bfill')"
   ]
  },
  {
   "cell_type": "markdown",
   "metadata": {},
   "source": [
    "Como é possível verificar, não constam mais valores nulos em nenhuma coluna do dataframe"
   ]
  },
  {
   "cell_type": "code",
   "execution_count": 1197,
   "metadata": {},
   "outputs": [
    {
     "data": {
      "text/plain": [
       "PatientId        0\n",
       "Gender           0\n",
       "Dateofbirth      0\n",
       "Dateofservice    0\n",
       "ServiceId        0\n",
       "LabId            0\n",
       "CodItem          0\n",
       "TestingCost      0\n",
       "dtype: int64"
      ]
     },
     "execution_count": 1197,
     "metadata": {},
     "output_type": "execute_result"
    }
   ],
   "source": [
    "df_transactional.isnull().sum()"
   ]
  },
  {
   "cell_type": "markdown",
   "metadata": {},
   "source": [
    "### Verificação de formato de dados"
   ]
  },
  {
   "cell_type": "code",
   "execution_count": 1198,
   "metadata": {},
   "outputs": [
    {
     "name": "stdout",
     "output_type": "stream",
     "text": [
      "<class 'pandas.core.frame.DataFrame'>\n",
      "RangeIndex: 2355241 entries, 0 to 2355240\n",
      "Data columns (total 8 columns):\n",
      " #   Column         Dtype  \n",
      "---  ------         -----  \n",
      " 0   PatientId      object \n",
      " 1   Gender         object \n",
      " 2   Dateofbirth    object \n",
      " 3   Dateofservice  object \n",
      " 4   ServiceId      object \n",
      " 5   LabId          object \n",
      " 6   CodItem        int64  \n",
      " 7   TestingCost    float64\n",
      "dtypes: float64(1), int64(1), object(6)\n",
      "memory usage: 143.8+ MB\n"
     ]
    }
   ],
   "source": [
    "df_transactional.info()"
   ]
  },
  {
   "cell_type": "code",
   "execution_count": 1199,
   "metadata": {},
   "outputs": [],
   "source": [
    "# Corrigindo o(s) valor(es) que deveria(m) ser do tipo String\n",
    "df_transactional[\"PatientId\"] = df_transactional[\"PatientId\"].astype(pd.StringDtype())\n",
    "df_transactional[\"Gender\"] = df_transactional[\"Gender\"].astype(pd.StringDtype())\n",
    "df_transactional[\"ServiceId\"] = df_transactional[\"ServiceId\"].astype(pd.StringDtype())\n",
    "df_transactional[\"LabId\"] = df_transactional[\"LabId\"].astype(pd.StringDtype())\n",
    "\n",
    "# Corrigindo o(s) valor(es) que deveria(m) ser do tipo Int\n",
    "df_transactional[\"CodItem\"] = df_transactional[\"CodItem\"].astype(pd.StringDtype())\n",
    "\n",
    "# Corrigindo o(s) valor(es) que deveria(m) ser do tipo Float\n",
    "df_transactional[\"TestingCost\"] = df_transactional[\"TestingCost\"].astype(\"float64\")\n",
    "\n",
    "# Corrigindo o(s) valor(es) que deveria(m) ser do tipo Datetime\n",
    "df_transactional['Dateofbirth'] = pd.to_datetime(df_transactional['Dateofbirth'])\n",
    "df_transactional['Dateofservice'] = pd.to_datetime(df_transactional['Dateofservice'])"
   ]
  },
  {
   "cell_type": "markdown",
   "metadata": {},
   "source": [
    "Com isso, todos os Dtype(s) do dataframe foram corrigidos"
   ]
  },
  {
   "cell_type": "code",
   "execution_count": 1200,
   "metadata": {},
   "outputs": [
    {
     "name": "stdout",
     "output_type": "stream",
     "text": [
      "<class 'pandas.core.frame.DataFrame'>\n",
      "RangeIndex: 2355241 entries, 0 to 2355240\n",
      "Data columns (total 8 columns):\n",
      " #   Column         Dtype         \n",
      "---  ------         -----         \n",
      " 0   PatientId      string        \n",
      " 1   Gender         string        \n",
      " 2   Dateofbirth    datetime64[ns]\n",
      " 3   Dateofservice  datetime64[ns]\n",
      " 4   ServiceId      string        \n",
      " 5   LabId          string        \n",
      " 6   CodItem        string        \n",
      " 7   TestingCost    float64       \n",
      "dtypes: datetime64[ns](2), float64(1), string(5)\n",
      "memory usage: 143.8 MB\n"
     ]
    }
   ],
   "source": [
    "df_transactional.info()"
   ]
  },
  {
   "cell_type": "markdown",
   "metadata": {},
   "source": [
    "### Verificação de registros duplicados"
   ]
  },
  {
   "cell_type": "code",
   "execution_count": 1201,
   "metadata": {},
   "outputs": [
    {
     "data": {
      "text/plain": [
       "14519"
      ]
     },
     "execution_count": 1201,
     "metadata": {},
     "output_type": "execute_result"
    }
   ],
   "source": [
    "# Aqui verificamos se em geral existe alguma linha totalmente igual a outra, com os valores\n",
    "#de todas as colunas iguais\n",
    "df_transactional.duplicated().sum()"
   ]
  },
  {
   "cell_type": "code",
   "execution_count": 1202,
   "metadata": {},
   "outputs": [
    {
     "data": {
      "text/html": [
       "<div>\n",
       "<style scoped>\n",
       "    .dataframe tbody tr th:only-of-type {\n",
       "        vertical-align: middle;\n",
       "    }\n",
       "\n",
       "    .dataframe tbody tr th {\n",
       "        vertical-align: top;\n",
       "    }\n",
       "\n",
       "    .dataframe thead th {\n",
       "        text-align: right;\n",
       "    }\n",
       "</style>\n",
       "<table border=\"1\" class=\"dataframe\">\n",
       "  <thead>\n",
       "    <tr style=\"text-align: right;\">\n",
       "      <th></th>\n",
       "      <th>PatientId</th>\n",
       "      <th>Gender</th>\n",
       "      <th>Dateofbirth</th>\n",
       "      <th>Dateofservice</th>\n",
       "      <th>ServiceId</th>\n",
       "      <th>LabId</th>\n",
       "      <th>CodItem</th>\n",
       "      <th>TestingCost</th>\n",
       "    </tr>\n",
       "  </thead>\n",
       "  <tbody>\n",
       "    <tr>\n",
       "      <th>110</th>\n",
       "      <td>10240091057-BIO010</td>\n",
       "      <td>F</td>\n",
       "      <td>1976-12-07</td>\n",
       "      <td>2019-01-09</td>\n",
       "      <td>430000507035-168</td>\n",
       "      <td>L536</td>\n",
       "      <td>70005005</td>\n",
       "      <td>59.00</td>\n",
       "    </tr>\n",
       "    <tr>\n",
       "      <th>325</th>\n",
       "      <td>10240100137-BIO010</td>\n",
       "      <td>F</td>\n",
       "      <td>1987-01-19</td>\n",
       "      <td>2019-02-03</td>\n",
       "      <td>431300349554-172</td>\n",
       "      <td>L539</td>\n",
       "      <td>70000180</td>\n",
       "      <td>12.00</td>\n",
       "    </tr>\n",
       "    <tr>\n",
       "      <th>326</th>\n",
       "      <td>10240100137-BIO010</td>\n",
       "      <td>F</td>\n",
       "      <td>1987-01-19</td>\n",
       "      <td>2019-02-03</td>\n",
       "      <td>431300349554-172</td>\n",
       "      <td>L539</td>\n",
       "      <td>70000180</td>\n",
       "      <td>12.00</td>\n",
       "    </tr>\n",
       "    <tr>\n",
       "      <th>731</th>\n",
       "      <td>10210824046-BIO003</td>\n",
       "      <td>F</td>\n",
       "      <td>1957-04-13</td>\n",
       "      <td>2019-01-15</td>\n",
       "      <td>576401751254-89</td>\n",
       "      <td>L166</td>\n",
       "      <td>70000180</td>\n",
       "      <td>12.00</td>\n",
       "    </tr>\n",
       "    <tr>\n",
       "      <th>732</th>\n",
       "      <td>10210824046-BIO003</td>\n",
       "      <td>F</td>\n",
       "      <td>1957-04-13</td>\n",
       "      <td>2019-01-15</td>\n",
       "      <td>576401751254-89</td>\n",
       "      <td>L166</td>\n",
       "      <td>70000180</td>\n",
       "      <td>12.00</td>\n",
       "    </tr>\n",
       "  </tbody>\n",
       "</table>\n",
       "</div>"
      ],
      "text/plain": [
       "              PatientId Gender Dateofbirth Dateofservice         ServiceId  \\\n",
       "110  10240091057-BIO010      F  1976-12-07    2019-01-09  430000507035-168   \n",
       "325  10240100137-BIO010      F  1987-01-19    2019-02-03  431300349554-172   \n",
       "326  10240100137-BIO010      F  1987-01-19    2019-02-03  431300349554-172   \n",
       "731  10210824046-BIO003      F  1957-04-13    2019-01-15   576401751254-89   \n",
       "732  10210824046-BIO003      F  1957-04-13    2019-01-15   576401751254-89   \n",
       "\n",
       "    LabId   CodItem  TestingCost  \n",
       "110  L536  70005005        59.00  \n",
       "325  L539  70000180        12.00  \n",
       "326  L539  70000180        12.00  \n",
       "731  L166  70000180        12.00  \n",
       "732  L166  70000180        12.00  "
      ]
     },
     "execution_count": 1202,
     "metadata": {},
     "output_type": "execute_result"
    }
   ],
   "source": [
    "# Visualizando parte desses dados faltantes\n",
    "df_transactional[df_transactional.duplicated()].head(5)"
   ]
  },
  {
   "cell_type": "code",
   "execution_count": 1203,
   "metadata": {},
   "outputs": [
    {
     "name": "stdout",
     "output_type": "stream",
     "text": [
      "Cerca de 0.616 % dos dados estão duplicados\n"
     ]
    }
   ],
   "source": [
    "print(f\"Cerca de {((100*df_transactional.duplicated().sum())/df_transactional.shape[0]):.3f} % dos dados estão duplicados\")"
   ]
  },
  {
   "cell_type": "markdown",
   "metadata": {},
   "source": [
    "Como vemos, já a princípio verificamos linhas duplicadas, e será necessário remover"
   ]
  },
  {
   "cell_type": "code",
   "execution_count": 1204,
   "metadata": {},
   "outputs": [],
   "source": [
    "df_transactional = df_transactional.drop_duplicates()"
   ]
  },
  {
   "cell_type": "markdown",
   "metadata": {},
   "source": [
    "### Verificação dos outliers"
   ]
  },
  {
   "cell_type": "markdown",
   "metadata": {},
   "source": [
    "Como temos dados des serviços feitos com os pacientes, é necessário verificar a data mínima e ver se não existem datas incoerentes. Para facilitar, eu irei criar a coluna com a idade do paciente"
   ]
  },
  {
   "cell_type": "code",
   "execution_count": 1205,
   "metadata": {},
   "outputs": [],
   "source": [
    "df_transactional[\"Age\"] = (df_transactional[\"Dateofservice\"] - df_transactional[\"Dateofbirth\"])\n",
    "df_transactional[\"Age\"] = df_transactional[\"Age\"] / np.timedelta64(1, 'Y')\n",
    "df_transactional[\"Age\"] = df_transactional[\"Age\"].astype(\"int64\")"
   ]
  },
  {
   "cell_type": "code",
   "execution_count": 1206,
   "metadata": {},
   "outputs": [
    {
     "data": {
      "text/html": [
       "<div>\n",
       "<style scoped>\n",
       "    .dataframe tbody tr th:only-of-type {\n",
       "        vertical-align: middle;\n",
       "    }\n",
       "\n",
       "    .dataframe tbody tr th {\n",
       "        vertical-align: top;\n",
       "    }\n",
       "\n",
       "    .dataframe thead th {\n",
       "        text-align: right;\n",
       "    }\n",
       "</style>\n",
       "<table border=\"1\" class=\"dataframe\">\n",
       "  <thead>\n",
       "    <tr style=\"text-align: right;\">\n",
       "      <th></th>\n",
       "      <th>TestingCost</th>\n",
       "      <th>Age</th>\n",
       "    </tr>\n",
       "  </thead>\n",
       "  <tbody>\n",
       "    <tr>\n",
       "      <th>count</th>\n",
       "      <td>2340722.00</td>\n",
       "      <td>2340722.00</td>\n",
       "    </tr>\n",
       "    <tr>\n",
       "      <th>mean</th>\n",
       "      <td>51.10</td>\n",
       "      <td>41.46</td>\n",
       "    </tr>\n",
       "    <tr>\n",
       "      <th>std</th>\n",
       "      <td>97.90</td>\n",
       "      <td>17.46</td>\n",
       "    </tr>\n",
       "    <tr>\n",
       "      <th>min</th>\n",
       "      <td>0.00</td>\n",
       "      <td>0.00</td>\n",
       "    </tr>\n",
       "    <tr>\n",
       "      <th>25%</th>\n",
       "      <td>11.00</td>\n",
       "      <td>30.00</td>\n",
       "    </tr>\n",
       "    <tr>\n",
       "      <th>50%</th>\n",
       "      <td>24.00</td>\n",
       "      <td>42.00</td>\n",
       "    </tr>\n",
       "    <tr>\n",
       "      <th>75%</th>\n",
       "      <td>49.00</td>\n",
       "      <td>54.00</td>\n",
       "    </tr>\n",
       "    <tr>\n",
       "      <th>max</th>\n",
       "      <td>9500.00</td>\n",
       "      <td>159.00</td>\n",
       "    </tr>\n",
       "  </tbody>\n",
       "</table>\n",
       "</div>"
      ],
      "text/plain": [
       "       TestingCost        Age\n",
       "count   2340722.00 2340722.00\n",
       "mean         51.10      41.46\n",
       "std          97.90      17.46\n",
       "min           0.00       0.00\n",
       "25%          11.00      30.00\n",
       "50%          24.00      42.00\n",
       "75%          49.00      54.00\n",
       "max        9500.00     159.00"
      ]
     },
     "execution_count": 1206,
     "metadata": {},
     "output_type": "execute_result"
    }
   ],
   "source": [
    "df_transactional.describe()"
   ]
  },
  {
   "cell_type": "code",
   "execution_count": 1207,
   "metadata": {},
   "outputs": [
    {
     "data": {
      "text/plain": [
       "<AxesSubplot:xlabel='TestingCost'>"
      ]
     },
     "execution_count": 1207,
     "metadata": {},
     "output_type": "execute_result"
    },
    {
     "data": {
      "image/png": "[encoded data removed]",
      "text/plain": [
       "<Figure size 1080x288 with 2 Axes>"
      ]
     },
     "metadata": {
      "needs_background": "light"
     },
     "output_type": "display_data"
    }
   ],
   "source": [
    "fig, ax = plt.subplots(1,2,figsize=(15, 4))\n",
    "sns.kdeplot(data=df_transactional, x=\"TestingCost\", ax=ax[0])\n",
    "sns.boxplot(data=df_transactional, x=\"TestingCost\", ax=ax[1])"
   ]
  },
  {
   "cell_type": "code",
   "execution_count": 1208,
   "metadata": {},
   "outputs": [
    {
     "data": {
      "text/plain": [
       "<AxesSubplot:xlabel='Age'>"
      ]
     },
     "execution_count": 1208,
     "metadata": {},
     "output_type": "execute_result"
    },
    {
     "data": {
      "image/png": "[encoded data removed]",
      "text/plain": [
       "<Figure size 1080x288 with 2 Axes>"
      ]
     },
     "metadata": {
      "needs_background": "light"
     },
     "output_type": "display_data"
    }
   ],
   "source": [
    "fig, ax = plt.subplots(1,2,figsize=(15, 4))\n",
    "sns.kdeplot(data=df_transactional, x=\"Age\", ax=ax[0])\n",
    "sns.boxplot(data=df_transactional, x=\"Age\", ax=ax[1])"
   ]
  },
  {
   "cell_type": "markdown",
   "metadata": {},
   "source": [
    "Como vemos, claramente temos outliers na unica coluna numérica presente neste dataframe, logo será necessário remove-los"
   ]
  },
  {
   "cell_type": "code",
   "execution_count": 1209,
   "metadata": {},
   "outputs": [],
   "source": [
    "df_transactional[\"zscore\"] = stats.zscore(df_transactional[\"TestingCost\"])\n",
    "df_transactional = df_transactional[(df_transactional[\"zscore\"] < 1)&(df_transactional[\"zscore\"] > -1)]"
   ]
  },
  {
   "cell_type": "code",
   "execution_count": 1210,
   "metadata": {},
   "outputs": [
    {
     "data": {
      "text/html": [
       "<div>\n",
       "<style scoped>\n",
       "    .dataframe tbody tr th:only-of-type {\n",
       "        vertical-align: middle;\n",
       "    }\n",
       "\n",
       "    .dataframe tbody tr th {\n",
       "        vertical-align: top;\n",
       "    }\n",
       "\n",
       "    .dataframe thead th {\n",
       "        text-align: right;\n",
       "    }\n",
       "</style>\n",
       "<table border=\"1\" class=\"dataframe\">\n",
       "  <thead>\n",
       "    <tr style=\"text-align: right;\">\n",
       "      <th></th>\n",
       "      <th>TestingCost</th>\n",
       "      <th>Age</th>\n",
       "      <th>zscore</th>\n",
       "    </tr>\n",
       "  </thead>\n",
       "  <tbody>\n",
       "    <tr>\n",
       "      <th>count</th>\n",
       "      <td>2192392.00</td>\n",
       "      <td>2192392.00</td>\n",
       "      <td>2192392.00</td>\n",
       "    </tr>\n",
       "    <tr>\n",
       "      <th>mean</th>\n",
       "      <td>31.83</td>\n",
       "      <td>41.64</td>\n",
       "      <td>-0.20</td>\n",
       "    </tr>\n",
       "    <tr>\n",
       "      <th>std</th>\n",
       "      <td>29.70</td>\n",
       "      <td>17.30</td>\n",
       "      <td>0.30</td>\n",
       "    </tr>\n",
       "    <tr>\n",
       "      <th>min</th>\n",
       "      <td>0.00</td>\n",
       "      <td>0.00</td>\n",
       "      <td>-0.52</td>\n",
       "    </tr>\n",
       "    <tr>\n",
       "      <th>25%</th>\n",
       "      <td>10.00</td>\n",
       "      <td>30.00</td>\n",
       "      <td>-0.42</td>\n",
       "    </tr>\n",
       "    <tr>\n",
       "      <th>50%</th>\n",
       "      <td>19.00</td>\n",
       "      <td>42.00</td>\n",
       "      <td>-0.33</td>\n",
       "    </tr>\n",
       "    <tr>\n",
       "      <th>75%</th>\n",
       "      <td>42.00</td>\n",
       "      <td>54.00</td>\n",
       "      <td>-0.09</td>\n",
       "    </tr>\n",
       "    <tr>\n",
       "      <th>max</th>\n",
       "      <td>149.00</td>\n",
       "      <td>120.00</td>\n",
       "      <td>1.00</td>\n",
       "    </tr>\n",
       "  </tbody>\n",
       "</table>\n",
       "</div>"
      ],
      "text/plain": [
       "       TestingCost        Age     zscore\n",
       "count   2192392.00 2192392.00 2192392.00\n",
       "mean         31.83      41.64      -0.20\n",
       "std          29.70      17.30       0.30\n",
       "min           0.00       0.00      -0.52\n",
       "25%          10.00      30.00      -0.42\n",
       "50%          19.00      42.00      -0.33\n",
       "75%          42.00      54.00      -0.09\n",
       "max         149.00     120.00       1.00"
      ]
     },
     "execution_count": 1210,
     "metadata": {},
     "output_type": "execute_result"
    }
   ],
   "source": [
    "df_transactional.describe()"
   ]
  },
  {
   "cell_type": "code",
   "execution_count": 1211,
   "metadata": {},
   "outputs": [],
   "source": [
    "#df_transactional = df_transactional[df_transactional[\"Age\"] <= 110]\n",
    "df_transactional[\"zscore\"] = stats.zscore(df_transactional[\"Age\"])\n",
    "df_transactional = df_transactional[(df_transactional[\"zscore\"] < 3)&(df_transactional[\"zscore\"] > -3)]\n",
    "df_transactional = df_transactional.drop(columns=[\"zscore\"])"
   ]
  },
  {
   "cell_type": "markdown",
   "metadata": {},
   "source": [
    "Como vemos ainda temos dados de idade claramente errados, com idades de 159 anos, por isso também faremos uma remoção dos outliers"
   ]
  },
  {
   "cell_type": "code",
   "execution_count": 1212,
   "metadata": {},
   "outputs": [
    {
     "data": {
      "text/plain": [
       "<AxesSubplot:xlabel='Age'>"
      ]
     },
     "execution_count": 1212,
     "metadata": {},
     "output_type": "execute_result"
    },
    {
     "data": {
      "image/png": "[encoded data removed]",
      "text/plain": [
       "<Figure size 1080x288 with 2 Axes>"
      ]
     },
     "metadata": {
      "needs_background": "light"
     },
     "output_type": "display_data"
    }
   ],
   "source": [
    "fig, ax = plt.subplots(1,2,figsize=(15, 4))\n",
    "sns.kdeplot(data=df_transactional, x=\"Age\", ax=ax[0])\n",
    "sns.boxplot(data=df_transactional, x=\"Age\", ax=ax[1])"
   ]
  },
  {
   "cell_type": "code",
   "execution_count": 1213,
   "metadata": {},
   "outputs": [
    {
     "data": {
      "text/plain": [
       "<AxesSubplot:xlabel='TestingCost'>"
      ]
     },
     "execution_count": 1213,
     "metadata": {},
     "output_type": "execute_result"
    },
    {
     "data": {
      "image/png": "[encoded data removed]",
      "text/plain": [
       "<Figure size 1080x288 with 2 Axes>"
      ]
     },
     "metadata": {
      "needs_background": "light"
     },
     "output_type": "display_data"
    }
   ],
   "source": [
    "fig, ax = plt.subplots(1,2,figsize=(15, 4))\n",
    "sns.kdeplot(data=df_transactional, x=\"TestingCost\", ax=ax[0])\n",
    "sns.boxplot(data=df_transactional, x=\"TestingCost\", ax=ax[1])"
   ]
  },
  {
   "cell_type": "code",
   "execution_count": 1214,
   "metadata": {},
   "outputs": [
    {
     "data": {
      "text/html": [
       "<div>\n",
       "<style scoped>\n",
       "    .dataframe tbody tr th:only-of-type {\n",
       "        vertical-align: middle;\n",
       "    }\n",
       "\n",
       "    .dataframe tbody tr th {\n",
       "        vertical-align: top;\n",
       "    }\n",
       "\n",
       "    .dataframe thead th {\n",
       "        text-align: right;\n",
       "    }\n",
       "</style>\n",
       "<table border=\"1\" class=\"dataframe\">\n",
       "  <thead>\n",
       "    <tr style=\"text-align: right;\">\n",
       "      <th></th>\n",
       "      <th>TestingCost</th>\n",
       "      <th>Age</th>\n",
       "    </tr>\n",
       "  </thead>\n",
       "  <tbody>\n",
       "    <tr>\n",
       "      <th>count</th>\n",
       "      <td>2189658.00</td>\n",
       "      <td>2189658.00</td>\n",
       "    </tr>\n",
       "    <tr>\n",
       "      <th>mean</th>\n",
       "      <td>31.84</td>\n",
       "      <td>41.57</td>\n",
       "    </tr>\n",
       "    <tr>\n",
       "      <th>std</th>\n",
       "      <td>29.70</td>\n",
       "      <td>17.20</td>\n",
       "    </tr>\n",
       "    <tr>\n",
       "      <th>min</th>\n",
       "      <td>0.00</td>\n",
       "      <td>0.00</td>\n",
       "    </tr>\n",
       "    <tr>\n",
       "      <th>25%</th>\n",
       "      <td>10.00</td>\n",
       "      <td>30.00</td>\n",
       "    </tr>\n",
       "    <tr>\n",
       "      <th>50%</th>\n",
       "      <td>19.00</td>\n",
       "      <td>42.00</td>\n",
       "    </tr>\n",
       "    <tr>\n",
       "      <th>75%</th>\n",
       "      <td>42.00</td>\n",
       "      <td>54.00</td>\n",
       "    </tr>\n",
       "    <tr>\n",
       "      <th>max</th>\n",
       "      <td>149.00</td>\n",
       "      <td>93.00</td>\n",
       "    </tr>\n",
       "  </tbody>\n",
       "</table>\n",
       "</div>"
      ],
      "text/plain": [
       "       TestingCost        Age\n",
       "count   2189658.00 2189658.00\n",
       "mean         31.84      41.57\n",
       "std          29.70      17.20\n",
       "min           0.00       0.00\n",
       "25%          10.00      30.00\n",
       "50%          19.00      42.00\n",
       "75%          42.00      54.00\n",
       "max         149.00      93.00"
      ]
     },
     "execution_count": 1214,
     "metadata": {},
     "output_type": "execute_result"
    }
   ],
   "source": [
    "df_transactional.describe()"
   ]
  },
  {
   "cell_type": "markdown",
   "metadata": {},
   "source": [
    "### Correção do index"
   ]
  },
  {
   "cell_type": "code",
   "execution_count": 1215,
   "metadata": {},
   "outputs": [],
   "source": [
    "df_transactional = df_transactional.reset_index(drop=True)"
   ]
  },
  {
   "cell_type": "markdown",
   "metadata": {},
   "source": [
    "# Data analisys"
   ]
  },
  {
   "cell_type": "markdown",
   "metadata": {},
   "source": [
    "## Atribuição dos dados demográficos e econômicos às clinicas"
   ]
  },
  {
   "cell_type": "markdown",
   "metadata": {},
   "source": [
    "Para entender melhor sobre cada uma das clinicas presentes na base, iremos fazer um join do dataframe df_geocode com o dataframe df_demographic e df_economic, para ser possível vizualizar os dados demográficos e econômicos do zip code onde está localizado cada clinica"
   ]
  },
  {
   "cell_type": "code",
   "execution_count": 1216,
   "metadata": {},
   "outputs": [],
   "source": [
    "df_demographic['GeographicAreaName'] = df_demographic['GeographicAreaName'].str.split(' ', expand=True)[1]\n",
    "df_demographic=df_demographic.rename(columns = {'GeographicAreaName':'Zipcode'})\n",
    " \n",
    "df_economic['GeographicAreaName'] = df_economic['GeographicAreaName'].str.split(' ', expand=True)[1]\n",
    "df_economic=df_economic.rename(columns = {'GeographicAreaName':'Zipcode'})\n"
   ]
  },
  {
   "cell_type": "code",
   "execution_count": 1217,
   "metadata": {},
   "outputs": [
    {
     "data": {
      "text/html": [
       "<div>\n",
       "<style scoped>\n",
       "    .dataframe tbody tr th:only-of-type {\n",
       "        vertical-align: middle;\n",
       "    }\n",
       "\n",
       "    .dataframe tbody tr th {\n",
       "        vertical-align: top;\n",
       "    }\n",
       "\n",
       "    .dataframe thead th {\n",
       "        text-align: right;\n",
       "    }\n",
       "</style>\n",
       "<table border=\"1\" class=\"dataframe\">\n",
       "  <thead>\n",
       "    <tr style=\"text-align: right;\">\n",
       "      <th></th>\n",
       "      <th>Id</th>\n",
       "      <th>Zipcode</th>\n",
       "      <th>TotalPopulation</th>\n",
       "      <th>SexRatiomalesper100females</th>\n",
       "      <th>PopulationUnder5Years</th>\n",
       "      <th>Population5to9Years</th>\n",
       "      <th>Population10to14Years</th>\n",
       "      <th>Population15to19Years</th>\n",
       "      <th>Population20to24Years</th>\n",
       "      <th>Population25to34Years</th>\n",
       "      <th>Population35to44Years</th>\n",
       "      <th>Population45to54Years</th>\n",
       "      <th>Population55to59Years</th>\n",
       "      <th>Population60to64Years</th>\n",
       "      <th>Population65to74Years</th>\n",
       "      <th>Population75to84Years</th>\n",
       "      <th>Population85YearsAndOver</th>\n",
       "      <th>MedianAgeInYears</th>\n",
       "    </tr>\n",
       "  </thead>\n",
       "  <tbody>\n",
       "    <tr>\n",
       "      <th>0</th>\n",
       "      <td>8600000US35004</td>\n",
       "      <td>35004</td>\n",
       "      <td>12045</td>\n",
       "      <td>94.10</td>\n",
       "      <td>805</td>\n",
       "      <td>1075</td>\n",
       "      <td>898</td>\n",
       "      <td>477</td>\n",
       "      <td>578</td>\n",
       "      <td>2088</td>\n",
       "      <td>1628</td>\n",
       "      <td>1200</td>\n",
       "      <td>886</td>\n",
       "      <td>683</td>\n",
       "      <td>1017</td>\n",
       "      <td>534</td>\n",
       "      <td>176</td>\n",
       "      <td>35.50</td>\n",
       "    </tr>\n",
       "    <tr>\n",
       "      <th>1</th>\n",
       "      <td>8600000US35005</td>\n",
       "      <td>35005</td>\n",
       "      <td>7344</td>\n",
       "      <td>86.10</td>\n",
       "      <td>504</td>\n",
       "      <td>453</td>\n",
       "      <td>511</td>\n",
       "      <td>499</td>\n",
       "      <td>214</td>\n",
       "      <td>788</td>\n",
       "      <td>795</td>\n",
       "      <td>968</td>\n",
       "      <td>612</td>\n",
       "      <td>561</td>\n",
       "      <td>798</td>\n",
       "      <td>485</td>\n",
       "      <td>156</td>\n",
       "      <td>44.00</td>\n",
       "    </tr>\n",
       "    <tr>\n",
       "      <th>2</th>\n",
       "      <td>8600000US35006</td>\n",
       "      <td>35006</td>\n",
       "      <td>2883</td>\n",
       "      <td>108.20</td>\n",
       "      <td>96</td>\n",
       "      <td>153</td>\n",
       "      <td>303</td>\n",
       "      <td>129</td>\n",
       "      <td>156</td>\n",
       "      <td>183</td>\n",
       "      <td>367</td>\n",
       "      <td>430</td>\n",
       "      <td>296</td>\n",
       "      <td>260</td>\n",
       "      <td>280</td>\n",
       "      <td>201</td>\n",
       "      <td>29</td>\n",
       "      <td>47.20</td>\n",
       "    </tr>\n",
       "    <tr>\n",
       "      <th>3</th>\n",
       "      <td>8600000US35007</td>\n",
       "      <td>35007</td>\n",
       "      <td>26332</td>\n",
       "      <td>95.00</td>\n",
       "      <td>1936</td>\n",
       "      <td>1992</td>\n",
       "      <td>1837</td>\n",
       "      <td>1762</td>\n",
       "      <td>1376</td>\n",
       "      <td>3119</td>\n",
       "      <td>3849</td>\n",
       "      <td>3907</td>\n",
       "      <td>1665</td>\n",
       "      <td>1323</td>\n",
       "      <td>2096</td>\n",
       "      <td>1106</td>\n",
       "      <td>364</td>\n",
       "      <td>37.70</td>\n",
       "    </tr>\n",
       "    <tr>\n",
       "      <th>4</th>\n",
       "      <td>8600000US35010</td>\n",
       "      <td>35010</td>\n",
       "      <td>20613</td>\n",
       "      <td>90.50</td>\n",
       "      <td>1306</td>\n",
       "      <td>1465</td>\n",
       "      <td>944</td>\n",
       "      <td>1217</td>\n",
       "      <td>1128</td>\n",
       "      <td>2513</td>\n",
       "      <td>2106</td>\n",
       "      <td>2950</td>\n",
       "      <td>1512</td>\n",
       "      <td>1472</td>\n",
       "      <td>2421</td>\n",
       "      <td>1155</td>\n",
       "      <td>424</td>\n",
       "      <td>42.60</td>\n",
       "    </tr>\n",
       "  </tbody>\n",
       "</table>\n",
       "</div>"
      ],
      "text/plain": [
       "               Id Zipcode  TotalPopulation  SexRatiomalesper100females  \\\n",
       "0  8600000US35004   35004            12045                       94.10   \n",
       "1  8600000US35005   35005             7344                       86.10   \n",
       "2  8600000US35006   35006             2883                      108.20   \n",
       "3  8600000US35007   35007            26332                       95.00   \n",
       "4  8600000US35010   35010            20613                       90.50   \n",
       "\n",
       "   PopulationUnder5Years  Population5to9Years  Population10to14Years  \\\n",
       "0                    805                 1075                    898   \n",
       "1                    504                  453                    511   \n",
       "2                     96                  153                    303   \n",
       "3                   1936                 1992                   1837   \n",
       "4                   1306                 1465                    944   \n",
       "\n",
       "   Population15to19Years  Population20to24Years  Population25to34Years  \\\n",
       "0                    477                    578                   2088   \n",
       "1                    499                    214                    788   \n",
       "2                    129                    156                    183   \n",
       "3                   1762                   1376                   3119   \n",
       "4                   1217                   1128                   2513   \n",
       "\n",
       "   Population35to44Years  Population45to54Years  Population55to59Years  \\\n",
       "0                   1628                   1200                    886   \n",
       "1                    795                    968                    612   \n",
       "2                    367                    430                    296   \n",
       "3                   3849                   3907                   1665   \n",
       "4                   2106                   2950                   1512   \n",
       "\n",
       "   Population60to64Years  Population65to74Years  Population75to84Years  \\\n",
       "0                    683                   1017                    534   \n",
       "1                    561                    798                    485   \n",
       "2                    260                    280                    201   \n",
       "3                   1323                   2096                   1106   \n",
       "4                   1472                   2421                   1155   \n",
       "\n",
       "   Population85YearsAndOver  MedianAgeInYears  \n",
       "0                       176             35.50  \n",
       "1                       156             44.00  \n",
       "2                        29             47.20  \n",
       "3                       364             37.70  \n",
       "4                       424             42.60  "
      ]
     },
     "execution_count": 1217,
     "metadata": {},
     "output_type": "execute_result"
    }
   ],
   "source": [
    "df_demographic.head()"
   ]
  },
  {
   "cell_type": "code",
   "execution_count": 1218,
   "metadata": {},
   "outputs": [
    {
     "data": {
      "text/html": [
       "<div>\n",
       "<style scoped>\n",
       "    .dataframe tbody tr th:only-of-type {\n",
       "        vertical-align: middle;\n",
       "    }\n",
       "\n",
       "    .dataframe tbody tr th {\n",
       "        vertical-align: top;\n",
       "    }\n",
       "\n",
       "    .dataframe thead th {\n",
       "        text-align: right;\n",
       "    }\n",
       "</style>\n",
       "<table border=\"1\" class=\"dataframe\">\n",
       "  <thead>\n",
       "    <tr style=\"text-align: right;\">\n",
       "      <th></th>\n",
       "      <th>Id</th>\n",
       "      <th>Zipcode</th>\n",
       "      <th>TotalHouseholds_LessThan$10.000</th>\n",
       "      <th>TotalHouseholds_$10.000to$14.999</th>\n",
       "      <th>TotalHouseholds_$15.000to$24.999</th>\n",
       "      <th>TotalHouseholds_$25.000to$34.999</th>\n",
       "      <th>TotalHouseholds_$35.000to$49.999</th>\n",
       "      <th>TotalHouseholds_$50.000to$74.999</th>\n",
       "      <th>TotalHouseholds_$75.000to$99.999</th>\n",
       "      <th>TotalHouseholds_$100.000to$149.999</th>\n",
       "      <th>TotalHouseholds_$150.000to$199.999</th>\n",
       "      <th>TotalHouseholds_$200.000OrMore</th>\n",
       "    </tr>\n",
       "  </thead>\n",
       "  <tbody>\n",
       "    <tr>\n",
       "      <th>0</th>\n",
       "      <td>8600000US35004</td>\n",
       "      <td>35004</td>\n",
       "      <td>198</td>\n",
       "      <td>71</td>\n",
       "      <td>298</td>\n",
       "      <td>513</td>\n",
       "      <td>647</td>\n",
       "      <td>1117</td>\n",
       "      <td>529</td>\n",
       "      <td>945</td>\n",
       "      <td>245</td>\n",
       "      <td>61</td>\n",
       "    </tr>\n",
       "    <tr>\n",
       "      <th>1</th>\n",
       "      <td>8600000US35005</td>\n",
       "      <td>35005</td>\n",
       "      <td>188</td>\n",
       "      <td>184</td>\n",
       "      <td>318</td>\n",
       "      <td>293</td>\n",
       "      <td>353</td>\n",
       "      <td>562</td>\n",
       "      <td>299</td>\n",
       "      <td>407</td>\n",
       "      <td>67</td>\n",
       "      <td>26</td>\n",
       "    </tr>\n",
       "    <tr>\n",
       "      <th>2</th>\n",
       "      <td>8600000US35006</td>\n",
       "      <td>35006</td>\n",
       "      <td>71</td>\n",
       "      <td>20</td>\n",
       "      <td>117</td>\n",
       "      <td>104</td>\n",
       "      <td>154</td>\n",
       "      <td>176</td>\n",
       "      <td>124</td>\n",
       "      <td>194</td>\n",
       "      <td>51</td>\n",
       "      <td>7</td>\n",
       "    </tr>\n",
       "    <tr>\n",
       "      <th>3</th>\n",
       "      <td>8600000US35007</td>\n",
       "      <td>35007</td>\n",
       "      <td>396</td>\n",
       "      <td>208</td>\n",
       "      <td>670</td>\n",
       "      <td>462</td>\n",
       "      <td>1173</td>\n",
       "      <td>1854</td>\n",
       "      <td>1578</td>\n",
       "      <td>2224</td>\n",
       "      <td>473</td>\n",
       "      <td>254</td>\n",
       "    </tr>\n",
       "    <tr>\n",
       "      <th>4</th>\n",
       "      <td>8600000US35010</td>\n",
       "      <td>35010</td>\n",
       "      <td>700</td>\n",
       "      <td>610</td>\n",
       "      <td>1093</td>\n",
       "      <td>957</td>\n",
       "      <td>1056</td>\n",
       "      <td>1512</td>\n",
       "      <td>807</td>\n",
       "      <td>749</td>\n",
       "      <td>254</td>\n",
       "      <td>249</td>\n",
       "    </tr>\n",
       "  </tbody>\n",
       "</table>\n",
       "</div>"
      ],
      "text/plain": [
       "               Id Zipcode  TotalHouseholds_LessThan$10.000  \\\n",
       "0  8600000US35004   35004                              198   \n",
       "1  8600000US35005   35005                              188   \n",
       "2  8600000US35006   35006                               71   \n",
       "3  8600000US35007   35007                              396   \n",
       "4  8600000US35010   35010                              700   \n",
       "\n",
       "   TotalHouseholds_$10.000to$14.999  TotalHouseholds_$15.000to$24.999  \\\n",
       "0                                71                               298   \n",
       "1                               184                               318   \n",
       "2                                20                               117   \n",
       "3                               208                               670   \n",
       "4                               610                              1093   \n",
       "\n",
       "   TotalHouseholds_$25.000to$34.999  TotalHouseholds_$35.000to$49.999  \\\n",
       "0                               513                               647   \n",
       "1                               293                               353   \n",
       "2                               104                               154   \n",
       "3                               462                              1173   \n",
       "4                               957                              1056   \n",
       "\n",
       "   TotalHouseholds_$50.000to$74.999  TotalHouseholds_$75.000to$99.999  \\\n",
       "0                              1117                               529   \n",
       "1                               562                               299   \n",
       "2                               176                               124   \n",
       "3                              1854                              1578   \n",
       "4                              1512                               807   \n",
       "\n",
       "   TotalHouseholds_$100.000to$149.999  TotalHouseholds_$150.000to$199.999  \\\n",
       "0                                 945                                 245   \n",
       "1                                 407                                  67   \n",
       "2                                 194                                  51   \n",
       "3                                2224                                 473   \n",
       "4                                 749                                 254   \n",
       "\n",
       "   TotalHouseholds_$200.000OrMore  \n",
       "0                              61  \n",
       "1                              26  \n",
       "2                               7  \n",
       "3                             254  \n",
       "4                             249  "
      ]
     },
     "execution_count": 1218,
     "metadata": {},
     "output_type": "execute_result"
    }
   ],
   "source": [
    "df_economic.head()"
   ]
  },
  {
   "cell_type": "code",
   "execution_count": 1219,
   "metadata": {},
   "outputs": [
    {
     "data": {
      "text/html": [
       "<div>\n",
       "<style scoped>\n",
       "    .dataframe tbody tr th:only-of-type {\n",
       "        vertical-align: middle;\n",
       "    }\n",
       "\n",
       "    .dataframe tbody tr th {\n",
       "        vertical-align: top;\n",
       "    }\n",
       "\n",
       "    .dataframe thead th {\n",
       "        text-align: right;\n",
       "    }\n",
       "</style>\n",
       "<table border=\"1\" class=\"dataframe\">\n",
       "  <thead>\n",
       "    <tr style=\"text-align: right;\">\n",
       "      <th></th>\n",
       "      <th>LabId</th>\n",
       "      <th>Address</th>\n",
       "      <th>Zipcode</th>\n",
       "      <th>Latitude</th>\n",
       "      <th>Longitude</th>\n",
       "    </tr>\n",
       "  </thead>\n",
       "  <tbody>\n",
       "    <tr>\n",
       "      <th>0</th>\n",
       "      <td>L152</td>\n",
       "      <td>3800 PLEASANT HILL RD STE 1, DULUTH, GA 30096</td>\n",
       "      <td>30096</td>\n",
       "      <td>34.00</td>\n",
       "      <td>-84.16</td>\n",
       "    </tr>\n",
       "    <tr>\n",
       "      <th>1</th>\n",
       "      <td>L520</td>\n",
       "      <td>1614 N JAMES ST, ROME, NY 13440</td>\n",
       "      <td>13440</td>\n",
       "      <td>43.23</td>\n",
       "      <td>-75.44</td>\n",
       "    </tr>\n",
       "    <tr>\n",
       "      <th>2</th>\n",
       "      <td>L141</td>\n",
       "      <td>12911 120TH AVE NE STE D60, KIRKLAND, WA 98034</td>\n",
       "      <td>98034</td>\n",
       "      <td>47.72</td>\n",
       "      <td>-122.18</td>\n",
       "    </tr>\n",
       "    <tr>\n",
       "      <th>3</th>\n",
       "      <td>L524</td>\n",
       "      <td>5667 PEACHTREE DUNWOODY RD 250, ATLANTA, GA 30342</td>\n",
       "      <td>30342</td>\n",
       "      <td>33.91</td>\n",
       "      <td>-84.35</td>\n",
       "    </tr>\n",
       "    <tr>\n",
       "      <th>4</th>\n",
       "      <td>L545</td>\n",
       "      <td>1204 IL HWY 164, OQUAWKA, IL 61469</td>\n",
       "      <td>61469</td>\n",
       "      <td>40.93</td>\n",
       "      <td>-90.94</td>\n",
       "    </tr>\n",
       "  </tbody>\n",
       "</table>\n",
       "</div>"
      ],
      "text/plain": [
       "  LabId                                            Address Zipcode  Latitude  \\\n",
       "0  L152      3800 PLEASANT HILL RD STE 1, DULUTH, GA 30096   30096     34.00   \n",
       "1  L520                    1614 N JAMES ST, ROME, NY 13440   13440     43.23   \n",
       "2  L141     12911 120TH AVE NE STE D60, KIRKLAND, WA 98034   98034     47.72   \n",
       "3  L524  5667 PEACHTREE DUNWOODY RD 250, ATLANTA, GA 30342   30342     33.91   \n",
       "4  L545                 1204 IL HWY 164, OQUAWKA, IL 61469   61469     40.93   \n",
       "\n",
       "   Longitude  \n",
       "0     -84.16  \n",
       "1     -75.44  \n",
       "2    -122.18  \n",
       "3     -84.35  \n",
       "4     -90.94  "
      ]
     },
     "execution_count": 1219,
     "metadata": {},
     "output_type": "execute_result"
    }
   ],
   "source": [
    "df_geocode.head()"
   ]
  },
  {
   "cell_type": "code",
   "execution_count": 1220,
   "metadata": {},
   "outputs": [],
   "source": [
    "df_geocode = df_geocode.merge(df_demographic, on='Zipcode', how='left') # Fazendo o join com o dataframe dos valores demográficos\n",
    "df_geocode = df_geocode.merge(df_economic, on='Zipcode', how='left') # Fazendo o join com o dataframe dos valores econômicos\n",
    "df_geocode = df_geocode.drop(columns=[\"Id_y\"]) # Dropando uma das colunas id, pois foi duplicada\n",
    "df_geocode = df_geocode.rename(columns = {'Id_x':'Id'}) # Renomeando a outra coluna Id"
   ]
  },
  {
   "cell_type": "code",
   "execution_count": 1221,
   "metadata": {},
   "outputs": [
    {
     "data": {
      "text/html": [
       "<div>\n",
       "<style scoped>\n",
       "    .dataframe tbody tr th:only-of-type {\n",
       "        vertical-align: middle;\n",
       "    }\n",
       "\n",
       "    .dataframe tbody tr th {\n",
       "        vertical-align: top;\n",
       "    }\n",
       "\n",
       "    .dataframe thead th {\n",
       "        text-align: right;\n",
       "    }\n",
       "</style>\n",
       "<table border=\"1\" class=\"dataframe\">\n",
       "  <thead>\n",
       "    <tr style=\"text-align: right;\">\n",
       "      <th></th>\n",
       "      <th>Id</th>\n",
       "      <th>TotalPopulation</th>\n",
       "      <th>SexRatiomalesper100females</th>\n",
       "      <th>PopulationUnder5Years</th>\n",
       "      <th>Population5to9Years</th>\n",
       "      <th>Population10to14Years</th>\n",
       "      <th>Population15to19Years</th>\n",
       "      <th>Population20to24Years</th>\n",
       "      <th>Population25to34Years</th>\n",
       "      <th>Population35to44Years</th>\n",
       "      <th>...</th>\n",
       "      <th>TotalHouseholds_LessThan$10.000</th>\n",
       "      <th>TotalHouseholds_$10.000to$14.999</th>\n",
       "      <th>TotalHouseholds_$15.000to$24.999</th>\n",
       "      <th>TotalHouseholds_$25.000to$34.999</th>\n",
       "      <th>TotalHouseholds_$35.000to$49.999</th>\n",
       "      <th>TotalHouseholds_$50.000to$74.999</th>\n",
       "      <th>TotalHouseholds_$75.000to$99.999</th>\n",
       "      <th>TotalHouseholds_$100.000to$149.999</th>\n",
       "      <th>TotalHouseholds_$150.000to$199.999</th>\n",
       "      <th>TotalHouseholds_$200.000OrMore</th>\n",
       "    </tr>\n",
       "  </thead>\n",
       "  <tbody>\n",
       "    <tr>\n",
       "      <th>0</th>\n",
       "      <td>8600000US30096</td>\n",
       "      <td>68691.00</td>\n",
       "      <td>89.00</td>\n",
       "      <td>4335.00</td>\n",
       "      <td>4376.00</td>\n",
       "      <td>4749.00</td>\n",
       "      <td>4130.00</td>\n",
       "      <td>4874.00</td>\n",
       "      <td>11188.00</td>\n",
       "      <td>9629.00</td>\n",
       "      <td>...</td>\n",
       "      <td>1277.00</td>\n",
       "      <td>1020.00</td>\n",
       "      <td>2214.00</td>\n",
       "      <td>2771.00</td>\n",
       "      <td>3809.00</td>\n",
       "      <td>5563.00</td>\n",
       "      <td>3485.00</td>\n",
       "      <td>3025.00</td>\n",
       "      <td>1233.00</td>\n",
       "      <td>1428.00</td>\n",
       "    </tr>\n",
       "    <tr>\n",
       "      <th>1</th>\n",
       "      <td>8600000US13440</td>\n",
       "      <td>41014.00</td>\n",
       "      <td>104.20</td>\n",
       "      <td>2673.00</td>\n",
       "      <td>2497.00</td>\n",
       "      <td>2254.00</td>\n",
       "      <td>1832.00</td>\n",
       "      <td>2360.00</td>\n",
       "      <td>6157.00</td>\n",
       "      <td>4432.00</td>\n",
       "      <td>...</td>\n",
       "      <td>1227.00</td>\n",
       "      <td>842.00</td>\n",
       "      <td>1804.00</td>\n",
       "      <td>1798.00</td>\n",
       "      <td>1961.00</td>\n",
       "      <td>3345.00</td>\n",
       "      <td>1908.00</td>\n",
       "      <td>2095.00</td>\n",
       "      <td>779.00</td>\n",
       "      <td>502.00</td>\n",
       "    </tr>\n",
       "    <tr>\n",
       "      <th>2</th>\n",
       "      <td>8600000US98034</td>\n",
       "      <td>43471.00</td>\n",
       "      <td>98.80</td>\n",
       "      <td>2813.00</td>\n",
       "      <td>2485.00</td>\n",
       "      <td>2426.00</td>\n",
       "      <td>1846.00</td>\n",
       "      <td>2392.00</td>\n",
       "      <td>8207.00</td>\n",
       "      <td>6852.00</td>\n",
       "      <td>...</td>\n",
       "      <td>NaN</td>\n",
       "      <td>NaN</td>\n",
       "      <td>NaN</td>\n",
       "      <td>NaN</td>\n",
       "      <td>NaN</td>\n",
       "      <td>NaN</td>\n",
       "      <td>NaN</td>\n",
       "      <td>NaN</td>\n",
       "      <td>NaN</td>\n",
       "      <td>NaN</td>\n",
       "    </tr>\n",
       "    <tr>\n",
       "      <th>3</th>\n",
       "      <td>8600000US30342</td>\n",
       "      <td>30873.00</td>\n",
       "      <td>94.00</td>\n",
       "      <td>1963.00</td>\n",
       "      <td>2322.00</td>\n",
       "      <td>2150.00</td>\n",
       "      <td>1701.00</td>\n",
       "      <td>1638.00</td>\n",
       "      <td>6419.00</td>\n",
       "      <td>4496.00</td>\n",
       "      <td>...</td>\n",
       "      <td>NaN</td>\n",
       "      <td>NaN</td>\n",
       "      <td>NaN</td>\n",
       "      <td>NaN</td>\n",
       "      <td>NaN</td>\n",
       "      <td>NaN</td>\n",
       "      <td>NaN</td>\n",
       "      <td>NaN</td>\n",
       "      <td>NaN</td>\n",
       "      <td>NaN</td>\n",
       "    </tr>\n",
       "    <tr>\n",
       "      <th>4</th>\n",
       "      <td>8600000US61469</td>\n",
       "      <td>2213.00</td>\n",
       "      <td>101.90</td>\n",
       "      <td>46.00</td>\n",
       "      <td>71.00</td>\n",
       "      <td>142.00</td>\n",
       "      <td>143.00</td>\n",
       "      <td>152.00</td>\n",
       "      <td>195.00</td>\n",
       "      <td>214.00</td>\n",
       "      <td>...</td>\n",
       "      <td>16.00</td>\n",
       "      <td>72.00</td>\n",
       "      <td>133.00</td>\n",
       "      <td>108.00</td>\n",
       "      <td>175.00</td>\n",
       "      <td>287.00</td>\n",
       "      <td>112.00</td>\n",
       "      <td>107.00</td>\n",
       "      <td>10.00</td>\n",
       "      <td>0.00</td>\n",
       "    </tr>\n",
       "    <tr>\n",
       "      <th>...</th>\n",
       "      <td>...</td>\n",
       "      <td>...</td>\n",
       "      <td>...</td>\n",
       "      <td>...</td>\n",
       "      <td>...</td>\n",
       "      <td>...</td>\n",
       "      <td>...</td>\n",
       "      <td>...</td>\n",
       "      <td>...</td>\n",
       "      <td>...</td>\n",
       "      <td>...</td>\n",
       "      <td>...</td>\n",
       "      <td>...</td>\n",
       "      <td>...</td>\n",
       "      <td>...</td>\n",
       "      <td>...</td>\n",
       "      <td>...</td>\n",
       "      <td>...</td>\n",
       "      <td>...</td>\n",
       "      <td>...</td>\n",
       "      <td>...</td>\n",
       "    </tr>\n",
       "    <tr>\n",
       "      <th>113</th>\n",
       "      <td>&lt;NA&gt;</td>\n",
       "      <td>NaN</td>\n",
       "      <td>NaN</td>\n",
       "      <td>NaN</td>\n",
       "      <td>NaN</td>\n",
       "      <td>NaN</td>\n",
       "      <td>NaN</td>\n",
       "      <td>NaN</td>\n",
       "      <td>NaN</td>\n",
       "      <td>NaN</td>\n",
       "      <td>...</td>\n",
       "      <td>NaN</td>\n",
       "      <td>NaN</td>\n",
       "      <td>NaN</td>\n",
       "      <td>NaN</td>\n",
       "      <td>NaN</td>\n",
       "      <td>NaN</td>\n",
       "      <td>NaN</td>\n",
       "      <td>NaN</td>\n",
       "      <td>NaN</td>\n",
       "      <td>NaN</td>\n",
       "    </tr>\n",
       "    <tr>\n",
       "      <th>114</th>\n",
       "      <td>8600000US13421</td>\n",
       "      <td>13149.00</td>\n",
       "      <td>90.60</td>\n",
       "      <td>852.00</td>\n",
       "      <td>840.00</td>\n",
       "      <td>698.00</td>\n",
       "      <td>684.00</td>\n",
       "      <td>541.00</td>\n",
       "      <td>1875.00</td>\n",
       "      <td>1270.00</td>\n",
       "      <td>...</td>\n",
       "      <td>495.00</td>\n",
       "      <td>222.00</td>\n",
       "      <td>540.00</td>\n",
       "      <td>480.00</td>\n",
       "      <td>786.00</td>\n",
       "      <td>1119.00</td>\n",
       "      <td>509.00</td>\n",
       "      <td>929.00</td>\n",
       "      <td>192.00</td>\n",
       "      <td>132.00</td>\n",
       "    </tr>\n",
       "    <tr>\n",
       "      <th>115</th>\n",
       "      <td>8600000US13304</td>\n",
       "      <td>1617.00</td>\n",
       "      <td>95.80</td>\n",
       "      <td>51.00</td>\n",
       "      <td>124.00</td>\n",
       "      <td>86.00</td>\n",
       "      <td>52.00</td>\n",
       "      <td>91.00</td>\n",
       "      <td>103.00</td>\n",
       "      <td>219.00</td>\n",
       "      <td>...</td>\n",
       "      <td>21.00</td>\n",
       "      <td>21.00</td>\n",
       "      <td>67.00</td>\n",
       "      <td>62.00</td>\n",
       "      <td>77.00</td>\n",
       "      <td>60.00</td>\n",
       "      <td>129.00</td>\n",
       "      <td>64.00</td>\n",
       "      <td>103.00</td>\n",
       "      <td>93.00</td>\n",
       "    </tr>\n",
       "    <tr>\n",
       "      <th>116</th>\n",
       "      <td>8600000US52806</td>\n",
       "      <td>28288.00</td>\n",
       "      <td>85.80</td>\n",
       "      <td>2111.00</td>\n",
       "      <td>1991.00</td>\n",
       "      <td>2127.00</td>\n",
       "      <td>1519.00</td>\n",
       "      <td>1476.00</td>\n",
       "      <td>4062.00</td>\n",
       "      <td>3282.00</td>\n",
       "      <td>...</td>\n",
       "      <td>643.00</td>\n",
       "      <td>581.00</td>\n",
       "      <td>1249.00</td>\n",
       "      <td>907.00</td>\n",
       "      <td>1668.00</td>\n",
       "      <td>2089.00</td>\n",
       "      <td>1435.00</td>\n",
       "      <td>1639.00</td>\n",
       "      <td>451.00</td>\n",
       "      <td>226.00</td>\n",
       "    </tr>\n",
       "    <tr>\n",
       "      <th>117</th>\n",
       "      <td>8600000US94520</td>\n",
       "      <td>38753.00</td>\n",
       "      <td>108.20</td>\n",
       "      <td>2818.00</td>\n",
       "      <td>2446.00</td>\n",
       "      <td>2193.00</td>\n",
       "      <td>2198.00</td>\n",
       "      <td>2619.00</td>\n",
       "      <td>7190.00</td>\n",
       "      <td>6045.00</td>\n",
       "      <td>...</td>\n",
       "      <td>802.00</td>\n",
       "      <td>583.00</td>\n",
       "      <td>1098.00</td>\n",
       "      <td>1072.00</td>\n",
       "      <td>2024.00</td>\n",
       "      <td>2356.00</td>\n",
       "      <td>1948.00</td>\n",
       "      <td>2306.00</td>\n",
       "      <td>961.00</td>\n",
       "      <td>519.00</td>\n",
       "    </tr>\n",
       "  </tbody>\n",
       "</table>\n",
       "<p>118 rows × 27 columns</p>\n",
       "</div>"
      ],
      "text/plain": [
       "                 Id  TotalPopulation  SexRatiomalesper100females  \\\n",
       "0    8600000US30096         68691.00                       89.00   \n",
       "1    8600000US13440         41014.00                      104.20   \n",
       "2    8600000US98034         43471.00                       98.80   \n",
       "3    8600000US30342         30873.00                       94.00   \n",
       "4    8600000US61469          2213.00                      101.90   \n",
       "..              ...              ...                         ...   \n",
       "113            <NA>              NaN                         NaN   \n",
       "114  8600000US13421         13149.00                       90.60   \n",
       "115  8600000US13304          1617.00                       95.80   \n",
       "116  8600000US52806         28288.00                       85.80   \n",
       "117  8600000US94520         38753.00                      108.20   \n",
       "\n",
       "     PopulationUnder5Years  Population5to9Years  Population10to14Years  \\\n",
       "0                  4335.00              4376.00                4749.00   \n",
       "1                  2673.00              2497.00                2254.00   \n",
       "2                  2813.00              2485.00                2426.00   \n",
       "3                  1963.00              2322.00                2150.00   \n",
       "4                    46.00                71.00                 142.00   \n",
       "..                     ...                  ...                    ...   \n",
       "113                    NaN                  NaN                    NaN   \n",
       "114                 852.00               840.00                 698.00   \n",
       "115                  51.00               124.00                  86.00   \n",
       "116                2111.00              1991.00                2127.00   \n",
       "117                2818.00              2446.00                2193.00   \n",
       "\n",
       "     Population15to19Years  Population20to24Years  Population25to34Years  \\\n",
       "0                  4130.00                4874.00               11188.00   \n",
       "1                  1832.00                2360.00                6157.00   \n",
       "2                  1846.00                2392.00                8207.00   \n",
       "3                  1701.00                1638.00                6419.00   \n",
       "4                   143.00                 152.00                 195.00   \n",
       "..                     ...                    ...                    ...   \n",
       "113                    NaN                    NaN                    NaN   \n",
       "114                 684.00                 541.00                1875.00   \n",
       "115                  52.00                  91.00                 103.00   \n",
       "116                1519.00                1476.00                4062.00   \n",
       "117                2198.00                2619.00                7190.00   \n",
       "\n",
       "     Population35to44Years  ...  TotalHouseholds_LessThan$10.000  \\\n",
       "0                  9629.00  ...                          1277.00   \n",
       "1                  4432.00  ...                          1227.00   \n",
       "2                  6852.00  ...                              NaN   \n",
       "3                  4496.00  ...                              NaN   \n",
       "4                   214.00  ...                            16.00   \n",
       "..                     ...  ...                              ...   \n",
       "113                    NaN  ...                              NaN   \n",
       "114                1270.00  ...                           495.00   \n",
       "115                 219.00  ...                            21.00   \n",
       "116                3282.00  ...                           643.00   \n",
       "117                6045.00  ...                           802.00   \n",
       "\n",
       "     TotalHouseholds_$10.000to$14.999  TotalHouseholds_$15.000to$24.999  \\\n",
       "0                             1020.00                           2214.00   \n",
       "1                              842.00                           1804.00   \n",
       "2                                 NaN                               NaN   \n",
       "3                                 NaN                               NaN   \n",
       "4                               72.00                            133.00   \n",
       "..                                ...                               ...   \n",
       "113                               NaN                               NaN   \n",
       "114                            222.00                            540.00   \n",
       "115                             21.00                             67.00   \n",
       "116                            581.00                           1249.00   \n",
       "117                            583.00                           1098.00   \n",
       "\n",
       "     TotalHouseholds_$25.000to$34.999  TotalHouseholds_$35.000to$49.999  \\\n",
       "0                             2771.00                           3809.00   \n",
       "1                             1798.00                           1961.00   \n",
       "2                                 NaN                               NaN   \n",
       "3                                 NaN                               NaN   \n",
       "4                              108.00                            175.00   \n",
       "..                                ...                               ...   \n",
       "113                               NaN                               NaN   \n",
       "114                            480.00                            786.00   \n",
       "115                             62.00                             77.00   \n",
       "116                            907.00                           1668.00   \n",
       "117                           1072.00                           2024.00   \n",
       "\n",
       "     TotalHouseholds_$50.000to$74.999  TotalHouseholds_$75.000to$99.999  \\\n",
       "0                             5563.00                           3485.00   \n",
       "1                             3345.00                           1908.00   \n",
       "2                                 NaN                               NaN   \n",
       "3                                 NaN                               NaN   \n",
       "4                              287.00                            112.00   \n",
       "..                                ...                               ...   \n",
       "113                               NaN                               NaN   \n",
       "114                           1119.00                            509.00   \n",
       "115                             60.00                            129.00   \n",
       "116                           2089.00                           1435.00   \n",
       "117                           2356.00                           1948.00   \n",
       "\n",
       "     TotalHouseholds_$100.000to$149.999  TotalHouseholds_$150.000to$199.999  \\\n",
       "0                               3025.00                             1233.00   \n",
       "1                               2095.00                              779.00   \n",
       "2                                   NaN                                 NaN   \n",
       "3                                   NaN                                 NaN   \n",
       "4                                107.00                               10.00   \n",
       "..                                  ...                                 ...   \n",
       "113                                 NaN                                 NaN   \n",
       "114                              929.00                              192.00   \n",
       "115                               64.00                              103.00   \n",
       "116                             1639.00                              451.00   \n",
       "117                             2306.00                              961.00   \n",
       "\n",
       "     TotalHouseholds_$200.000OrMore  \n",
       "0                           1428.00  \n",
       "1                            502.00  \n",
       "2                               NaN  \n",
       "3                               NaN  \n",
       "4                              0.00  \n",
       "..                              ...  \n",
       "113                             NaN  \n",
       "114                          132.00  \n",
       "115                           93.00  \n",
       "116                          226.00  \n",
       "117                          519.00  \n",
       "\n",
       "[118 rows x 27 columns]"
      ]
     },
     "execution_count": 1221,
     "metadata": {},
     "output_type": "execute_result"
    }
   ],
   "source": [
    "df_geocode.loc[:, df_geocode.isna().any()]"
   ]
  },
  {
   "cell_type": "code",
   "execution_count": 1113,
   "metadata": {},
   "outputs": [
    {
     "data": {
      "text/html": [
       "<div>\n",
       "<style scoped>\n",
       "    .dataframe tbody tr th:only-of-type {\n",
       "        vertical-align: middle;\n",
       "    }\n",
       "\n",
       "    .dataframe tbody tr th {\n",
       "        vertical-align: top;\n",
       "    }\n",
       "\n",
       "    .dataframe thead th {\n",
       "        text-align: right;\n",
       "    }\n",
       "</style>\n",
       "<table border=\"1\" class=\"dataframe\">\n",
       "  <thead>\n",
       "    <tr style=\"text-align: right;\">\n",
       "      <th></th>\n",
       "      <th>LabId</th>\n",
       "      <th>Address</th>\n",
       "      <th>Zipcode</th>\n",
       "      <th>Latitude</th>\n",
       "      <th>Longitude</th>\n",
       "      <th>Id</th>\n",
       "      <th>TotalPopulation</th>\n",
       "      <th>SexRatiomalesper100females</th>\n",
       "      <th>PopulationUnder5Years</th>\n",
       "      <th>Population5to9Years</th>\n",
       "      <th>...</th>\n",
       "      <th>TotalHouseholds_LessThan$10.000</th>\n",
       "      <th>TotalHouseholds_$10.000to$14.999</th>\n",
       "      <th>TotalHouseholds_$15.000to$24.999</th>\n",
       "      <th>TotalHouseholds_$25.000to$34.999</th>\n",
       "      <th>TotalHouseholds_$35.000to$49.999</th>\n",
       "      <th>TotalHouseholds_$50.000to$74.999</th>\n",
       "      <th>TotalHouseholds_$75.000to$99.999</th>\n",
       "      <th>TotalHouseholds_$100.000to$149.999</th>\n",
       "      <th>TotalHouseholds_$150.000to$199.999</th>\n",
       "      <th>TotalHouseholds_$200.000OrMore</th>\n",
       "    </tr>\n",
       "  </thead>\n",
       "  <tbody>\n",
       "    <tr>\n",
       "      <th>0</th>\n",
       "      <td>L152</td>\n",
       "      <td>3800 PLEASANT HILL RD STE 1, DULUTH, GA 30096</td>\n",
       "      <td>30096</td>\n",
       "      <td>34.00</td>\n",
       "      <td>-84.16</td>\n",
       "      <td>8600000US30096</td>\n",
       "      <td>68691.00</td>\n",
       "      <td>89.00</td>\n",
       "      <td>4335.00</td>\n",
       "      <td>4376.00</td>\n",
       "      <td>...</td>\n",
       "      <td>NaN</td>\n",
       "      <td>NaN</td>\n",
       "      <td>NaN</td>\n",
       "      <td>NaN</td>\n",
       "      <td>NaN</td>\n",
       "      <td>NaN</td>\n",
       "      <td>NaN</td>\n",
       "      <td>NaN</td>\n",
       "      <td>NaN</td>\n",
       "      <td>NaN</td>\n",
       "    </tr>\n",
       "    <tr>\n",
       "      <th>1</th>\n",
       "      <td>L520</td>\n",
       "      <td>1614 N JAMES ST, ROME, NY 13440</td>\n",
       "      <td>13440</td>\n",
       "      <td>43.23</td>\n",
       "      <td>-75.44</td>\n",
       "      <td>8600000US13440</td>\n",
       "      <td>41014.00</td>\n",
       "      <td>104.20</td>\n",
       "      <td>2673.00</td>\n",
       "      <td>2497.00</td>\n",
       "      <td>...</td>\n",
       "      <td>1227.00</td>\n",
       "      <td>842.00</td>\n",
       "      <td>1804.00</td>\n",
       "      <td>1798.00</td>\n",
       "      <td>1961.00</td>\n",
       "      <td>3345.00</td>\n",
       "      <td>1908.00</td>\n",
       "      <td>2095.00</td>\n",
       "      <td>779.00</td>\n",
       "      <td>502.00</td>\n",
       "    </tr>\n",
       "    <tr>\n",
       "      <th>2</th>\n",
       "      <td>L141</td>\n",
       "      <td>12911 120TH AVE NE STE D60, KIRKLAND, WA 98034</td>\n",
       "      <td>98034</td>\n",
       "      <td>47.72</td>\n",
       "      <td>-122.18</td>\n",
       "      <td>8600000US98034</td>\n",
       "      <td>43471.00</td>\n",
       "      <td>98.80</td>\n",
       "      <td>2813.00</td>\n",
       "      <td>2485.00</td>\n",
       "      <td>...</td>\n",
       "      <td>NaN</td>\n",
       "      <td>NaN</td>\n",
       "      <td>NaN</td>\n",
       "      <td>NaN</td>\n",
       "      <td>NaN</td>\n",
       "      <td>NaN</td>\n",
       "      <td>NaN</td>\n",
       "      <td>NaN</td>\n",
       "      <td>NaN</td>\n",
       "      <td>NaN</td>\n",
       "    </tr>\n",
       "    <tr>\n",
       "      <th>3</th>\n",
       "      <td>L524</td>\n",
       "      <td>5667 PEACHTREE DUNWOODY RD 250, ATLANTA, GA 30342</td>\n",
       "      <td>30342</td>\n",
       "      <td>33.91</td>\n",
       "      <td>-84.35</td>\n",
       "      <td>8600000US30342</td>\n",
       "      <td>30873.00</td>\n",
       "      <td>94.00</td>\n",
       "      <td>1963.00</td>\n",
       "      <td>2322.00</td>\n",
       "      <td>...</td>\n",
       "      <td>NaN</td>\n",
       "      <td>NaN</td>\n",
       "      <td>NaN</td>\n",
       "      <td>NaN</td>\n",
       "      <td>NaN</td>\n",
       "      <td>NaN</td>\n",
       "      <td>NaN</td>\n",
       "      <td>NaN</td>\n",
       "      <td>NaN</td>\n",
       "      <td>NaN</td>\n",
       "    </tr>\n",
       "    <tr>\n",
       "      <th>4</th>\n",
       "      <td>L545</td>\n",
       "      <td>1204 IL HWY 164, OQUAWKA, IL 61469</td>\n",
       "      <td>61469</td>\n",
       "      <td>40.93</td>\n",
       "      <td>-90.94</td>\n",
       "      <td>8600000US61469</td>\n",
       "      <td>2213.00</td>\n",
       "      <td>101.90</td>\n",
       "      <td>46.00</td>\n",
       "      <td>71.00</td>\n",
       "      <td>...</td>\n",
       "      <td>16.00</td>\n",
       "      <td>72.00</td>\n",
       "      <td>133.00</td>\n",
       "      <td>108.00</td>\n",
       "      <td>175.00</td>\n",
       "      <td>287.00</td>\n",
       "      <td>112.00</td>\n",
       "      <td>107.00</td>\n",
       "      <td>10.00</td>\n",
       "      <td>0.00</td>\n",
       "    </tr>\n",
       "    <tr>\n",
       "      <th>...</th>\n",
       "      <td>...</td>\n",
       "      <td>...</td>\n",
       "      <td>...</td>\n",
       "      <td>...</td>\n",
       "      <td>...</td>\n",
       "      <td>...</td>\n",
       "      <td>...</td>\n",
       "      <td>...</td>\n",
       "      <td>...</td>\n",
       "      <td>...</td>\n",
       "      <td>...</td>\n",
       "      <td>...</td>\n",
       "      <td>...</td>\n",
       "      <td>...</td>\n",
       "      <td>...</td>\n",
       "      <td>...</td>\n",
       "      <td>...</td>\n",
       "      <td>...</td>\n",
       "      <td>...</td>\n",
       "      <td>...</td>\n",
       "      <td>...</td>\n",
       "    </tr>\n",
       "    <tr>\n",
       "      <th>113</th>\n",
       "      <td>L886</td>\n",
       "      <td>1819 MARLTON PIKE W., CHERRY HILL, NJ 08002</td>\n",
       "      <td>8002</td>\n",
       "      <td>39.92</td>\n",
       "      <td>-75.04</td>\n",
       "      <td>&lt;NA&gt;</td>\n",
       "      <td>NaN</td>\n",
       "      <td>NaN</td>\n",
       "      <td>NaN</td>\n",
       "      <td>NaN</td>\n",
       "      <td>...</td>\n",
       "      <td>NaN</td>\n",
       "      <td>NaN</td>\n",
       "      <td>NaN</td>\n",
       "      <td>NaN</td>\n",
       "      <td>NaN</td>\n",
       "      <td>NaN</td>\n",
       "      <td>NaN</td>\n",
       "      <td>NaN</td>\n",
       "      <td>NaN</td>\n",
       "      <td>NaN</td>\n",
       "    </tr>\n",
       "    <tr>\n",
       "      <th>114</th>\n",
       "      <td>L535</td>\n",
       "      <td>603 SENECA ST 4, ONEIDA, NY 13421</td>\n",
       "      <td>13421</td>\n",
       "      <td>43.08</td>\n",
       "      <td>-75.65</td>\n",
       "      <td>8600000US13421</td>\n",
       "      <td>13149.00</td>\n",
       "      <td>90.60</td>\n",
       "      <td>852.00</td>\n",
       "      <td>840.00</td>\n",
       "      <td>...</td>\n",
       "      <td>495.00</td>\n",
       "      <td>222.00</td>\n",
       "      <td>540.00</td>\n",
       "      <td>480.00</td>\n",
       "      <td>786.00</td>\n",
       "      <td>1119.00</td>\n",
       "      <td>509.00</td>\n",
       "      <td>929.00</td>\n",
       "      <td>192.00</td>\n",
       "      <td>132.00</td>\n",
       "    </tr>\n",
       "    <tr>\n",
       "      <th>115</th>\n",
       "      <td>L723</td>\n",
       "      <td>8052 STATE ROUTE 12, BARNEVELD, NY 13304</td>\n",
       "      <td>13304</td>\n",
       "      <td>43.25</td>\n",
       "      <td>-75.19</td>\n",
       "      <td>8600000US13304</td>\n",
       "      <td>1617.00</td>\n",
       "      <td>95.80</td>\n",
       "      <td>51.00</td>\n",
       "      <td>124.00</td>\n",
       "      <td>...</td>\n",
       "      <td>21.00</td>\n",
       "      <td>21.00</td>\n",
       "      <td>67.00</td>\n",
       "      <td>62.00</td>\n",
       "      <td>77.00</td>\n",
       "      <td>60.00</td>\n",
       "      <td>129.00</td>\n",
       "      <td>64.00</td>\n",
       "      <td>103.00</td>\n",
       "      <td>93.00</td>\n",
       "    </tr>\n",
       "    <tr>\n",
       "      <th>116</th>\n",
       "      <td>L163</td>\n",
       "      <td>3906 LILLIE AVE STE 3, DAVENPORT, IA 52806</td>\n",
       "      <td>52806</td>\n",
       "      <td>41.56</td>\n",
       "      <td>-90.59</td>\n",
       "      <td>8600000US52806</td>\n",
       "      <td>28288.00</td>\n",
       "      <td>85.80</td>\n",
       "      <td>2111.00</td>\n",
       "      <td>1991.00</td>\n",
       "      <td>...</td>\n",
       "      <td>643.00</td>\n",
       "      <td>581.00</td>\n",
       "      <td>1249.00</td>\n",
       "      <td>907.00</td>\n",
       "      <td>1668.00</td>\n",
       "      <td>2089.00</td>\n",
       "      <td>1435.00</td>\n",
       "      <td>1639.00</td>\n",
       "      <td>451.00</td>\n",
       "      <td>226.00</td>\n",
       "    </tr>\n",
       "    <tr>\n",
       "      <th>117</th>\n",
       "      <td>L967</td>\n",
       "      <td>2700 GRANT ST. SUITE 107, CONCORD, CA 94520</td>\n",
       "      <td>94520</td>\n",
       "      <td>37.98</td>\n",
       "      <td>-122.04</td>\n",
       "      <td>8600000US94520</td>\n",
       "      <td>38753.00</td>\n",
       "      <td>108.20</td>\n",
       "      <td>2818.00</td>\n",
       "      <td>2446.00</td>\n",
       "      <td>...</td>\n",
       "      <td>802.00</td>\n",
       "      <td>583.00</td>\n",
       "      <td>1098.00</td>\n",
       "      <td>1072.00</td>\n",
       "      <td>2024.00</td>\n",
       "      <td>2356.00</td>\n",
       "      <td>1948.00</td>\n",
       "      <td>2306.00</td>\n",
       "      <td>961.00</td>\n",
       "      <td>519.00</td>\n",
       "    </tr>\n",
       "  </tbody>\n",
       "</table>\n",
       "<p>118 rows × 32 columns</p>\n",
       "</div>"
      ],
      "text/plain": [
       "    LabId                                            Address Zipcode  \\\n",
       "0    L152      3800 PLEASANT HILL RD STE 1, DULUTH, GA 30096   30096   \n",
       "1    L520                    1614 N JAMES ST, ROME, NY 13440   13440   \n",
       "2    L141     12911 120TH AVE NE STE D60, KIRKLAND, WA 98034   98034   \n",
       "3    L524  5667 PEACHTREE DUNWOODY RD 250, ATLANTA, GA 30342   30342   \n",
       "4    L545                 1204 IL HWY 164, OQUAWKA, IL 61469   61469   \n",
       "..    ...                                                ...     ...   \n",
       "113  L886        1819 MARLTON PIKE W., CHERRY HILL, NJ 08002    8002   \n",
       "114  L535                  603 SENECA ST 4, ONEIDA, NY 13421   13421   \n",
       "115  L723           8052 STATE ROUTE 12, BARNEVELD, NY 13304   13304   \n",
       "116  L163         3906 LILLIE AVE STE 3, DAVENPORT, IA 52806   52806   \n",
       "117  L967        2700 GRANT ST. SUITE 107, CONCORD, CA 94520   94520   \n",
       "\n",
       "     Latitude  Longitude              Id  TotalPopulation  \\\n",
       "0       34.00     -84.16  8600000US30096         68691.00   \n",
       "1       43.23     -75.44  8600000US13440         41014.00   \n",
       "2       47.72    -122.18  8600000US98034         43471.00   \n",
       "3       33.91     -84.35  8600000US30342         30873.00   \n",
       "4       40.93     -90.94  8600000US61469          2213.00   \n",
       "..        ...        ...             ...              ...   \n",
       "113     39.92     -75.04            <NA>              NaN   \n",
       "114     43.08     -75.65  8600000US13421         13149.00   \n",
       "115     43.25     -75.19  8600000US13304          1617.00   \n",
       "116     41.56     -90.59  8600000US52806         28288.00   \n",
       "117     37.98    -122.04  8600000US94520         38753.00   \n",
       "\n",
       "     SexRatiomalesper100females  PopulationUnder5Years  Population5to9Years  \\\n",
       "0                         89.00                4335.00              4376.00   \n",
       "1                        104.20                2673.00              2497.00   \n",
       "2                         98.80                2813.00              2485.00   \n",
       "3                         94.00                1963.00              2322.00   \n",
       "4                        101.90                  46.00                71.00   \n",
       "..                          ...                    ...                  ...   \n",
       "113                         NaN                    NaN                  NaN   \n",
       "114                       90.60                 852.00               840.00   \n",
       "115                       95.80                  51.00               124.00   \n",
       "116                       85.80                2111.00              1991.00   \n",
       "117                      108.20                2818.00              2446.00   \n",
       "\n",
       "     ...  TotalHouseholds_LessThan$10.000  TotalHouseholds_$10.000to$14.999  \\\n",
       "0    ...                              NaN                               NaN   \n",
       "1    ...                          1227.00                            842.00   \n",
       "2    ...                              NaN                               NaN   \n",
       "3    ...                              NaN                               NaN   \n",
       "4    ...                            16.00                             72.00   \n",
       "..   ...                              ...                               ...   \n",
       "113  ...                              NaN                               NaN   \n",
       "114  ...                           495.00                            222.00   \n",
       "115  ...                            21.00                             21.00   \n",
       "116  ...                           643.00                            581.00   \n",
       "117  ...                           802.00                            583.00   \n",
       "\n",
       "     TotalHouseholds_$15.000to$24.999  TotalHouseholds_$25.000to$34.999  \\\n",
       "0                                 NaN                               NaN   \n",
       "1                             1804.00                           1798.00   \n",
       "2                                 NaN                               NaN   \n",
       "3                                 NaN                               NaN   \n",
       "4                              133.00                            108.00   \n",
       "..                                ...                               ...   \n",
       "113                               NaN                               NaN   \n",
       "114                            540.00                            480.00   \n",
       "115                             67.00                             62.00   \n",
       "116                           1249.00                            907.00   \n",
       "117                           1098.00                           1072.00   \n",
       "\n",
       "     TotalHouseholds_$35.000to$49.999  TotalHouseholds_$50.000to$74.999  \\\n",
       "0                                 NaN                               NaN   \n",
       "1                             1961.00                           3345.00   \n",
       "2                                 NaN                               NaN   \n",
       "3                                 NaN                               NaN   \n",
       "4                              175.00                            287.00   \n",
       "..                                ...                               ...   \n",
       "113                               NaN                               NaN   \n",
       "114                            786.00                           1119.00   \n",
       "115                             77.00                             60.00   \n",
       "116                           1668.00                           2089.00   \n",
       "117                           2024.00                           2356.00   \n",
       "\n",
       "     TotalHouseholds_$75.000to$99.999  TotalHouseholds_$100.000to$149.999  \\\n",
       "0                                 NaN                                 NaN   \n",
       "1                             1908.00                             2095.00   \n",
       "2                                 NaN                                 NaN   \n",
       "3                                 NaN                                 NaN   \n",
       "4                              112.00                              107.00   \n",
       "..                                ...                                 ...   \n",
       "113                               NaN                                 NaN   \n",
       "114                            509.00                              929.00   \n",
       "115                            129.00                               64.00   \n",
       "116                           1435.00                             1639.00   \n",
       "117                           1948.00                             2306.00   \n",
       "\n",
       "     TotalHouseholds_$150.000to$199.999  TotalHouseholds_$200.000OrMore  \n",
       "0                                   NaN                             NaN  \n",
       "1                                779.00                          502.00  \n",
       "2                                   NaN                             NaN  \n",
       "3                                   NaN                             NaN  \n",
       "4                                 10.00                            0.00  \n",
       "..                                  ...                             ...  \n",
       "113                                 NaN                             NaN  \n",
       "114                              192.00                          132.00  \n",
       "115                              103.00                           93.00  \n",
       "116                              451.00                          226.00  \n",
       "117                              961.00                          519.00  \n",
       "\n",
       "[118 rows x 32 columns]"
      ]
     },
     "execution_count": 1113,
     "metadata": {},
     "output_type": "execute_result"
    }
   ],
   "source": [
    "df_geocode"
   ]
  },
  {
   "cell_type": "code",
   "execution_count": 1108,
   "metadata": {},
   "outputs": [
    {
     "ename": "IntCastingNaNError",
     "evalue": "Cannot convert non-finite values (NA or inf) to integer",
     "output_type": "error",
     "traceback": [
      "\u001b[0;31m---------------------------------------------------------------------------\u001b[0m",
      "\u001b[0;31mIntCastingNaNError\u001b[0m                        Traceback (most recent call last)",
      "\u001b[1;32m/home/augusto/Documents/case-EloGroup/src/analisys.ipynb Cell 180\u001b[0m in \u001b[0;36m<cell line: 15>\u001b[0;34m()\u001b[0m\n\u001b[1;32m      <a href='vscode-notebook-cell://wsl%2Bubuntu/home/augusto/Documents/case-EloGroup/src/analisys.ipynb#Y324sdnNjb2RlLXJlbW90ZQ%3D%3D?line=0'>1</a>\u001b[0m \u001b[39m# Corrigindo os tipos dos dados após o join\u001b[39;00m\n\u001b[1;32m      <a href='vscode-notebook-cell://wsl%2Bubuntu/home/augusto/Documents/case-EloGroup/src/analisys.ipynb#Y324sdnNjb2RlLXJlbW90ZQ%3D%3D?line=2'>3</a>\u001b[0m cols \u001b[39m=\u001b[39m [\u001b[39m'\u001b[39m\u001b[39mTotalPopulation\u001b[39m\u001b[39m'\u001b[39m,\u001b[39m'\u001b[39m\u001b[39mPopulationUnder5Years\u001b[39m\u001b[39m'\u001b[39m, \n\u001b[1;32m      <a href='vscode-notebook-cell://wsl%2Bubuntu/home/augusto/Documents/case-EloGroup/src/analisys.ipynb#Y324sdnNjb2RlLXJlbW90ZQ%3D%3D?line=3'>4</a>\u001b[0m        \u001b[39m'\u001b[39m\u001b[39mPopulation5to9Years\u001b[39m\u001b[39m'\u001b[39m, \u001b[39m'\u001b[39m\u001b[39mPopulation10to14Years\u001b[39m\u001b[39m'\u001b[39m,\n\u001b[1;32m      <a href='vscode-notebook-cell://wsl%2Bubuntu/home/augusto/Documents/case-EloGroup/src/analisys.ipynb#Y324sdnNjb2RlLXJlbW90ZQ%3D%3D?line=4'>5</a>\u001b[0m        \u001b[39m'\u001b[39m\u001b[39mPopulation15to19Years\u001b[39m\u001b[39m'\u001b[39m, \u001b[39m'\u001b[39m\u001b[39mPopulation20to24Years\u001b[39m\u001b[39m'\u001b[39m,\n\u001b[0;32m   (...)\u001b[0m\n\u001b[1;32m     <a href='vscode-notebook-cell://wsl%2Bubuntu/home/augusto/Documents/case-EloGroup/src/analisys.ipynb#Y324sdnNjb2RlLXJlbW90ZQ%3D%3D?line=12'>13</a>\u001b[0m        \u001b[39m'\u001b[39m\u001b[39mTotalHouseholds_$75.000to$99.999\u001b[39m\u001b[39m'\u001b[39m, \u001b[39m'\u001b[39m\u001b[39mTotalHouseholds_$100.000to$149.999\u001b[39m\u001b[39m'\u001b[39m,\n\u001b[1;32m     <a href='vscode-notebook-cell://wsl%2Bubuntu/home/augusto/Documents/case-EloGroup/src/analisys.ipynb#Y324sdnNjb2RlLXJlbW90ZQ%3D%3D?line=13'>14</a>\u001b[0m        \u001b[39m'\u001b[39m\u001b[39mTotalHouseholds_$150.000to$199.999\u001b[39m\u001b[39m'\u001b[39m, \u001b[39m'\u001b[39m\u001b[39mTotalHouseholds_$200.000OrMore\u001b[39m\u001b[39m'\u001b[39m]\n\u001b[0;32m---> <a href='vscode-notebook-cell://wsl%2Bubuntu/home/augusto/Documents/case-EloGroup/src/analisys.ipynb#Y324sdnNjb2RlLXJlbW90ZQ%3D%3D?line=14'>15</a>\u001b[0m df_geocode[cols] \u001b[39m=\u001b[39m df_geocode[cols]\u001b[39m.\u001b[39;49mastype(\u001b[39m\"\u001b[39;49m\u001b[39mint64\u001b[39;49m\u001b[39m\"\u001b[39;49m)\n",
      "File \u001b[0;32m~/anaconda3/lib/python3.9/site-packages/pandas/core/generic.py:5912\u001b[0m, in \u001b[0;36mNDFrame.astype\u001b[0;34m(self, dtype, copy, errors)\u001b[0m\n\u001b[1;32m   5905\u001b[0m     results \u001b[39m=\u001b[39m [\n\u001b[1;32m   5906\u001b[0m         \u001b[39mself\u001b[39m\u001b[39m.\u001b[39miloc[:, i]\u001b[39m.\u001b[39mastype(dtype, copy\u001b[39m=\u001b[39mcopy)\n\u001b[1;32m   5907\u001b[0m         \u001b[39mfor\u001b[39;00m i \u001b[39min\u001b[39;00m \u001b[39mrange\u001b[39m(\u001b[39mlen\u001b[39m(\u001b[39mself\u001b[39m\u001b[39m.\u001b[39mcolumns))\n\u001b[1;32m   5908\u001b[0m     ]\n\u001b[1;32m   5910\u001b[0m \u001b[39melse\u001b[39;00m:\n\u001b[1;32m   5911\u001b[0m     \u001b[39m# else, only a single dtype is given\u001b[39;00m\n\u001b[0;32m-> 5912\u001b[0m     new_data \u001b[39m=\u001b[39m \u001b[39mself\u001b[39;49m\u001b[39m.\u001b[39;49m_mgr\u001b[39m.\u001b[39;49mastype(dtype\u001b[39m=\u001b[39;49mdtype, copy\u001b[39m=\u001b[39;49mcopy, errors\u001b[39m=\u001b[39;49merrors)\n\u001b[1;32m   5913\u001b[0m     \u001b[39mreturn\u001b[39;00m \u001b[39mself\u001b[39m\u001b[39m.\u001b[39m_constructor(new_data)\u001b[39m.\u001b[39m__finalize__(\u001b[39mself\u001b[39m, method\u001b[39m=\u001b[39m\u001b[39m\"\u001b[39m\u001b[39mastype\u001b[39m\u001b[39m\"\u001b[39m)\n\u001b[1;32m   5915\u001b[0m \u001b[39m# GH 33113: handle empty frame or series\u001b[39;00m\n",
      "File \u001b[0;32m~/anaconda3/lib/python3.9/site-packages/pandas/core/internals/managers.py:419\u001b[0m, in \u001b[0;36mBaseBlockManager.astype\u001b[0;34m(self, dtype, copy, errors)\u001b[0m\n\u001b[1;32m    418\u001b[0m \u001b[39mdef\u001b[39;00m \u001b[39mastype\u001b[39m(\u001b[39mself\u001b[39m: T, dtype, copy: \u001b[39mbool\u001b[39m \u001b[39m=\u001b[39m \u001b[39mFalse\u001b[39;00m, errors: \u001b[39mstr\u001b[39m \u001b[39m=\u001b[39m \u001b[39m\"\u001b[39m\u001b[39mraise\u001b[39m\u001b[39m\"\u001b[39m) \u001b[39m-\u001b[39m\u001b[39m>\u001b[39m T:\n\u001b[0;32m--> 419\u001b[0m     \u001b[39mreturn\u001b[39;00m \u001b[39mself\u001b[39;49m\u001b[39m.\u001b[39;49mapply(\u001b[39m\"\u001b[39;49m\u001b[39mastype\u001b[39;49m\u001b[39m\"\u001b[39;49m, dtype\u001b[39m=\u001b[39;49mdtype, copy\u001b[39m=\u001b[39;49mcopy, errors\u001b[39m=\u001b[39;49merrors)\n",
      "File \u001b[0;32m~/anaconda3/lib/python3.9/site-packages/pandas/core/internals/managers.py:304\u001b[0m, in \u001b[0;36mBaseBlockManager.apply\u001b[0;34m(self, f, align_keys, ignore_failures, **kwargs)\u001b[0m\n\u001b[1;32m    302\u001b[0m         applied \u001b[39m=\u001b[39m b\u001b[39m.\u001b[39mapply(f, \u001b[39m*\u001b[39m\u001b[39m*\u001b[39mkwargs)\n\u001b[1;32m    303\u001b[0m     \u001b[39melse\u001b[39;00m:\n\u001b[0;32m--> 304\u001b[0m         applied \u001b[39m=\u001b[39m \u001b[39mgetattr\u001b[39;49m(b, f)(\u001b[39m*\u001b[39;49m\u001b[39m*\u001b[39;49mkwargs)\n\u001b[1;32m    305\u001b[0m \u001b[39mexcept\u001b[39;00m (\u001b[39mTypeError\u001b[39;00m, \u001b[39mNotImplementedError\u001b[39;00m):\n\u001b[1;32m    306\u001b[0m     \u001b[39mif\u001b[39;00m \u001b[39mnot\u001b[39;00m ignore_failures:\n",
      "File \u001b[0;32m~/anaconda3/lib/python3.9/site-packages/pandas/core/internals/blocks.py:580\u001b[0m, in \u001b[0;36mBlock.astype\u001b[0;34m(self, dtype, copy, errors)\u001b[0m\n\u001b[1;32m    562\u001b[0m \u001b[39m\"\"\"\u001b[39;00m\n\u001b[1;32m    563\u001b[0m \u001b[39mCoerce to the new dtype.\u001b[39;00m\n\u001b[1;32m    564\u001b[0m \n\u001b[0;32m   (...)\u001b[0m\n\u001b[1;32m    576\u001b[0m \u001b[39mBlock\u001b[39;00m\n\u001b[1;32m    577\u001b[0m \u001b[39m\"\"\"\u001b[39;00m\n\u001b[1;32m    578\u001b[0m values \u001b[39m=\u001b[39m \u001b[39mself\u001b[39m\u001b[39m.\u001b[39mvalues\n\u001b[0;32m--> 580\u001b[0m new_values \u001b[39m=\u001b[39m astype_array_safe(values, dtype, copy\u001b[39m=\u001b[39;49mcopy, errors\u001b[39m=\u001b[39;49merrors)\n\u001b[1;32m    582\u001b[0m new_values \u001b[39m=\u001b[39m maybe_coerce_values(new_values)\n\u001b[1;32m    583\u001b[0m newb \u001b[39m=\u001b[39m \u001b[39mself\u001b[39m\u001b[39m.\u001b[39mmake_block(new_values)\n",
      "File \u001b[0;32m~/anaconda3/lib/python3.9/site-packages/pandas/core/dtypes/cast.py:1292\u001b[0m, in \u001b[0;36mastype_array_safe\u001b[0;34m(values, dtype, copy, errors)\u001b[0m\n\u001b[1;32m   1289\u001b[0m     dtype \u001b[39m=\u001b[39m dtype\u001b[39m.\u001b[39mnumpy_dtype\n\u001b[1;32m   1291\u001b[0m \u001b[39mtry\u001b[39;00m:\n\u001b[0;32m-> 1292\u001b[0m     new_values \u001b[39m=\u001b[39m astype_array(values, dtype, copy\u001b[39m=\u001b[39;49mcopy)\n\u001b[1;32m   1293\u001b[0m \u001b[39mexcept\u001b[39;00m (\u001b[39mValueError\u001b[39;00m, \u001b[39mTypeError\u001b[39;00m):\n\u001b[1;32m   1294\u001b[0m     \u001b[39m# e.g. astype_nansafe can fail on object-dtype of strings\u001b[39;00m\n\u001b[1;32m   1295\u001b[0m     \u001b[39m#  trying to convert to float\u001b[39;00m\n\u001b[1;32m   1296\u001b[0m     \u001b[39mif\u001b[39;00m errors \u001b[39m==\u001b[39m \u001b[39m\"\u001b[39m\u001b[39mignore\u001b[39m\u001b[39m\"\u001b[39m:\n",
      "File \u001b[0;32m~/anaconda3/lib/python3.9/site-packages/pandas/core/dtypes/cast.py:1237\u001b[0m, in \u001b[0;36mastype_array\u001b[0;34m(values, dtype, copy)\u001b[0m\n\u001b[1;32m   1234\u001b[0m     values \u001b[39m=\u001b[39m values\u001b[39m.\u001b[39mastype(dtype, copy\u001b[39m=\u001b[39mcopy)\n\u001b[1;32m   1236\u001b[0m \u001b[39melse\u001b[39;00m:\n\u001b[0;32m-> 1237\u001b[0m     values \u001b[39m=\u001b[39m astype_nansafe(values, dtype, copy\u001b[39m=\u001b[39;49mcopy)\n\u001b[1;32m   1239\u001b[0m \u001b[39m# in pandas we don't store numpy str dtypes, so convert to object\u001b[39;00m\n\u001b[1;32m   1240\u001b[0m \u001b[39mif\u001b[39;00m \u001b[39misinstance\u001b[39m(dtype, np\u001b[39m.\u001b[39mdtype) \u001b[39mand\u001b[39;00m \u001b[39missubclass\u001b[39m(values\u001b[39m.\u001b[39mdtype\u001b[39m.\u001b[39mtype, \u001b[39mstr\u001b[39m):\n",
      "File \u001b[0;32m~/anaconda3/lib/python3.9/site-packages/pandas/core/dtypes/cast.py:1098\u001b[0m, in \u001b[0;36mastype_nansafe\u001b[0;34m(arr, dtype, copy, skipna)\u001b[0m\n\u001b[1;32m   1096\u001b[0m \u001b[39mif\u001b[39;00m arr\u001b[39m.\u001b[39mndim \u001b[39m>\u001b[39m \u001b[39m1\u001b[39m:\n\u001b[1;32m   1097\u001b[0m     flat \u001b[39m=\u001b[39m arr\u001b[39m.\u001b[39mravel()\n\u001b[0;32m-> 1098\u001b[0m     result \u001b[39m=\u001b[39m astype_nansafe(flat, dtype, copy\u001b[39m=\u001b[39;49mcopy, skipna\u001b[39m=\u001b[39;49mskipna)\n\u001b[1;32m   1099\u001b[0m     \u001b[39m# error: Item \"ExtensionArray\" of \"Union[ExtensionArray, ndarray]\" has no\u001b[39;00m\n\u001b[1;32m   1100\u001b[0m     \u001b[39m# attribute \"reshape\"\u001b[39;00m\n\u001b[1;32m   1101\u001b[0m     \u001b[39mreturn\u001b[39;00m result\u001b[39m.\u001b[39mreshape(arr\u001b[39m.\u001b[39mshape)  \u001b[39m# type: ignore[union-attr]\u001b[39;00m\n",
      "File \u001b[0;32m~/anaconda3/lib/python3.9/site-packages/pandas/core/dtypes/cast.py:1148\u001b[0m, in \u001b[0;36mastype_nansafe\u001b[0;34m(arr, dtype, copy, skipna)\u001b[0m\n\u001b[1;32m   1145\u001b[0m     \u001b[39mraise\u001b[39;00m \u001b[39mTypeError\u001b[39;00m(\u001b[39mf\u001b[39m\u001b[39m\"\u001b[39m\u001b[39mcannot astype a timedelta from [\u001b[39m\u001b[39m{\u001b[39;00marr\u001b[39m.\u001b[39mdtype\u001b[39m}\u001b[39;00m\u001b[39m] to [\u001b[39m\u001b[39m{\u001b[39;00mdtype\u001b[39m}\u001b[39;00m\u001b[39m]\u001b[39m\u001b[39m\"\u001b[39m)\n\u001b[1;32m   1147\u001b[0m \u001b[39melif\u001b[39;00m np\u001b[39m.\u001b[39missubdtype(arr\u001b[39m.\u001b[39mdtype, np\u001b[39m.\u001b[39mfloating) \u001b[39mand\u001b[39;00m np\u001b[39m.\u001b[39missubdtype(dtype, np\u001b[39m.\u001b[39minteger):\n\u001b[0;32m-> 1148\u001b[0m     \u001b[39mreturn\u001b[39;00m astype_float_to_int_nansafe(arr, dtype, copy)\n\u001b[1;32m   1150\u001b[0m \u001b[39melif\u001b[39;00m is_object_dtype(arr\u001b[39m.\u001b[39mdtype):\n\u001b[1;32m   1151\u001b[0m \n\u001b[1;32m   1152\u001b[0m     \u001b[39m# work around NumPy brokenness, #1987\u001b[39;00m\n\u001b[1;32m   1153\u001b[0m     \u001b[39mif\u001b[39;00m np\u001b[39m.\u001b[39missubdtype(dtype\u001b[39m.\u001b[39mtype, np\u001b[39m.\u001b[39minteger):\n",
      "File \u001b[0;32m~/anaconda3/lib/python3.9/site-packages/pandas/core/dtypes/cast.py:1193\u001b[0m, in \u001b[0;36mastype_float_to_int_nansafe\u001b[0;34m(values, dtype, copy)\u001b[0m\n\u001b[1;32m   1189\u001b[0m \u001b[39m\"\"\"\u001b[39;00m\n\u001b[1;32m   1190\u001b[0m \u001b[39mastype with a check preventing converting NaN to an meaningless integer value.\u001b[39;00m\n\u001b[1;32m   1191\u001b[0m \u001b[39m\"\"\"\u001b[39;00m\n\u001b[1;32m   1192\u001b[0m \u001b[39mif\u001b[39;00m \u001b[39mnot\u001b[39;00m np\u001b[39m.\u001b[39misfinite(values)\u001b[39m.\u001b[39mall():\n\u001b[0;32m-> 1193\u001b[0m     \u001b[39mraise\u001b[39;00m IntCastingNaNError(\n\u001b[1;32m   1194\u001b[0m         \u001b[39m\"\u001b[39m\u001b[39mCannot convert non-finite values (NA or inf) to integer\u001b[39m\u001b[39m\"\u001b[39m\n\u001b[1;32m   1195\u001b[0m     )\n\u001b[1;32m   1196\u001b[0m \u001b[39mreturn\u001b[39;00m values\u001b[39m.\u001b[39mastype(dtype, copy\u001b[39m=\u001b[39mcopy)\n",
      "\u001b[0;31mIntCastingNaNError\u001b[0m: Cannot convert non-finite values (NA or inf) to integer"
     ]
    }
   ],
   "source": [
    "# Corrigindo os tipos dos dados após o join\n",
    "\n",
    "cols = ['TotalPopulation','PopulationUnder5Years', \n",
    "       'Population5to9Years', 'Population10to14Years',\n",
    "       'Population15to19Years', 'Population20to24Years',\n",
    "       'Population25to34Years', 'Population35to44Years',\n",
    "       'Population45to54Years', 'Population55to59Years',\n",
    "       'Population60to64Years', 'Population65to74Years',\n",
    "       'Population75to84Years', 'Population85YearsAndOver',\n",
    "       'TotalHouseholds_LessThan$10.000', 'TotalHouseholds_$10.000to$14.999',\n",
    "       'TotalHouseholds_$15.000to$24.999', 'TotalHouseholds_$25.000to$34.999',\n",
    "       'TotalHouseholds_$35.000to$49.999', 'TotalHouseholds_$50.000to$74.999',\n",
    "       'TotalHouseholds_$75.000to$99.999', 'TotalHouseholds_$100.000to$149.999',\n",
    "       'TotalHouseholds_$150.000to$199.999', 'TotalHouseholds_$200.000OrMore']\n",
    "df_geocode[cols] = df_geocode[cols].astype(\"int64\")"
   ]
  },
  {
   "cell_type": "code",
   "execution_count": null,
   "metadata": {},
   "outputs": [
    {
     "data": {
      "text/html": [
       "<div>\n",
       "<style scoped>\n",
       "    .dataframe tbody tr th:only-of-type {\n",
       "        vertical-align: middle;\n",
       "    }\n",
       "\n",
       "    .dataframe tbody tr th {\n",
       "        vertical-align: top;\n",
       "    }\n",
       "\n",
       "    .dataframe thead th {\n",
       "        text-align: right;\n",
       "    }\n",
       "</style>\n",
       "<table border=\"1\" class=\"dataframe\">\n",
       "  <thead>\n",
       "    <tr style=\"text-align: right;\">\n",
       "      <th></th>\n",
       "      <th>LabId</th>\n",
       "      <th>Address</th>\n",
       "      <th>Zipcode</th>\n",
       "      <th>Latitude</th>\n",
       "      <th>Longitude</th>\n",
       "      <th>Id</th>\n",
       "      <th>TotalPopulation</th>\n",
       "      <th>SexRatiomalesper100females</th>\n",
       "      <th>PopulationUnder5Years</th>\n",
       "      <th>Population5to9Years</th>\n",
       "      <th>...</th>\n",
       "      <th>TotalHouseholds_LessThan$10.000</th>\n",
       "      <th>TotalHouseholds_$10.000to$14.999</th>\n",
       "      <th>TotalHouseholds_$15.000to$24.999</th>\n",
       "      <th>TotalHouseholds_$25.000to$34.999</th>\n",
       "      <th>TotalHouseholds_$35.000to$49.999</th>\n",
       "      <th>TotalHouseholds_$50.000to$74.999</th>\n",
       "      <th>TotalHouseholds_$75.000to$99.999</th>\n",
       "      <th>TotalHouseholds_$100.000to$149.999</th>\n",
       "      <th>TotalHouseholds_$150.000to$199.999</th>\n",
       "      <th>TotalHouseholds_$200.000OrMore</th>\n",
       "    </tr>\n",
       "  </thead>\n",
       "  <tbody>\n",
       "    <tr>\n",
       "      <th>0</th>\n",
       "      <td>L152</td>\n",
       "      <td>3800 PLEASANT HILL RD STE 1, DULUTH, GA 30096</td>\n",
       "      <td>30096.0</td>\n",
       "      <td>34.00</td>\n",
       "      <td>-84.16</td>\n",
       "      <td>&lt;NA&gt;</td>\n",
       "      <td>&lt;NA&gt;</td>\n",
       "      <td>NaN</td>\n",
       "      <td>&lt;NA&gt;</td>\n",
       "      <td>&lt;NA&gt;</td>\n",
       "      <td>...</td>\n",
       "      <td>&lt;NA&gt;</td>\n",
       "      <td>&lt;NA&gt;</td>\n",
       "      <td>&lt;NA&gt;</td>\n",
       "      <td>&lt;NA&gt;</td>\n",
       "      <td>&lt;NA&gt;</td>\n",
       "      <td>&lt;NA&gt;</td>\n",
       "      <td>&lt;NA&gt;</td>\n",
       "      <td>&lt;NA&gt;</td>\n",
       "      <td>&lt;NA&gt;</td>\n",
       "      <td>&lt;NA&gt;</td>\n",
       "    </tr>\n",
       "    <tr>\n",
       "      <th>1</th>\n",
       "      <td>L520</td>\n",
       "      <td>1614 N JAMES ST, ROME, NY 13440</td>\n",
       "      <td>13440.0</td>\n",
       "      <td>43.23</td>\n",
       "      <td>-75.44</td>\n",
       "      <td>&lt;NA&gt;</td>\n",
       "      <td>&lt;NA&gt;</td>\n",
       "      <td>NaN</td>\n",
       "      <td>&lt;NA&gt;</td>\n",
       "      <td>&lt;NA&gt;</td>\n",
       "      <td>...</td>\n",
       "      <td>&lt;NA&gt;</td>\n",
       "      <td>&lt;NA&gt;</td>\n",
       "      <td>&lt;NA&gt;</td>\n",
       "      <td>&lt;NA&gt;</td>\n",
       "      <td>&lt;NA&gt;</td>\n",
       "      <td>&lt;NA&gt;</td>\n",
       "      <td>&lt;NA&gt;</td>\n",
       "      <td>&lt;NA&gt;</td>\n",
       "      <td>&lt;NA&gt;</td>\n",
       "      <td>&lt;NA&gt;</td>\n",
       "    </tr>\n",
       "    <tr>\n",
       "      <th>2</th>\n",
       "      <td>L141</td>\n",
       "      <td>12911 120TH AVE NE STE D60, KIRKLAND, WA 98034</td>\n",
       "      <td>98034.0</td>\n",
       "      <td>47.72</td>\n",
       "      <td>-122.18</td>\n",
       "      <td>&lt;NA&gt;</td>\n",
       "      <td>&lt;NA&gt;</td>\n",
       "      <td>NaN</td>\n",
       "      <td>&lt;NA&gt;</td>\n",
       "      <td>&lt;NA&gt;</td>\n",
       "      <td>...</td>\n",
       "      <td>&lt;NA&gt;</td>\n",
       "      <td>&lt;NA&gt;</td>\n",
       "      <td>&lt;NA&gt;</td>\n",
       "      <td>&lt;NA&gt;</td>\n",
       "      <td>&lt;NA&gt;</td>\n",
       "      <td>&lt;NA&gt;</td>\n",
       "      <td>&lt;NA&gt;</td>\n",
       "      <td>&lt;NA&gt;</td>\n",
       "      <td>&lt;NA&gt;</td>\n",
       "      <td>&lt;NA&gt;</td>\n",
       "    </tr>\n",
       "    <tr>\n",
       "      <th>3</th>\n",
       "      <td>L524</td>\n",
       "      <td>5667 PEACHTREE DUNWOODY RD 250, ATLANTA, GA 30342</td>\n",
       "      <td>30342.0</td>\n",
       "      <td>33.91</td>\n",
       "      <td>-84.35</td>\n",
       "      <td>&lt;NA&gt;</td>\n",
       "      <td>&lt;NA&gt;</td>\n",
       "      <td>NaN</td>\n",
       "      <td>&lt;NA&gt;</td>\n",
       "      <td>&lt;NA&gt;</td>\n",
       "      <td>...</td>\n",
       "      <td>&lt;NA&gt;</td>\n",
       "      <td>&lt;NA&gt;</td>\n",
       "      <td>&lt;NA&gt;</td>\n",
       "      <td>&lt;NA&gt;</td>\n",
       "      <td>&lt;NA&gt;</td>\n",
       "      <td>&lt;NA&gt;</td>\n",
       "      <td>&lt;NA&gt;</td>\n",
       "      <td>&lt;NA&gt;</td>\n",
       "      <td>&lt;NA&gt;</td>\n",
       "      <td>&lt;NA&gt;</td>\n",
       "    </tr>\n",
       "    <tr>\n",
       "      <th>4</th>\n",
       "      <td>L545</td>\n",
       "      <td>1204 IL HWY 164, OQUAWKA, IL 61469</td>\n",
       "      <td>61469.0</td>\n",
       "      <td>40.93</td>\n",
       "      <td>-90.94</td>\n",
       "      <td>&lt;NA&gt;</td>\n",
       "      <td>&lt;NA&gt;</td>\n",
       "      <td>NaN</td>\n",
       "      <td>&lt;NA&gt;</td>\n",
       "      <td>&lt;NA&gt;</td>\n",
       "      <td>...</td>\n",
       "      <td>&lt;NA&gt;</td>\n",
       "      <td>&lt;NA&gt;</td>\n",
       "      <td>&lt;NA&gt;</td>\n",
       "      <td>&lt;NA&gt;</td>\n",
       "      <td>&lt;NA&gt;</td>\n",
       "      <td>&lt;NA&gt;</td>\n",
       "      <td>&lt;NA&gt;</td>\n",
       "      <td>&lt;NA&gt;</td>\n",
       "      <td>&lt;NA&gt;</td>\n",
       "      <td>&lt;NA&gt;</td>\n",
       "    </tr>\n",
       "  </tbody>\n",
       "</table>\n",
       "<p>5 rows × 32 columns</p>\n",
       "</div>"
      ],
      "text/plain": [
       "  LabId                                            Address  Zipcode  Latitude  \\\n",
       "0  L152      3800 PLEASANT HILL RD STE 1, DULUTH, GA 30096  30096.0     34.00   \n",
       "1  L520                    1614 N JAMES ST, ROME, NY 13440  13440.0     43.23   \n",
       "2  L141     12911 120TH AVE NE STE D60, KIRKLAND, WA 98034  98034.0     47.72   \n",
       "3  L524  5667 PEACHTREE DUNWOODY RD 250, ATLANTA, GA 30342  30342.0     33.91   \n",
       "4  L545                 1204 IL HWY 164, OQUAWKA, IL 61469  61469.0     40.93   \n",
       "\n",
       "   Longitude    Id  TotalPopulation  SexRatiomalesper100females  \\\n",
       "0     -84.16  <NA>             <NA>                         NaN   \n",
       "1     -75.44  <NA>             <NA>                         NaN   \n",
       "2    -122.18  <NA>             <NA>                         NaN   \n",
       "3     -84.35  <NA>             <NA>                         NaN   \n",
       "4     -90.94  <NA>             <NA>                         NaN   \n",
       "\n",
       "   PopulationUnder5Years  Population5to9Years  ...  \\\n",
       "0                   <NA>                 <NA>  ...   \n",
       "1                   <NA>                 <NA>  ...   \n",
       "2                   <NA>                 <NA>  ...   \n",
       "3                   <NA>                 <NA>  ...   \n",
       "4                   <NA>                 <NA>  ...   \n",
       "\n",
       "   TotalHouseholds_LessThan$10.000  TotalHouseholds_$10.000to$14.999  \\\n",
       "0                             <NA>                              <NA>   \n",
       "1                             <NA>                              <NA>   \n",
       "2                             <NA>                              <NA>   \n",
       "3                             <NA>                              <NA>   \n",
       "4                             <NA>                              <NA>   \n",
       "\n",
       "   TotalHouseholds_$15.000to$24.999  TotalHouseholds_$25.000to$34.999  \\\n",
       "0                              <NA>                              <NA>   \n",
       "1                              <NA>                              <NA>   \n",
       "2                              <NA>                              <NA>   \n",
       "3                              <NA>                              <NA>   \n",
       "4                              <NA>                              <NA>   \n",
       "\n",
       "   TotalHouseholds_$35.000to$49.999  TotalHouseholds_$50.000to$74.999  \\\n",
       "0                              <NA>                              <NA>   \n",
       "1                              <NA>                              <NA>   \n",
       "2                              <NA>                              <NA>   \n",
       "3                              <NA>                              <NA>   \n",
       "4                              <NA>                              <NA>   \n",
       "\n",
       "   TotalHouseholds_$75.000to$99.999  TotalHouseholds_$100.000to$149.999  \\\n",
       "0                              <NA>                                <NA>   \n",
       "1                              <NA>                                <NA>   \n",
       "2                              <NA>                                <NA>   \n",
       "3                              <NA>                                <NA>   \n",
       "4                              <NA>                                <NA>   \n",
       "\n",
       "   TotalHouseholds_$150.000to$199.999  TotalHouseholds_$200.000OrMore  \n",
       "0                                <NA>                            <NA>  \n",
       "1                                <NA>                            <NA>  \n",
       "2                                <NA>                            <NA>  \n",
       "3                                <NA>                            <NA>  \n",
       "4                                <NA>                            <NA>  \n",
       "\n",
       "[5 rows x 32 columns]"
      ]
     },
     "execution_count": 511,
     "metadata": {},
     "output_type": "execute_result"
    }
   ],
   "source": [
    "df_geocode.head()"
   ]
  },
  {
   "cell_type": "markdown",
   "metadata": {},
   "source": [
    "## Definição do lucro dos hospitais"
   ]
  },
  {
   "cell_type": "markdown",
   "metadata": {},
   "source": [
    "Como podemos verificar, o df_tests descreve os detalhes a respeito de cada exame realizado no df_transactional. Em vista disso iremos fazer um join , para obtermos cada detalhe a respeito dos exames realizados "
   ]
  },
  {
   "cell_type": "code",
   "execution_count": null,
   "metadata": {},
   "outputs": [
    {
     "data": {
      "text/html": [
       "<div>\n",
       "<style scoped>\n",
       "    .dataframe tbody tr th:only-of-type {\n",
       "        vertical-align: middle;\n",
       "    }\n",
       "\n",
       "    .dataframe tbody tr th {\n",
       "        vertical-align: top;\n",
       "    }\n",
       "\n",
       "    .dataframe thead th {\n",
       "        text-align: right;\n",
       "    }\n",
       "</style>\n",
       "<table border=\"1\" class=\"dataframe\">\n",
       "  <thead>\n",
       "    <tr style=\"text-align: right;\">\n",
       "      <th></th>\n",
       "      <th>PatientId</th>\n",
       "      <th>Gender</th>\n",
       "      <th>Dateofbirth</th>\n",
       "      <th>Dateofservice</th>\n",
       "      <th>ServiceId</th>\n",
       "      <th>LabId</th>\n",
       "      <th>CodItem</th>\n",
       "      <th>TestingCost</th>\n",
       "    </tr>\n",
       "  </thead>\n",
       "  <tbody>\n",
       "    <tr>\n",
       "      <th>0</th>\n",
       "      <td>10210830256-BIO003</td>\n",
       "      <td>F</td>\n",
       "      <td>1976-01-08</td>\n",
       "      <td>2019-01-07</td>\n",
       "      <td>571904533475-38</td>\n",
       "      <td>L133</td>\n",
       "      <td>70003237</td>\n",
       "      <td>9.0</td>\n",
       "    </tr>\n",
       "    <tr>\n",
       "      <th>1</th>\n",
       "      <td>10210830256-BIO003</td>\n",
       "      <td>F</td>\n",
       "      <td>1976-01-08</td>\n",
       "      <td>2019-01-07</td>\n",
       "      <td>571904533475-38</td>\n",
       "      <td>L133</td>\n",
       "      <td>70000638</td>\n",
       "      <td>13.0</td>\n",
       "    </tr>\n",
       "  </tbody>\n",
       "</table>\n",
       "</div>"
      ],
      "text/plain": [
       "            PatientId Gender Dateofbirth Dateofservice        ServiceId LabId  \\\n",
       "0  10210830256-BIO003      F  1976-01-08    2019-01-07  571904533475-38  L133   \n",
       "1  10210830256-BIO003      F  1976-01-08    2019-01-07  571904533475-38  L133   \n",
       "\n",
       "    CodItem  TestingCost  \n",
       "0  70003237          9.0  \n",
       "1  70000638         13.0  "
      ]
     },
     "execution_count": 81,
     "metadata": {},
     "output_type": "execute_result"
    }
   ],
   "source": [
    "df_transactional.head(2)"
   ]
  },
  {
   "cell_type": "code",
   "execution_count": null,
   "metadata": {},
   "outputs": [
    {
     "data": {
      "text/html": [
       "<div>\n",
       "<style scoped>\n",
       "    .dataframe tbody tr th:only-of-type {\n",
       "        vertical-align: middle;\n",
       "    }\n",
       "\n",
       "    .dataframe tbody tr th {\n",
       "        vertical-align: top;\n",
       "    }\n",
       "\n",
       "    .dataframe thead th {\n",
       "        text-align: right;\n",
       "    }\n",
       "</style>\n",
       "<table border=\"1\" class=\"dataframe\">\n",
       "  <thead>\n",
       "    <tr style=\"text-align: right;\">\n",
       "      <th></th>\n",
       "      <th>CodItem</th>\n",
       "      <th>DescItem</th>\n",
       "      <th>Category</th>\n",
       "      <th>Family</th>\n",
       "      <th>Speciality</th>\n",
       "      <th>TestingCost</th>\n",
       "    </tr>\n",
       "  </thead>\n",
       "  <tbody>\n",
       "    <tr>\n",
       "      <th>0</th>\n",
       "      <td>70003237</td>\n",
       "      <td>MAGNESIO, SORO (EXEMPLO DE EXPRESSAO DE RESULT...</td>\n",
       "      <td>CA</td>\n",
       "      <td>CORELAB</td>\n",
       "      <td>BIOCHEMISTRY</td>\n",
       "      <td>1.78</td>\n",
       "    </tr>\n",
       "    <tr>\n",
       "      <th>1</th>\n",
       "      <td>70000638</td>\n",
       "      <td>HEMOGRAMA, AUTOMATIZADO, SANGUE</td>\n",
       "      <td>CA</td>\n",
       "      <td>HEMATO</td>\n",
       "      <td>BLOOD COUNT</td>\n",
       "      <td>2.46</td>\n",
       "    </tr>\n",
       "  </tbody>\n",
       "</table>\n",
       "</div>"
      ],
      "text/plain": [
       "    CodItem                                           DescItem Category  \\\n",
       "0  70003237  MAGNESIO, SORO (EXEMPLO DE EXPRESSAO DE RESULT...       CA   \n",
       "1  70000638                    HEMOGRAMA, AUTOMATIZADO, SANGUE       CA   \n",
       "\n",
       "    Family    Speciality  TestingCost  \n",
       "0  CORELAB  BIOCHEMISTRY         1.78  \n",
       "1   HEMATO   BLOOD COUNT         2.46  "
      ]
     },
     "execution_count": 82,
     "metadata": {},
     "output_type": "execute_result"
    }
   ],
   "source": [
    "df_tests.head(2)"
   ]
  },
  {
   "cell_type": "code",
   "execution_count": null,
   "metadata": {},
   "outputs": [],
   "source": [
    "df_transactional = df_transactional.merge(df_tests,on=\"CodItem\",how=\"left\")"
   ]
  },
  {
   "cell_type": "code",
   "execution_count": null,
   "metadata": {},
   "outputs": [
    {
     "data": {
      "text/html": [
       "<div>\n",
       "<style scoped>\n",
       "    .dataframe tbody tr th:only-of-type {\n",
       "        vertical-align: middle;\n",
       "    }\n",
       "\n",
       "    .dataframe tbody tr th {\n",
       "        vertical-align: top;\n",
       "    }\n",
       "\n",
       "    .dataframe thead th {\n",
       "        text-align: right;\n",
       "    }\n",
       "</style>\n",
       "<table border=\"1\" class=\"dataframe\">\n",
       "  <thead>\n",
       "    <tr style=\"text-align: right;\">\n",
       "      <th></th>\n",
       "      <th>PatientId</th>\n",
       "      <th>Gender</th>\n",
       "      <th>Dateofbirth</th>\n",
       "      <th>Dateofservice</th>\n",
       "      <th>ServiceId</th>\n",
       "      <th>LabId</th>\n",
       "      <th>CodItem</th>\n",
       "      <th>TestingCost_x</th>\n",
       "      <th>DescItem</th>\n",
       "      <th>Category</th>\n",
       "      <th>Family</th>\n",
       "      <th>Speciality</th>\n",
       "      <th>TestingCost_y</th>\n",
       "    </tr>\n",
       "  </thead>\n",
       "  <tbody>\n",
       "    <tr>\n",
       "      <th>0</th>\n",
       "      <td>10210830256-BIO003</td>\n",
       "      <td>F</td>\n",
       "      <td>1976-01-08</td>\n",
       "      <td>2019-01-07</td>\n",
       "      <td>571904533475-38</td>\n",
       "      <td>L133</td>\n",
       "      <td>70003237</td>\n",
       "      <td>9.0</td>\n",
       "      <td>MAGNESIO, SORO (EXEMPLO DE EXPRESSAO DE RESULT...</td>\n",
       "      <td>CA</td>\n",
       "      <td>CORELAB</td>\n",
       "      <td>BIOCHEMISTRY</td>\n",
       "      <td>1.78</td>\n",
       "    </tr>\n",
       "    <tr>\n",
       "      <th>1</th>\n",
       "      <td>10210830256-BIO003</td>\n",
       "      <td>F</td>\n",
       "      <td>1976-01-08</td>\n",
       "      <td>2019-01-07</td>\n",
       "      <td>571904533475-38</td>\n",
       "      <td>L133</td>\n",
       "      <td>70000638</td>\n",
       "      <td>13.0</td>\n",
       "      <td>HEMOGRAMA, AUTOMATIZADO, SANGUE</td>\n",
       "      <td>CA</td>\n",
       "      <td>HEMATO</td>\n",
       "      <td>BLOOD COUNT</td>\n",
       "      <td>2.46</td>\n",
       "    </tr>\n",
       "  </tbody>\n",
       "</table>\n",
       "</div>"
      ],
      "text/plain": [
       "            PatientId Gender Dateofbirth Dateofservice        ServiceId LabId  \\\n",
       "0  10210830256-BIO003      F  1976-01-08    2019-01-07  571904533475-38  L133   \n",
       "1  10210830256-BIO003      F  1976-01-08    2019-01-07  571904533475-38  L133   \n",
       "\n",
       "    CodItem  TestingCost_x                                           DescItem  \\\n",
       "0  70003237            9.0  MAGNESIO, SORO (EXEMPLO DE EXPRESSAO DE RESULT...   \n",
       "1  70000638           13.0                    HEMOGRAMA, AUTOMATIZADO, SANGUE   \n",
       "\n",
       "  Category   Family    Speciality  TestingCost_y  \n",
       "0       CA  CORELAB  BIOCHEMISTRY           1.78  \n",
       "1       CA   HEMATO   BLOOD COUNT           2.46  "
      ]
     },
     "execution_count": 84,
     "metadata": {},
     "output_type": "execute_result"
    }
   ],
   "source": [
    "df_transactional.head(2)"
   ]
  },
  {
   "cell_type": "markdown",
   "metadata": {},
   "source": [
    "Como podemos verificar, a coluna \"TestingCost\" foi duplicada. Noto que no df_transactional que descreve os serviços realizados, a coluna \"TestingCost\" já descreve o preço final daquele serviço especifico, que é custeado pelo cliente. No df_tests observo que a coluna descreve o custo do serviço, só que para o laboratório."
   ]
  },
  {
   "cell_type": "code",
   "execution_count": null,
   "metadata": {},
   "outputs": [],
   "source": [
    "# Renomeando \n",
    "df_transactional = df_transactional.rename(columns = {'TestingCost_x':'FinalCost'}) \n",
    "df_transactional = df_transactional.rename(columns = {'TestingCost_y':'ServiceCost'}) "
   ]
  },
  {
   "cell_type": "code",
   "execution_count": null,
   "metadata": {},
   "outputs": [
    {
     "data": {
      "text/html": [
       "<div>\n",
       "<style scoped>\n",
       "    .dataframe tbody tr th:only-of-type {\n",
       "        vertical-align: middle;\n",
       "    }\n",
       "\n",
       "    .dataframe tbody tr th {\n",
       "        vertical-align: top;\n",
       "    }\n",
       "\n",
       "    .dataframe thead th {\n",
       "        text-align: right;\n",
       "    }\n",
       "</style>\n",
       "<table border=\"1\" class=\"dataframe\">\n",
       "  <thead>\n",
       "    <tr style=\"text-align: right;\">\n",
       "      <th></th>\n",
       "      <th>PatientId</th>\n",
       "      <th>Gender</th>\n",
       "      <th>Dateofbirth</th>\n",
       "      <th>Dateofservice</th>\n",
       "      <th>ServiceId</th>\n",
       "      <th>LabId</th>\n",
       "      <th>CodItem</th>\n",
       "      <th>FinalCost</th>\n",
       "      <th>DescItem</th>\n",
       "      <th>Category</th>\n",
       "      <th>Family</th>\n",
       "      <th>Speciality</th>\n",
       "      <th>ServiceCost</th>\n",
       "    </tr>\n",
       "  </thead>\n",
       "  <tbody>\n",
       "    <tr>\n",
       "      <th>0</th>\n",
       "      <td>10210830256-BIO003</td>\n",
       "      <td>F</td>\n",
       "      <td>1976-01-08</td>\n",
       "      <td>2019-01-07</td>\n",
       "      <td>571904533475-38</td>\n",
       "      <td>L133</td>\n",
       "      <td>70003237</td>\n",
       "      <td>9.0</td>\n",
       "      <td>MAGNESIO, SORO (EXEMPLO DE EXPRESSAO DE RESULT...</td>\n",
       "      <td>CA</td>\n",
       "      <td>CORELAB</td>\n",
       "      <td>BIOCHEMISTRY</td>\n",
       "      <td>1.78</td>\n",
       "    </tr>\n",
       "    <tr>\n",
       "      <th>185</th>\n",
       "      <td>10225666807-BIO002</td>\n",
       "      <td>F</td>\n",
       "      <td>1968-07-16</td>\n",
       "      <td>2019-01-15</td>\n",
       "      <td>573103867832-51</td>\n",
       "      <td>L139</td>\n",
       "      <td>70003237</td>\n",
       "      <td>9.0</td>\n",
       "      <td>MAGNESIO, SORO (EXEMPLO DE EXPRESSAO DE RESULT...</td>\n",
       "      <td>CA</td>\n",
       "      <td>CORELAB</td>\n",
       "      <td>BIOCHEMISTRY</td>\n",
       "      <td>1.78</td>\n",
       "    </tr>\n",
       "    <tr>\n",
       "      <th>1938</th>\n",
       "      <td>571700011536-BIO002</td>\n",
       "      <td>F</td>\n",
       "      <td>1961-04-17</td>\n",
       "      <td>2019-01-04</td>\n",
       "      <td>571706608210-36</td>\n",
       "      <td>L131</td>\n",
       "      <td>70003237</td>\n",
       "      <td>9.0</td>\n",
       "      <td>MAGNESIO, SORO (EXEMPLO DE EXPRESSAO DE RESULT...</td>\n",
       "      <td>CA</td>\n",
       "      <td>CORELAB</td>\n",
       "      <td>BIOCHEMISTRY</td>\n",
       "      <td>1.78</td>\n",
       "    </tr>\n",
       "    <tr>\n",
       "      <th>2076</th>\n",
       "      <td>574400001820-BIO002</td>\n",
       "      <td>F</td>\n",
       "      <td>1966-01-04</td>\n",
       "      <td>2019-01-17</td>\n",
       "      <td>574400919309-64</td>\n",
       "      <td>L150</td>\n",
       "      <td>70003237</td>\n",
       "      <td>9.0</td>\n",
       "      <td>MAGNESIO, SORO (EXEMPLO DE EXPRESSAO DE RESULT...</td>\n",
       "      <td>CA</td>\n",
       "      <td>CORELAB</td>\n",
       "      <td>BIOCHEMISTRY</td>\n",
       "      <td>1.78</td>\n",
       "    </tr>\n",
       "    <tr>\n",
       "      <th>2317</th>\n",
       "      <td>10210855836-BIO003</td>\n",
       "      <td>F</td>\n",
       "      <td>1980-12-25</td>\n",
       "      <td>2019-02-08</td>\n",
       "      <td>575007148185-72</td>\n",
       "      <td>L155</td>\n",
       "      <td>70003237</td>\n",
       "      <td>9.0</td>\n",
       "      <td>MAGNESIO, SORO (EXEMPLO DE EXPRESSAO DE RESULT...</td>\n",
       "      <td>CA</td>\n",
       "      <td>CORELAB</td>\n",
       "      <td>BIOCHEMISTRY</td>\n",
       "      <td>1.78</td>\n",
       "    </tr>\n",
       "    <tr>\n",
       "      <th>...</th>\n",
       "      <td>...</td>\n",
       "      <td>...</td>\n",
       "      <td>...</td>\n",
       "      <td>...</td>\n",
       "      <td>...</td>\n",
       "      <td>...</td>\n",
       "      <td>...</td>\n",
       "      <td>...</td>\n",
       "      <td>...</td>\n",
       "      <td>...</td>\n",
       "      <td>...</td>\n",
       "      <td>...</td>\n",
       "      <td>...</td>\n",
       "    </tr>\n",
       "    <tr>\n",
       "      <th>2339577</th>\n",
       "      <td>7660041997-1</td>\n",
       "      <td>F</td>\n",
       "      <td>1982-01-02</td>\n",
       "      <td>2021-01-07</td>\n",
       "      <td>7660041997-2-1</td>\n",
       "      <td>L133</td>\n",
       "      <td>70003237</td>\n",
       "      <td>9.0</td>\n",
       "      <td>MAGNESIO, SORO (EXEMPLO DE EXPRESSAO DE RESULT...</td>\n",
       "      <td>CA</td>\n",
       "      <td>CORELAB</td>\n",
       "      <td>BIOCHEMISTRY</td>\n",
       "      <td>1.78</td>\n",
       "    </tr>\n",
       "    <tr>\n",
       "      <th>2339687</th>\n",
       "      <td>7658359040-1</td>\n",
       "      <td>F</td>\n",
       "      <td>1981-02-24</td>\n",
       "      <td>2021-01-10</td>\n",
       "      <td>7658359040-2-1</td>\n",
       "      <td>L540</td>\n",
       "      <td>70003237</td>\n",
       "      <td>9.0</td>\n",
       "      <td>MAGNESIO, SORO (EXEMPLO DE EXPRESSAO DE RESULT...</td>\n",
       "      <td>CA</td>\n",
       "      <td>CORELAB</td>\n",
       "      <td>BIOCHEMISTRY</td>\n",
       "      <td>1.78</td>\n",
       "    </tr>\n",
       "    <tr>\n",
       "      <th>2340208</th>\n",
       "      <td>7659135953-1</td>\n",
       "      <td>M</td>\n",
       "      <td>1960-08-06</td>\n",
       "      <td>2021-01-10</td>\n",
       "      <td>7659135953-9-1</td>\n",
       "      <td>L145</td>\n",
       "      <td>70003237</td>\n",
       "      <td>9.0</td>\n",
       "      <td>MAGNESIO, SORO (EXEMPLO DE EXPRESSAO DE RESULT...</td>\n",
       "      <td>CA</td>\n",
       "      <td>CORELAB</td>\n",
       "      <td>BIOCHEMISTRY</td>\n",
       "      <td>1.78</td>\n",
       "    </tr>\n",
       "    <tr>\n",
       "      <th>2340334</th>\n",
       "      <td>6174746593-1</td>\n",
       "      <td>M</td>\n",
       "      <td>1984-09-01</td>\n",
       "      <td>2021-01-27</td>\n",
       "      <td>6174746593-3-1</td>\n",
       "      <td>L141</td>\n",
       "      <td>70003237</td>\n",
       "      <td>9.0</td>\n",
       "      <td>MAGNESIO, SORO (EXEMPLO DE EXPRESSAO DE RESULT...</td>\n",
       "      <td>CA</td>\n",
       "      <td>CORELAB</td>\n",
       "      <td>BIOCHEMISTRY</td>\n",
       "      <td>1.78</td>\n",
       "    </tr>\n",
       "    <tr>\n",
       "      <th>2340481</th>\n",
       "      <td>7663748778-1</td>\n",
       "      <td>M</td>\n",
       "      <td>2007-03-08</td>\n",
       "      <td>2021-01-08</td>\n",
       "      <td>7663748778-2-1</td>\n",
       "      <td>L664</td>\n",
       "      <td>70003237</td>\n",
       "      <td>9.0</td>\n",
       "      <td>MAGNESIO, SORO (EXEMPLO DE EXPRESSAO DE RESULT...</td>\n",
       "      <td>CA</td>\n",
       "      <td>CORELAB</td>\n",
       "      <td>BIOCHEMISTRY</td>\n",
       "      <td>1.78</td>\n",
       "    </tr>\n",
       "  </tbody>\n",
       "</table>\n",
       "<p>6996 rows × 13 columns</p>\n",
       "</div>"
      ],
      "text/plain": [
       "                   PatientId Gender Dateofbirth Dateofservice  \\\n",
       "0         10210830256-BIO003      F  1976-01-08    2019-01-07   \n",
       "185       10225666807-BIO002      F  1968-07-16    2019-01-15   \n",
       "1938     571700011536-BIO002      F  1961-04-17    2019-01-04   \n",
       "2076     574400001820-BIO002      F  1966-01-04    2019-01-17   \n",
       "2317      10210855836-BIO003      F  1980-12-25    2019-02-08   \n",
       "...                      ...    ...         ...           ...   \n",
       "2339577         7660041997-1      F  1982-01-02    2021-01-07   \n",
       "2339687         7658359040-1      F  1981-02-24    2021-01-10   \n",
       "2340208         7659135953-1      M  1960-08-06    2021-01-10   \n",
       "2340334         6174746593-1      M  1984-09-01    2021-01-27   \n",
       "2340481         7663748778-1      M  2007-03-08    2021-01-08   \n",
       "\n",
       "               ServiceId LabId   CodItem  FinalCost  \\\n",
       "0        571904533475-38  L133  70003237        9.0   \n",
       "185      573103867832-51  L139  70003237        9.0   \n",
       "1938     571706608210-36  L131  70003237        9.0   \n",
       "2076     574400919309-64  L150  70003237        9.0   \n",
       "2317     575007148185-72  L155  70003237        9.0   \n",
       "...                  ...   ...       ...        ...   \n",
       "2339577   7660041997-2-1  L133  70003237        9.0   \n",
       "2339687   7658359040-2-1  L540  70003237        9.0   \n",
       "2340208   7659135953-9-1  L145  70003237        9.0   \n",
       "2340334   6174746593-3-1  L141  70003237        9.0   \n",
       "2340481   7663748778-2-1  L664  70003237        9.0   \n",
       "\n",
       "                                                  DescItem Category   Family  \\\n",
       "0        MAGNESIO, SORO (EXEMPLO DE EXPRESSAO DE RESULT...       CA  CORELAB   \n",
       "185      MAGNESIO, SORO (EXEMPLO DE EXPRESSAO DE RESULT...       CA  CORELAB   \n",
       "1938     MAGNESIO, SORO (EXEMPLO DE EXPRESSAO DE RESULT...       CA  CORELAB   \n",
       "2076     MAGNESIO, SORO (EXEMPLO DE EXPRESSAO DE RESULT...       CA  CORELAB   \n",
       "2317     MAGNESIO, SORO (EXEMPLO DE EXPRESSAO DE RESULT...       CA  CORELAB   \n",
       "...                                                    ...      ...      ...   \n",
       "2339577  MAGNESIO, SORO (EXEMPLO DE EXPRESSAO DE RESULT...       CA  CORELAB   \n",
       "2339687  MAGNESIO, SORO (EXEMPLO DE EXPRESSAO DE RESULT...       CA  CORELAB   \n",
       "2340208  MAGNESIO, SORO (EXEMPLO DE EXPRESSAO DE RESULT...       CA  CORELAB   \n",
       "2340334  MAGNESIO, SORO (EXEMPLO DE EXPRESSAO DE RESULT...       CA  CORELAB   \n",
       "2340481  MAGNESIO, SORO (EXEMPLO DE EXPRESSAO DE RESULT...       CA  CORELAB   \n",
       "\n",
       "           Speciality  ServiceCost  \n",
       "0        BIOCHEMISTRY         1.78  \n",
       "185      BIOCHEMISTRY         1.78  \n",
       "1938     BIOCHEMISTRY         1.78  \n",
       "2076     BIOCHEMISTRY         1.78  \n",
       "2317     BIOCHEMISTRY         1.78  \n",
       "...               ...          ...  \n",
       "2339577  BIOCHEMISTRY         1.78  \n",
       "2339687  BIOCHEMISTRY         1.78  \n",
       "2340208  BIOCHEMISTRY         1.78  \n",
       "2340334  BIOCHEMISTRY         1.78  \n",
       "2340481  BIOCHEMISTRY         1.78  \n",
       "\n",
       "[6996 rows x 13 columns]"
      ]
     },
     "execution_count": 86,
     "metadata": {},
     "output_type": "execute_result"
    }
   ],
   "source": [
    "df_transactional[df_transactional.CodItem == 70003237]"
   ]
  },
  {
   "cell_type": "markdown",
   "metadata": {},
   "source": [
    "Em vista disso, agora iremos calcular o lucro que a clinica obteve por aquele serviço específico"
   ]
  },
  {
   "cell_type": "code",
   "execution_count": null,
   "metadata": {},
   "outputs": [],
   "source": [
    "df_transactional[\"Profit\"] = df_transactional[\"FinalCost\"] - df_transactional[\"ServiceCost\"] "
   ]
  },
  {
   "cell_type": "markdown",
   "metadata": {},
   "source": [
    "Agora faremos uma agregação, pois como é possível observar abaixo cada linha descreve um item e ou preocedimento que foi utilizado/realizado por um cliente específico, e com essa agregação poderemos ver quanto foi o lucro total da instituição naquele serviço com cada paciente"
   ]
  },
  {
   "cell_type": "code",
   "execution_count": null,
   "metadata": {},
   "outputs": [
    {
     "data": {
      "text/html": [
       "<div>\n",
       "<style scoped>\n",
       "    .dataframe tbody tr th:only-of-type {\n",
       "        vertical-align: middle;\n",
       "    }\n",
       "\n",
       "    .dataframe tbody tr th {\n",
       "        vertical-align: top;\n",
       "    }\n",
       "\n",
       "    .dataframe thead th {\n",
       "        text-align: right;\n",
       "    }\n",
       "</style>\n",
       "<table border=\"1\" class=\"dataframe\">\n",
       "  <thead>\n",
       "    <tr style=\"text-align: right;\">\n",
       "      <th></th>\n",
       "      <th>0</th>\n",
       "    </tr>\n",
       "  </thead>\n",
       "  <tbody>\n",
       "    <tr>\n",
       "      <th>0</th>\n",
       "      <td>MAGNESIO, SORO (EXEMPLO DE EXPRESSAO DE RESULT...</td>\n",
       "    </tr>\n",
       "    <tr>\n",
       "      <th>1</th>\n",
       "      <td>HEMOGRAMA, AUTOMATIZADO, SANGUE</td>\n",
       "    </tr>\n",
       "    <tr>\n",
       "      <th>2</th>\n",
       "      <td>FERRITINA, SORO</td>\n",
       "    </tr>\n",
       "    <tr>\n",
       "      <th>3</th>\n",
       "      <td>FERRO, DOSAGEM, SORO (EXEMPLO DE EXPRESSAO DE ...</td>\n",
       "    </tr>\n",
       "    <tr>\n",
       "      <th>4</th>\n",
       "      <td>CALCIO, DOSAGEM, SORO (EXEMPLO DE EXPRESSAO DE...</td>\n",
       "    </tr>\n",
       "    <tr>\n",
       "      <th>...</th>\n",
       "      <td>...</td>\n",
       "    </tr>\n",
       "    <tr>\n",
       "      <th>1993</th>\n",
       "      <td>POLIMORFISMO CY2C9*2 E CYP2*3 - TESTE DE SENSI...</td>\n",
       "    </tr>\n",
       "    <tr>\n",
       "      <th>1994</th>\n",
       "      <td>GENES BRCA1 E BRCA2, MLPA, SANGUE</td>\n",
       "    </tr>\n",
       "    <tr>\n",
       "      <th>1995</th>\n",
       "      <td>HEMOFILIA A, ANALISE DO DNA, SEQUENCIAMENTO, S...</td>\n",
       "    </tr>\n",
       "    <tr>\n",
       "      <th>1996</th>\n",
       "      <td>INSULINA, SORO, 90 MIN APOS XXX</td>\n",
       "    </tr>\n",
       "    <tr>\n",
       "      <th>1997</th>\n",
       "      <td>INSULINA, SORO, 30 MIN APOS XXX</td>\n",
       "    </tr>\n",
       "  </tbody>\n",
       "</table>\n",
       "<p>1998 rows × 1 columns</p>\n",
       "</div>"
      ],
      "text/plain": [
       "                                                      0\n",
       "0     MAGNESIO, SORO (EXEMPLO DE EXPRESSAO DE RESULT...\n",
       "1                       HEMOGRAMA, AUTOMATIZADO, SANGUE\n",
       "2                                       FERRITINA, SORO\n",
       "3     FERRO, DOSAGEM, SORO (EXEMPLO DE EXPRESSAO DE ...\n",
       "4     CALCIO, DOSAGEM, SORO (EXEMPLO DE EXPRESSAO DE...\n",
       "...                                                 ...\n",
       "1993  POLIMORFISMO CY2C9*2 E CYP2*3 - TESTE DE SENSI...\n",
       "1994                  GENES BRCA1 E BRCA2, MLPA, SANGUE\n",
       "1995  HEMOFILIA A, ANALISE DO DNA, SEQUENCIAMENTO, S...\n",
       "1996                    INSULINA, SORO, 90 MIN APOS XXX\n",
       "1997                    INSULINA, SORO, 30 MIN APOS XXX\n",
       "\n",
       "[1998 rows x 1 columns]"
      ]
     },
     "execution_count": 88,
     "metadata": {},
     "output_type": "execute_result"
    }
   ],
   "source": [
    "pd.DataFrame(df_transactional.DescItem.unique())"
   ]
  },
  {
   "cell_type": "code",
   "execution_count": null,
   "metadata": {},
   "outputs": [
    {
     "name": "stdout",
     "output_type": "stream",
     "text": [
      "<class 'pandas.core.frame.DataFrame'>\n",
      "Int64Index: 2340722 entries, 0 to 2340721\n",
      "Data columns (total 14 columns):\n",
      " #   Column         Dtype         \n",
      "---  ------         -----         \n",
      " 0   PatientId      string        \n",
      " 1   Gender         string        \n",
      " 2   Dateofbirth    datetime64[ns]\n",
      " 3   Dateofservice  datetime64[ns]\n",
      " 4   ServiceId      string        \n",
      " 5   LabId          string        \n",
      " 6   CodItem        Int64         \n",
      " 7   FinalCost      Float64       \n",
      " 8   DescItem       string        \n",
      " 9   Category       string        \n",
      " 10  Family         string        \n",
      " 11  Speciality     string        \n",
      " 12  ServiceCost    float64       \n",
      " 13  Profit         Float64       \n",
      "dtypes: Float64(2), Int64(1), datetime64[ns](2), float64(1), string(8)\n",
      "memory usage: 274.6 MB\n"
     ]
    }
   ],
   "source": [
    "df_transactional.info()"
   ]
  },
  {
   "cell_type": "code",
   "execution_count": null,
   "metadata": {},
   "outputs": [
    {
     "data": {
      "text/html": [
       "<div>\n",
       "<style scoped>\n",
       "    .dataframe tbody tr th:only-of-type {\n",
       "        vertical-align: middle;\n",
       "    }\n",
       "\n",
       "    .dataframe tbody tr th {\n",
       "        vertical-align: top;\n",
       "    }\n",
       "\n",
       "    .dataframe thead th {\n",
       "        text-align: right;\n",
       "    }\n",
       "</style>\n",
       "<table border=\"1\" class=\"dataframe\">\n",
       "  <thead>\n",
       "    <tr style=\"text-align: right;\">\n",
       "      <th></th>\n",
       "      <th>PatientId</th>\n",
       "      <th>Gender</th>\n",
       "      <th>Dateofbirth</th>\n",
       "      <th>Dateofservice</th>\n",
       "      <th>ServiceId</th>\n",
       "      <th>LabId</th>\n",
       "      <th>CodItem</th>\n",
       "      <th>DescItem</th>\n",
       "      <th>Category</th>\n",
       "      <th>Family</th>\n",
       "      <th>Speciality</th>\n",
       "      <th>Profit</th>\n",
       "    </tr>\n",
       "  </thead>\n",
       "  <tbody>\n",
       "    <tr>\n",
       "      <th>0</th>\n",
       "      <td>-2</td>\n",
       "      <td>I</td>\n",
       "      <td>1900-01-01</td>\n",
       "      <td>2019-02-22</td>\n",
       "      <td>532800338922-132</td>\n",
       "      <td>L069</td>\n",
       "      <td>70003759</td>\n",
       "      <td>PROTROMBINA, TEMPO, ATIVIDADE,RNI, PLASMA</td>\n",
       "      <td>CA</td>\n",
       "      <td>HEMATO</td>\n",
       "      <td>COAGULATION</td>\n",
       "      <td>10.1</td>\n",
       "    </tr>\n",
       "    <tr>\n",
       "      <th>1</th>\n",
       "      <td>-2</td>\n",
       "      <td>I</td>\n",
       "      <td>1900-01-01</td>\n",
       "      <td>2019-04-04</td>\n",
       "      <td>573200638885-52</td>\n",
       "      <td>L140</td>\n",
       "      <td>70000301</td>\n",
       "      <td>CREATINA, URINA DE 24 HORAS (EXEMPLO DE EXPRES...</td>\n",
       "      <td>CA</td>\n",
       "      <td>CORELAB</td>\n",
       "      <td>BIOCHEMISTRY</td>\n",
       "      <td>8.1</td>\n",
       "    </tr>\n",
       "    <tr>\n",
       "      <th>2</th>\n",
       "      <td>-2</td>\n",
       "      <td>I</td>\n",
       "      <td>1900-01-01</td>\n",
       "      <td>2019-04-04</td>\n",
       "      <td>573200638885-52</td>\n",
       "      <td>L140</td>\n",
       "      <td>70001276</td>\n",
       "      <td>COLESTEROL, DOSAGEM DE ESTERES, SORO</td>\n",
       "      <td>CA</td>\n",
       "      <td>CORELAB</td>\n",
       "      <td>BIOCHEMISTRY</td>\n",
       "      <td>36.29</td>\n",
       "    </tr>\n",
       "    <tr>\n",
       "      <th>3</th>\n",
       "      <td>-2</td>\n",
       "      <td>I</td>\n",
       "      <td>1900-01-01</td>\n",
       "      <td>2019-04-04</td>\n",
       "      <td>573200638885-52</td>\n",
       "      <td>L140</td>\n",
       "      <td>70002619</td>\n",
       "      <td>ACIDO URICO (URATO), SORO (EXEMPLO DE EXPRESSA...</td>\n",
       "      <td>CA</td>\n",
       "      <td>CORELAB</td>\n",
       "      <td>BIOCHEMISTRY</td>\n",
       "      <td>11.18</td>\n",
       "    </tr>\n",
       "    <tr>\n",
       "      <th>4</th>\n",
       "      <td>-2</td>\n",
       "      <td>I</td>\n",
       "      <td>1900-01-01</td>\n",
       "      <td>2019-04-04</td>\n",
       "      <td>573200638885-52</td>\n",
       "      <td>L140</td>\n",
       "      <td>70003200</td>\n",
       "      <td>UREIA, SORO (EXEMPLO DE EXPRESSAO DE RESULTADO...</td>\n",
       "      <td>CA</td>\n",
       "      <td>CORELAB</td>\n",
       "      <td>BIOCHEMISTRY</td>\n",
       "      <td>7.62</td>\n",
       "    </tr>\n",
       "    <tr>\n",
       "      <th>...</th>\n",
       "      <td>...</td>\n",
       "      <td>...</td>\n",
       "      <td>...</td>\n",
       "      <td>...</td>\n",
       "      <td>...</td>\n",
       "      <td>...</td>\n",
       "      <td>...</td>\n",
       "      <td>...</td>\n",
       "      <td>...</td>\n",
       "      <td>...</td>\n",
       "      <td>...</td>\n",
       "      <td>...</td>\n",
       "    </tr>\n",
       "    <tr>\n",
       "      <th>2340426</th>\n",
       "      <td>9999999-1</td>\n",
       "      <td>F</td>\n",
       "      <td>2010-01-01</td>\n",
       "      <td>2019-07-17</td>\n",
       "      <td>9999999-2790-1</td>\n",
       "      <td>L121</td>\n",
       "      <td>70005139</td>\n",
       "      <td>BACTERIAS, ANTIBIOGRAMA AUTOMATIZADO</td>\n",
       "      <td>CA</td>\n",
       "      <td>MICROBIO</td>\n",
       "      <td>CULTURE</td>\n",
       "      <td>-7.87</td>\n",
       "    </tr>\n",
       "    <tr>\n",
       "      <th>2340427</th>\n",
       "      <td>9999999-1</td>\n",
       "      <td>F</td>\n",
       "      <td>2010-01-01</td>\n",
       "      <td>2019-07-17</td>\n",
       "      <td>9999999-2791-1</td>\n",
       "      <td>L139</td>\n",
       "      <td>70002374</td>\n",
       "      <td>IDENTIFICACAO DE BACTERIAS, DIVERSOS (XXX), CU...</td>\n",
       "      <td>CA</td>\n",
       "      <td>MICROBIO</td>\n",
       "      <td>BACTEROSCOPY</td>\n",
       "      <td>22.79</td>\n",
       "    </tr>\n",
       "    <tr>\n",
       "      <th>2340428</th>\n",
       "      <td>9999999-1</td>\n",
       "      <td>F</td>\n",
       "      <td>2010-01-01</td>\n",
       "      <td>2019-07-17</td>\n",
       "      <td>9999999-2791-1</td>\n",
       "      <td>L139</td>\n",
       "      <td>70004185</td>\n",
       "      <td>ROTINA DE URINA (CARACTERES FISICOS, ELEMENTOS...</td>\n",
       "      <td>CA</td>\n",
       "      <td>URINE</td>\n",
       "      <td>ROUTINE</td>\n",
       "      <td>10.61</td>\n",
       "    </tr>\n",
       "    <tr>\n",
       "      <th>2340429</th>\n",
       "      <td>9999999-1</td>\n",
       "      <td>F</td>\n",
       "      <td>2010-01-01</td>\n",
       "      <td>2019-07-17</td>\n",
       "      <td>9999999-2791-1</td>\n",
       "      <td>L139</td>\n",
       "      <td>70004964</td>\n",
       "      <td>IDENTIFICACAO DE BACTERIAS, URINA JATO MEDIO, ...</td>\n",
       "      <td>CA</td>\n",
       "      <td>MICROBIO</td>\n",
       "      <td>UROCULTURE</td>\n",
       "      <td>17.56</td>\n",
       "    </tr>\n",
       "    <tr>\n",
       "      <th>2340430</th>\n",
       "      <td>9999999-1</td>\n",
       "      <td>F</td>\n",
       "      <td>2010-01-01</td>\n",
       "      <td>2019-07-17</td>\n",
       "      <td>9999999-2791-1</td>\n",
       "      <td>L139</td>\n",
       "      <td>70005139</td>\n",
       "      <td>BACTERIAS, ANTIBIOGRAMA AUTOMATIZADO</td>\n",
       "      <td>CA</td>\n",
       "      <td>MICROBIO</td>\n",
       "      <td>CULTURE</td>\n",
       "      <td>-7.87</td>\n",
       "    </tr>\n",
       "  </tbody>\n",
       "</table>\n",
       "<p>2340431 rows × 12 columns</p>\n",
       "</div>"
      ],
      "text/plain": [
       "         PatientId Gender Dateofbirth Dateofservice         ServiceId LabId  \\\n",
       "0               -2      I  1900-01-01    2019-02-22  532800338922-132  L069   \n",
       "1               -2      I  1900-01-01    2019-04-04   573200638885-52  L140   \n",
       "2               -2      I  1900-01-01    2019-04-04   573200638885-52  L140   \n",
       "3               -2      I  1900-01-01    2019-04-04   573200638885-52  L140   \n",
       "4               -2      I  1900-01-01    2019-04-04   573200638885-52  L140   \n",
       "...            ...    ...         ...           ...               ...   ...   \n",
       "2340426  9999999-1      F  2010-01-01    2019-07-17    9999999-2790-1  L121   \n",
       "2340427  9999999-1      F  2010-01-01    2019-07-17    9999999-2791-1  L139   \n",
       "2340428  9999999-1      F  2010-01-01    2019-07-17    9999999-2791-1  L139   \n",
       "2340429  9999999-1      F  2010-01-01    2019-07-17    9999999-2791-1  L139   \n",
       "2340430  9999999-1      F  2010-01-01    2019-07-17    9999999-2791-1  L139   \n",
       "\n",
       "          CodItem                                           DescItem Category  \\\n",
       "0        70003759          PROTROMBINA, TEMPO, ATIVIDADE,RNI, PLASMA       CA   \n",
       "1        70000301  CREATINA, URINA DE 24 HORAS (EXEMPLO DE EXPRES...       CA   \n",
       "2        70001276               COLESTEROL, DOSAGEM DE ESTERES, SORO       CA   \n",
       "3        70002619  ACIDO URICO (URATO), SORO (EXEMPLO DE EXPRESSA...       CA   \n",
       "4        70003200  UREIA, SORO (EXEMPLO DE EXPRESSAO DE RESULTADO...       CA   \n",
       "...           ...                                                ...      ...   \n",
       "2340426  70005139               BACTERIAS, ANTIBIOGRAMA AUTOMATIZADO       CA   \n",
       "2340427  70002374  IDENTIFICACAO DE BACTERIAS, DIVERSOS (XXX), CU...       CA   \n",
       "2340428  70004185  ROTINA DE URINA (CARACTERES FISICOS, ELEMENTOS...       CA   \n",
       "2340429  70004964  IDENTIFICACAO DE BACTERIAS, URINA JATO MEDIO, ...       CA   \n",
       "2340430  70005139               BACTERIAS, ANTIBIOGRAMA AUTOMATIZADO       CA   \n",
       "\n",
       "           Family    Speciality  Profit  \n",
       "0          HEMATO   COAGULATION    10.1  \n",
       "1         CORELAB  BIOCHEMISTRY     8.1  \n",
       "2         CORELAB  BIOCHEMISTRY   36.29  \n",
       "3         CORELAB  BIOCHEMISTRY   11.18  \n",
       "4         CORELAB  BIOCHEMISTRY    7.62  \n",
       "...           ...           ...     ...  \n",
       "2340426  MICROBIO       CULTURE   -7.87  \n",
       "2340427  MICROBIO  BACTEROSCOPY   22.79  \n",
       "2340428     URINE       ROUTINE   10.61  \n",
       "2340429  MICROBIO    UROCULTURE   17.56  \n",
       "2340430  MICROBIO       CULTURE   -7.87  \n",
       "\n",
       "[2340431 rows x 12 columns]"
      ]
     },
     "execution_count": 98,
     "metadata": {},
     "output_type": "execute_result"
    }
   ],
   "source": [
    "df_transactional.groupby(['PatientId', 'Gender', 'Dateofbirth', 'Dateofservice', 'ServiceId',\n",
    "       'LabId', 'CodItem','DescItem', 'Category', 'Family',\n",
    "       'Speciality'],as_index=False)[\"Profit\"].sum()"
   ]
  },
  {
   "cell_type": "code",
   "execution_count": null,
   "metadata": {},
   "outputs": [
    {
     "data": {
      "text/html": [
       "<div>\n",
       "<style scoped>\n",
       "    .dataframe tbody tr th:only-of-type {\n",
       "        vertical-align: middle;\n",
       "    }\n",
       "\n",
       "    .dataframe tbody tr th {\n",
       "        vertical-align: top;\n",
       "    }\n",
       "\n",
       "    .dataframe thead th {\n",
       "        text-align: right;\n",
       "    }\n",
       "</style>\n",
       "<table border=\"1\" class=\"dataframe\">\n",
       "  <thead>\n",
       "    <tr style=\"text-align: right;\">\n",
       "      <th></th>\n",
       "      <th>CodItem</th>\n",
       "      <th>DescItem</th>\n",
       "      <th>Category</th>\n",
       "      <th>Family</th>\n",
       "      <th>Speciality</th>\n",
       "      <th>TestingCost</th>\n",
       "    </tr>\n",
       "  </thead>\n",
       "  <tbody>\n",
       "    <tr>\n",
       "      <th>0</th>\n",
       "      <td>70003237</td>\n",
       "      <td>MAGNESIO, SORO (EXEMPLO DE EXPRESSAO DE RESULT...</td>\n",
       "      <td>CA</td>\n",
       "      <td>CORELAB</td>\n",
       "      <td>BIOCHEMISTRY</td>\n",
       "      <td>1.78</td>\n",
       "    </tr>\n",
       "    <tr>\n",
       "      <th>1</th>\n",
       "      <td>70000638</td>\n",
       "      <td>HEMOGRAMA, AUTOMATIZADO, SANGUE</td>\n",
       "      <td>CA</td>\n",
       "      <td>HEMATO</td>\n",
       "      <td>BLOOD COUNT</td>\n",
       "      <td>2.46</td>\n",
       "    </tr>\n",
       "    <tr>\n",
       "      <th>2</th>\n",
       "      <td>70001597</td>\n",
       "      <td>FERRITINA, SORO</td>\n",
       "      <td>CA</td>\n",
       "      <td>CORELAB</td>\n",
       "      <td>IMMUNOHORMONE</td>\n",
       "      <td>2.11</td>\n",
       "    </tr>\n",
       "    <tr>\n",
       "      <th>3</th>\n",
       "      <td>70000103</td>\n",
       "      <td>FERRO, DOSAGEM, SORO (EXEMPLO DE EXPRESSAO DE ...</td>\n",
       "      <td>CA</td>\n",
       "      <td>CORELAB</td>\n",
       "      <td>BIOCHEMISTRY</td>\n",
       "      <td>0.80</td>\n",
       "    </tr>\n",
       "    <tr>\n",
       "      <th>4</th>\n",
       "      <td>70000224</td>\n",
       "      <td>CALCIO, DOSAGEM, SORO (EXEMPLO DE EXPRESSAO DE...</td>\n",
       "      <td>CA</td>\n",
       "      <td>CORELAB</td>\n",
       "      <td>BIOCHEMISTRY</td>\n",
       "      <td>1.02</td>\n",
       "    </tr>\n",
       "  </tbody>\n",
       "</table>\n",
       "</div>"
      ],
      "text/plain": [
       "    CodItem                                           DescItem Category  \\\n",
       "0  70003237  MAGNESIO, SORO (EXEMPLO DE EXPRESSAO DE RESULT...       CA   \n",
       "1  70000638                    HEMOGRAMA, AUTOMATIZADO, SANGUE       CA   \n",
       "2  70001597                                    FERRITINA, SORO       CA   \n",
       "3  70000103  FERRO, DOSAGEM, SORO (EXEMPLO DE EXPRESSAO DE ...       CA   \n",
       "4  70000224  CALCIO, DOSAGEM, SORO (EXEMPLO DE EXPRESSAO DE...       CA   \n",
       "\n",
       "    Family     Speciality  TestingCost  \n",
       "0  CORELAB   BIOCHEMISTRY         1.78  \n",
       "1   HEMATO    BLOOD COUNT         2.46  \n",
       "2  CORELAB  IMMUNOHORMONE         2.11  \n",
       "3  CORELAB   BIOCHEMISTRY         0.80  \n",
       "4  CORELAB   BIOCHEMISTRY         1.02  "
      ]
     },
     "execution_count": 87,
     "metadata": {},
     "output_type": "execute_result"
    }
   ],
   "source": [
    "df_tests.head()"
   ]
  },
  {
   "cell_type": "code",
   "execution_count": null,
   "metadata": {},
   "outputs": [],
   "source": [
    "#df_transactional.groupby([\"PatientId\",\"Gender\",\"Dateofbirth\",\"Dateofservice\",\"ServiceId\",\"LabId\",\"CodItem\"],as_index=False).sum()"
   ]
  },
  {
   "cell_type": "code",
   "execution_count": null,
   "metadata": {},
   "outputs": [],
   "source": [
    "#df_transactional[\"AgeInService\"] = df_transactional[\"Dateofservice\"] - df_transactional[\"Dateofbirth\"]\n",
    "#df_transactional[\"AgeInService\"] = df_transactional[\"AgeInService\"]/np.timedelta64(1, 'Y')\n",
    "#df_transactional[\"AgeInService\"] = df_transactional[\"AgeInService\"].astype(\"int64\")\n",
    "\n",
    "#d4 = df_tests"
   ]
  },
  {
   "cell_type": "code",
   "execution_count": null,
   "metadata": {},
   "outputs": [],
   "source": []
  }
 ],
 "metadata": {
  "kernelspec": {
   "display_name": "Python 3.9.12 ('base')",
   "language": "python",
   "name": "python3"
  },
  "language_info": {
   "codemirror_mode": {
    "name": "ipython",
    "version": 3
   },
   "file_extension": ".py",
   "mimetype": "text/x-python",
   "name": "python",
   "nbconvert_exporter": "python",
   "pygments_lexer": "ipython3",
   "version": "3.9.12"
  },
  "orig_nbformat": 4,
  "vscode": {
   "interpreter": {
    "hash": "065adfb6cf8dde93f3b68adab08bd1730f93fe8bcfc65ba4af5a314086910420"
   }
  }
 },
 "nbformat": 4,
 "nbformat_minor": 2
}
