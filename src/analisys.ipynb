{
 "cells": [
  {
   "cell_type": "code",
   "execution_count": 518,
   "metadata": {},
   "outputs": [],
   "source": [
    "import pandas as pd\n",
    "import numpy as np\n",
    "import seaborn as sns\n",
    "%matplotlib inline\n",
    "import matplotlib.pyplot as plt\n",
    "from scipy import stats\n",
    "\n",
    "pd.set_option('float_format', '{:.2f}'.format)"
   ]
  },
  {
   "cell_type": "code",
   "execution_count": 519,
   "metadata": {},
   "outputs": [],
   "source": [
    "prefix  = \"../data/\"\n",
    "\n",
    "df_demographic = pd.read_csv(prefix+\"DemographicData_ZCTAs.csv\")\n",
    "df_economic = pd.read_csv(prefix+\"EconomicData_ZCTAs.csv\")\n",
    "df_geocode = pd.read_csv(prefix+\"df_geocode.csv\")\n",
    "df_tests = pd.read_csv(prefix+\"test_data.csv\")\n",
    "df_transactional = pd.read_csv(prefix+\"transactional_data.csv\",sep=\";\",decimal=\",\")"
   ]
  },
  {
   "cell_type": "markdown",
   "metadata": {},
   "source": [
    "# Sanity check"
   ]
  },
  {
   "cell_type": "markdown",
   "metadata": {},
   "source": [
    "## Sanity check df_demographic"
   ]
  },
  {
   "cell_type": "code",
   "execution_count": 520,
   "metadata": {},
   "outputs": [
    {
     "data": {
      "text/html": [
       "<div>\n",
       "<style scoped>\n",
       "    .dataframe tbody tr th:only-of-type {\n",
       "        vertical-align: middle;\n",
       "    }\n",
       "\n",
       "    .dataframe tbody tr th {\n",
       "        vertical-align: top;\n",
       "    }\n",
       "\n",
       "    .dataframe thead th {\n",
       "        text-align: right;\n",
       "    }\n",
       "</style>\n",
       "<table border=\"1\" class=\"dataframe\">\n",
       "  <thead>\n",
       "    <tr style=\"text-align: right;\">\n",
       "      <th></th>\n",
       "      <th>Unnamed: 0</th>\n",
       "      <th>Id</th>\n",
       "      <th>GeographicAreaName</th>\n",
       "      <th>TotalPopulation</th>\n",
       "      <th>SexRatio(males per 100 females)</th>\n",
       "      <th>Population_Under5Years</th>\n",
       "      <th>Population_5to9Years</th>\n",
       "      <th>Population_10to14Years</th>\n",
       "      <th>Population_15to19Years</th>\n",
       "      <th>Population_20to24Years</th>\n",
       "      <th>Population_25to34Years</th>\n",
       "      <th>Population_35to44Years</th>\n",
       "      <th>Population_45to54Years</th>\n",
       "      <th>Population_55to59Years</th>\n",
       "      <th>Population_60to64Years</th>\n",
       "      <th>Population_65to74Years</th>\n",
       "      <th>Population_75to84Years</th>\n",
       "      <th>Population_85YearsAndOver</th>\n",
       "      <th>MedianAgeInYears</th>\n",
       "    </tr>\n",
       "  </thead>\n",
       "  <tbody>\n",
       "    <tr>\n",
       "      <th>0</th>\n",
       "      <td>0</td>\n",
       "      <td>8600000US35004</td>\n",
       "      <td>ZCTA5 35004</td>\n",
       "      <td>12045</td>\n",
       "      <td>94.10</td>\n",
       "      <td>805</td>\n",
       "      <td>1075</td>\n",
       "      <td>898</td>\n",
       "      <td>477</td>\n",
       "      <td>578</td>\n",
       "      <td>2088</td>\n",
       "      <td>1628</td>\n",
       "      <td>1200</td>\n",
       "      <td>886</td>\n",
       "      <td>683</td>\n",
       "      <td>1017</td>\n",
       "      <td>534</td>\n",
       "      <td>176</td>\n",
       "      <td>35.50</td>\n",
       "    </tr>\n",
       "    <tr>\n",
       "      <th>1</th>\n",
       "      <td>1</td>\n",
       "      <td>8600000US35005</td>\n",
       "      <td>ZCTA5 35005</td>\n",
       "      <td>7344</td>\n",
       "      <td>86.10</td>\n",
       "      <td>504</td>\n",
       "      <td>453</td>\n",
       "      <td>511</td>\n",
       "      <td>499</td>\n",
       "      <td>214</td>\n",
       "      <td>788</td>\n",
       "      <td>795</td>\n",
       "      <td>968</td>\n",
       "      <td>612</td>\n",
       "      <td>561</td>\n",
       "      <td>798</td>\n",
       "      <td>485</td>\n",
       "      <td>156</td>\n",
       "      <td>44.00</td>\n",
       "    </tr>\n",
       "    <tr>\n",
       "      <th>2</th>\n",
       "      <td>2</td>\n",
       "      <td>8600000US35006</td>\n",
       "      <td>ZCTA5 35006</td>\n",
       "      <td>2883</td>\n",
       "      <td>108.20</td>\n",
       "      <td>96</td>\n",
       "      <td>153</td>\n",
       "      <td>303</td>\n",
       "      <td>129</td>\n",
       "      <td>156</td>\n",
       "      <td>183</td>\n",
       "      <td>367</td>\n",
       "      <td>430</td>\n",
       "      <td>296</td>\n",
       "      <td>260</td>\n",
       "      <td>280</td>\n",
       "      <td>201</td>\n",
       "      <td>29</td>\n",
       "      <td>47.20</td>\n",
       "    </tr>\n",
       "    <tr>\n",
       "      <th>3</th>\n",
       "      <td>3</td>\n",
       "      <td>8600000US35007</td>\n",
       "      <td>ZCTA5 35007</td>\n",
       "      <td>26332</td>\n",
       "      <td>95.00</td>\n",
       "      <td>1936</td>\n",
       "      <td>1992</td>\n",
       "      <td>1837</td>\n",
       "      <td>1762</td>\n",
       "      <td>1376</td>\n",
       "      <td>3119</td>\n",
       "      <td>3849</td>\n",
       "      <td>3907</td>\n",
       "      <td>1665</td>\n",
       "      <td>1323</td>\n",
       "      <td>2096</td>\n",
       "      <td>1106</td>\n",
       "      <td>364</td>\n",
       "      <td>37.70</td>\n",
       "    </tr>\n",
       "    <tr>\n",
       "      <th>4</th>\n",
       "      <td>4</td>\n",
       "      <td>8600000US35010</td>\n",
       "      <td>ZCTA5 35010</td>\n",
       "      <td>20613</td>\n",
       "      <td>90.50</td>\n",
       "      <td>1306</td>\n",
       "      <td>1465</td>\n",
       "      <td>944</td>\n",
       "      <td>1217</td>\n",
       "      <td>1128</td>\n",
       "      <td>2513</td>\n",
       "      <td>2106</td>\n",
       "      <td>2950</td>\n",
       "      <td>1512</td>\n",
       "      <td>1472</td>\n",
       "      <td>2421</td>\n",
       "      <td>1155</td>\n",
       "      <td>424</td>\n",
       "      <td>42.60</td>\n",
       "    </tr>\n",
       "  </tbody>\n",
       "</table>\n",
       "</div>"
      ],
      "text/plain": [
       "   Unnamed: 0              Id GeographicAreaName  TotalPopulation  \\\n",
       "0           0  8600000US35004        ZCTA5 35004            12045   \n",
       "1           1  8600000US35005        ZCTA5 35005             7344   \n",
       "2           2  8600000US35006        ZCTA5 35006             2883   \n",
       "3           3  8600000US35007        ZCTA5 35007            26332   \n",
       "4           4  8600000US35010        ZCTA5 35010            20613   \n",
       "\n",
       "   SexRatio(males per 100 females)  Population_Under5Years  \\\n",
       "0                            94.10                     805   \n",
       "1                            86.10                     504   \n",
       "2                           108.20                      96   \n",
       "3                            95.00                    1936   \n",
       "4                            90.50                    1306   \n",
       "\n",
       "   Population_5to9Years  Population_10to14Years  Population_15to19Years  \\\n",
       "0                  1075                     898                     477   \n",
       "1                   453                     511                     499   \n",
       "2                   153                     303                     129   \n",
       "3                  1992                    1837                    1762   \n",
       "4                  1465                     944                    1217   \n",
       "\n",
       "   Population_20to24Years  Population_25to34Years  Population_35to44Years  \\\n",
       "0                     578                    2088                    1628   \n",
       "1                     214                     788                     795   \n",
       "2                     156                     183                     367   \n",
       "3                    1376                    3119                    3849   \n",
       "4                    1128                    2513                    2106   \n",
       "\n",
       "   Population_45to54Years  Population_55to59Years  Population_60to64Years  \\\n",
       "0                    1200                     886                     683   \n",
       "1                     968                     612                     561   \n",
       "2                     430                     296                     260   \n",
       "3                    3907                    1665                    1323   \n",
       "4                    2950                    1512                    1472   \n",
       "\n",
       "   Population_65to74Years  Population_75to84Years  Population_85YearsAndOver  \\\n",
       "0                    1017                     534                        176   \n",
       "1                     798                     485                        156   \n",
       "2                     280                     201                         29   \n",
       "3                    2096                    1106                        364   \n",
       "4                    2421                    1155                        424   \n",
       "\n",
       "   MedianAgeInYears  \n",
       "0             35.50  \n",
       "1             44.00  \n",
       "2             47.20  \n",
       "3             37.70  \n",
       "4             42.60  "
      ]
     },
     "execution_count": 520,
     "metadata": {},
     "output_type": "execute_result"
    }
   ],
   "source": [
    "df_demographic.head(5)"
   ]
  },
  {
   "cell_type": "markdown",
   "metadata": {},
   "source": [
    "### Correção de nome das colunas"
   ]
  },
  {
   "cell_type": "code",
   "execution_count": 521,
   "metadata": {},
   "outputs": [],
   "source": [
    "df_demographic.columns = [x.replace(\" \",\"\").replace(\"(\",\"\").replace(\")\",\"\").replace(\"_\",\"\") for x in df_demographic.columns] # Renomeando as colunas "
   ]
  },
  {
   "cell_type": "markdown",
   "metadata": {},
   "source": [
    "Descartando a coluna Unnamed:0, pois já o dataframe já contém index"
   ]
  },
  {
   "cell_type": "code",
   "execution_count": 522,
   "metadata": {},
   "outputs": [],
   "source": [
    "df_demographic = df_demographic.iloc[:,1:]"
   ]
  },
  {
   "cell_type": "markdown",
   "metadata": {},
   "source": [
    "### Verificação de nulos"
   ]
  },
  {
   "cell_type": "code",
   "execution_count": 523,
   "metadata": {},
   "outputs": [
    {
     "data": {
      "text/plain": [
       "Id                              0\n",
       "GeographicAreaName              0\n",
       "TotalPopulation                 0\n",
       "SexRatiomalesper100females    500\n",
       "PopulationUnder5Years           0\n",
       "Population5to9Years             0\n",
       "Population10to14Years           0\n",
       "Population15to19Years           0\n",
       "Population20to24Years           0\n",
       "Population25to34Years           0\n",
       "Population35to44Years           0\n",
       "Population45to54Years           0\n",
       "Population55to59Years           0\n",
       "Population60to64Years           0\n",
       "Population65to74Years           0\n",
       "Population75to84Years           0\n",
       "Population85YearsAndOver        0\n",
       "MedianAgeInYears              569\n",
       "dtype: int64"
      ]
     },
     "execution_count": 523,
     "metadata": {},
     "output_type": "execute_result"
    }
   ],
   "source": [
    "df_demographic.isnull().sum()"
   ]
  },
  {
   "cell_type": "code",
   "execution_count": 524,
   "metadata": {},
   "outputs": [
    {
     "name": "stdout",
     "output_type": "stream",
     "text": [
      "Como vemos, cerca de 1.863% das 33120 linhas contém dados nulos\n"
     ]
    }
   ],
   "source": [
    "print(f\"Como vemos, cerca de {((100*df_demographic[df_demographic.isna().any(axis=1)].shape[0])/df_demographic.shape[0]):.3f}\\\n",
    "% das {df_demographic.shape[0]} linhas contém dados nulos\")"
   ]
  },
  {
   "cell_type": "markdown",
   "metadata": {},
   "source": [
    "Como não é possível obter os dados faltantes, as linhas que contém os dados faltantes serão excluidas do dataframe"
   ]
  },
  {
   "cell_type": "code",
   "execution_count": 525,
   "metadata": {},
   "outputs": [],
   "source": [
    "df_demographic = df_demographic.dropna(how='any') # Dropando os valores nulos"
   ]
  },
  {
   "cell_type": "markdown",
   "metadata": {},
   "source": [
    "Como é possível verificar, não constam mais valores nulos em nenhuma coluna do dataframe"
   ]
  },
  {
   "cell_type": "code",
   "execution_count": 526,
   "metadata": {},
   "outputs": [
    {
     "data": {
      "text/plain": [
       "Id                            0\n",
       "GeographicAreaName            0\n",
       "TotalPopulation               0\n",
       "SexRatiomalesper100females    0\n",
       "PopulationUnder5Years         0\n",
       "Population5to9Years           0\n",
       "Population10to14Years         0\n",
       "Population15to19Years         0\n",
       "Population20to24Years         0\n",
       "Population25to34Years         0\n",
       "Population35to44Years         0\n",
       "Population45to54Years         0\n",
       "Population55to59Years         0\n",
       "Population60to64Years         0\n",
       "Population65to74Years         0\n",
       "Population75to84Years         0\n",
       "Population85YearsAndOver      0\n",
       "MedianAgeInYears              0\n",
       "dtype: int64"
      ]
     },
     "execution_count": 526,
     "metadata": {},
     "output_type": "execute_result"
    }
   ],
   "source": [
    "df_demographic.isnull().sum()"
   ]
  },
  {
   "cell_type": "markdown",
   "metadata": {},
   "source": [
    "### Verificação do formato dos dados"
   ]
  },
  {
   "cell_type": "code",
   "execution_count": 527,
   "metadata": {},
   "outputs": [
    {
     "name": "stdout",
     "output_type": "stream",
     "text": [
      "<class 'pandas.core.frame.DataFrame'>\n",
      "Int64Index: 32503 entries, 0 to 33119\n",
      "Data columns (total 18 columns):\n",
      " #   Column                      Non-Null Count  Dtype  \n",
      "---  ------                      --------------  -----  \n",
      " 0   Id                          32503 non-null  object \n",
      " 1   GeographicAreaName          32503 non-null  object \n",
      " 2   TotalPopulation             32503 non-null  int64  \n",
      " 3   SexRatiomalesper100females  32503 non-null  float64\n",
      " 4   PopulationUnder5Years       32503 non-null  int64  \n",
      " 5   Population5to9Years         32503 non-null  int64  \n",
      " 6   Population10to14Years       32503 non-null  int64  \n",
      " 7   Population15to19Years       32503 non-null  int64  \n",
      " 8   Population20to24Years       32503 non-null  int64  \n",
      " 9   Population25to34Years       32503 non-null  int64  \n",
      " 10  Population35to44Years       32503 non-null  int64  \n",
      " 11  Population45to54Years       32503 non-null  int64  \n",
      " 12  Population55to59Years       32503 non-null  int64  \n",
      " 13  Population60to64Years       32503 non-null  int64  \n",
      " 14  Population65to74Years       32503 non-null  int64  \n",
      " 15  Population75to84Years       32503 non-null  int64  \n",
      " 16  Population85YearsAndOver    32503 non-null  int64  \n",
      " 17  MedianAgeInYears            32503 non-null  float64\n",
      "dtypes: float64(2), int64(14), object(2)\n",
      "memory usage: 4.7+ MB\n"
     ]
    }
   ],
   "source": [
    "df_demographic.info()"
   ]
  },
  {
   "cell_type": "markdown",
   "metadata": {},
   "source": [
    "É possível verificar que as colunas \"Id\" e \"GeographicAreaName\" são do tipo \"object\", e necessitam ser convertidas para tipos específicos"
   ]
  },
  {
   "cell_type": "code",
   "execution_count": 528,
   "metadata": {},
   "outputs": [],
   "source": [
    "df_demographic[\"Id\"] = df_demographic[\"Id\"].astype(pd.StringDtype())\n",
    "df_demographic[\"GeographicAreaName\"] = df_demographic[\"GeographicAreaName\"].astype(pd.StringDtype())"
   ]
  },
  {
   "cell_type": "markdown",
   "metadata": {},
   "source": [
    "Com isso, todos os Dtype(s) do dataframe foram corrigidos"
   ]
  },
  {
   "cell_type": "code",
   "execution_count": 529,
   "metadata": {},
   "outputs": [
    {
     "name": "stdout",
     "output_type": "stream",
     "text": [
      "<class 'pandas.core.frame.DataFrame'>\n",
      "Int64Index: 32503 entries, 0 to 33119\n",
      "Data columns (total 18 columns):\n",
      " #   Column                      Non-Null Count  Dtype  \n",
      "---  ------                      --------------  -----  \n",
      " 0   Id                          32503 non-null  string \n",
      " 1   GeographicAreaName          32503 non-null  string \n",
      " 2   TotalPopulation             32503 non-null  int64  \n",
      " 3   SexRatiomalesper100females  32503 non-null  float64\n",
      " 4   PopulationUnder5Years       32503 non-null  int64  \n",
      " 5   Population5to9Years         32503 non-null  int64  \n",
      " 6   Population10to14Years       32503 non-null  int64  \n",
      " 7   Population15to19Years       32503 non-null  int64  \n",
      " 8   Population20to24Years       32503 non-null  int64  \n",
      " 9   Population25to34Years       32503 non-null  int64  \n",
      " 10  Population35to44Years       32503 non-null  int64  \n",
      " 11  Population45to54Years       32503 non-null  int64  \n",
      " 12  Population55to59Years       32503 non-null  int64  \n",
      " 13  Population60to64Years       32503 non-null  int64  \n",
      " 14  Population65to74Years       32503 non-null  int64  \n",
      " 15  Population75to84Years       32503 non-null  int64  \n",
      " 16  Population85YearsAndOver    32503 non-null  int64  \n",
      " 17  MedianAgeInYears            32503 non-null  float64\n",
      "dtypes: float64(2), int64(14), string(2)\n",
      "memory usage: 4.7 MB\n"
     ]
    }
   ],
   "source": [
    "df_demographic.info()"
   ]
  },
  {
   "cell_type": "markdown",
   "metadata": {},
   "source": [
    "### Verificação de registros duplicados"
   ]
  },
  {
   "cell_type": "code",
   "execution_count": 530,
   "metadata": {},
   "outputs": [
    {
     "data": {
      "text/plain": [
       "0"
      ]
     },
     "execution_count": 530,
     "metadata": {},
     "output_type": "execute_result"
    }
   ],
   "source": [
    "# Aqui verificamos se em geral existe alguma linha totalmente igual a outra, com os valores\n",
    "#de todas as colunas iguais\n",
    "df_demographic.duplicated().sum()"
   ]
  },
  {
   "cell_type": "code",
   "execution_count": 531,
   "metadata": {},
   "outputs": [
    {
     "data": {
      "text/plain": [
       "0"
      ]
     },
     "execution_count": 531,
     "metadata": {},
     "output_type": "execute_result"
    }
   ],
   "source": [
    "# Aqui verificamos se existe algum Id duplicado\n",
    "df_demographic[\"Id\"].duplicated().sum()"
   ]
  },
  {
   "cell_type": "code",
   "execution_count": 532,
   "metadata": {},
   "outputs": [
    {
     "data": {
      "text/plain": [
       "0"
      ]
     },
     "execution_count": 532,
     "metadata": {},
     "output_type": "execute_result"
    }
   ],
   "source": [
    "# Aqui verificamos se existem registros duplicados,\n",
    "#excluindo o Id e levando em consideração apenas as variáveis numéricas\n",
    "df_demographic[df_demographic.columns[1:]].duplicated().sum()"
   ]
  },
  {
   "cell_type": "markdown",
   "metadata": {},
   "source": [
    "### Verificação dos outliers"
   ]
  },
  {
   "cell_type": "markdown",
   "metadata": {},
   "source": [
    "Neste dataframe eu não irei fazer a remoção de outliers, devido ao fato de serem dados obtidos por sensos. Como é possível observar, são dados que descrevem indicadores de cidades, dos quais por natureza esperamos outliers, devido ao fato de que existem cidades que fogem do comum, pelo fato de serem muito grandes ou de conterem uma econômia local muito forte, mesmo que com poucos habitantes. Mesmo existindo dados que fogem do comum, desta base eu irei utilizar apenas os dados referentes aos zip codes presentes em df_geocode, logo não é necessário verificar dados que não esses, e eu quero preservar as particularidades dos zipcodes que estão descritos no df_geocode"
   ]
  },
  {
   "cell_type": "markdown",
   "metadata": {},
   "source": [
    "### Correção do index"
   ]
  },
  {
   "cell_type": "code",
   "execution_count": 533,
   "metadata": {},
   "outputs": [],
   "source": [
    "df_demographic = df_demographic.reset_index(drop=True)"
   ]
  },
  {
   "cell_type": "markdown",
   "metadata": {},
   "source": [
    "## Sanity check df_economic"
   ]
  },
  {
   "cell_type": "code",
   "execution_count": 534,
   "metadata": {},
   "outputs": [
    {
     "data": {
      "text/html": [
       "<div>\n",
       "<style scoped>\n",
       "    .dataframe tbody tr th:only-of-type {\n",
       "        vertical-align: middle;\n",
       "    }\n",
       "\n",
       "    .dataframe tbody tr th {\n",
       "        vertical-align: top;\n",
       "    }\n",
       "\n",
       "    .dataframe thead th {\n",
       "        text-align: right;\n",
       "    }\n",
       "</style>\n",
       "<table border=\"1\" class=\"dataframe\">\n",
       "  <thead>\n",
       "    <tr style=\"text-align: right;\">\n",
       "      <th></th>\n",
       "      <th>Unnamed: 0</th>\n",
       "      <th>id</th>\n",
       "      <th>Geographic Area Name</th>\n",
       "      <th>TotalHouseholds_LessThan$10.000</th>\n",
       "      <th>TotalHouseholds_$10.000to$14.999</th>\n",
       "      <th>TotalHouseholds_$15.000to$24.999</th>\n",
       "      <th>TotalHouseholds_$25.000to$34.999</th>\n",
       "      <th>TotalHouseholds_$35.000to$49.999</th>\n",
       "      <th>TotalHouseholds_$50.000to$74.999</th>\n",
       "      <th>TotalHouseholds_$75.000to$99.999</th>\n",
       "      <th>TotalHouseholds_$100.000to$149.999</th>\n",
       "      <th>TotalHouseholds_$150.000to$199.999</th>\n",
       "      <th>TotalHouseholds_$200.000OrMore</th>\n",
       "    </tr>\n",
       "  </thead>\n",
       "  <tbody>\n",
       "    <tr>\n",
       "      <th>0</th>\n",
       "      <td>0</td>\n",
       "      <td>8600000US35004</td>\n",
       "      <td>ZCTA5 35004</td>\n",
       "      <td>198</td>\n",
       "      <td>71</td>\n",
       "      <td>298</td>\n",
       "      <td>513</td>\n",
       "      <td>647</td>\n",
       "      <td>1117</td>\n",
       "      <td>529</td>\n",
       "      <td>945</td>\n",
       "      <td>245</td>\n",
       "      <td>61</td>\n",
       "    </tr>\n",
       "    <tr>\n",
       "      <th>1</th>\n",
       "      <td>1</td>\n",
       "      <td>8600000US35005</td>\n",
       "      <td>ZCTA5 35005</td>\n",
       "      <td>188</td>\n",
       "      <td>184</td>\n",
       "      <td>318</td>\n",
       "      <td>293</td>\n",
       "      <td>353</td>\n",
       "      <td>562</td>\n",
       "      <td>299</td>\n",
       "      <td>407</td>\n",
       "      <td>67</td>\n",
       "      <td>26</td>\n",
       "    </tr>\n",
       "    <tr>\n",
       "      <th>2</th>\n",
       "      <td>2</td>\n",
       "      <td>8600000US35006</td>\n",
       "      <td>ZCTA5 35006</td>\n",
       "      <td>71</td>\n",
       "      <td>20</td>\n",
       "      <td>117</td>\n",
       "      <td>104</td>\n",
       "      <td>154</td>\n",
       "      <td>176</td>\n",
       "      <td>124</td>\n",
       "      <td>194</td>\n",
       "      <td>51</td>\n",
       "      <td>7</td>\n",
       "    </tr>\n",
       "    <tr>\n",
       "      <th>3</th>\n",
       "      <td>3</td>\n",
       "      <td>8600000US35007</td>\n",
       "      <td>ZCTA5 35007</td>\n",
       "      <td>396</td>\n",
       "      <td>208</td>\n",
       "      <td>670</td>\n",
       "      <td>462</td>\n",
       "      <td>1173</td>\n",
       "      <td>1854</td>\n",
       "      <td>1578</td>\n",
       "      <td>2224</td>\n",
       "      <td>473</td>\n",
       "      <td>254</td>\n",
       "    </tr>\n",
       "    <tr>\n",
       "      <th>4</th>\n",
       "      <td>4</td>\n",
       "      <td>8600000US35010</td>\n",
       "      <td>ZCTA5 35010</td>\n",
       "      <td>700</td>\n",
       "      <td>610</td>\n",
       "      <td>1093</td>\n",
       "      <td>957</td>\n",
       "      <td>1056</td>\n",
       "      <td>1512</td>\n",
       "      <td>807</td>\n",
       "      <td>749</td>\n",
       "      <td>254</td>\n",
       "      <td>249</td>\n",
       "    </tr>\n",
       "  </tbody>\n",
       "</table>\n",
       "</div>"
      ],
      "text/plain": [
       "   Unnamed: 0              id Geographic Area Name  \\\n",
       "0           0  8600000US35004          ZCTA5 35004   \n",
       "1           1  8600000US35005          ZCTA5 35005   \n",
       "2           2  8600000US35006          ZCTA5 35006   \n",
       "3           3  8600000US35007          ZCTA5 35007   \n",
       "4           4  8600000US35010          ZCTA5 35010   \n",
       "\n",
       "   TotalHouseholds_LessThan$10.000  TotalHouseholds_$10.000to$14.999  \\\n",
       "0                              198                                71   \n",
       "1                              188                               184   \n",
       "2                               71                                20   \n",
       "3                              396                               208   \n",
       "4                              700                               610   \n",
       "\n",
       "   TotalHouseholds_$15.000to$24.999  TotalHouseholds_$25.000to$34.999  \\\n",
       "0                               298                               513   \n",
       "1                               318                               293   \n",
       "2                               117                               104   \n",
       "3                               670                               462   \n",
       "4                              1093                               957   \n",
       "\n",
       "   TotalHouseholds_$35.000to$49.999  TotalHouseholds_$50.000to$74.999  \\\n",
       "0                               647                              1117   \n",
       "1                               353                               562   \n",
       "2                               154                               176   \n",
       "3                              1173                              1854   \n",
       "4                              1056                              1512   \n",
       "\n",
       "   TotalHouseholds_$75.000to$99.999  TotalHouseholds_$100.000to$149.999  \\\n",
       "0                               529                                 945   \n",
       "1                               299                                 407   \n",
       "2                               124                                 194   \n",
       "3                              1578                                2224   \n",
       "4                               807                                 749   \n",
       "\n",
       "   TotalHouseholds_$150.000to$199.999  TotalHouseholds_$200.000OrMore  \n",
       "0                                 245                              61  \n",
       "1                                  67                              26  \n",
       "2                                  51                               7  \n",
       "3                                 473                             254  \n",
       "4                                 254                             249  "
      ]
     },
     "execution_count": 534,
     "metadata": {},
     "output_type": "execute_result"
    }
   ],
   "source": [
    "df_economic.head(5)"
   ]
  },
  {
   "cell_type": "markdown",
   "metadata": {},
   "source": [
    "### Correção de nome das colunas"
   ]
  },
  {
   "cell_type": "code",
   "execution_count": 535,
   "metadata": {},
   "outputs": [],
   "source": [
    "df_economic.columns = [x.replace(\" \",\"\").replace(\"(\",\"_\").replace(\")\",\"\") for x in df_economic.columns] # Renomeando as colunas \n",
    "df_economic=df_economic.rename(columns = {'id':'Id'}) # Renomeando apenas a coluna de Id para seguir o padrão do resto do dataframe"
   ]
  },
  {
   "cell_type": "markdown",
   "metadata": {},
   "source": [
    "Descartando a coluna Unnamed:0, pois já o dataframe já contém index"
   ]
  },
  {
   "cell_type": "code",
   "execution_count": 536,
   "metadata": {},
   "outputs": [],
   "source": [
    "df_economic = df_economic.iloc[:,1:]"
   ]
  },
  {
   "cell_type": "markdown",
   "metadata": {},
   "source": [
    "### Verificação de nulos"
   ]
  },
  {
   "cell_type": "code",
   "execution_count": 537,
   "metadata": {},
   "outputs": [
    {
     "data": {
      "text/plain": [
       "Id                                    0\n",
       "GeographicAreaName                    0\n",
       "TotalHouseholds_LessThan$10.000       0\n",
       "TotalHouseholds_$10.000to$14.999      0\n",
       "TotalHouseholds_$15.000to$24.999      0\n",
       "TotalHouseholds_$25.000to$34.999      0\n",
       "TotalHouseholds_$35.000to$49.999      0\n",
       "TotalHouseholds_$50.000to$74.999      0\n",
       "TotalHouseholds_$75.000to$99.999      0\n",
       "TotalHouseholds_$100.000to$149.999    0\n",
       "TotalHouseholds_$150.000to$199.999    0\n",
       "TotalHouseholds_$200.000OrMore        0\n",
       "dtype: int64"
      ]
     },
     "execution_count": 537,
     "metadata": {},
     "output_type": "execute_result"
    }
   ],
   "source": [
    "df_economic.isnull().sum()"
   ]
  },
  {
   "cell_type": "markdown",
   "metadata": {},
   "source": [
    "Como verificamos, nesse dataframe não está presente nenhum nulo. Podemos passar para a verificação dos formatos dos dados nas colunas"
   ]
  },
  {
   "cell_type": "markdown",
   "metadata": {},
   "source": [
    "### Verificação do formato dos dados"
   ]
  },
  {
   "cell_type": "code",
   "execution_count": 538,
   "metadata": {},
   "outputs": [
    {
     "name": "stdout",
     "output_type": "stream",
     "text": [
      "<class 'pandas.core.frame.DataFrame'>\n",
      "RangeIndex: 629280 entries, 0 to 629279\n",
      "Data columns (total 12 columns):\n",
      " #   Column                              Non-Null Count   Dtype \n",
      "---  ------                              --------------   ----- \n",
      " 0   Id                                  629280 non-null  object\n",
      " 1   GeographicAreaName                  629280 non-null  object\n",
      " 2   TotalHouseholds_LessThan$10.000     629280 non-null  int64 \n",
      " 3   TotalHouseholds_$10.000to$14.999    629280 non-null  int64 \n",
      " 4   TotalHouseholds_$15.000to$24.999    629280 non-null  int64 \n",
      " 5   TotalHouseholds_$25.000to$34.999    629280 non-null  int64 \n",
      " 6   TotalHouseholds_$35.000to$49.999    629280 non-null  int64 \n",
      " 7   TotalHouseholds_$50.000to$74.999    629280 non-null  int64 \n",
      " 8   TotalHouseholds_$75.000to$99.999    629280 non-null  int64 \n",
      " 9   TotalHouseholds_$100.000to$149.999  629280 non-null  int64 \n",
      " 10  TotalHouseholds_$150.000to$199.999  629280 non-null  int64 \n",
      " 11  TotalHouseholds_$200.000OrMore      629280 non-null  int64 \n",
      "dtypes: int64(10), object(2)\n",
      "memory usage: 57.6+ MB\n"
     ]
    }
   ],
   "source": [
    "df_economic.info()"
   ]
  },
  {
   "cell_type": "markdown",
   "metadata": {},
   "source": [
    "É possível verificar que as colunas \"Id\" e \"GeographicAreaName\" são do tipo \"object\", e necessitam ser convertidas para tipos específicos"
   ]
  },
  {
   "cell_type": "code",
   "execution_count": 539,
   "metadata": {},
   "outputs": [],
   "source": [
    "df_economic[\"Id\"] = df_economic[\"Id\"].astype(pd.StringDtype())\n",
    "df_economic[\"GeographicAreaName\"] = df_economic[\"GeographicAreaName\"].astype(pd.StringDtype())"
   ]
  },
  {
   "cell_type": "markdown",
   "metadata": {},
   "source": [
    "Com isso, todos os Dtype(s) do dataframe foram corrigidos"
   ]
  },
  {
   "cell_type": "code",
   "execution_count": 540,
   "metadata": {},
   "outputs": [
    {
     "name": "stdout",
     "output_type": "stream",
     "text": [
      "<class 'pandas.core.frame.DataFrame'>\n",
      "RangeIndex: 629280 entries, 0 to 629279\n",
      "Data columns (total 12 columns):\n",
      " #   Column                              Non-Null Count   Dtype \n",
      "---  ------                              --------------   ----- \n",
      " 0   Id                                  629280 non-null  string\n",
      " 1   GeographicAreaName                  629280 non-null  string\n",
      " 2   TotalHouseholds_LessThan$10.000     629280 non-null  int64 \n",
      " 3   TotalHouseholds_$10.000to$14.999    629280 non-null  int64 \n",
      " 4   TotalHouseholds_$15.000to$24.999    629280 non-null  int64 \n",
      " 5   TotalHouseholds_$25.000to$34.999    629280 non-null  int64 \n",
      " 6   TotalHouseholds_$35.000to$49.999    629280 non-null  int64 \n",
      " 7   TotalHouseholds_$50.000to$74.999    629280 non-null  int64 \n",
      " 8   TotalHouseholds_$75.000to$99.999    629280 non-null  int64 \n",
      " 9   TotalHouseholds_$100.000to$149.999  629280 non-null  int64 \n",
      " 10  TotalHouseholds_$150.000to$199.999  629280 non-null  int64 \n",
      " 11  TotalHouseholds_$200.000OrMore      629280 non-null  int64 \n",
      "dtypes: int64(10), string(2)\n",
      "memory usage: 57.6 MB\n"
     ]
    }
   ],
   "source": [
    "df_economic.info()"
   ]
  },
  {
   "cell_type": "markdown",
   "metadata": {},
   "source": [
    "### Verificação de registros duplicados"
   ]
  },
  {
   "cell_type": "code",
   "execution_count": 541,
   "metadata": {},
   "outputs": [
    {
     "data": {
      "text/plain": [
       "596160"
      ]
     },
     "execution_count": 541,
     "metadata": {},
     "output_type": "execute_result"
    }
   ],
   "source": [
    "# Aqui verificamos se em geral existe alguma linha totalmente igual a outra, com os valores\n",
    "#de todas as colunas iguais\n",
    "df_economic.duplicated().sum()"
   ]
  },
  {
   "cell_type": "code",
   "execution_count": 542,
   "metadata": {},
   "outputs": [
    {
     "data": {
      "text/plain": [
       "596160"
      ]
     },
     "execution_count": 542,
     "metadata": {},
     "output_type": "execute_result"
    }
   ],
   "source": [
    "# Aqui verificamos se existe valor duplicados ans colunas identificadoras\n",
    "df_economic[[\"Id\",\"GeographicAreaName\"]].duplicated().sum()"
   ]
  },
  {
   "cell_type": "code",
   "execution_count": 543,
   "metadata": {},
   "outputs": [
    {
     "data": {
      "text/plain": [
       "596160"
      ]
     },
     "execution_count": 543,
     "metadata": {},
     "output_type": "execute_result"
    }
   ],
   "source": [
    "# Aqui verificamos se existem registros duplicados,\n",
    "#excluindo o Id e levando em consideração apenas as variáveis numéricas\n",
    "df_economic[df_economic.columns[1:]].duplicated().sum()"
   ]
  },
  {
   "cell_type": "code",
   "execution_count": 544,
   "metadata": {},
   "outputs": [
    {
     "name": "stdout",
     "output_type": "stream",
     "text": [
      "Cerca de 94.737 % dos dados estão duplicados\n"
     ]
    }
   ],
   "source": [
    "print(f\"Cerca de {((100*df_economic.duplicated().sum())/df_economic.shape[0]):.3f} % dos dados estão duplicados\")"
   ]
  },
  {
   "cell_type": "markdown",
   "metadata": {},
   "source": [
    "Em vista disso é necessário remover os dados duplicados"
   ]
  },
  {
   "cell_type": "code",
   "execution_count": 545,
   "metadata": {},
   "outputs": [],
   "source": [
    "df_economic = df_economic.drop_duplicates()"
   ]
  },
  {
   "cell_type": "markdown",
   "metadata": {},
   "source": [
    "### Verificação de outliers"
   ]
  },
  {
   "cell_type": "markdown",
   "metadata": {},
   "source": [
    "Neste dataframe eu não irei fazer a remoção de outliers, devido ao fato de serem dados obtidos por sensos. Como é possível observar, são dados que descrevem indicadores de cidades, dos quais por natureza esperamos outliers, devido ao fato de que existem cidades que fogem do comum, pelo fato de serem muito grandes ou de conterem uma econômia local muito forte, mesmo que com poucos habitantes. Mesmo existindo dados que fogem do comum, desta base eu irei utilizar apenas os dados referentes aos zip codes presentes em df_geocode, logo não é necessário verificar dados que não esses, e eu quero preservar as particularidades dos zipcodes que estão descritos no df_geocode"
   ]
  },
  {
   "cell_type": "markdown",
   "metadata": {},
   "source": [
    "### Correção do index"
   ]
  },
  {
   "cell_type": "code",
   "execution_count": 546,
   "metadata": {},
   "outputs": [],
   "source": [
    "df_economic = df_economic.reset_index(drop=True)"
   ]
  },
  {
   "cell_type": "markdown",
   "metadata": {},
   "source": [
    "## Sanity check df_geocode"
   ]
  },
  {
   "cell_type": "code",
   "execution_count": 547,
   "metadata": {},
   "outputs": [
    {
     "data": {
      "text/html": [
       "<div>\n",
       "<style scoped>\n",
       "    .dataframe tbody tr th:only-of-type {\n",
       "        vertical-align: middle;\n",
       "    }\n",
       "\n",
       "    .dataframe tbody tr th {\n",
       "        vertical-align: top;\n",
       "    }\n",
       "\n",
       "    .dataframe thead th {\n",
       "        text-align: right;\n",
       "    }\n",
       "</style>\n",
       "<table border=\"1\" class=\"dataframe\">\n",
       "  <thead>\n",
       "    <tr style=\"text-align: right;\">\n",
       "      <th></th>\n",
       "      <th>Unnamed: 0</th>\n",
       "      <th>Lab Id</th>\n",
       "      <th>Address</th>\n",
       "      <th>Location</th>\n",
       "      <th>Zipcode</th>\n",
       "    </tr>\n",
       "  </thead>\n",
       "  <tbody>\n",
       "    <tr>\n",
       "      <th>0</th>\n",
       "      <td>0</td>\n",
       "      <td>L152</td>\n",
       "      <td>3800 PLEASANT HILL RD STE 1, DULUTH, GA 30096</td>\n",
       "      <td>34.000319,-84.1629724</td>\n",
       "      <td>30096.00</td>\n",
       "    </tr>\n",
       "    <tr>\n",
       "      <th>1</th>\n",
       "      <td>1</td>\n",
       "      <td>L520</td>\n",
       "      <td>1614 N JAMES ST, ROME, NY 13440</td>\n",
       "      <td>43.2311327,-75.4445363</td>\n",
       "      <td>13440.00</td>\n",
       "    </tr>\n",
       "    <tr>\n",
       "      <th>2</th>\n",
       "      <td>2</td>\n",
       "      <td>L141</td>\n",
       "      <td>12911 120TH AVE NE STE D60, KIRKLAND, WA 98034</td>\n",
       "      <td>47.7162786,-122.1838152</td>\n",
       "      <td>98034.00</td>\n",
       "    </tr>\n",
       "    <tr>\n",
       "      <th>3</th>\n",
       "      <td>3</td>\n",
       "      <td>L524</td>\n",
       "      <td>5667 PEACHTREE DUNWOODY RD 250, ATLANTA, GA 30342</td>\n",
       "      <td>33.9093875,-84.3529096</td>\n",
       "      <td>30342.00</td>\n",
       "    </tr>\n",
       "    <tr>\n",
       "      <th>4</th>\n",
       "      <td>4</td>\n",
       "      <td>L545</td>\n",
       "      <td>1204 IL HWY 164, OQUAWKA, IL 61469</td>\n",
       "      <td>40.9309925,-90.9437598</td>\n",
       "      <td>61469.00</td>\n",
       "    </tr>\n",
       "  </tbody>\n",
       "</table>\n",
       "</div>"
      ],
      "text/plain": [
       "   Unnamed: 0 Lab Id                                            Address  \\\n",
       "0           0   L152      3800 PLEASANT HILL RD STE 1, DULUTH, GA 30096   \n",
       "1           1   L520                    1614 N JAMES ST, ROME, NY 13440   \n",
       "2           2   L141     12911 120TH AVE NE STE D60, KIRKLAND, WA 98034   \n",
       "3           3   L524  5667 PEACHTREE DUNWOODY RD 250, ATLANTA, GA 30342   \n",
       "4           4   L545                 1204 IL HWY 164, OQUAWKA, IL 61469   \n",
       "\n",
       "                  Location  Zipcode  \n",
       "0    34.000319,-84.1629724 30096.00  \n",
       "1   43.2311327,-75.4445363 13440.00  \n",
       "2  47.7162786,-122.1838152 98034.00  \n",
       "3   33.9093875,-84.3529096 30342.00  \n",
       "4   40.9309925,-90.9437598 61469.00  "
      ]
     },
     "execution_count": 547,
     "metadata": {},
     "output_type": "execute_result"
    }
   ],
   "source": [
    "df_geocode.head(5)"
   ]
  },
  {
   "cell_type": "markdown",
   "metadata": {},
   "source": [
    "### Correção do nome das colunas"
   ]
  },
  {
   "cell_type": "code",
   "execution_count": 548,
   "metadata": {},
   "outputs": [],
   "source": [
    "df_geocode.columns = [x.replace(\" \",\"\") for x in df_geocode.columns] # Renomeando as colunas "
   ]
  },
  {
   "cell_type": "markdown",
   "metadata": {},
   "source": [
    "Descartando a coluna Unnamed:0, pois já o dataframe já contém index"
   ]
  },
  {
   "cell_type": "code",
   "execution_count": 549,
   "metadata": {},
   "outputs": [],
   "source": [
    "df_geocode = df_geocode.iloc[:,1:]"
   ]
  },
  {
   "cell_type": "markdown",
   "metadata": {},
   "source": [
    "### Verificação de valores nulos"
   ]
  },
  {
   "cell_type": "code",
   "execution_count": 550,
   "metadata": {},
   "outputs": [
    {
     "data": {
      "text/plain": [
       "LabId       0\n",
       "Address     0\n",
       "Location    0\n",
       "Zipcode     1\n",
       "dtype: int64"
      ]
     },
     "execution_count": 550,
     "metadata": {},
     "output_type": "execute_result"
    }
   ],
   "source": [
    "df_geocode.isnull().sum()"
   ]
  },
  {
   "cell_type": "code",
   "execution_count": 551,
   "metadata": {},
   "outputs": [
    {
     "data": {
      "text/plain": [
       "1"
      ]
     },
     "execution_count": 551,
     "metadata": {},
     "output_type": "execute_result"
    }
   ],
   "source": [
    "df_geocode[df_geocode.isna().any(axis=1)].shape[0]"
   ]
  },
  {
   "cell_type": "code",
   "execution_count": 552,
   "metadata": {},
   "outputs": [
    {
     "data": {
      "text/html": [
       "<div>\n",
       "<style scoped>\n",
       "    .dataframe tbody tr th:only-of-type {\n",
       "        vertical-align: middle;\n",
       "    }\n",
       "\n",
       "    .dataframe tbody tr th {\n",
       "        vertical-align: top;\n",
       "    }\n",
       "\n",
       "    .dataframe thead th {\n",
       "        text-align: right;\n",
       "    }\n",
       "</style>\n",
       "<table border=\"1\" class=\"dataframe\">\n",
       "  <thead>\n",
       "    <tr style=\"text-align: right;\">\n",
       "      <th></th>\n",
       "      <th>LabId</th>\n",
       "      <th>Address</th>\n",
       "      <th>Location</th>\n",
       "      <th>Zipcode</th>\n",
       "    </tr>\n",
       "  </thead>\n",
       "  <tbody>\n",
       "    <tr>\n",
       "      <th>83</th>\n",
       "      <td>-2</td>\n",
       "      <td>Unavailable</td>\n",
       "      <td>Unavailable</td>\n",
       "      <td>NaN</td>\n",
       "    </tr>\n",
       "  </tbody>\n",
       "</table>\n",
       "</div>"
      ],
      "text/plain": [
       "   LabId      Address     Location  Zipcode\n",
       "83    -2  Unavailable  Unavailable      NaN"
      ]
     },
     "execution_count": 552,
     "metadata": {},
     "output_type": "execute_result"
    }
   ],
   "source": [
    "df_geocode[df_geocode.isna().any(axis=1)]"
   ]
  },
  {
   "cell_type": "markdown",
   "metadata": {},
   "source": [
    "Como podemos ver é apenas uma linha com valores faltantes e além de o zip code estar faltando, o endereço por extenso e as coordenadas também estão, o que impossibilita a busca das informações através de uma API ou dataframe auxiliar com endereços. Logo é necessário remover a linha"
   ]
  },
  {
   "cell_type": "code",
   "execution_count": 553,
   "metadata": {},
   "outputs": [],
   "source": [
    "df_geocode = df_geocode.dropna(how='any') # Dropando os valores nulos"
   ]
  },
  {
   "cell_type": "markdown",
   "metadata": {},
   "source": [
    "Como é possível verificar, não constam mais valores nulos em nenhuma coluna do dataframe"
   ]
  },
  {
   "cell_type": "code",
   "execution_count": 554,
   "metadata": {},
   "outputs": [
    {
     "data": {
      "text/plain": [
       "LabId       0\n",
       "Address     0\n",
       "Location    0\n",
       "Zipcode     0\n",
       "dtype: int64"
      ]
     },
     "execution_count": 554,
     "metadata": {},
     "output_type": "execute_result"
    }
   ],
   "source": [
    "df_geocode.isnull().sum()"
   ]
  },
  {
   "cell_type": "markdown",
   "metadata": {},
   "source": [
    "### Verificação do formato dos dados"
   ]
  },
  {
   "cell_type": "code",
   "execution_count": 555,
   "metadata": {},
   "outputs": [
    {
     "name": "stdout",
     "output_type": "stream",
     "text": [
      "<class 'pandas.core.frame.DataFrame'>\n",
      "Int64Index: 118 entries, 0 to 118\n",
      "Data columns (total 4 columns):\n",
      " #   Column    Non-Null Count  Dtype  \n",
      "---  ------    --------------  -----  \n",
      " 0   LabId     118 non-null    object \n",
      " 1   Address   118 non-null    object \n",
      " 2   Location  118 non-null    object \n",
      " 3   Zipcode   118 non-null    float64\n",
      "dtypes: float64(1), object(3)\n",
      "memory usage: 4.6+ KB\n"
     ]
    }
   ],
   "source": [
    "df_geocode.info()"
   ]
  },
  {
   "cell_type": "markdown",
   "metadata": {},
   "source": [
    "A coluna location deve se tornar duas colunas, latitude e longitude, visto que ela armazena dois valores, que deveriam estar no formato float, pois os dois são números reais"
   ]
  },
  {
   "cell_type": "code",
   "execution_count": 556,
   "metadata": {},
   "outputs": [],
   "source": [
    "def get_latitude(location):\n",
    "    latitude = location.split(',')[0]\n",
    "    return float(latitude)\n",
    "\n",
    "def get_longitude(location):\n",
    "    longitude = location.split(',')[1]\n",
    "    return float(longitude)\n",
    "\n",
    "def get_zipcode(zipcode):\n",
    "    zipcode = str(int(zipcode))\n",
    "    if len(zipcode) == 4:\n",
    "        zipcode = \"0\" + zipcode\n",
    "        return zipcode\n",
    "    else: \n",
    "        return zipcode\n",
    "\n",
    "df_geocode[\"Latitude\"] = df_geocode[\"Location\"].apply(get_latitude)\n",
    "df_geocode[\"Longitude\"] = df_geocode[\"Location\"].apply(get_longitude)"
   ]
  },
  {
   "cell_type": "code",
   "execution_count": 557,
   "metadata": {},
   "outputs": [],
   "source": [
    "df_geocode[\"LabId\"] = df_geocode[\"LabId\"].astype(pd.StringDtype())\n",
    "df_geocode[\"Address\"] = df_geocode[\"Address\"].astype(pd.StringDtype())\n",
    "df_geocode[\"Zipcode\"] = df_geocode[\"Zipcode\"].apply(get_zipcode).astype(pd.StringDtype())"
   ]
  },
  {
   "cell_type": "code",
   "execution_count": 558,
   "metadata": {},
   "outputs": [],
   "source": [
    "# Removendo a coluna location\n",
    "df_geocode = df_geocode[[\"LabId\",\"Address\",\"Zipcode\",\"Latitude\",\"Longitude\"]]"
   ]
  },
  {
   "cell_type": "code",
   "execution_count": 559,
   "metadata": {},
   "outputs": [
    {
     "name": "stdout",
     "output_type": "stream",
     "text": [
      "<class 'pandas.core.frame.DataFrame'>\n",
      "Int64Index: 118 entries, 0 to 118\n",
      "Data columns (total 5 columns):\n",
      " #   Column     Non-Null Count  Dtype  \n",
      "---  ------     --------------  -----  \n",
      " 0   LabId      118 non-null    string \n",
      " 1   Address    118 non-null    string \n",
      " 2   Zipcode    118 non-null    string \n",
      " 3   Latitude   118 non-null    float64\n",
      " 4   Longitude  118 non-null    float64\n",
      "dtypes: float64(2), string(3)\n",
      "memory usage: 5.5 KB\n"
     ]
    }
   ],
   "source": [
    "df_geocode.info()"
   ]
  },
  {
   "cell_type": "markdown",
   "metadata": {},
   "source": [
    "### Verificação de registros duplicados"
   ]
  },
  {
   "cell_type": "code",
   "execution_count": 560,
   "metadata": {},
   "outputs": [
    {
     "data": {
      "text/plain": [
       "0"
      ]
     },
     "execution_count": 560,
     "metadata": {},
     "output_type": "execute_result"
    }
   ],
   "source": [
    "# Aqui verificamos se em geral existe alguma linha totalmente igual a outra, com os valores\n",
    "#de todas as colunas iguais\n",
    "df_geocode.duplicated().sum()"
   ]
  },
  {
   "cell_type": "code",
   "execution_count": 561,
   "metadata": {},
   "outputs": [
    {
     "data": {
      "text/plain": [
       "0"
      ]
     },
     "execution_count": 561,
     "metadata": {},
     "output_type": "execute_result"
    }
   ],
   "source": [
    "# Aqui verificamos se existe algum Id duplicado\n",
    "df_geocode[\"LabId\"].duplicated().sum()"
   ]
  },
  {
   "cell_type": "code",
   "execution_count": 562,
   "metadata": {},
   "outputs": [
    {
     "data": {
      "text/plain": [
       "(0, 0)"
      ]
     },
     "execution_count": 562,
     "metadata": {},
     "output_type": "execute_result"
    }
   ],
   "source": [
    "# Aqui verificamos se tem algum endereço que não seja único, e depois verificamos o zipcode \n",
    "#juntamente com latitude e longitude, visto que podem existir mais de um laboratório em \n",
    "#um zip code\n",
    "df_geocode[\"Address\"].duplicated().sum(),\\\n",
    "df_geocode[[\"Zipcode\",\"Latitude\",\"Longitude\"]].duplicated().sum()"
   ]
  },
  {
   "cell_type": "markdown",
   "metadata": {},
   "source": [
    "### Verificação de outliers"
   ]
  },
  {
   "cell_type": "markdown",
   "metadata": {},
   "source": [
    "Neste dataframe não é necessário a verificação de outliers, visto que ele é composto apenas por variáveis categóricas"
   ]
  },
  {
   "cell_type": "markdown",
   "metadata": {},
   "source": [
    "### Correção do index"
   ]
  },
  {
   "cell_type": "code",
   "execution_count": 563,
   "metadata": {},
   "outputs": [],
   "source": [
    "df_geocode = df_geocode.reset_index(drop=True)"
   ]
  },
  {
   "cell_type": "markdown",
   "metadata": {},
   "source": [
    "## Sanity check df_tests"
   ]
  },
  {
   "cell_type": "code",
   "execution_count": 564,
   "metadata": {},
   "outputs": [
    {
     "data": {
      "text/html": [
       "<div>\n",
       "<style scoped>\n",
       "    .dataframe tbody tr th:only-of-type {\n",
       "        vertical-align: middle;\n",
       "    }\n",
       "\n",
       "    .dataframe tbody tr th {\n",
       "        vertical-align: top;\n",
       "    }\n",
       "\n",
       "    .dataframe thead th {\n",
       "        text-align: right;\n",
       "    }\n",
       "</style>\n",
       "<table border=\"1\" class=\"dataframe\">\n",
       "  <thead>\n",
       "    <tr style=\"text-align: right;\">\n",
       "      <th></th>\n",
       "      <th>CodItem</th>\n",
       "      <th>Desc Item</th>\n",
       "      <th>Category</th>\n",
       "      <th>Family</th>\n",
       "      <th>Speciality</th>\n",
       "      <th>Testing Cost</th>\n",
       "    </tr>\n",
       "  </thead>\n",
       "  <tbody>\n",
       "    <tr>\n",
       "      <th>0</th>\n",
       "      <td>70003237</td>\n",
       "      <td>MAGNESIO, SORO (EXEMPLO DE EXPRESSAO DE RESULT...</td>\n",
       "      <td>CA</td>\n",
       "      <td>CORELAB</td>\n",
       "      <td>BIOCHEMISTRY</td>\n",
       "      <td>1.78</td>\n",
       "    </tr>\n",
       "    <tr>\n",
       "      <th>1</th>\n",
       "      <td>70000638</td>\n",
       "      <td>HEMOGRAMA, AUTOMATIZADO, SANGUE</td>\n",
       "      <td>CA</td>\n",
       "      <td>HEMATO</td>\n",
       "      <td>BLOOD COUNT</td>\n",
       "      <td>2.46</td>\n",
       "    </tr>\n",
       "    <tr>\n",
       "      <th>2</th>\n",
       "      <td>70001597</td>\n",
       "      <td>FERRITINA, SORO</td>\n",
       "      <td>CA</td>\n",
       "      <td>CORELAB</td>\n",
       "      <td>IMMUNOHORMONE</td>\n",
       "      <td>2.11</td>\n",
       "    </tr>\n",
       "    <tr>\n",
       "      <th>3</th>\n",
       "      <td>70000103</td>\n",
       "      <td>FERRO, DOSAGEM, SORO (EXEMPLO DE EXPRESSAO DE ...</td>\n",
       "      <td>CA</td>\n",
       "      <td>CORELAB</td>\n",
       "      <td>BIOCHEMISTRY</td>\n",
       "      <td>0.80</td>\n",
       "    </tr>\n",
       "    <tr>\n",
       "      <th>4</th>\n",
       "      <td>70000224</td>\n",
       "      <td>CALCIO, DOSAGEM, SORO (EXEMPLO DE EXPRESSAO DE...</td>\n",
       "      <td>CA</td>\n",
       "      <td>CORELAB</td>\n",
       "      <td>BIOCHEMISTRY</td>\n",
       "      <td>1.02</td>\n",
       "    </tr>\n",
       "  </tbody>\n",
       "</table>\n",
       "</div>"
      ],
      "text/plain": [
       "    CodItem                                          Desc Item Category  \\\n",
       "0  70003237  MAGNESIO, SORO (EXEMPLO DE EXPRESSAO DE RESULT...       CA   \n",
       "1  70000638                    HEMOGRAMA, AUTOMATIZADO, SANGUE       CA   \n",
       "2  70001597                                    FERRITINA, SORO       CA   \n",
       "3  70000103  FERRO, DOSAGEM, SORO (EXEMPLO DE EXPRESSAO DE ...       CA   \n",
       "4  70000224  CALCIO, DOSAGEM, SORO (EXEMPLO DE EXPRESSAO DE...       CA   \n",
       "\n",
       "    Family     Speciality  Testing Cost  \n",
       "0  CORELAB   BIOCHEMISTRY          1.78  \n",
       "1   HEMATO    BLOOD COUNT          2.46  \n",
       "2  CORELAB  IMMUNOHORMONE          2.11  \n",
       "3  CORELAB   BIOCHEMISTRY          0.80  \n",
       "4  CORELAB   BIOCHEMISTRY          1.02  "
      ]
     },
     "execution_count": 564,
     "metadata": {},
     "output_type": "execute_result"
    }
   ],
   "source": [
    "df_tests.head(5)"
   ]
  },
  {
   "cell_type": "markdown",
   "metadata": {},
   "source": [
    "### Correção de nome de colunas"
   ]
  },
  {
   "cell_type": "code",
   "execution_count": 565,
   "metadata": {},
   "outputs": [],
   "source": [
    "df_tests.columns = [x.replace(\" \",\"\") for x in df_tests.columns] # Renomeando as colunas "
   ]
  },
  {
   "cell_type": "markdown",
   "metadata": {},
   "source": [
    "### Verificação de nulos"
   ]
  },
  {
   "cell_type": "code",
   "execution_count": 566,
   "metadata": {},
   "outputs": [
    {
     "data": {
      "text/plain": [
       "CodItem        0\n",
       "DescItem       0\n",
       "Category       0\n",
       "Family         0\n",
       "Speciality     0\n",
       "TestingCost    0\n",
       "dtype: int64"
      ]
     },
     "execution_count": 566,
     "metadata": {},
     "output_type": "execute_result"
    }
   ],
   "source": [
    "df_tests.isnull().sum()"
   ]
  },
  {
   "cell_type": "markdown",
   "metadata": {},
   "source": [
    "Como não foi verificado nenhum valor nulo, não é necessário tratamento e podemos passar para a verificação do formato das colunas"
   ]
  },
  {
   "cell_type": "markdown",
   "metadata": {},
   "source": [
    "### Verificação de formato dos dados"
   ]
  },
  {
   "cell_type": "code",
   "execution_count": 567,
   "metadata": {},
   "outputs": [
    {
     "name": "stdout",
     "output_type": "stream",
     "text": [
      "<class 'pandas.core.frame.DataFrame'>\n",
      "RangeIndex: 2002 entries, 0 to 2001\n",
      "Data columns (total 6 columns):\n",
      " #   Column       Non-Null Count  Dtype  \n",
      "---  ------       --------------  -----  \n",
      " 0   CodItem      2002 non-null   int64  \n",
      " 1   DescItem     2002 non-null   object \n",
      " 2   Category     2002 non-null   object \n",
      " 3   Family       2002 non-null   object \n",
      " 4   Speciality   2002 non-null   object \n",
      " 5   TestingCost  2002 non-null   float64\n",
      "dtypes: float64(1), int64(1), object(4)\n",
      "memory usage: 94.0+ KB\n"
     ]
    }
   ],
   "source": [
    "df_tests.info()"
   ]
  },
  {
   "cell_type": "markdown",
   "metadata": {},
   "source": [
    "Aqui é notável que a maioria das colunas estão no formato object e é necessário um casting "
   ]
  },
  {
   "cell_type": "code",
   "execution_count": 568,
   "metadata": {},
   "outputs": [],
   "source": [
    "df_tests[\"CodItem\"] = df_tests[\"CodItem\"].astype(pd.StringDtype())\n",
    "df_tests[\"DescItem\"] = df_tests[\"DescItem\"].astype(pd.StringDtype())\n",
    "df_tests[\"Category\"] = df_tests[\"Category\"].astype(pd.StringDtype())\n",
    "df_tests[\"Family\"] = df_tests[\"Family\"].astype(pd.StringDtype())\n",
    "df_tests[\"Speciality\"] = df_tests[\"Speciality\"].astype(pd.StringDtype())"
   ]
  },
  {
   "cell_type": "markdown",
   "metadata": {},
   "source": [
    "Com isso, todos os Dtype(s) do dataframe foram corrigidos"
   ]
  },
  {
   "cell_type": "code",
   "execution_count": 569,
   "metadata": {},
   "outputs": [
    {
     "name": "stdout",
     "output_type": "stream",
     "text": [
      "<class 'pandas.core.frame.DataFrame'>\n",
      "RangeIndex: 2002 entries, 0 to 2001\n",
      "Data columns (total 6 columns):\n",
      " #   Column       Non-Null Count  Dtype  \n",
      "---  ------       --------------  -----  \n",
      " 0   CodItem      2002 non-null   string \n",
      " 1   DescItem     2002 non-null   string \n",
      " 2   Category     2002 non-null   string \n",
      " 3   Family       2002 non-null   string \n",
      " 4   Speciality   2002 non-null   string \n",
      " 5   TestingCost  2002 non-null   float64\n",
      "dtypes: float64(1), string(5)\n",
      "memory usage: 94.0 KB\n"
     ]
    }
   ],
   "source": [
    "df_tests.info()"
   ]
  },
  {
   "cell_type": "markdown",
   "metadata": {},
   "source": [
    "### Verifição de registros duplicados"
   ]
  },
  {
   "cell_type": "code",
   "execution_count": 570,
   "metadata": {},
   "outputs": [
    {
     "data": {
      "text/plain": [
       "0"
      ]
     },
     "execution_count": 570,
     "metadata": {},
     "output_type": "execute_result"
    }
   ],
   "source": [
    "# Aqui verificamos se em geral existe alguma linha totalmente igual a outra, com os valores\n",
    "#de todas as colunas iguais\n",
    "df_tests.duplicated().sum()"
   ]
  },
  {
   "cell_type": "code",
   "execution_count": 571,
   "metadata": {},
   "outputs": [
    {
     "data": {
      "text/plain": [
       "1"
      ]
     },
     "execution_count": 571,
     "metadata": {},
     "output_type": "execute_result"
    }
   ],
   "source": [
    "# Aqui verificamos se existe valor duplicados ans colunas identificadoras\n",
    "df_tests[\"CodItem\"].duplicated().sum()"
   ]
  },
  {
   "cell_type": "code",
   "execution_count": 572,
   "metadata": {},
   "outputs": [
    {
     "data": {
      "text/html": [
       "<div>\n",
       "<style scoped>\n",
       "    .dataframe tbody tr th:only-of-type {\n",
       "        vertical-align: middle;\n",
       "    }\n",
       "\n",
       "    .dataframe tbody tr th {\n",
       "        vertical-align: top;\n",
       "    }\n",
       "\n",
       "    .dataframe thead th {\n",
       "        text-align: right;\n",
       "    }\n",
       "</style>\n",
       "<table border=\"1\" class=\"dataframe\">\n",
       "  <thead>\n",
       "    <tr style=\"text-align: right;\">\n",
       "      <th></th>\n",
       "      <th>CodItem</th>\n",
       "      <th>DescItem</th>\n",
       "      <th>Category</th>\n",
       "      <th>Family</th>\n",
       "      <th>Speciality</th>\n",
       "      <th>TestingCost</th>\n",
       "    </tr>\n",
       "  </thead>\n",
       "  <tbody>\n",
       "    <tr>\n",
       "      <th>1968</th>\n",
       "      <td>70004701</td>\n",
       "      <td>PROCEDIMENTO DIAGNOSTICO EM PAINEL DE IMUNOIST...</td>\n",
       "      <td>PA</td>\n",
       "      <td>ANATOMO</td>\n",
       "      <td>IMMUNOHISTOCHEMISTRY</td>\n",
       "      <td>362.96</td>\n",
       "    </tr>\n",
       "  </tbody>\n",
       "</table>\n",
       "</div>"
      ],
      "text/plain": [
       "       CodItem                                           DescItem  \\\n",
       "1968  70004701  PROCEDIMENTO DIAGNOSTICO EM PAINEL DE IMUNOIST...   \n",
       "\n",
       "                                      Category   Family            Speciality  \\\n",
       "1968  PA                                        ANATOMO  IMMUNOHISTOCHEMISTRY   \n",
       "\n",
       "      TestingCost  \n",
       "1968       362.96  "
      ]
     },
     "execution_count": 572,
     "metadata": {},
     "output_type": "execute_result"
    }
   ],
   "source": [
    "# Aqui verificamos se existe valor duplicados ans colunas identificadoras\n",
    "df_tests[df_tests[\"CodItem\"].duplicated()]"
   ]
  },
  {
   "cell_type": "markdown",
   "metadata": {},
   "source": [
    "Como vemos, existe apenas uma linha duplicada, que será removida"
   ]
  },
  {
   "cell_type": "code",
   "execution_count": 573,
   "metadata": {},
   "outputs": [],
   "source": [
    "df_tests = df_tests.drop_duplicates(subset=\"CodItem\", keep=\"last\")"
   ]
  },
  {
   "cell_type": "markdown",
   "metadata": {},
   "source": [
    "### Verificação dos outliers"
   ]
  },
  {
   "cell_type": "markdown",
   "metadata": {},
   "source": [
    "Agora verificamos a existência de outliers no dataframe, caso detectados iremos removelos para que seja possível tirarmos conclusões mais claras a respeito dos dados. Iremos verificar abaixo"
   ]
  },
  {
   "cell_type": "code",
   "execution_count": 574,
   "metadata": {},
   "outputs": [
    {
     "data": {
      "text/html": [
       "<div>\n",
       "<style scoped>\n",
       "    .dataframe tbody tr th:only-of-type {\n",
       "        vertical-align: middle;\n",
       "    }\n",
       "\n",
       "    .dataframe tbody tr th {\n",
       "        vertical-align: top;\n",
       "    }\n",
       "\n",
       "    .dataframe thead th {\n",
       "        text-align: right;\n",
       "    }\n",
       "</style>\n",
       "<table border=\"1\" class=\"dataframe\">\n",
       "  <thead>\n",
       "    <tr style=\"text-align: right;\">\n",
       "      <th></th>\n",
       "      <th>TestingCost</th>\n",
       "    </tr>\n",
       "  </thead>\n",
       "  <tbody>\n",
       "    <tr>\n",
       "      <th>count</th>\n",
       "      <td>2001.00</td>\n",
       "    </tr>\n",
       "    <tr>\n",
       "      <th>mean</th>\n",
       "      <td>77.62</td>\n",
       "    </tr>\n",
       "    <tr>\n",
       "      <th>std</th>\n",
       "      <td>145.96</td>\n",
       "    </tr>\n",
       "    <tr>\n",
       "      <th>min</th>\n",
       "      <td>0.00</td>\n",
       "    </tr>\n",
       "    <tr>\n",
       "      <th>25%</th>\n",
       "      <td>4.81</td>\n",
       "    </tr>\n",
       "    <tr>\n",
       "      <th>50%</th>\n",
       "      <td>21.14</td>\n",
       "    </tr>\n",
       "    <tr>\n",
       "      <th>75%</th>\n",
       "      <td>78.97</td>\n",
       "    </tr>\n",
       "    <tr>\n",
       "      <th>max</th>\n",
       "      <td>1762.46</td>\n",
       "    </tr>\n",
       "  </tbody>\n",
       "</table>\n",
       "</div>"
      ],
      "text/plain": [
       "       TestingCost\n",
       "count      2001.00\n",
       "mean         77.62\n",
       "std         145.96\n",
       "min           0.00\n",
       "25%           4.81\n",
       "50%          21.14\n",
       "75%          78.97\n",
       "max        1762.46"
      ]
     },
     "execution_count": 574,
     "metadata": {},
     "output_type": "execute_result"
    }
   ],
   "source": [
    "df_tests.describe()"
   ]
  },
  {
   "cell_type": "code",
   "execution_count": 575,
   "metadata": {},
   "outputs": [
    {
     "data": {
      "text/plain": [
       "<AxesSubplot:xlabel='TestingCost'>"
      ]
     },
     "execution_count": 575,
     "metadata": {},
     "output_type": "execute_result"
    },
    {
     "data": {
      "image/png": "[encoded data removed]",
      "text/plain": [
       "<Figure size 1080x288 with 2 Axes>"
      ]
     },
     "metadata": {
      "needs_background": "light"
     },
     "output_type": "display_data"
    }
   ],
   "source": [
    "fig, ax = plt.subplots(1,2,figsize=(15, 4))\n",
    "sns.kdeplot(data=df_tests, x=\"TestingCost\", ax=ax[0])\n",
    "sns.boxplot(data=df_tests, x=\"TestingCost\", ax=ax[1])"
   ]
  },
  {
   "cell_type": "markdown",
   "metadata": {},
   "source": [
    "Como vemos, claramente temos outliers na unica coluna numérica presente neste dataframe, logo será necessário remove-los"
   ]
  },
  {
   "cell_type": "code",
   "execution_count": 576,
   "metadata": {},
   "outputs": [],
   "source": [
    "df_tests[\"zscore\"] = stats.zscore(df_tests[\"TestingCost\"])"
   ]
  },
  {
   "cell_type": "code",
   "execution_count": 577,
   "metadata": {},
   "outputs": [],
   "source": [
    "df_tests = df_tests[(df_tests[\"zscore\"] < 1)&(df_tests[\"zscore\"] > -1)]"
   ]
  },
  {
   "cell_type": "code",
   "execution_count": 578,
   "metadata": {},
   "outputs": [
    {
     "data": {
      "text/plain": [
       "<AxesSubplot:xlabel='TestingCost'>"
      ]
     },
     "execution_count": 578,
     "metadata": {},
     "output_type": "execute_result"
    },
    {
     "data": {
      "image/png": "[encoded data removed]",
      "text/plain": [
       "<Figure size 1080x288 with 2 Axes>"
      ]
     },
     "metadata": {
      "needs_background": "light"
     },
     "output_type": "display_data"
    }
   ],
   "source": [
    "fig, ax = plt.subplots(1,2,figsize=(15, 4))\n",
    "sns.kdeplot(data=df_tests, x=\"TestingCost\", ax=ax[0])\n",
    "sns.boxplot(data=df_tests, x=\"TestingCost\", ax=ax[1])"
   ]
  },
  {
   "cell_type": "code",
   "execution_count": 579,
   "metadata": {},
   "outputs": [
    {
     "data": {
      "text/html": [
       "<div>\n",
       "<style scoped>\n",
       "    .dataframe tbody tr th:only-of-type {\n",
       "        vertical-align: middle;\n",
       "    }\n",
       "\n",
       "    .dataframe tbody tr th {\n",
       "        vertical-align: top;\n",
       "    }\n",
       "\n",
       "    .dataframe thead th {\n",
       "        text-align: right;\n",
       "    }\n",
       "</style>\n",
       "<table border=\"1\" class=\"dataframe\">\n",
       "  <thead>\n",
       "    <tr style=\"text-align: right;\">\n",
       "      <th></th>\n",
       "      <th>TestingCost</th>\n",
       "      <th>zscore</th>\n",
       "    </tr>\n",
       "  </thead>\n",
       "  <tbody>\n",
       "    <tr>\n",
       "      <th>count</th>\n",
       "      <td>1798.00</td>\n",
       "      <td>1798.00</td>\n",
       "    </tr>\n",
       "    <tr>\n",
       "      <th>mean</th>\n",
       "      <td>40.25</td>\n",
       "      <td>-0.26</td>\n",
       "    </tr>\n",
       "    <tr>\n",
       "      <th>std</th>\n",
       "      <td>52.05</td>\n",
       "      <td>0.36</td>\n",
       "    </tr>\n",
       "    <tr>\n",
       "      <th>min</th>\n",
       "      <td>0.00</td>\n",
       "      <td>-0.53</td>\n",
       "    </tr>\n",
       "    <tr>\n",
       "      <th>25%</th>\n",
       "      <td>4.43</td>\n",
       "      <td>-0.50</td>\n",
       "    </tr>\n",
       "    <tr>\n",
       "      <th>50%</th>\n",
       "      <td>13.66</td>\n",
       "      <td>-0.44</td>\n",
       "    </tr>\n",
       "    <tr>\n",
       "      <th>75%</th>\n",
       "      <td>63.41</td>\n",
       "      <td>-0.10</td>\n",
       "    </tr>\n",
       "    <tr>\n",
       "      <th>max</th>\n",
       "      <td>222.97</td>\n",
       "      <td>1.00</td>\n",
       "    </tr>\n",
       "  </tbody>\n",
       "</table>\n",
       "</div>"
      ],
      "text/plain": [
       "       TestingCost  zscore\n",
       "count      1798.00 1798.00\n",
       "mean         40.25   -0.26\n",
       "std          52.05    0.36\n",
       "min           0.00   -0.53\n",
       "25%           4.43   -0.50\n",
       "50%          13.66   -0.44\n",
       "75%          63.41   -0.10\n",
       "max         222.97    1.00"
      ]
     },
     "execution_count": 579,
     "metadata": {},
     "output_type": "execute_result"
    }
   ],
   "source": [
    "df_tests.describe()"
   ]
  },
  {
   "cell_type": "code",
   "execution_count": 580,
   "metadata": {},
   "outputs": [],
   "source": [
    "df_tests = df_tests.drop(columns=[\"zscore\"])"
   ]
  },
  {
   "cell_type": "markdown",
   "metadata": {},
   "source": [
    "### Correção do index"
   ]
  },
  {
   "cell_type": "code",
   "execution_count": 581,
   "metadata": {},
   "outputs": [],
   "source": [
    "df_tests = df_tests.reset_index(drop=True)"
   ]
  },
  {
   "cell_type": "markdown",
   "metadata": {},
   "source": [
    "## Sanity check df_transactional"
   ]
  },
  {
   "cell_type": "code",
   "execution_count": 582,
   "metadata": {},
   "outputs": [
    {
     "data": {
      "text/html": [
       "<div>\n",
       "<style scoped>\n",
       "    .dataframe tbody tr th:only-of-type {\n",
       "        vertical-align: middle;\n",
       "    }\n",
       "\n",
       "    .dataframe tbody tr th {\n",
       "        vertical-align: top;\n",
       "    }\n",
       "\n",
       "    .dataframe thead th {\n",
       "        text-align: right;\n",
       "    }\n",
       "</style>\n",
       "<table border=\"1\" class=\"dataframe\">\n",
       "  <thead>\n",
       "    <tr style=\"text-align: right;\">\n",
       "      <th></th>\n",
       "      <th>Patient Id</th>\n",
       "      <th>Gender</th>\n",
       "      <th>Date of birth</th>\n",
       "      <th>Date of service</th>\n",
       "      <th>Service Id</th>\n",
       "      <th>Lab Id</th>\n",
       "      <th>CodItem</th>\n",
       "      <th>Testing Cost</th>\n",
       "    </tr>\n",
       "  </thead>\n",
       "  <tbody>\n",
       "    <tr>\n",
       "      <th>0</th>\n",
       "      <td>10210830256-BIO003</td>\n",
       "      <td>F</td>\n",
       "      <td>01/08/1976 00:00:00</td>\n",
       "      <td>2019-01-07</td>\n",
       "      <td>571904533475-38</td>\n",
       "      <td>L133</td>\n",
       "      <td>70003237</td>\n",
       "      <td>9.00</td>\n",
       "    </tr>\n",
       "    <tr>\n",
       "      <th>1</th>\n",
       "      <td>10210830256-BIO003</td>\n",
       "      <td>F</td>\n",
       "      <td>01/08/1976 00:00:00</td>\n",
       "      <td>2019-01-07</td>\n",
       "      <td>571904533475-38</td>\n",
       "      <td>L133</td>\n",
       "      <td>70000638</td>\n",
       "      <td>13.00</td>\n",
       "    </tr>\n",
       "    <tr>\n",
       "      <th>2</th>\n",
       "      <td>10210830256-BIO003</td>\n",
       "      <td>F</td>\n",
       "      <td>01/08/1976 00:00:00</td>\n",
       "      <td>2019-01-07</td>\n",
       "      <td>571904533475-38</td>\n",
       "      <td>L133</td>\n",
       "      <td>70001597</td>\n",
       "      <td>49.00</td>\n",
       "    </tr>\n",
       "    <tr>\n",
       "      <th>3</th>\n",
       "      <td>10210830256-BIO003</td>\n",
       "      <td>F</td>\n",
       "      <td>01/08/1976 00:00:00</td>\n",
       "      <td>2019-01-07</td>\n",
       "      <td>571904533475-38</td>\n",
       "      <td>L133</td>\n",
       "      <td>70000103</td>\n",
       "      <td>11.00</td>\n",
       "    </tr>\n",
       "    <tr>\n",
       "      <th>4</th>\n",
       "      <td>10210830256-BIO003</td>\n",
       "      <td>F</td>\n",
       "      <td>01/08/1976 00:00:00</td>\n",
       "      <td>2019-01-07</td>\n",
       "      <td>571904533475-38</td>\n",
       "      <td>L133</td>\n",
       "      <td>70000224</td>\n",
       "      <td>10.00</td>\n",
       "    </tr>\n",
       "  </tbody>\n",
       "</table>\n",
       "</div>"
      ],
      "text/plain": [
       "           Patient Id Gender        Date of birth Date of service  \\\n",
       "0  10210830256-BIO003      F  01/08/1976 00:00:00      2019-01-07   \n",
       "1  10210830256-BIO003      F  01/08/1976 00:00:00      2019-01-07   \n",
       "2  10210830256-BIO003      F  01/08/1976 00:00:00      2019-01-07   \n",
       "3  10210830256-BIO003      F  01/08/1976 00:00:00      2019-01-07   \n",
       "4  10210830256-BIO003      F  01/08/1976 00:00:00      2019-01-07   \n",
       "\n",
       "        Service Id Lab Id   CodItem  Testing Cost  \n",
       "0  571904533475-38   L133  70003237          9.00  \n",
       "1  571904533475-38   L133  70000638         13.00  \n",
       "2  571904533475-38   L133  70001597         49.00  \n",
       "3  571904533475-38   L133  70000103         11.00  \n",
       "4  571904533475-38   L133  70000224         10.00  "
      ]
     },
     "execution_count": 582,
     "metadata": {},
     "output_type": "execute_result"
    }
   ],
   "source": [
    "df_transactional.head(5)"
   ]
  },
  {
   "cell_type": "markdown",
   "metadata": {},
   "source": [
    "### Correção de nome das colunas"
   ]
  },
  {
   "cell_type": "code",
   "execution_count": 583,
   "metadata": {},
   "outputs": [],
   "source": [
    "df_transactional.columns = [x.replace(\" \",\"\") for x in df_transactional.columns] # Renomeando as colunas "
   ]
  },
  {
   "cell_type": "markdown",
   "metadata": {},
   "source": [
    "### Verificação de nulos"
   ]
  },
  {
   "cell_type": "code",
   "execution_count": 584,
   "metadata": {},
   "outputs": [
    {
     "data": {
      "text/plain": [
       "PatientId        0\n",
       "Gender           0\n",
       "Dateofbirth      1\n",
       "Dateofservice    0\n",
       "ServiceId        0\n",
       "LabId            0\n",
       "CodItem          0\n",
       "TestingCost      0\n",
       "dtype: int64"
      ]
     },
     "execution_count": 584,
     "metadata": {},
     "output_type": "execute_result"
    }
   ],
   "source": [
    "df_transactional.isnull().sum()"
   ]
  },
  {
   "cell_type": "code",
   "execution_count": 585,
   "metadata": {},
   "outputs": [
    {
     "name": "stdout",
     "output_type": "stream",
     "text": [
      "Como vemos, cerca de 0.003% das 32503 linhas contém dados nulos\n"
     ]
    }
   ],
   "source": [
    "print(f\"Como vemos, cerca de {((100*df_transactional[df_transactional.isna().any(axis=1)].shape[0])/df_demographic.shape[0]):.3f}\\\n",
    "% das {df_demographic.shape[0]} linhas contém dados nulos\")"
   ]
  },
  {
   "cell_type": "code",
   "execution_count": 586,
   "metadata": {},
   "outputs": [
    {
     "data": {
      "text/html": [
       "<div>\n",
       "<style scoped>\n",
       "    .dataframe tbody tr th:only-of-type {\n",
       "        vertical-align: middle;\n",
       "    }\n",
       "\n",
       "    .dataframe tbody tr th {\n",
       "        vertical-align: top;\n",
       "    }\n",
       "\n",
       "    .dataframe thead th {\n",
       "        text-align: right;\n",
       "    }\n",
       "</style>\n",
       "<table border=\"1\" class=\"dataframe\">\n",
       "  <thead>\n",
       "    <tr style=\"text-align: right;\">\n",
       "      <th></th>\n",
       "      <th>PatientId</th>\n",
       "      <th>Gender</th>\n",
       "      <th>Dateofbirth</th>\n",
       "      <th>Dateofservice</th>\n",
       "      <th>ServiceId</th>\n",
       "      <th>LabId</th>\n",
       "      <th>CodItem</th>\n",
       "      <th>TestingCost</th>\n",
       "    </tr>\n",
       "  </thead>\n",
       "  <tbody>\n",
       "    <tr>\n",
       "      <th>1253947</th>\n",
       "      <td>7659985004-1</td>\n",
       "      <td>F</td>\n",
       "      <td>NaN</td>\n",
       "      <td>2020-02-22</td>\n",
       "      <td>7659985004-2-1</td>\n",
       "      <td>L152</td>\n",
       "      <td>70000107</td>\n",
       "      <td>48.00</td>\n",
       "    </tr>\n",
       "  </tbody>\n",
       "</table>\n",
       "</div>"
      ],
      "text/plain": [
       "            PatientId Gender Dateofbirth Dateofservice       ServiceId LabId  \\\n",
       "1253947  7659985004-1      F         NaN    2020-02-22  7659985004-2-1  L152   \n",
       "\n",
       "          CodItem  TestingCost  \n",
       "1253947  70000107        48.00  "
      ]
     },
     "execution_count": 586,
     "metadata": {},
     "output_type": "execute_result"
    }
   ],
   "source": [
    "df_transactional[df_transactional.isna().any(axis=1)]"
   ]
  },
  {
   "cell_type": "markdown",
   "metadata": {},
   "source": [
    "Apesar de ser apenas uma linha, por ser uma série temporal é melhor para não perdermos o dado, e apenas preenchê-lo. Para isso, usaremos uma técnica de interpolação. "
   ]
  },
  {
   "cell_type": "code",
   "execution_count": 587,
   "metadata": {},
   "outputs": [],
   "source": [
    "df_transactional['Dateofbirth'] = df_transactional['Dateofbirth']\\\n",
    "    .interpolate(option=\"spline\")\\\n",
    "        .fillna(method='bfill')"
   ]
  },
  {
   "cell_type": "markdown",
   "metadata": {},
   "source": [
    "Como é possível verificar, não constam mais valores nulos em nenhuma coluna do dataframe"
   ]
  },
  {
   "cell_type": "code",
   "execution_count": 588,
   "metadata": {},
   "outputs": [
    {
     "data": {
      "text/plain": [
       "PatientId        0\n",
       "Gender           0\n",
       "Dateofbirth      0\n",
       "Dateofservice    0\n",
       "ServiceId        0\n",
       "LabId            0\n",
       "CodItem          0\n",
       "TestingCost      0\n",
       "dtype: int64"
      ]
     },
     "execution_count": 588,
     "metadata": {},
     "output_type": "execute_result"
    }
   ],
   "source": [
    "df_transactional.isnull().sum()"
   ]
  },
  {
   "cell_type": "markdown",
   "metadata": {},
   "source": [
    "### Verificação de formato de dados"
   ]
  },
  {
   "cell_type": "code",
   "execution_count": 589,
   "metadata": {},
   "outputs": [
    {
     "name": "stdout",
     "output_type": "stream",
     "text": [
      "<class 'pandas.core.frame.DataFrame'>\n",
      "RangeIndex: 2355241 entries, 0 to 2355240\n",
      "Data columns (total 8 columns):\n",
      " #   Column         Dtype  \n",
      "---  ------         -----  \n",
      " 0   PatientId      object \n",
      " 1   Gender         object \n",
      " 2   Dateofbirth    object \n",
      " 3   Dateofservice  object \n",
      " 4   ServiceId      object \n",
      " 5   LabId          object \n",
      " 6   CodItem        int64  \n",
      " 7   TestingCost    float64\n",
      "dtypes: float64(1), int64(1), object(6)\n",
      "memory usage: 143.8+ MB\n"
     ]
    }
   ],
   "source": [
    "df_transactional.info()"
   ]
  },
  {
   "cell_type": "code",
   "execution_count": 590,
   "metadata": {},
   "outputs": [],
   "source": [
    "# Corrigindo o(s) valor(es) que deveria(m) ser do tipo String\n",
    "df_transactional[\"PatientId\"] = df_transactional[\"PatientId\"].astype(pd.StringDtype())\n",
    "df_transactional[\"Gender\"] = df_transactional[\"Gender\"].astype(pd.StringDtype())\n",
    "df_transactional[\"ServiceId\"] = df_transactional[\"ServiceId\"].astype(pd.StringDtype())\n",
    "df_transactional[\"LabId\"] = df_transactional[\"LabId\"].astype(pd.StringDtype())\n",
    "\n",
    "# Corrigindo o(s) valor(es) que deveria(m) ser do tipo Int\n",
    "df_transactional[\"CodItem\"] = df_transactional[\"CodItem\"].astype(pd.StringDtype())\n",
    "\n",
    "# Corrigindo o(s) valor(es) que deveria(m) ser do tipo Float\n",
    "df_transactional[\"TestingCost\"] = df_transactional[\"TestingCost\"].astype(\"float64\")\n",
    "\n",
    "# Corrigindo o(s) valor(es) que deveria(m) ser do tipo Datetime\n",
    "df_transactional['Dateofbirth'] = pd.to_datetime(df_transactional['Dateofbirth'])\n",
    "df_transactional['Dateofservice'] = pd.to_datetime(df_transactional['Dateofservice'])"
   ]
  },
  {
   "cell_type": "markdown",
   "metadata": {},
   "source": [
    "Com isso, todos os Dtype(s) do dataframe foram corrigidos"
   ]
  },
  {
   "cell_type": "code",
   "execution_count": 591,
   "metadata": {},
   "outputs": [
    {
     "name": "stdout",
     "output_type": "stream",
     "text": [
      "<class 'pandas.core.frame.DataFrame'>\n",
      "RangeIndex: 2355241 entries, 0 to 2355240\n",
      "Data columns (total 8 columns):\n",
      " #   Column         Dtype         \n",
      "---  ------         -----         \n",
      " 0   PatientId      string        \n",
      " 1   Gender         string        \n",
      " 2   Dateofbirth    datetime64[ns]\n",
      " 3   Dateofservice  datetime64[ns]\n",
      " 4   ServiceId      string        \n",
      " 5   LabId          string        \n",
      " 6   CodItem        string        \n",
      " 7   TestingCost    float64       \n",
      "dtypes: datetime64[ns](2), float64(1), string(5)\n",
      "memory usage: 143.8 MB\n"
     ]
    }
   ],
   "source": [
    "df_transactional.info()"
   ]
  },
  {
   "cell_type": "markdown",
   "metadata": {},
   "source": [
    "### Verificação de registros duplicados"
   ]
  },
  {
   "cell_type": "code",
   "execution_count": 592,
   "metadata": {},
   "outputs": [
    {
     "data": {
      "text/plain": [
       "14519"
      ]
     },
     "execution_count": 592,
     "metadata": {},
     "output_type": "execute_result"
    }
   ],
   "source": [
    "# Aqui verificamos se em geral existe alguma linha totalmente igual a outra, com os valores\n",
    "#de todas as colunas iguais\n",
    "df_transactional.duplicated().sum()"
   ]
  },
  {
   "cell_type": "code",
   "execution_count": 593,
   "metadata": {},
   "outputs": [
    {
     "data": {
      "text/html": [
       "<div>\n",
       "<style scoped>\n",
       "    .dataframe tbody tr th:only-of-type {\n",
       "        vertical-align: middle;\n",
       "    }\n",
       "\n",
       "    .dataframe tbody tr th {\n",
       "        vertical-align: top;\n",
       "    }\n",
       "\n",
       "    .dataframe thead th {\n",
       "        text-align: right;\n",
       "    }\n",
       "</style>\n",
       "<table border=\"1\" class=\"dataframe\">\n",
       "  <thead>\n",
       "    <tr style=\"text-align: right;\">\n",
       "      <th></th>\n",
       "      <th>PatientId</th>\n",
       "      <th>Gender</th>\n",
       "      <th>Dateofbirth</th>\n",
       "      <th>Dateofservice</th>\n",
       "      <th>ServiceId</th>\n",
       "      <th>LabId</th>\n",
       "      <th>CodItem</th>\n",
       "      <th>TestingCost</th>\n",
       "    </tr>\n",
       "  </thead>\n",
       "  <tbody>\n",
       "    <tr>\n",
       "      <th>110</th>\n",
       "      <td>10240091057-BIO010</td>\n",
       "      <td>F</td>\n",
       "      <td>1976-12-07</td>\n",
       "      <td>2019-01-09</td>\n",
       "      <td>430000507035-168</td>\n",
       "      <td>L536</td>\n",
       "      <td>70005005</td>\n",
       "      <td>59.00</td>\n",
       "    </tr>\n",
       "    <tr>\n",
       "      <th>325</th>\n",
       "      <td>10240100137-BIO010</td>\n",
       "      <td>F</td>\n",
       "      <td>1987-01-19</td>\n",
       "      <td>2019-02-03</td>\n",
       "      <td>431300349554-172</td>\n",
       "      <td>L539</td>\n",
       "      <td>70000180</td>\n",
       "      <td>12.00</td>\n",
       "    </tr>\n",
       "    <tr>\n",
       "      <th>326</th>\n",
       "      <td>10240100137-BIO010</td>\n",
       "      <td>F</td>\n",
       "      <td>1987-01-19</td>\n",
       "      <td>2019-02-03</td>\n",
       "      <td>431300349554-172</td>\n",
       "      <td>L539</td>\n",
       "      <td>70000180</td>\n",
       "      <td>12.00</td>\n",
       "    </tr>\n",
       "    <tr>\n",
       "      <th>731</th>\n",
       "      <td>10210824046-BIO003</td>\n",
       "      <td>F</td>\n",
       "      <td>1957-04-13</td>\n",
       "      <td>2019-01-15</td>\n",
       "      <td>576401751254-89</td>\n",
       "      <td>L166</td>\n",
       "      <td>70000180</td>\n",
       "      <td>12.00</td>\n",
       "    </tr>\n",
       "    <tr>\n",
       "      <th>732</th>\n",
       "      <td>10210824046-BIO003</td>\n",
       "      <td>F</td>\n",
       "      <td>1957-04-13</td>\n",
       "      <td>2019-01-15</td>\n",
       "      <td>576401751254-89</td>\n",
       "      <td>L166</td>\n",
       "      <td>70000180</td>\n",
       "      <td>12.00</td>\n",
       "    </tr>\n",
       "  </tbody>\n",
       "</table>\n",
       "</div>"
      ],
      "text/plain": [
       "              PatientId Gender Dateofbirth Dateofservice         ServiceId  \\\n",
       "110  10240091057-BIO010      F  1976-12-07    2019-01-09  430000507035-168   \n",
       "325  10240100137-BIO010      F  1987-01-19    2019-02-03  431300349554-172   \n",
       "326  10240100137-BIO010      F  1987-01-19    2019-02-03  431300349554-172   \n",
       "731  10210824046-BIO003      F  1957-04-13    2019-01-15   576401751254-89   \n",
       "732  10210824046-BIO003      F  1957-04-13    2019-01-15   576401751254-89   \n",
       "\n",
       "    LabId   CodItem  TestingCost  \n",
       "110  L536  70005005        59.00  \n",
       "325  L539  70000180        12.00  \n",
       "326  L539  70000180        12.00  \n",
       "731  L166  70000180        12.00  \n",
       "732  L166  70000180        12.00  "
      ]
     },
     "execution_count": 593,
     "metadata": {},
     "output_type": "execute_result"
    }
   ],
   "source": [
    "# Visualizando parte desses dados faltantes\n",
    "df_transactional[df_transactional.duplicated()].head(5)"
   ]
  },
  {
   "cell_type": "code",
   "execution_count": 594,
   "metadata": {},
   "outputs": [
    {
     "name": "stdout",
     "output_type": "stream",
     "text": [
      "Cerca de 0.616 % dos dados estão duplicados\n"
     ]
    }
   ],
   "source": [
    "print(f\"Cerca de {((100*df_transactional.duplicated().sum())/df_transactional.shape[0]):.3f} % dos dados estão duplicados\")"
   ]
  },
  {
   "cell_type": "markdown",
   "metadata": {},
   "source": [
    "Como vemos, já a princípio verificamos linhas duplicadas, e será necessário remover"
   ]
  },
  {
   "cell_type": "code",
   "execution_count": 595,
   "metadata": {},
   "outputs": [],
   "source": [
    "df_transactional = df_transactional.drop_duplicates()"
   ]
  },
  {
   "cell_type": "markdown",
   "metadata": {},
   "source": [
    "### Verificação dos outliers"
   ]
  },
  {
   "cell_type": "markdown",
   "metadata": {},
   "source": [
    "Neste dataframe é necessária a verificação de outliers, devido ao fato de que ele descreve todas os serviçõs que ocorreram em cada clínica, logo ele interfere diretamente na minha regra de negócio. Como eu irei buscar a clínica mais lucrativa, eu não quero levar em conta casos extremos e que ocorrem com pouca frequência, para não obter um resultado tendencioso"
   ]
  },
  {
   "cell_type": "markdown",
   "metadata": {},
   "source": [
    "Como temos dados des serviços feitos com os pacientes, é necessário verificar a data mínima e ver se não existem datas incoerentes. Para facilitar, eu irei criar a coluna com a idade do paciente"
   ]
  },
  {
   "cell_type": "code",
   "execution_count": 596,
   "metadata": {},
   "outputs": [],
   "source": [
    "df_transactional[\"Age\"] = (df_transactional[\"Dateofservice\"] - df_transactional[\"Dateofbirth\"])\n",
    "df_transactional[\"Age\"] = df_transactional[\"Age\"] / np.timedelta64(1, 'Y')\n",
    "df_transactional[\"Age\"] = df_transactional[\"Age\"].astype(\"int64\")"
   ]
  },
  {
   "cell_type": "code",
   "execution_count": 597,
   "metadata": {},
   "outputs": [
    {
     "data": {
      "text/html": [
       "<div>\n",
       "<style scoped>\n",
       "    .dataframe tbody tr th:only-of-type {\n",
       "        vertical-align: middle;\n",
       "    }\n",
       "\n",
       "    .dataframe tbody tr th {\n",
       "        vertical-align: top;\n",
       "    }\n",
       "\n",
       "    .dataframe thead th {\n",
       "        text-align: right;\n",
       "    }\n",
       "</style>\n",
       "<table border=\"1\" class=\"dataframe\">\n",
       "  <thead>\n",
       "    <tr style=\"text-align: right;\">\n",
       "      <th></th>\n",
       "      <th>TestingCost</th>\n",
       "      <th>Age</th>\n",
       "    </tr>\n",
       "  </thead>\n",
       "  <tbody>\n",
       "    <tr>\n",
       "      <th>count</th>\n",
       "      <td>2340722.00</td>\n",
       "      <td>2340722.00</td>\n",
       "    </tr>\n",
       "    <tr>\n",
       "      <th>mean</th>\n",
       "      <td>51.10</td>\n",
       "      <td>41.46</td>\n",
       "    </tr>\n",
       "    <tr>\n",
       "      <th>std</th>\n",
       "      <td>97.90</td>\n",
       "      <td>17.46</td>\n",
       "    </tr>\n",
       "    <tr>\n",
       "      <th>min</th>\n",
       "      <td>0.00</td>\n",
       "      <td>0.00</td>\n",
       "    </tr>\n",
       "    <tr>\n",
       "      <th>25%</th>\n",
       "      <td>11.00</td>\n",
       "      <td>30.00</td>\n",
       "    </tr>\n",
       "    <tr>\n",
       "      <th>50%</th>\n",
       "      <td>24.00</td>\n",
       "      <td>42.00</td>\n",
       "    </tr>\n",
       "    <tr>\n",
       "      <th>75%</th>\n",
       "      <td>49.00</td>\n",
       "      <td>54.00</td>\n",
       "    </tr>\n",
       "    <tr>\n",
       "      <th>max</th>\n",
       "      <td>9500.00</td>\n",
       "      <td>159.00</td>\n",
       "    </tr>\n",
       "  </tbody>\n",
       "</table>\n",
       "</div>"
      ],
      "text/plain": [
       "       TestingCost        Age\n",
       "count   2340722.00 2340722.00\n",
       "mean         51.10      41.46\n",
       "std          97.90      17.46\n",
       "min           0.00       0.00\n",
       "25%          11.00      30.00\n",
       "50%          24.00      42.00\n",
       "75%          49.00      54.00\n",
       "max        9500.00     159.00"
      ]
     },
     "execution_count": 597,
     "metadata": {},
     "output_type": "execute_result"
    }
   ],
   "source": [
    "df_transactional.describe()"
   ]
  },
  {
   "cell_type": "code",
   "execution_count": 598,
   "metadata": {},
   "outputs": [
    {
     "data": {
      "text/plain": [
       "<AxesSubplot:xlabel='TestingCost'>"
      ]
     },
     "execution_count": 598,
     "metadata": {},
     "output_type": "execute_result"
    },
    {
     "data": {
      "image/png": "[encoded data removed]",
      "text/plain": [
       "<Figure size 1080x288 with 2 Axes>"
      ]
     },
     "metadata": {
      "needs_background": "light"
     },
     "output_type": "display_data"
    }
   ],
   "source": [
    "fig, ax = plt.subplots(1,2,figsize=(15, 4))\n",
    "sns.kdeplot(data=df_transactional, x=\"TestingCost\", ax=ax[0])\n",
    "sns.boxplot(data=df_transactional, x=\"TestingCost\", ax=ax[1])"
   ]
  },
  {
   "cell_type": "code",
   "execution_count": 599,
   "metadata": {},
   "outputs": [
    {
     "data": {
      "text/plain": [
       "<AxesSubplot:xlabel='Age'>"
      ]
     },
     "execution_count": 599,
     "metadata": {},
     "output_type": "execute_result"
    },
    {
     "data": {
      "image/png": "[encoded data removed]",
      "text/plain": [
       "<Figure size 1080x288 with 2 Axes>"
      ]
     },
     "metadata": {
      "needs_background": "light"
     },
     "output_type": "display_data"
    }
   ],
   "source": [
    "fig, ax = plt.subplots(1,2,figsize=(15, 4))\n",
    "sns.kdeplot(data=df_transactional, x=\"Age\", ax=ax[0])\n",
    "sns.boxplot(data=df_transactional, x=\"Age\", ax=ax[1])"
   ]
  },
  {
   "cell_type": "markdown",
   "metadata": {},
   "source": [
    "Como vemos, claramente temos outliers na unica coluna numérica presente neste dataframe, logo será necessário remove-los"
   ]
  },
  {
   "cell_type": "code",
   "execution_count": 600,
   "metadata": {},
   "outputs": [],
   "source": [
    "df_transactional[\"zscore\"] = stats.zscore(df_transactional[\"TestingCost\"])\n",
    "df_transactional = df_transactional[(df_transactional[\"zscore\"] < 1)&(df_transactional[\"zscore\"] > -1)]"
   ]
  },
  {
   "cell_type": "code",
   "execution_count": 601,
   "metadata": {},
   "outputs": [
    {
     "data": {
      "text/html": [
       "<div>\n",
       "<style scoped>\n",
       "    .dataframe tbody tr th:only-of-type {\n",
       "        vertical-align: middle;\n",
       "    }\n",
       "\n",
       "    .dataframe tbody tr th {\n",
       "        vertical-align: top;\n",
       "    }\n",
       "\n",
       "    .dataframe thead th {\n",
       "        text-align: right;\n",
       "    }\n",
       "</style>\n",
       "<table border=\"1\" class=\"dataframe\">\n",
       "  <thead>\n",
       "    <tr style=\"text-align: right;\">\n",
       "      <th></th>\n",
       "      <th>TestingCost</th>\n",
       "      <th>Age</th>\n",
       "      <th>zscore</th>\n",
       "    </tr>\n",
       "  </thead>\n",
       "  <tbody>\n",
       "    <tr>\n",
       "      <th>count</th>\n",
       "      <td>2192392.00</td>\n",
       "      <td>2192392.00</td>\n",
       "      <td>2192392.00</td>\n",
       "    </tr>\n",
       "    <tr>\n",
       "      <th>mean</th>\n",
       "      <td>31.83</td>\n",
       "      <td>41.64</td>\n",
       "      <td>-0.20</td>\n",
       "    </tr>\n",
       "    <tr>\n",
       "      <th>std</th>\n",
       "      <td>29.70</td>\n",
       "      <td>17.30</td>\n",
       "      <td>0.30</td>\n",
       "    </tr>\n",
       "    <tr>\n",
       "      <th>min</th>\n",
       "      <td>0.00</td>\n",
       "      <td>0.00</td>\n",
       "      <td>-0.52</td>\n",
       "    </tr>\n",
       "    <tr>\n",
       "      <th>25%</th>\n",
       "      <td>10.00</td>\n",
       "      <td>30.00</td>\n",
       "      <td>-0.42</td>\n",
       "    </tr>\n",
       "    <tr>\n",
       "      <th>50%</th>\n",
       "      <td>19.00</td>\n",
       "      <td>42.00</td>\n",
       "      <td>-0.33</td>\n",
       "    </tr>\n",
       "    <tr>\n",
       "      <th>75%</th>\n",
       "      <td>42.00</td>\n",
       "      <td>54.00</td>\n",
       "      <td>-0.09</td>\n",
       "    </tr>\n",
       "    <tr>\n",
       "      <th>max</th>\n",
       "      <td>149.00</td>\n",
       "      <td>120.00</td>\n",
       "      <td>1.00</td>\n",
       "    </tr>\n",
       "  </tbody>\n",
       "</table>\n",
       "</div>"
      ],
      "text/plain": [
       "       TestingCost        Age     zscore\n",
       "count   2192392.00 2192392.00 2192392.00\n",
       "mean         31.83      41.64      -0.20\n",
       "std          29.70      17.30       0.30\n",
       "min           0.00       0.00      -0.52\n",
       "25%          10.00      30.00      -0.42\n",
       "50%          19.00      42.00      -0.33\n",
       "75%          42.00      54.00      -0.09\n",
       "max         149.00     120.00       1.00"
      ]
     },
     "execution_count": 601,
     "metadata": {},
     "output_type": "execute_result"
    }
   ],
   "source": [
    "df_transactional.describe()"
   ]
  },
  {
   "cell_type": "code",
   "execution_count": 602,
   "metadata": {},
   "outputs": [],
   "source": [
    "#df_transactional = df_transactional[df_transactional[\"Age\"] <= 110]\n",
    "df_transactional[\"zscore\"] = stats.zscore(df_transactional[\"Age\"])\n",
    "df_transactional = df_transactional[(df_transactional[\"zscore\"] < 3)&(df_transactional[\"zscore\"] > -3)]\n",
    "df_transactional = df_transactional.drop(columns=[\"zscore\"])"
   ]
  },
  {
   "cell_type": "markdown",
   "metadata": {},
   "source": [
    "Como vemos ainda temos dados de idade claramente errados, com idades de 159 anos, por isso também faremos uma remoção dos outliers"
   ]
  },
  {
   "cell_type": "code",
   "execution_count": 603,
   "metadata": {},
   "outputs": [
    {
     "data": {
      "text/plain": [
       "<AxesSubplot:xlabel='Age'>"
      ]
     },
     "execution_count": 603,
     "metadata": {},
     "output_type": "execute_result"
    },
    {
     "data": {
      "image/png": "[encoded data removed]",
      "text/plain": [
       "<Figure size 1080x288 with 2 Axes>"
      ]
     },
     "metadata": {
      "needs_background": "light"
     },
     "output_type": "display_data"
    }
   ],
   "source": [
    "fig, ax = plt.subplots(1,2,figsize=(15, 4))\n",
    "sns.kdeplot(data=df_transactional, x=\"Age\", ax=ax[0])\n",
    "sns.boxplot(data=df_transactional, x=\"Age\", ax=ax[1])"
   ]
  },
  {
   "cell_type": "code",
   "execution_count": 604,
   "metadata": {},
   "outputs": [
    {
     "data": {
      "text/plain": [
       "<AxesSubplot:xlabel='TestingCost'>"
      ]
     },
     "execution_count": 604,
     "metadata": {},
     "output_type": "execute_result"
    },
    {
     "data": {
      "image/png": "[encoded data removed]",
      "text/plain": [
       "<Figure size 1080x288 with 2 Axes>"
      ]
     },
     "metadata": {
      "needs_background": "light"
     },
     "output_type": "display_data"
    }
   ],
   "source": [
    "fig, ax = plt.subplots(1,2,figsize=(15, 4))\n",
    "sns.kdeplot(data=df_transactional, x=\"TestingCost\", ax=ax[0])\n",
    "sns.boxplot(data=df_transactional, x=\"TestingCost\", ax=ax[1])"
   ]
  },
  {
   "cell_type": "code",
   "execution_count": 605,
   "metadata": {},
   "outputs": [
    {
     "data": {
      "text/html": [
       "<div>\n",
       "<style scoped>\n",
       "    .dataframe tbody tr th:only-of-type {\n",
       "        vertical-align: middle;\n",
       "    }\n",
       "\n",
       "    .dataframe tbody tr th {\n",
       "        vertical-align: top;\n",
       "    }\n",
       "\n",
       "    .dataframe thead th {\n",
       "        text-align: right;\n",
       "    }\n",
       "</style>\n",
       "<table border=\"1\" class=\"dataframe\">\n",
       "  <thead>\n",
       "    <tr style=\"text-align: right;\">\n",
       "      <th></th>\n",
       "      <th>TestingCost</th>\n",
       "      <th>Age</th>\n",
       "    </tr>\n",
       "  </thead>\n",
       "  <tbody>\n",
       "    <tr>\n",
       "      <th>count</th>\n",
       "      <td>2189658.00</td>\n",
       "      <td>2189658.00</td>\n",
       "    </tr>\n",
       "    <tr>\n",
       "      <th>mean</th>\n",
       "      <td>31.84</td>\n",
       "      <td>41.57</td>\n",
       "    </tr>\n",
       "    <tr>\n",
       "      <th>std</th>\n",
       "      <td>29.70</td>\n",
       "      <td>17.20</td>\n",
       "    </tr>\n",
       "    <tr>\n",
       "      <th>min</th>\n",
       "      <td>0.00</td>\n",
       "      <td>0.00</td>\n",
       "    </tr>\n",
       "    <tr>\n",
       "      <th>25%</th>\n",
       "      <td>10.00</td>\n",
       "      <td>30.00</td>\n",
       "    </tr>\n",
       "    <tr>\n",
       "      <th>50%</th>\n",
       "      <td>19.00</td>\n",
       "      <td>42.00</td>\n",
       "    </tr>\n",
       "    <tr>\n",
       "      <th>75%</th>\n",
       "      <td>42.00</td>\n",
       "      <td>54.00</td>\n",
       "    </tr>\n",
       "    <tr>\n",
       "      <th>max</th>\n",
       "      <td>149.00</td>\n",
       "      <td>93.00</td>\n",
       "    </tr>\n",
       "  </tbody>\n",
       "</table>\n",
       "</div>"
      ],
      "text/plain": [
       "       TestingCost        Age\n",
       "count   2189658.00 2189658.00\n",
       "mean         31.84      41.57\n",
       "std          29.70      17.20\n",
       "min           0.00       0.00\n",
       "25%          10.00      30.00\n",
       "50%          19.00      42.00\n",
       "75%          42.00      54.00\n",
       "max         149.00      93.00"
      ]
     },
     "execution_count": 605,
     "metadata": {},
     "output_type": "execute_result"
    }
   ],
   "source": [
    "df_transactional.describe()"
   ]
  },
  {
   "cell_type": "markdown",
   "metadata": {},
   "source": [
    "### Correção do index"
   ]
  },
  {
   "cell_type": "code",
   "execution_count": 606,
   "metadata": {},
   "outputs": [],
   "source": [
    "df_transactional = df_transactional.reset_index(drop=True)"
   ]
  },
  {
   "cell_type": "markdown",
   "metadata": {},
   "source": [
    "# Data analisys"
   ]
  },
  {
   "cell_type": "markdown",
   "metadata": {},
   "source": [
    "## Atribuição dos dados demográficos e econômicos às clinicas"
   ]
  },
  {
   "cell_type": "markdown",
   "metadata": {},
   "source": [
    "Para poder entender melhor sobre cada uma das clinicas presentes na base, iremos fazer um join do dataframe df_geocode com o dataframe df_demographic e df_economic, para ser possível vizualizar os dados demográficos e econômicos do zip code onde está localizado cada clinica"
   ]
  },
  {
   "cell_type": "code",
   "execution_count": 607,
   "metadata": {},
   "outputs": [],
   "source": [
    "df_demographic['GeographicAreaName'] = df_demographic['GeographicAreaName'].str.split(' ', expand=True)[1]\n",
    "df_demographic=df_demographic.rename(columns = {'GeographicAreaName':'Zipcode'})\n",
    " \n",
    "df_economic['GeographicAreaName'] = df_economic['GeographicAreaName'].str.split(' ', expand=True)[1]\n",
    "df_economic=df_economic.rename(columns = {'GeographicAreaName':'Zipcode'})\n"
   ]
  },
  {
   "cell_type": "code",
   "execution_count": 608,
   "metadata": {},
   "outputs": [],
   "source": [
    "df_geocode = df_geocode.merge(df_demographic, on='Zipcode', how='left') # Fazendo o join com o dataframe dos valores demográficos\n",
    "df_geocode = df_geocode.merge(df_economic, on='Zipcode', how='left') # Fazendo o join com o dataframe dos valores econômicos\n",
    "df_geocode = df_geocode.drop(columns=[\"Id_y\"]) # Dropando uma das colunas id, pois foi duplicada\n",
    "df_geocode = df_geocode.rename(columns = {'Id_x':'Id'}) # Renomeando a outra coluna Id"
   ]
  },
  {
   "cell_type": "markdown",
   "metadata": {},
   "source": [
    "Como vemos, não temos informações econômicas nem demograficas de alguns zipcodes, logo não é possível avaliar o zipcode, em vista disso é melhor dropar"
   ]
  },
  {
   "cell_type": "code",
   "execution_count": 609,
   "metadata": {},
   "outputs": [],
   "source": [
    "df_geocode = df_geocode.dropna()\n",
    "df_geocode= df_geocode.reset_index(drop=True)"
   ]
  },
  {
   "cell_type": "code",
   "execution_count": 610,
   "metadata": {},
   "outputs": [],
   "source": [
    "# Corrigindo os tipos dos dados após o join\n",
    "cols = ['TotalPopulation','PopulationUnder5Years', \n",
    "       'Population5to9Years', 'Population10to14Years',\n",
    "       'Population15to19Years', 'Population20to24Years',\n",
    "       'Population25to34Years', 'Population35to44Years',\n",
    "       'Population45to54Years', 'Population55to59Years',\n",
    "       'Population60to64Years', 'Population65to74Years',\n",
    "       'Population75to84Years', 'Population85YearsAndOver',\n",
    "       'TotalHouseholds_LessThan$10.000', 'TotalHouseholds_$10.000to$14.999',\n",
    "       'TotalHouseholds_$15.000to$24.999', 'TotalHouseholds_$25.000to$34.999',\n",
    "       'TotalHouseholds_$35.000to$49.999', 'TotalHouseholds_$50.000to$74.999',\n",
    "       'TotalHouseholds_$75.000to$99.999', 'TotalHouseholds_$100.000to$149.999',\n",
    "       'TotalHouseholds_$150.000to$199.999', 'TotalHouseholds_$200.000OrMore']\n",
    "df_geocode[cols] = df_geocode[cols].astype(\"int64\")"
   ]
  },
  {
   "cell_type": "markdown",
   "metadata": {},
   "source": [
    "## Definição do lucro dos hospitais"
   ]
  },
  {
   "cell_type": "markdown",
   "metadata": {},
   "source": [
    "Para podermos avaliar cada uma das clínicas para poder fazer uma sugestão, é necessário saber o lucro da clínica e a quantidade de serviços prestados. Para isso, iremos utilizar o df_tests que descreve os detalhes a respeito de cada serviço que pode ser realizado pela clínica, juntamente com o df_transactional, que descreve cada serviço realizado por cada clínica."
   ]
  },
  {
   "cell_type": "code",
   "execution_count": 611,
   "metadata": {},
   "outputs": [
    {
     "data": {
      "text/html": [
       "<div>\n",
       "<style scoped>\n",
       "    .dataframe tbody tr th:only-of-type {\n",
       "        vertical-align: middle;\n",
       "    }\n",
       "\n",
       "    .dataframe tbody tr th {\n",
       "        vertical-align: top;\n",
       "    }\n",
       "\n",
       "    .dataframe thead th {\n",
       "        text-align: right;\n",
       "    }\n",
       "</style>\n",
       "<table border=\"1\" class=\"dataframe\">\n",
       "  <thead>\n",
       "    <tr style=\"text-align: right;\">\n",
       "      <th></th>\n",
       "      <th>PatientId</th>\n",
       "      <th>Gender</th>\n",
       "      <th>Dateofbirth</th>\n",
       "      <th>Dateofservice</th>\n",
       "      <th>ServiceId</th>\n",
       "      <th>LabId</th>\n",
       "      <th>CodItem</th>\n",
       "      <th>TestingCost</th>\n",
       "      <th>Age</th>\n",
       "    </tr>\n",
       "  </thead>\n",
       "  <tbody>\n",
       "    <tr>\n",
       "      <th>0</th>\n",
       "      <td>10210830256-BIO003</td>\n",
       "      <td>F</td>\n",
       "      <td>1976-01-08</td>\n",
       "      <td>2019-01-07</td>\n",
       "      <td>571904533475-38</td>\n",
       "      <td>L133</td>\n",
       "      <td>70003237</td>\n",
       "      <td>9.00</td>\n",
       "      <td>42</td>\n",
       "    </tr>\n",
       "    <tr>\n",
       "      <th>1</th>\n",
       "      <td>10210830256-BIO003</td>\n",
       "      <td>F</td>\n",
       "      <td>1976-01-08</td>\n",
       "      <td>2019-01-07</td>\n",
       "      <td>571904533475-38</td>\n",
       "      <td>L133</td>\n",
       "      <td>70000638</td>\n",
       "      <td>13.00</td>\n",
       "      <td>42</td>\n",
       "    </tr>\n",
       "  </tbody>\n",
       "</table>\n",
       "</div>"
      ],
      "text/plain": [
       "            PatientId Gender Dateofbirth Dateofservice        ServiceId LabId  \\\n",
       "0  10210830256-BIO003      F  1976-01-08    2019-01-07  571904533475-38  L133   \n",
       "1  10210830256-BIO003      F  1976-01-08    2019-01-07  571904533475-38  L133   \n",
       "\n",
       "    CodItem  TestingCost  Age  \n",
       "0  70003237         9.00   42  \n",
       "1  70000638        13.00   42  "
      ]
     },
     "execution_count": 611,
     "metadata": {},
     "output_type": "execute_result"
    }
   ],
   "source": [
    "df_transactional.head(2)"
   ]
  },
  {
   "cell_type": "code",
   "execution_count": 612,
   "metadata": {},
   "outputs": [
    {
     "data": {
      "text/html": [
       "<div>\n",
       "<style scoped>\n",
       "    .dataframe tbody tr th:only-of-type {\n",
       "        vertical-align: middle;\n",
       "    }\n",
       "\n",
       "    .dataframe tbody tr th {\n",
       "        vertical-align: top;\n",
       "    }\n",
       "\n",
       "    .dataframe thead th {\n",
       "        text-align: right;\n",
       "    }\n",
       "</style>\n",
       "<table border=\"1\" class=\"dataframe\">\n",
       "  <thead>\n",
       "    <tr style=\"text-align: right;\">\n",
       "      <th></th>\n",
       "      <th>CodItem</th>\n",
       "      <th>DescItem</th>\n",
       "      <th>Category</th>\n",
       "      <th>Family</th>\n",
       "      <th>Speciality</th>\n",
       "      <th>TestingCost</th>\n",
       "    </tr>\n",
       "  </thead>\n",
       "  <tbody>\n",
       "    <tr>\n",
       "      <th>0</th>\n",
       "      <td>70003237</td>\n",
       "      <td>MAGNESIO, SORO (EXEMPLO DE EXPRESSAO DE RESULT...</td>\n",
       "      <td>CA</td>\n",
       "      <td>CORELAB</td>\n",
       "      <td>BIOCHEMISTRY</td>\n",
       "      <td>1.78</td>\n",
       "    </tr>\n",
       "    <tr>\n",
       "      <th>1</th>\n",
       "      <td>70000638</td>\n",
       "      <td>HEMOGRAMA, AUTOMATIZADO, SANGUE</td>\n",
       "      <td>CA</td>\n",
       "      <td>HEMATO</td>\n",
       "      <td>BLOOD COUNT</td>\n",
       "      <td>2.46</td>\n",
       "    </tr>\n",
       "  </tbody>\n",
       "</table>\n",
       "</div>"
      ],
      "text/plain": [
       "    CodItem                                           DescItem Category  \\\n",
       "0  70003237  MAGNESIO, SORO (EXEMPLO DE EXPRESSAO DE RESULT...       CA   \n",
       "1  70000638                    HEMOGRAMA, AUTOMATIZADO, SANGUE       CA   \n",
       "\n",
       "    Family    Speciality  TestingCost  \n",
       "0  CORELAB  BIOCHEMISTRY         1.78  \n",
       "1   HEMATO   BLOOD COUNT         2.46  "
      ]
     },
     "execution_count": 612,
     "metadata": {},
     "output_type": "execute_result"
    }
   ],
   "source": [
    "df_tests.head(2)"
   ]
  },
  {
   "cell_type": "markdown",
   "metadata": {},
   "source": [
    "Para isso, iremos fazer um join utilizando as colunas \"CodItem\" de cada um dos dataframes, com isso obteremos os detalhes do exame feito"
   ]
  },
  {
   "cell_type": "code",
   "execution_count": 613,
   "metadata": {},
   "outputs": [],
   "source": [
    "df_income = df_transactional.merge(df_tests,on=\"CodItem\",how=\"inner\")\n",
    "df_income = df_income.reset_index(drop=True)"
   ]
  },
  {
   "cell_type": "markdown",
   "metadata": {},
   "source": [
    "Ao verificarmos o resultado do join, vemos que a coluna \"TestingCost\" foi duplicada. Noto que no df_transactional que descreve os serviços realizados, a coluna \"TestingCost\" já descreve o preço final daquele serviço especifico, que é custeado pelo cliente. No df_tests observo que a coluna descreve o custo do serviço, só que para o laboratório. A partir dessas duas colunas, será possível calcular uma coluna com o lucro em cada serviço"
   ]
  },
  {
   "cell_type": "code",
   "execution_count": 614,
   "metadata": {},
   "outputs": [
    {
     "data": {
      "text/html": [
       "<div>\n",
       "<style scoped>\n",
       "    .dataframe tbody tr th:only-of-type {\n",
       "        vertical-align: middle;\n",
       "    }\n",
       "\n",
       "    .dataframe tbody tr th {\n",
       "        vertical-align: top;\n",
       "    }\n",
       "\n",
       "    .dataframe thead th {\n",
       "        text-align: right;\n",
       "    }\n",
       "</style>\n",
       "<table border=\"1\" class=\"dataframe\">\n",
       "  <thead>\n",
       "    <tr style=\"text-align: right;\">\n",
       "      <th></th>\n",
       "      <th>PatientId</th>\n",
       "      <th>Gender</th>\n",
       "      <th>Dateofbirth</th>\n",
       "      <th>Dateofservice</th>\n",
       "      <th>ServiceId</th>\n",
       "      <th>LabId</th>\n",
       "      <th>CodItem</th>\n",
       "      <th>TestingCost</th>\n",
       "      <th>Age</th>\n",
       "    </tr>\n",
       "  </thead>\n",
       "  <tbody>\n",
       "    <tr>\n",
       "      <th>0</th>\n",
       "      <td>10210830256-BIO003</td>\n",
       "      <td>F</td>\n",
       "      <td>1976-01-08</td>\n",
       "      <td>2019-01-07</td>\n",
       "      <td>571904533475-38</td>\n",
       "      <td>L133</td>\n",
       "      <td>70003237</td>\n",
       "      <td>9.00</td>\n",
       "      <td>42</td>\n",
       "    </tr>\n",
       "    <tr>\n",
       "      <th>1</th>\n",
       "      <td>10210830256-BIO003</td>\n",
       "      <td>F</td>\n",
       "      <td>1976-01-08</td>\n",
       "      <td>2019-01-07</td>\n",
       "      <td>571904533475-38</td>\n",
       "      <td>L133</td>\n",
       "      <td>70000638</td>\n",
       "      <td>13.00</td>\n",
       "      <td>42</td>\n",
       "    </tr>\n",
       "  </tbody>\n",
       "</table>\n",
       "</div>"
      ],
      "text/plain": [
       "            PatientId Gender Dateofbirth Dateofservice        ServiceId LabId  \\\n",
       "0  10210830256-BIO003      F  1976-01-08    2019-01-07  571904533475-38  L133   \n",
       "1  10210830256-BIO003      F  1976-01-08    2019-01-07  571904533475-38  L133   \n",
       "\n",
       "    CodItem  TestingCost  Age  \n",
       "0  70003237         9.00   42  \n",
       "1  70000638        13.00   42  "
      ]
     },
     "execution_count": 614,
     "metadata": {},
     "output_type": "execute_result"
    }
   ],
   "source": [
    "df_transactional.head(2)"
   ]
  },
  {
   "cell_type": "code",
   "execution_count": 615,
   "metadata": {},
   "outputs": [],
   "source": [
    "# Renomeando \n",
    "df_income = df_income.rename(columns = {'TestingCost_x':'FinalCost'}) \n",
    "df_income = df_income.rename(columns = {'TestingCost_y':'ServiceCost'}) \n",
    "df_income[\"Age\"] = df_income[\"Age\"].astype(pd.StringDtype())"
   ]
  },
  {
   "cell_type": "markdown",
   "metadata": {},
   "source": [
    "Após corrigirmos os nomes das colunas, podemos utiliza-lás para calcular o lucro em cada serviço"
   ]
  },
  {
   "cell_type": "code",
   "execution_count": 616,
   "metadata": {},
   "outputs": [],
   "source": [
    "df_income[\"Profit\"] = df_income[\"FinalCost\"] - df_income[\"ServiceCost\"] "
   ]
  },
  {
   "cell_type": "markdown",
   "metadata": {},
   "source": [
    "Agora faremos uma agregação, para calcular o lucro de cada clínica presente na base, e também o número de serviços prestados."
   ]
  },
  {
   "cell_type": "code",
   "execution_count": 618,
   "metadata": {},
   "outputs": [
    {
     "data": {
      "text/plain": [
       "(Timestamp('2019-01-01 00:00:00'), Timestamp('2021-02-12 00:00:00'))"
      ]
     },
     "execution_count": 618,
     "metadata": {},
     "output_type": "execute_result"
    }
   ],
   "source": [
    "df_income.Dateofservice.min(), df_income.Dateofservice.max()"
   ]
  },
  {
   "cell_type": "markdown",
   "metadata": {},
   "source": [
    "Como vemos, temos registros a partir de 2019, e os dados mais novos são de 2021. Como são dados muito atuais se levado em conta a idade do registro mais novo, não é necessário filtrar pela data"
   ]
  },
  {
   "cell_type": "code",
   "execution_count": 619,
   "metadata": {},
   "outputs": [],
   "source": [
    "df_income = df_income.groupby([\"LabId\"],as_index=False)\\\n",
    "               .agg({\"Profit\":\"sum\",\"ServiceId\":\"count\"})\\\n",
    "               .rename(columns={\"Profit\":\"TotalProfit\",\"ServiceId\":\"ServicesTotalNumber\"})\\\n",
    "               .sort_values(by=[\"TotalProfit\",\"ServicesTotalNumber\"],ascending=False)\\\n",
    "               .reset_index(drop=True)"
   ]
  },
  {
   "cell_type": "code",
   "execution_count": 622,
   "metadata": {},
   "outputs": [
    {
     "data": {
      "text/html": [
       "<div>\n",
       "<style scoped>\n",
       "    .dataframe tbody tr th:only-of-type {\n",
       "        vertical-align: middle;\n",
       "    }\n",
       "\n",
       "    .dataframe tbody tr th {\n",
       "        vertical-align: top;\n",
       "    }\n",
       "\n",
       "    .dataframe thead th {\n",
       "        text-align: right;\n",
       "    }\n",
       "</style>\n",
       "<table border=\"1\" class=\"dataframe\">\n",
       "  <thead>\n",
       "    <tr style=\"text-align: right;\">\n",
       "      <th></th>\n",
       "      <th>LabId</th>\n",
       "      <th>TotalProfit</th>\n",
       "      <th>ServicesTotalNumber</th>\n",
       "    </tr>\n",
       "  </thead>\n",
       "  <tbody>\n",
       "    <tr>\n",
       "      <th>0</th>\n",
       "      <td>L133</td>\n",
       "      <td>2400668.31</td>\n",
       "      <td>104845</td>\n",
       "    </tr>\n",
       "    <tr>\n",
       "      <th>1</th>\n",
       "      <td>L139</td>\n",
       "      <td>1979864.28</td>\n",
       "      <td>79306</td>\n",
       "    </tr>\n",
       "    <tr>\n",
       "      <th>2</th>\n",
       "      <td>L152</td>\n",
       "      <td>1974364.89</td>\n",
       "      <td>86083</td>\n",
       "    </tr>\n",
       "    <tr>\n",
       "      <th>3</th>\n",
       "      <td>L121</td>\n",
       "      <td>1945862.17</td>\n",
       "      <td>77034</td>\n",
       "    </tr>\n",
       "    <tr>\n",
       "      <th>4</th>\n",
       "      <td>L166</td>\n",
       "      <td>1662822.69</td>\n",
       "      <td>69695</td>\n",
       "    </tr>\n",
       "  </tbody>\n",
       "</table>\n",
       "</div>"
      ],
      "text/plain": [
       "  LabId  TotalProfit  ServicesTotalNumber\n",
       "0  L133   2400668.31               104845\n",
       "1  L139   1979864.28                79306\n",
       "2  L152   1974364.89                86083\n",
       "3  L121   1945862.17                77034\n",
       "4  L166   1662822.69                69695"
      ]
     },
     "execution_count": 622,
     "metadata": {},
     "output_type": "execute_result"
    }
   ],
   "source": [
    "df_income.head()"
   ]
  },
  {
   "cell_type": "markdown",
   "metadata": {},
   "source": [
    "Com isso chegamos ao resultado de que os laborátorios L133, L139, L152, L121 e L166 foram os mais lucrativos e que mais atenderam"
   ]
  },
  {
   "cell_type": "markdown",
   "metadata": {},
   "source": [
    "## Vizualização dos dados econômicos dos laboratórios"
   ]
  },
  {
   "cell_type": "code",
   "execution_count": 629,
   "metadata": {},
   "outputs": [
    {
     "data": {
      "text/html": [
       "<div>\n",
       "<style scoped>\n",
       "    .dataframe tbody tr th:only-of-type {\n",
       "        vertical-align: middle;\n",
       "    }\n",
       "\n",
       "    .dataframe tbody tr th {\n",
       "        vertical-align: top;\n",
       "    }\n",
       "\n",
       "    .dataframe thead th {\n",
       "        text-align: right;\n",
       "    }\n",
       "</style>\n",
       "<table border=\"1\" class=\"dataframe\">\n",
       "  <thead>\n",
       "    <tr style=\"text-align: right;\">\n",
       "      <th></th>\n",
       "      <th>LabId</th>\n",
       "      <th>TotalProfit</th>\n",
       "      <th>ServicesTotalNumber</th>\n",
       "      <th>Address</th>\n",
       "      <th>Zipcode</th>\n",
       "      <th>Latitude</th>\n",
       "      <th>Longitude</th>\n",
       "      <th>Id</th>\n",
       "      <th>TotalPopulation</th>\n",
       "      <th>SexRatiomalesper100females</th>\n",
       "      <th>...</th>\n",
       "      <th>TotalHouseholds_LessThan$10.000</th>\n",
       "      <th>TotalHouseholds_$10.000to$14.999</th>\n",
       "      <th>TotalHouseholds_$15.000to$24.999</th>\n",
       "      <th>TotalHouseholds_$25.000to$34.999</th>\n",
       "      <th>TotalHouseholds_$35.000to$49.999</th>\n",
       "      <th>TotalHouseholds_$50.000to$74.999</th>\n",
       "      <th>TotalHouseholds_$75.000to$99.999</th>\n",
       "      <th>TotalHouseholds_$100.000to$149.999</th>\n",
       "      <th>TotalHouseholds_$150.000to$199.999</th>\n",
       "      <th>TotalHouseholds_$200.000OrMore</th>\n",
       "    </tr>\n",
       "  </thead>\n",
       "  <tbody>\n",
       "    <tr>\n",
       "      <th>0</th>\n",
       "      <td>L133</td>\n",
       "      <td>2400668.31</td>\n",
       "      <td>104845</td>\n",
       "      <td>2220 GLADSTONE DR. SUITE 7, PITTSBURG, CA 94565</td>\n",
       "      <td>94565</td>\n",
       "      <td>38.01</td>\n",
       "      <td>-121.87</td>\n",
       "      <td>8600000US94565</td>\n",
       "      <td>97671.00</td>\n",
       "      <td>100.50</td>\n",
       "      <td>...</td>\n",
       "      <td>1248.00</td>\n",
       "      <td>1298.00</td>\n",
       "      <td>1707.00</td>\n",
       "      <td>2074.00</td>\n",
       "      <td>3224.00</td>\n",
       "      <td>5188.00</td>\n",
       "      <td>4567.00</td>\n",
       "      <td>4846.00</td>\n",
       "      <td>2219.00</td>\n",
       "      <td>1997.00</td>\n",
       "    </tr>\n",
       "  </tbody>\n",
       "</table>\n",
       "<p>1 rows × 34 columns</p>\n",
       "</div>"
      ],
      "text/plain": [
       "  LabId  TotalProfit  ServicesTotalNumber  \\\n",
       "0  L133   2400668.31               104845   \n",
       "\n",
       "                                           Address Zipcode  Latitude  \\\n",
       "0  2220 GLADSTONE DR. SUITE 7, PITTSBURG, CA 94565   94565     38.01   \n",
       "\n",
       "   Longitude              Id  TotalPopulation  SexRatiomalesper100females  \\\n",
       "0    -121.87  8600000US94565         97671.00                      100.50   \n",
       "\n",
       "   ...  TotalHouseholds_LessThan$10.000  TotalHouseholds_$10.000to$14.999  \\\n",
       "0  ...                          1248.00                           1298.00   \n",
       "\n",
       "   TotalHouseholds_$15.000to$24.999  TotalHouseholds_$25.000to$34.999  \\\n",
       "0                           1707.00                           2074.00   \n",
       "\n",
       "   TotalHouseholds_$35.000to$49.999  TotalHouseholds_$50.000to$74.999  \\\n",
       "0                           3224.00                           5188.00   \n",
       "\n",
       "   TotalHouseholds_$75.000to$99.999  TotalHouseholds_$100.000to$149.999  \\\n",
       "0                           4567.00                             4846.00   \n",
       "\n",
       "   TotalHouseholds_$150.000to$199.999  TotalHouseholds_$200.000OrMore  \n",
       "0                             2219.00                         1997.00  \n",
       "\n",
       "[1 rows x 34 columns]"
      ]
     },
     "execution_count": 629,
     "metadata": {},
     "output_type": "execute_result"
    }
   ],
   "source": [
    "df_income.merge(df_geocode, on=\"LabId\", how=\"left\").sort_values(by=[\"TotalProfit\",\"ServicesTotalNumber\"],ascending=False).reset_index(drop=True).head(1)"
   ]
  },
  {
   "cell_type": "code",
   "execution_count": null,
   "metadata": {},
   "outputs": [],
   "source": [
    "df_income = df_income.merge(df_geocode, on=\"LabId\", how=\"Left\")"
   ]
  },
  {
   "cell_type": "code",
   "execution_count": null,
   "metadata": {},
   "outputs": [],
   "source": [
    "df_income = df_transactional.merge(df_tests,on=\"CodItem\",how=\"inner\")\n",
    "df_income = df_income.reset_index(drop=True)"
   ]
  },
  {
   "cell_type": "code",
   "execution_count": 623,
   "metadata": {},
   "outputs": [
    {
     "data": {
      "text/html": [
       "<div>\n",
       "<style scoped>\n",
       "    .dataframe tbody tr th:only-of-type {\n",
       "        vertical-align: middle;\n",
       "    }\n",
       "\n",
       "    .dataframe tbody tr th {\n",
       "        vertical-align: top;\n",
       "    }\n",
       "\n",
       "    .dataframe thead th {\n",
       "        text-align: right;\n",
       "    }\n",
       "</style>\n",
       "<table border=\"1\" class=\"dataframe\">\n",
       "  <thead>\n",
       "    <tr style=\"text-align: right;\">\n",
       "      <th></th>\n",
       "      <th>LabId</th>\n",
       "      <th>Address</th>\n",
       "      <th>Zipcode</th>\n",
       "      <th>Latitude</th>\n",
       "      <th>Longitude</th>\n",
       "      <th>Id</th>\n",
       "      <th>TotalPopulation</th>\n",
       "      <th>SexRatiomalesper100females</th>\n",
       "      <th>PopulationUnder5Years</th>\n",
       "      <th>Population5to9Years</th>\n",
       "      <th>...</th>\n",
       "      <th>TotalHouseholds_LessThan$10.000</th>\n",
       "      <th>TotalHouseholds_$10.000to$14.999</th>\n",
       "      <th>TotalHouseholds_$15.000to$24.999</th>\n",
       "      <th>TotalHouseholds_$25.000to$34.999</th>\n",
       "      <th>TotalHouseholds_$35.000to$49.999</th>\n",
       "      <th>TotalHouseholds_$50.000to$74.999</th>\n",
       "      <th>TotalHouseholds_$75.000to$99.999</th>\n",
       "      <th>TotalHouseholds_$100.000to$149.999</th>\n",
       "      <th>TotalHouseholds_$150.000to$199.999</th>\n",
       "      <th>TotalHouseholds_$200.000OrMore</th>\n",
       "    </tr>\n",
       "  </thead>\n",
       "  <tbody>\n",
       "    <tr>\n",
       "      <th>0</th>\n",
       "      <td>L152</td>\n",
       "      <td>3800 PLEASANT HILL RD STE 1, DULUTH, GA 30096</td>\n",
       "      <td>30096</td>\n",
       "      <td>34.00</td>\n",
       "      <td>-84.16</td>\n",
       "      <td>8600000US30096</td>\n",
       "      <td>68691</td>\n",
       "      <td>89.00</td>\n",
       "      <td>4335</td>\n",
       "      <td>4376</td>\n",
       "      <td>...</td>\n",
       "      <td>1277</td>\n",
       "      <td>1020</td>\n",
       "      <td>2214</td>\n",
       "      <td>2771</td>\n",
       "      <td>3809</td>\n",
       "      <td>5563</td>\n",
       "      <td>3485</td>\n",
       "      <td>3025</td>\n",
       "      <td>1233</td>\n",
       "      <td>1428</td>\n",
       "    </tr>\n",
       "    <tr>\n",
       "      <th>1</th>\n",
       "      <td>L520</td>\n",
       "      <td>1614 N JAMES ST, ROME, NY 13440</td>\n",
       "      <td>13440</td>\n",
       "      <td>43.23</td>\n",
       "      <td>-75.44</td>\n",
       "      <td>8600000US13440</td>\n",
       "      <td>41014</td>\n",
       "      <td>104.20</td>\n",
       "      <td>2673</td>\n",
       "      <td>2497</td>\n",
       "      <td>...</td>\n",
       "      <td>1227</td>\n",
       "      <td>842</td>\n",
       "      <td>1804</td>\n",
       "      <td>1798</td>\n",
       "      <td>1961</td>\n",
       "      <td>3345</td>\n",
       "      <td>1908</td>\n",
       "      <td>2095</td>\n",
       "      <td>779</td>\n",
       "      <td>502</td>\n",
       "    </tr>\n",
       "    <tr>\n",
       "      <th>2</th>\n",
       "      <td>L141</td>\n",
       "      <td>12911 120TH AVE NE STE D60, KIRKLAND, WA 98034</td>\n",
       "      <td>98034</td>\n",
       "      <td>47.72</td>\n",
       "      <td>-122.18</td>\n",
       "      <td>8600000US98034</td>\n",
       "      <td>43471</td>\n",
       "      <td>98.80</td>\n",
       "      <td>2813</td>\n",
       "      <td>2485</td>\n",
       "      <td>...</td>\n",
       "      <td>672</td>\n",
       "      <td>305</td>\n",
       "      <td>629</td>\n",
       "      <td>760</td>\n",
       "      <td>1474</td>\n",
       "      <td>2226</td>\n",
       "      <td>2609</td>\n",
       "      <td>3797</td>\n",
       "      <td>2317</td>\n",
       "      <td>2857</td>\n",
       "    </tr>\n",
       "    <tr>\n",
       "      <th>3</th>\n",
       "      <td>L524</td>\n",
       "      <td>5667 PEACHTREE DUNWOODY RD 250, ATLANTA, GA 30342</td>\n",
       "      <td>30342</td>\n",
       "      <td>33.91</td>\n",
       "      <td>-84.35</td>\n",
       "      <td>8600000US30342</td>\n",
       "      <td>30873</td>\n",
       "      <td>94.00</td>\n",
       "      <td>1963</td>\n",
       "      <td>2322</td>\n",
       "      <td>...</td>\n",
       "      <td>205</td>\n",
       "      <td>270</td>\n",
       "      <td>965</td>\n",
       "      <td>947</td>\n",
       "      <td>1290</td>\n",
       "      <td>1892</td>\n",
       "      <td>1263</td>\n",
       "      <td>1702</td>\n",
       "      <td>997</td>\n",
       "      <td>3446</td>\n",
       "    </tr>\n",
       "    <tr>\n",
       "      <th>4</th>\n",
       "      <td>L545</td>\n",
       "      <td>1204 IL HWY 164, OQUAWKA, IL 61469</td>\n",
       "      <td>61469</td>\n",
       "      <td>40.93</td>\n",
       "      <td>-90.94</td>\n",
       "      <td>8600000US61469</td>\n",
       "      <td>2213</td>\n",
       "      <td>101.90</td>\n",
       "      <td>46</td>\n",
       "      <td>71</td>\n",
       "      <td>...</td>\n",
       "      <td>16</td>\n",
       "      <td>72</td>\n",
       "      <td>133</td>\n",
       "      <td>108</td>\n",
       "      <td>175</td>\n",
       "      <td>287</td>\n",
       "      <td>112</td>\n",
       "      <td>107</td>\n",
       "      <td>10</td>\n",
       "      <td>0</td>\n",
       "    </tr>\n",
       "    <tr>\n",
       "      <th>...</th>\n",
       "      <td>...</td>\n",
       "      <td>...</td>\n",
       "      <td>...</td>\n",
       "      <td>...</td>\n",
       "      <td>...</td>\n",
       "      <td>...</td>\n",
       "      <td>...</td>\n",
       "      <td>...</td>\n",
       "      <td>...</td>\n",
       "      <td>...</td>\n",
       "      <td>...</td>\n",
       "      <td>...</td>\n",
       "      <td>...</td>\n",
       "      <td>...</td>\n",
       "      <td>...</td>\n",
       "      <td>...</td>\n",
       "      <td>...</td>\n",
       "      <td>...</td>\n",
       "      <td>...</td>\n",
       "      <td>...</td>\n",
       "      <td>...</td>\n",
       "    </tr>\n",
       "    <tr>\n",
       "      <th>111</th>\n",
       "      <td>L886</td>\n",
       "      <td>1819 MARLTON PIKE W., CHERRY HILL, NJ 08002</td>\n",
       "      <td>08002</td>\n",
       "      <td>39.92</td>\n",
       "      <td>-75.04</td>\n",
       "      <td>8600000US08002</td>\n",
       "      <td>22964</td>\n",
       "      <td>90.50</td>\n",
       "      <td>1333</td>\n",
       "      <td>960</td>\n",
       "      <td>...</td>\n",
       "      <td>383</td>\n",
       "      <td>240</td>\n",
       "      <td>788</td>\n",
       "      <td>560</td>\n",
       "      <td>773</td>\n",
       "      <td>1343</td>\n",
       "      <td>1115</td>\n",
       "      <td>1870</td>\n",
       "      <td>1031</td>\n",
       "      <td>853</td>\n",
       "    </tr>\n",
       "    <tr>\n",
       "      <th>112</th>\n",
       "      <td>L535</td>\n",
       "      <td>603 SENECA ST 4, ONEIDA, NY 13421</td>\n",
       "      <td>13421</td>\n",
       "      <td>43.08</td>\n",
       "      <td>-75.65</td>\n",
       "      <td>8600000US13421</td>\n",
       "      <td>13149</td>\n",
       "      <td>90.60</td>\n",
       "      <td>852</td>\n",
       "      <td>840</td>\n",
       "      <td>...</td>\n",
       "      <td>495</td>\n",
       "      <td>222</td>\n",
       "      <td>540</td>\n",
       "      <td>480</td>\n",
       "      <td>786</td>\n",
       "      <td>1119</td>\n",
       "      <td>509</td>\n",
       "      <td>929</td>\n",
       "      <td>192</td>\n",
       "      <td>132</td>\n",
       "    </tr>\n",
       "    <tr>\n",
       "      <th>113</th>\n",
       "      <td>L723</td>\n",
       "      <td>8052 STATE ROUTE 12, BARNEVELD, NY 13304</td>\n",
       "      <td>13304</td>\n",
       "      <td>43.25</td>\n",
       "      <td>-75.19</td>\n",
       "      <td>8600000US13304</td>\n",
       "      <td>1617</td>\n",
       "      <td>95.80</td>\n",
       "      <td>51</td>\n",
       "      <td>124</td>\n",
       "      <td>...</td>\n",
       "      <td>21</td>\n",
       "      <td>21</td>\n",
       "      <td>67</td>\n",
       "      <td>62</td>\n",
       "      <td>77</td>\n",
       "      <td>60</td>\n",
       "      <td>129</td>\n",
       "      <td>64</td>\n",
       "      <td>103</td>\n",
       "      <td>93</td>\n",
       "    </tr>\n",
       "    <tr>\n",
       "      <th>114</th>\n",
       "      <td>L163</td>\n",
       "      <td>3906 LILLIE AVE STE 3, DAVENPORT, IA 52806</td>\n",
       "      <td>52806</td>\n",
       "      <td>41.56</td>\n",
       "      <td>-90.59</td>\n",
       "      <td>8600000US52806</td>\n",
       "      <td>28288</td>\n",
       "      <td>85.80</td>\n",
       "      <td>2111</td>\n",
       "      <td>1991</td>\n",
       "      <td>...</td>\n",
       "      <td>643</td>\n",
       "      <td>581</td>\n",
       "      <td>1249</td>\n",
       "      <td>907</td>\n",
       "      <td>1668</td>\n",
       "      <td>2089</td>\n",
       "      <td>1435</td>\n",
       "      <td>1639</td>\n",
       "      <td>451</td>\n",
       "      <td>226</td>\n",
       "    </tr>\n",
       "    <tr>\n",
       "      <th>115</th>\n",
       "      <td>L967</td>\n",
       "      <td>2700 GRANT ST. SUITE 107, CONCORD, CA 94520</td>\n",
       "      <td>94520</td>\n",
       "      <td>37.98</td>\n",
       "      <td>-122.04</td>\n",
       "      <td>8600000US94520</td>\n",
       "      <td>38753</td>\n",
       "      <td>108.20</td>\n",
       "      <td>2818</td>\n",
       "      <td>2446</td>\n",
       "      <td>...</td>\n",
       "      <td>802</td>\n",
       "      <td>583</td>\n",
       "      <td>1098</td>\n",
       "      <td>1072</td>\n",
       "      <td>2024</td>\n",
       "      <td>2356</td>\n",
       "      <td>1948</td>\n",
       "      <td>2306</td>\n",
       "      <td>961</td>\n",
       "      <td>519</td>\n",
       "    </tr>\n",
       "  </tbody>\n",
       "</table>\n",
       "<p>116 rows × 32 columns</p>\n",
       "</div>"
      ],
      "text/plain": [
       "    LabId                                            Address Zipcode  \\\n",
       "0    L152      3800 PLEASANT HILL RD STE 1, DULUTH, GA 30096   30096   \n",
       "1    L520                    1614 N JAMES ST, ROME, NY 13440   13440   \n",
       "2    L141     12911 120TH AVE NE STE D60, KIRKLAND, WA 98034   98034   \n",
       "3    L524  5667 PEACHTREE DUNWOODY RD 250, ATLANTA, GA 30342   30342   \n",
       "4    L545                 1204 IL HWY 164, OQUAWKA, IL 61469   61469   \n",
       "..    ...                                                ...     ...   \n",
       "111  L886        1819 MARLTON PIKE W., CHERRY HILL, NJ 08002   08002   \n",
       "112  L535                  603 SENECA ST 4, ONEIDA, NY 13421   13421   \n",
       "113  L723           8052 STATE ROUTE 12, BARNEVELD, NY 13304   13304   \n",
       "114  L163         3906 LILLIE AVE STE 3, DAVENPORT, IA 52806   52806   \n",
       "115  L967        2700 GRANT ST. SUITE 107, CONCORD, CA 94520   94520   \n",
       "\n",
       "     Latitude  Longitude              Id  TotalPopulation  \\\n",
       "0       34.00     -84.16  8600000US30096            68691   \n",
       "1       43.23     -75.44  8600000US13440            41014   \n",
       "2       47.72    -122.18  8600000US98034            43471   \n",
       "3       33.91     -84.35  8600000US30342            30873   \n",
       "4       40.93     -90.94  8600000US61469             2213   \n",
       "..        ...        ...             ...              ...   \n",
       "111     39.92     -75.04  8600000US08002            22964   \n",
       "112     43.08     -75.65  8600000US13421            13149   \n",
       "113     43.25     -75.19  8600000US13304             1617   \n",
       "114     41.56     -90.59  8600000US52806            28288   \n",
       "115     37.98    -122.04  8600000US94520            38753   \n",
       "\n",
       "     SexRatiomalesper100females  PopulationUnder5Years  Population5to9Years  \\\n",
       "0                         89.00                   4335                 4376   \n",
       "1                        104.20                   2673                 2497   \n",
       "2                         98.80                   2813                 2485   \n",
       "3                         94.00                   1963                 2322   \n",
       "4                        101.90                     46                   71   \n",
       "..                          ...                    ...                  ...   \n",
       "111                       90.50                   1333                  960   \n",
       "112                       90.60                    852                  840   \n",
       "113                       95.80                     51                  124   \n",
       "114                       85.80                   2111                 1991   \n",
       "115                      108.20                   2818                 2446   \n",
       "\n",
       "     ...  TotalHouseholds_LessThan$10.000  TotalHouseholds_$10.000to$14.999  \\\n",
       "0    ...                             1277                              1020   \n",
       "1    ...                             1227                               842   \n",
       "2    ...                              672                               305   \n",
       "3    ...                              205                               270   \n",
       "4    ...                               16                                72   \n",
       "..   ...                              ...                               ...   \n",
       "111  ...                              383                               240   \n",
       "112  ...                              495                               222   \n",
       "113  ...                               21                                21   \n",
       "114  ...                              643                               581   \n",
       "115  ...                              802                               583   \n",
       "\n",
       "     TotalHouseholds_$15.000to$24.999  TotalHouseholds_$25.000to$34.999  \\\n",
       "0                                2214                              2771   \n",
       "1                                1804                              1798   \n",
       "2                                 629                               760   \n",
       "3                                 965                               947   \n",
       "4                                 133                               108   \n",
       "..                                ...                               ...   \n",
       "111                               788                               560   \n",
       "112                               540                               480   \n",
       "113                                67                                62   \n",
       "114                              1249                               907   \n",
       "115                              1098                              1072   \n",
       "\n",
       "     TotalHouseholds_$35.000to$49.999  TotalHouseholds_$50.000to$74.999  \\\n",
       "0                                3809                              5563   \n",
       "1                                1961                              3345   \n",
       "2                                1474                              2226   \n",
       "3                                1290                              1892   \n",
       "4                                 175                               287   \n",
       "..                                ...                               ...   \n",
       "111                               773                              1343   \n",
       "112                               786                              1119   \n",
       "113                                77                                60   \n",
       "114                              1668                              2089   \n",
       "115                              2024                              2356   \n",
       "\n",
       "     TotalHouseholds_$75.000to$99.999  TotalHouseholds_$100.000to$149.999  \\\n",
       "0                                3485                                3025   \n",
       "1                                1908                                2095   \n",
       "2                                2609                                3797   \n",
       "3                                1263                                1702   \n",
       "4                                 112                                 107   \n",
       "..                                ...                                 ...   \n",
       "111                              1115                                1870   \n",
       "112                               509                                 929   \n",
       "113                               129                                  64   \n",
       "114                              1435                                1639   \n",
       "115                              1948                                2306   \n",
       "\n",
       "     TotalHouseholds_$150.000to$199.999  TotalHouseholds_$200.000OrMore  \n",
       "0                                  1233                            1428  \n",
       "1                                   779                             502  \n",
       "2                                  2317                            2857  \n",
       "3                                   997                            3446  \n",
       "4                                    10                               0  \n",
       "..                                  ...                             ...  \n",
       "111                                1031                             853  \n",
       "112                                 192                             132  \n",
       "113                                 103                              93  \n",
       "114                                 451                             226  \n",
       "115                                 961                             519  \n",
       "\n",
       "[116 rows x 32 columns]"
      ]
     },
     "execution_count": 623,
     "metadata": {},
     "output_type": "execute_result"
    }
   ],
   "source": [
    "df_geocode"
   ]
  }
 ],
 "metadata": {
  "kernelspec": {
   "display_name": "Python 3.9.12 ('base')",
   "language": "python",
   "name": "python3"
  },
  "language_info": {
   "codemirror_mode": {
    "name": "ipython",
    "version": 3
   },
   "file_extension": ".py",
   "mimetype": "text/x-python",
   "name": "python",
   "nbconvert_exporter": "python",
   "pygments_lexer": "ipython3",
   "version": "3.9.12"
  },
  "orig_nbformat": 4,
  "vscode": {
   "interpreter": {
    "hash": "065adfb6cf8dde93f3b68adab08bd1730f93fe8bcfc65ba4af5a314086910420"
   }
  }
 },
 "nbformat": 4,
 "nbformat_minor": 2
}
