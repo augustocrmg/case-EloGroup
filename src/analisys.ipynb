{
 "cells": [
  {
   "cell_type": "code",
   "execution_count": 360,
   "metadata": {},
   "outputs": [],
   "source": [
    "import pandas as pd\n",
    "import numpy as np"
   ]
  },
  {
   "cell_type": "code",
   "execution_count": 361,
   "metadata": {},
   "outputs": [],
   "source": [
    "prefix  = \"../data/\"\n",
    "\n",
    "df_demographic = pd.read_csv(prefix+\"DemographicData_ZCTAs.csv\")\n",
    "df_economic = pd.read_csv(prefix+\"EconomicData_ZCTAs.csv\")\n",
    "df_geocode = pd.read_csv(prefix+\"df_geocode.csv\")\n",
    "df_tests = pd.read_csv(prefix+\"test_data.csv\")\n",
    "df_transactional = pd.read_csv(prefix+\"transactional_data.csv\",sep=\";\",decimal=\",\")"
   ]
  },
  {
   "cell_type": "markdown",
   "metadata": {},
   "source": [
    "# Sanity check"
   ]
  },
  {
   "cell_type": "markdown",
   "metadata": {},
   "source": [
    "## Sanity check df_demographic"
   ]
  },
  {
   "cell_type": "code",
   "execution_count": 362,
   "metadata": {},
   "outputs": [
    {
     "data": {
      "text/html": [
       "<div>\n",
       "<style scoped>\n",
       "    .dataframe tbody tr th:only-of-type {\n",
       "        vertical-align: middle;\n",
       "    }\n",
       "\n",
       "    .dataframe tbody tr th {\n",
       "        vertical-align: top;\n",
       "    }\n",
       "\n",
       "    .dataframe thead th {\n",
       "        text-align: right;\n",
       "    }\n",
       "</style>\n",
       "<table border=\"1\" class=\"dataframe\">\n",
       "  <thead>\n",
       "    <tr style=\"text-align: right;\">\n",
       "      <th></th>\n",
       "      <th>Unnamed: 0</th>\n",
       "      <th>Id</th>\n",
       "      <th>GeographicAreaName</th>\n",
       "      <th>TotalPopulation</th>\n",
       "      <th>SexRatio(males per 100 females)</th>\n",
       "      <th>Population_Under5Years</th>\n",
       "      <th>Population_5to9Years</th>\n",
       "      <th>Population_10to14Years</th>\n",
       "      <th>Population_15to19Years</th>\n",
       "      <th>Population_20to24Years</th>\n",
       "      <th>Population_25to34Years</th>\n",
       "      <th>Population_35to44Years</th>\n",
       "      <th>Population_45to54Years</th>\n",
       "      <th>Population_55to59Years</th>\n",
       "      <th>Population_60to64Years</th>\n",
       "      <th>Population_65to74Years</th>\n",
       "      <th>Population_75to84Years</th>\n",
       "      <th>Population_85YearsAndOver</th>\n",
       "      <th>MedianAgeInYears</th>\n",
       "    </tr>\n",
       "  </thead>\n",
       "  <tbody>\n",
       "    <tr>\n",
       "      <th>0</th>\n",
       "      <td>0</td>\n",
       "      <td>8600000US35004</td>\n",
       "      <td>ZCTA5 35004</td>\n",
       "      <td>12045</td>\n",
       "      <td>94.1</td>\n",
       "      <td>805</td>\n",
       "      <td>1075</td>\n",
       "      <td>898</td>\n",
       "      <td>477</td>\n",
       "      <td>578</td>\n",
       "      <td>2088</td>\n",
       "      <td>1628</td>\n",
       "      <td>1200</td>\n",
       "      <td>886</td>\n",
       "      <td>683</td>\n",
       "      <td>1017</td>\n",
       "      <td>534</td>\n",
       "      <td>176</td>\n",
       "      <td>35.5</td>\n",
       "    </tr>\n",
       "    <tr>\n",
       "      <th>1</th>\n",
       "      <td>1</td>\n",
       "      <td>8600000US35005</td>\n",
       "      <td>ZCTA5 35005</td>\n",
       "      <td>7344</td>\n",
       "      <td>86.1</td>\n",
       "      <td>504</td>\n",
       "      <td>453</td>\n",
       "      <td>511</td>\n",
       "      <td>499</td>\n",
       "      <td>214</td>\n",
       "      <td>788</td>\n",
       "      <td>795</td>\n",
       "      <td>968</td>\n",
       "      <td>612</td>\n",
       "      <td>561</td>\n",
       "      <td>798</td>\n",
       "      <td>485</td>\n",
       "      <td>156</td>\n",
       "      <td>44.0</td>\n",
       "    </tr>\n",
       "    <tr>\n",
       "      <th>2</th>\n",
       "      <td>2</td>\n",
       "      <td>8600000US35006</td>\n",
       "      <td>ZCTA5 35006</td>\n",
       "      <td>2883</td>\n",
       "      <td>108.2</td>\n",
       "      <td>96</td>\n",
       "      <td>153</td>\n",
       "      <td>303</td>\n",
       "      <td>129</td>\n",
       "      <td>156</td>\n",
       "      <td>183</td>\n",
       "      <td>367</td>\n",
       "      <td>430</td>\n",
       "      <td>296</td>\n",
       "      <td>260</td>\n",
       "      <td>280</td>\n",
       "      <td>201</td>\n",
       "      <td>29</td>\n",
       "      <td>47.2</td>\n",
       "    </tr>\n",
       "    <tr>\n",
       "      <th>3</th>\n",
       "      <td>3</td>\n",
       "      <td>8600000US35007</td>\n",
       "      <td>ZCTA5 35007</td>\n",
       "      <td>26332</td>\n",
       "      <td>95.0</td>\n",
       "      <td>1936</td>\n",
       "      <td>1992</td>\n",
       "      <td>1837</td>\n",
       "      <td>1762</td>\n",
       "      <td>1376</td>\n",
       "      <td>3119</td>\n",
       "      <td>3849</td>\n",
       "      <td>3907</td>\n",
       "      <td>1665</td>\n",
       "      <td>1323</td>\n",
       "      <td>2096</td>\n",
       "      <td>1106</td>\n",
       "      <td>364</td>\n",
       "      <td>37.7</td>\n",
       "    </tr>\n",
       "    <tr>\n",
       "      <th>4</th>\n",
       "      <td>4</td>\n",
       "      <td>8600000US35010</td>\n",
       "      <td>ZCTA5 35010</td>\n",
       "      <td>20613</td>\n",
       "      <td>90.5</td>\n",
       "      <td>1306</td>\n",
       "      <td>1465</td>\n",
       "      <td>944</td>\n",
       "      <td>1217</td>\n",
       "      <td>1128</td>\n",
       "      <td>2513</td>\n",
       "      <td>2106</td>\n",
       "      <td>2950</td>\n",
       "      <td>1512</td>\n",
       "      <td>1472</td>\n",
       "      <td>2421</td>\n",
       "      <td>1155</td>\n",
       "      <td>424</td>\n",
       "      <td>42.6</td>\n",
       "    </tr>\n",
       "  </tbody>\n",
       "</table>\n",
       "</div>"
      ],
      "text/plain": [
       "   Unnamed: 0              Id GeographicAreaName  TotalPopulation  \\\n",
       "0           0  8600000US35004        ZCTA5 35004            12045   \n",
       "1           1  8600000US35005        ZCTA5 35005             7344   \n",
       "2           2  8600000US35006        ZCTA5 35006             2883   \n",
       "3           3  8600000US35007        ZCTA5 35007            26332   \n",
       "4           4  8600000US35010        ZCTA5 35010            20613   \n",
       "\n",
       "   SexRatio(males per 100 females)  Population_Under5Years  \\\n",
       "0                             94.1                     805   \n",
       "1                             86.1                     504   \n",
       "2                            108.2                      96   \n",
       "3                             95.0                    1936   \n",
       "4                             90.5                    1306   \n",
       "\n",
       "   Population_5to9Years  Population_10to14Years  Population_15to19Years  \\\n",
       "0                  1075                     898                     477   \n",
       "1                   453                     511                     499   \n",
       "2                   153                     303                     129   \n",
       "3                  1992                    1837                    1762   \n",
       "4                  1465                     944                    1217   \n",
       "\n",
       "   Population_20to24Years  Population_25to34Years  Population_35to44Years  \\\n",
       "0                     578                    2088                    1628   \n",
       "1                     214                     788                     795   \n",
       "2                     156                     183                     367   \n",
       "3                    1376                    3119                    3849   \n",
       "4                    1128                    2513                    2106   \n",
       "\n",
       "   Population_45to54Years  Population_55to59Years  Population_60to64Years  \\\n",
       "0                    1200                     886                     683   \n",
       "1                     968                     612                     561   \n",
       "2                     430                     296                     260   \n",
       "3                    3907                    1665                    1323   \n",
       "4                    2950                    1512                    1472   \n",
       "\n",
       "   Population_65to74Years  Population_75to84Years  Population_85YearsAndOver  \\\n",
       "0                    1017                     534                        176   \n",
       "1                     798                     485                        156   \n",
       "2                     280                     201                         29   \n",
       "3                    2096                    1106                        364   \n",
       "4                    2421                    1155                        424   \n",
       "\n",
       "   MedianAgeInYears  \n",
       "0              35.5  \n",
       "1              44.0  \n",
       "2              47.2  \n",
       "3              37.7  \n",
       "4              42.6  "
      ]
     },
     "execution_count": 362,
     "metadata": {},
     "output_type": "execute_result"
    }
   ],
   "source": [
    "df_demographic.head(5)"
   ]
  },
  {
   "cell_type": "markdown",
   "metadata": {},
   "source": [
    "Corrigindo o nome das colunas"
   ]
  },
  {
   "cell_type": "code",
   "execution_count": 363,
   "metadata": {},
   "outputs": [],
   "source": [
    "df_demographic.columns = [x.replace(\" \",\"\").replace(\"(\",\"\").replace(\")\",\"\") for x in df_demographic.columns] # Renomeando as colunas "
   ]
  },
  {
   "cell_type": "markdown",
   "metadata": {},
   "source": [
    "Descartando a coluna Unnamed:0, pois já o dataframe já contém index"
   ]
  },
  {
   "cell_type": "code",
   "execution_count": 364,
   "metadata": {},
   "outputs": [],
   "source": [
    "df_demographic = df_demographic.iloc[:,1:]"
   ]
  },
  {
   "cell_type": "markdown",
   "metadata": {},
   "source": [
    "Verificando as colunas com valores nulos"
   ]
  },
  {
   "cell_type": "code",
   "execution_count": 365,
   "metadata": {},
   "outputs": [
    {
     "data": {
      "text/plain": [
       "Id                              0\n",
       "GeographicAreaName              0\n",
       "TotalPopulation                 0\n",
       "SexRatiomalesper100females    500\n",
       "Population_Under5Years          0\n",
       "Population_5to9Years            0\n",
       "Population_10to14Years          0\n",
       "Population_15to19Years          0\n",
       "Population_20to24Years          0\n",
       "Population_25to34Years          0\n",
       "Population_35to44Years          0\n",
       "Population_45to54Years          0\n",
       "Population_55to59Years          0\n",
       "Population_60to64Years          0\n",
       "Population_65to74Years          0\n",
       "Population_75to84Years          0\n",
       "Population_85YearsAndOver       0\n",
       "MedianAgeInYears              569\n",
       "dtype: int64"
      ]
     },
     "execution_count": 365,
     "metadata": {},
     "output_type": "execute_result"
    }
   ],
   "source": [
    "df_demographic.isnull().sum()"
   ]
  },
  {
   "cell_type": "code",
   "execution_count": 366,
   "metadata": {},
   "outputs": [
    {
     "name": "stdout",
     "output_type": "stream",
     "text": [
      "Como vemos, cerca de 1.863% das 33120 linhas contém dados nulos\n"
     ]
    }
   ],
   "source": [
    "print(f\"Como vemos, cerca de {((100*df_demographic[df_demographic.isna().any(axis=1)].shape[0])/df_demographic.shape[0]):.3f}\\\n",
    "% das {df_demographic.shape[0]} linhas contém dados nulos\")"
   ]
  },
  {
   "cell_type": "markdown",
   "metadata": {},
   "source": [
    "Como não é possível obter os dados faltantes, as linhas que contém os dados faltantes serão excluidas do dataframe"
   ]
  },
  {
   "cell_type": "code",
   "execution_count": 367,
   "metadata": {},
   "outputs": [],
   "source": [
    "df_demographic = df_demographic.dropna(how='any') # Dropando os valores nulos"
   ]
  },
  {
   "cell_type": "markdown",
   "metadata": {},
   "source": [
    "Como é possível verificar, não constam mais valores nulos em nenhuma coluna do dataframe"
   ]
  },
  {
   "cell_type": "code",
   "execution_count": 368,
   "metadata": {},
   "outputs": [
    {
     "data": {
      "text/plain": [
       "Id                            0\n",
       "GeographicAreaName            0\n",
       "TotalPopulation               0\n",
       "SexRatiomalesper100females    0\n",
       "Population_Under5Years        0\n",
       "Population_5to9Years          0\n",
       "Population_10to14Years        0\n",
       "Population_15to19Years        0\n",
       "Population_20to24Years        0\n",
       "Population_25to34Years        0\n",
       "Population_35to44Years        0\n",
       "Population_45to54Years        0\n",
       "Population_55to59Years        0\n",
       "Population_60to64Years        0\n",
       "Population_65to74Years        0\n",
       "Population_75to84Years        0\n",
       "Population_85YearsAndOver     0\n",
       "MedianAgeInYears              0\n",
       "dtype: int64"
      ]
     },
     "execution_count": 368,
     "metadata": {},
     "output_type": "execute_result"
    }
   ],
   "source": [
    "df_demographic.isnull().sum()"
   ]
  },
  {
   "cell_type": "markdown",
   "metadata": {},
   "source": [
    "Corrigindo o index após a remoção dos valores nulos"
   ]
  },
  {
   "cell_type": "code",
   "execution_count": 369,
   "metadata": {},
   "outputs": [],
   "source": [
    "df_demographic = df_demographic.reset_index(drop=True)"
   ]
  },
  {
   "cell_type": "markdown",
   "metadata": {},
   "source": [
    "Verificando o formato dos dados das colunas "
   ]
  },
  {
   "cell_type": "code",
   "execution_count": 370,
   "metadata": {},
   "outputs": [
    {
     "name": "stdout",
     "output_type": "stream",
     "text": [
      "<class 'pandas.core.frame.DataFrame'>\n",
      "RangeIndex: 32503 entries, 0 to 32502\n",
      "Data columns (total 18 columns):\n",
      " #   Column                      Non-Null Count  Dtype  \n",
      "---  ------                      --------------  -----  \n",
      " 0   Id                          32503 non-null  object \n",
      " 1   GeographicAreaName          32503 non-null  object \n",
      " 2   TotalPopulation             32503 non-null  int64  \n",
      " 3   SexRatiomalesper100females  32503 non-null  float64\n",
      " 4   Population_Under5Years      32503 non-null  int64  \n",
      " 5   Population_5to9Years        32503 non-null  int64  \n",
      " 6   Population_10to14Years      32503 non-null  int64  \n",
      " 7   Population_15to19Years      32503 non-null  int64  \n",
      " 8   Population_20to24Years      32503 non-null  int64  \n",
      " 9   Population_25to34Years      32503 non-null  int64  \n",
      " 10  Population_35to44Years      32503 non-null  int64  \n",
      " 11  Population_45to54Years      32503 non-null  int64  \n",
      " 12  Population_55to59Years      32503 non-null  int64  \n",
      " 13  Population_60to64Years      32503 non-null  int64  \n",
      " 14  Population_65to74Years      32503 non-null  int64  \n",
      " 15  Population_75to84Years      32503 non-null  int64  \n",
      " 16  Population_85YearsAndOver   32503 non-null  int64  \n",
      " 17  MedianAgeInYears            32503 non-null  float64\n",
      "dtypes: float64(2), int64(14), object(2)\n",
      "memory usage: 4.5+ MB\n"
     ]
    }
   ],
   "source": [
    "df_demographic.info()"
   ]
  },
  {
   "cell_type": "markdown",
   "metadata": {},
   "source": [
    "É possível verificar que as colunas \"Id\" e \"GeographicAreaName\" são do tipo \"object\", e necessitam ser convertidas para tipos específicos"
   ]
  },
  {
   "cell_type": "code",
   "execution_count": 371,
   "metadata": {},
   "outputs": [],
   "source": [
    "df_demographic[\"Id\"] = df_demographic[\"Id\"].astype(pd.StringDtype())\n",
    "df_demographic[\"GeographicAreaName\"] = df_demographic[\"GeographicAreaName\"].astype(pd.StringDtype())"
   ]
  },
  {
   "cell_type": "markdown",
   "metadata": {},
   "source": [
    "Com isso, todos os Dtype(s) do dataframe foram corrigidos"
   ]
  },
  {
   "cell_type": "code",
   "execution_count": 372,
   "metadata": {},
   "outputs": [
    {
     "name": "stdout",
     "output_type": "stream",
     "text": [
      "<class 'pandas.core.frame.DataFrame'>\n",
      "RangeIndex: 32503 entries, 0 to 32502\n",
      "Data columns (total 18 columns):\n",
      " #   Column                      Non-Null Count  Dtype  \n",
      "---  ------                      --------------  -----  \n",
      " 0   Id                          32503 non-null  string \n",
      " 1   GeographicAreaName          32503 non-null  string \n",
      " 2   TotalPopulation             32503 non-null  int64  \n",
      " 3   SexRatiomalesper100females  32503 non-null  float64\n",
      " 4   Population_Under5Years      32503 non-null  int64  \n",
      " 5   Population_5to9Years        32503 non-null  int64  \n",
      " 6   Population_10to14Years      32503 non-null  int64  \n",
      " 7   Population_15to19Years      32503 non-null  int64  \n",
      " 8   Population_20to24Years      32503 non-null  int64  \n",
      " 9   Population_25to34Years      32503 non-null  int64  \n",
      " 10  Population_35to44Years      32503 non-null  int64  \n",
      " 11  Population_45to54Years      32503 non-null  int64  \n",
      " 12  Population_55to59Years      32503 non-null  int64  \n",
      " 13  Population_60to64Years      32503 non-null  int64  \n",
      " 14  Population_65to74Years      32503 non-null  int64  \n",
      " 15  Population_75to84Years      32503 non-null  int64  \n",
      " 16  Population_85YearsAndOver   32503 non-null  int64  \n",
      " 17  MedianAgeInYears            32503 non-null  float64\n",
      "dtypes: float64(2), int64(14), string(2)\n",
      "memory usage: 4.5 MB\n"
     ]
    }
   ],
   "source": [
    "df_demographic.info()"
   ]
  },
  {
   "cell_type": "markdown",
   "metadata": {},
   "source": [
    "Tratamento de outliers presentes no dataframe"
   ]
  },
  {
   "cell_type": "markdown",
   "metadata": {},
   "source": [
    "Tratamento de dados duplicados presentes no dataframe"
   ]
  },
  {
   "cell_type": "markdown",
   "metadata": {},
   "source": [
    "## Sanity check df_economic"
   ]
  },
  {
   "cell_type": "code",
   "execution_count": 373,
   "metadata": {},
   "outputs": [
    {
     "data": {
      "text/html": [
       "<div>\n",
       "<style scoped>\n",
       "    .dataframe tbody tr th:only-of-type {\n",
       "        vertical-align: middle;\n",
       "    }\n",
       "\n",
       "    .dataframe tbody tr th {\n",
       "        vertical-align: top;\n",
       "    }\n",
       "\n",
       "    .dataframe thead th {\n",
       "        text-align: right;\n",
       "    }\n",
       "</style>\n",
       "<table border=\"1\" class=\"dataframe\">\n",
       "  <thead>\n",
       "    <tr style=\"text-align: right;\">\n",
       "      <th></th>\n",
       "      <th>Unnamed: 0</th>\n",
       "      <th>id</th>\n",
       "      <th>Geographic Area Name</th>\n",
       "      <th>TotalHouseholds_LessThan$10.000</th>\n",
       "      <th>TotalHouseholds_$10.000to$14.999</th>\n",
       "      <th>TotalHouseholds_$15.000to$24.999</th>\n",
       "      <th>TotalHouseholds_$25.000to$34.999</th>\n",
       "      <th>TotalHouseholds_$35.000to$49.999</th>\n",
       "      <th>TotalHouseholds_$50.000to$74.999</th>\n",
       "      <th>TotalHouseholds_$75.000to$99.999</th>\n",
       "      <th>TotalHouseholds_$100.000to$149.999</th>\n",
       "      <th>TotalHouseholds_$150.000to$199.999</th>\n",
       "      <th>TotalHouseholds_$200.000OrMore</th>\n",
       "    </tr>\n",
       "  </thead>\n",
       "  <tbody>\n",
       "    <tr>\n",
       "      <th>0</th>\n",
       "      <td>0</td>\n",
       "      <td>8600000US35004</td>\n",
       "      <td>ZCTA5 35004</td>\n",
       "      <td>198</td>\n",
       "      <td>71</td>\n",
       "      <td>298</td>\n",
       "      <td>513</td>\n",
       "      <td>647</td>\n",
       "      <td>1117</td>\n",
       "      <td>529</td>\n",
       "      <td>945</td>\n",
       "      <td>245</td>\n",
       "      <td>61</td>\n",
       "    </tr>\n",
       "    <tr>\n",
       "      <th>1</th>\n",
       "      <td>1</td>\n",
       "      <td>8600000US35005</td>\n",
       "      <td>ZCTA5 35005</td>\n",
       "      <td>188</td>\n",
       "      <td>184</td>\n",
       "      <td>318</td>\n",
       "      <td>293</td>\n",
       "      <td>353</td>\n",
       "      <td>562</td>\n",
       "      <td>299</td>\n",
       "      <td>407</td>\n",
       "      <td>67</td>\n",
       "      <td>26</td>\n",
       "    </tr>\n",
       "    <tr>\n",
       "      <th>2</th>\n",
       "      <td>2</td>\n",
       "      <td>8600000US35006</td>\n",
       "      <td>ZCTA5 35006</td>\n",
       "      <td>71</td>\n",
       "      <td>20</td>\n",
       "      <td>117</td>\n",
       "      <td>104</td>\n",
       "      <td>154</td>\n",
       "      <td>176</td>\n",
       "      <td>124</td>\n",
       "      <td>194</td>\n",
       "      <td>51</td>\n",
       "      <td>7</td>\n",
       "    </tr>\n",
       "    <tr>\n",
       "      <th>3</th>\n",
       "      <td>3</td>\n",
       "      <td>8600000US35007</td>\n",
       "      <td>ZCTA5 35007</td>\n",
       "      <td>396</td>\n",
       "      <td>208</td>\n",
       "      <td>670</td>\n",
       "      <td>462</td>\n",
       "      <td>1173</td>\n",
       "      <td>1854</td>\n",
       "      <td>1578</td>\n",
       "      <td>2224</td>\n",
       "      <td>473</td>\n",
       "      <td>254</td>\n",
       "    </tr>\n",
       "    <tr>\n",
       "      <th>4</th>\n",
       "      <td>4</td>\n",
       "      <td>8600000US35010</td>\n",
       "      <td>ZCTA5 35010</td>\n",
       "      <td>700</td>\n",
       "      <td>610</td>\n",
       "      <td>1093</td>\n",
       "      <td>957</td>\n",
       "      <td>1056</td>\n",
       "      <td>1512</td>\n",
       "      <td>807</td>\n",
       "      <td>749</td>\n",
       "      <td>254</td>\n",
       "      <td>249</td>\n",
       "    </tr>\n",
       "  </tbody>\n",
       "</table>\n",
       "</div>"
      ],
      "text/plain": [
       "   Unnamed: 0              id Geographic Area Name  \\\n",
       "0           0  8600000US35004          ZCTA5 35004   \n",
       "1           1  8600000US35005          ZCTA5 35005   \n",
       "2           2  8600000US35006          ZCTA5 35006   \n",
       "3           3  8600000US35007          ZCTA5 35007   \n",
       "4           4  8600000US35010          ZCTA5 35010   \n",
       "\n",
       "   TotalHouseholds_LessThan$10.000  TotalHouseholds_$10.000to$14.999  \\\n",
       "0                              198                                71   \n",
       "1                              188                               184   \n",
       "2                               71                                20   \n",
       "3                              396                               208   \n",
       "4                              700                               610   \n",
       "\n",
       "   TotalHouseholds_$15.000to$24.999  TotalHouseholds_$25.000to$34.999  \\\n",
       "0                               298                               513   \n",
       "1                               318                               293   \n",
       "2                               117                               104   \n",
       "3                               670                               462   \n",
       "4                              1093                               957   \n",
       "\n",
       "   TotalHouseholds_$35.000to$49.999  TotalHouseholds_$50.000to$74.999  \\\n",
       "0                               647                              1117   \n",
       "1                               353                               562   \n",
       "2                               154                               176   \n",
       "3                              1173                              1854   \n",
       "4                              1056                              1512   \n",
       "\n",
       "   TotalHouseholds_$75.000to$99.999  TotalHouseholds_$100.000to$149.999  \\\n",
       "0                               529                                 945   \n",
       "1                               299                                 407   \n",
       "2                               124                                 194   \n",
       "3                              1578                                2224   \n",
       "4                               807                                 749   \n",
       "\n",
       "   TotalHouseholds_$150.000to$199.999  TotalHouseholds_$200.000OrMore  \n",
       "0                                 245                              61  \n",
       "1                                  67                              26  \n",
       "2                                  51                               7  \n",
       "3                                 473                             254  \n",
       "4                                 254                             249  "
      ]
     },
     "execution_count": 373,
     "metadata": {},
     "output_type": "execute_result"
    }
   ],
   "source": [
    "df_economic.head(5)"
   ]
  },
  {
   "cell_type": "markdown",
   "metadata": {},
   "source": [
    "Corrigindo o nome das colunas"
   ]
  },
  {
   "cell_type": "code",
   "execution_count": 374,
   "metadata": {},
   "outputs": [],
   "source": [
    "df_economic.columns = [x.replace(\" \",\"\").replace(\"(\",\"_\").replace(\")\",\"\") for x in df_economic.columns] # Renomeando as colunas "
   ]
  },
  {
   "cell_type": "markdown",
   "metadata": {},
   "source": [
    "Descartando a coluna Unnamed:0, pois já o dataframe já contém index"
   ]
  },
  {
   "cell_type": "code",
   "execution_count": 375,
   "metadata": {},
   "outputs": [],
   "source": [
    "df_economic = df_economic.iloc[:,1:]"
   ]
  },
  {
   "cell_type": "markdown",
   "metadata": {},
   "source": [
    "Verificando as colunas com valores nulos"
   ]
  },
  {
   "cell_type": "code",
   "execution_count": 376,
   "metadata": {},
   "outputs": [
    {
     "data": {
      "text/plain": [
       "id                                    0\n",
       "GeographicAreaName                    0\n",
       "TotalHouseholds_LessThan$10.000       0\n",
       "TotalHouseholds_$10.000to$14.999      0\n",
       "TotalHouseholds_$15.000to$24.999      0\n",
       "TotalHouseholds_$25.000to$34.999      0\n",
       "TotalHouseholds_$35.000to$49.999      0\n",
       "TotalHouseholds_$50.000to$74.999      0\n",
       "TotalHouseholds_$75.000to$99.999      0\n",
       "TotalHouseholds_$100.000to$149.999    0\n",
       "TotalHouseholds_$150.000to$199.999    0\n",
       "TotalHouseholds_$200.000OrMore        0\n",
       "dtype: int64"
      ]
     },
     "execution_count": 376,
     "metadata": {},
     "output_type": "execute_result"
    }
   ],
   "source": [
    "df_economic.isnull().sum()"
   ]
  },
  {
   "cell_type": "markdown",
   "metadata": {},
   "source": [
    "Como verificamos, nesse dataframe não está presente nenhum nulo. Podemos passar para a verificação dos formatos dos dados nas colunas"
   ]
  },
  {
   "cell_type": "code",
   "execution_count": 377,
   "metadata": {},
   "outputs": [
    {
     "name": "stdout",
     "output_type": "stream",
     "text": [
      "<class 'pandas.core.frame.DataFrame'>\n",
      "RangeIndex: 629280 entries, 0 to 629279\n",
      "Data columns (total 12 columns):\n",
      " #   Column                              Non-Null Count   Dtype \n",
      "---  ------                              --------------   ----- \n",
      " 0   id                                  629280 non-null  object\n",
      " 1   GeographicAreaName                  629280 non-null  object\n",
      " 2   TotalHouseholds_LessThan$10.000     629280 non-null  int64 \n",
      " 3   TotalHouseholds_$10.000to$14.999    629280 non-null  int64 \n",
      " 4   TotalHouseholds_$15.000to$24.999    629280 non-null  int64 \n",
      " 5   TotalHouseholds_$25.000to$34.999    629280 non-null  int64 \n",
      " 6   TotalHouseholds_$35.000to$49.999    629280 non-null  int64 \n",
      " 7   TotalHouseholds_$50.000to$74.999    629280 non-null  int64 \n",
      " 8   TotalHouseholds_$75.000to$99.999    629280 non-null  int64 \n",
      " 9   TotalHouseholds_$100.000to$149.999  629280 non-null  int64 \n",
      " 10  TotalHouseholds_$150.000to$199.999  629280 non-null  int64 \n",
      " 11  TotalHouseholds_$200.000OrMore      629280 non-null  int64 \n",
      "dtypes: int64(10), object(2)\n",
      "memory usage: 57.6+ MB\n"
     ]
    }
   ],
   "source": [
    "df_economic.info()"
   ]
  },
  {
   "cell_type": "markdown",
   "metadata": {},
   "source": [
    "É possível verificar que as colunas \"Id\" e \"GeographicAreaName\" são do tipo \"object\", e necessitam ser convertidas para tipos específicos"
   ]
  },
  {
   "cell_type": "code",
   "execution_count": 378,
   "metadata": {},
   "outputs": [],
   "source": [
    "df_economic[\"id\"] = df_economic[\"id\"].astype(pd.StringDtype())\n",
    "df_economic[\"GeographicAreaName\"] = df_economic[\"GeographicAreaName\"].astype(pd.StringDtype())"
   ]
  },
  {
   "cell_type": "markdown",
   "metadata": {},
   "source": [
    "Com isso, todos os Dtype(s) do dataframe foram corrigidos"
   ]
  },
  {
   "cell_type": "code",
   "execution_count": 379,
   "metadata": {},
   "outputs": [
    {
     "name": "stdout",
     "output_type": "stream",
     "text": [
      "<class 'pandas.core.frame.DataFrame'>\n",
      "RangeIndex: 629280 entries, 0 to 629279\n",
      "Data columns (total 12 columns):\n",
      " #   Column                              Non-Null Count   Dtype \n",
      "---  ------                              --------------   ----- \n",
      " 0   id                                  629280 non-null  string\n",
      " 1   GeographicAreaName                  629280 non-null  string\n",
      " 2   TotalHouseholds_LessThan$10.000     629280 non-null  int64 \n",
      " 3   TotalHouseholds_$10.000to$14.999    629280 non-null  int64 \n",
      " 4   TotalHouseholds_$15.000to$24.999    629280 non-null  int64 \n",
      " 5   TotalHouseholds_$25.000to$34.999    629280 non-null  int64 \n",
      " 6   TotalHouseholds_$35.000to$49.999    629280 non-null  int64 \n",
      " 7   TotalHouseholds_$50.000to$74.999    629280 non-null  int64 \n",
      " 8   TotalHouseholds_$75.000to$99.999    629280 non-null  int64 \n",
      " 9   TotalHouseholds_$100.000to$149.999  629280 non-null  int64 \n",
      " 10  TotalHouseholds_$150.000to$199.999  629280 non-null  int64 \n",
      " 11  TotalHouseholds_$200.000OrMore      629280 non-null  int64 \n",
      "dtypes: int64(10), string(2)\n",
      "memory usage: 57.6 MB\n"
     ]
    }
   ],
   "source": [
    "df_economic.info()"
   ]
  },
  {
   "cell_type": "markdown",
   "metadata": {},
   "source": [
    "## Sanity check df_geocode"
   ]
  },
  {
   "cell_type": "code",
   "execution_count": 380,
   "metadata": {},
   "outputs": [
    {
     "data": {
      "text/html": [
       "<div>\n",
       "<style scoped>\n",
       "    .dataframe tbody tr th:only-of-type {\n",
       "        vertical-align: middle;\n",
       "    }\n",
       "\n",
       "    .dataframe tbody tr th {\n",
       "        vertical-align: top;\n",
       "    }\n",
       "\n",
       "    .dataframe thead th {\n",
       "        text-align: right;\n",
       "    }\n",
       "</style>\n",
       "<table border=\"1\" class=\"dataframe\">\n",
       "  <thead>\n",
       "    <tr style=\"text-align: right;\">\n",
       "      <th></th>\n",
       "      <th>Unnamed: 0</th>\n",
       "      <th>Lab Id</th>\n",
       "      <th>Address</th>\n",
       "      <th>Location</th>\n",
       "      <th>Zipcode</th>\n",
       "    </tr>\n",
       "  </thead>\n",
       "  <tbody>\n",
       "    <tr>\n",
       "      <th>0</th>\n",
       "      <td>0</td>\n",
       "      <td>L152</td>\n",
       "      <td>3800 PLEASANT HILL RD STE 1, DULUTH, GA 30096</td>\n",
       "      <td>34.000319,-84.1629724</td>\n",
       "      <td>30096.0</td>\n",
       "    </tr>\n",
       "    <tr>\n",
       "      <th>1</th>\n",
       "      <td>1</td>\n",
       "      <td>L520</td>\n",
       "      <td>1614 N JAMES ST, ROME, NY 13440</td>\n",
       "      <td>43.2311327,-75.4445363</td>\n",
       "      <td>13440.0</td>\n",
       "    </tr>\n",
       "    <tr>\n",
       "      <th>2</th>\n",
       "      <td>2</td>\n",
       "      <td>L141</td>\n",
       "      <td>12911 120TH AVE NE STE D60, KIRKLAND, WA 98034</td>\n",
       "      <td>47.7162786,-122.1838152</td>\n",
       "      <td>98034.0</td>\n",
       "    </tr>\n",
       "    <tr>\n",
       "      <th>3</th>\n",
       "      <td>3</td>\n",
       "      <td>L524</td>\n",
       "      <td>5667 PEACHTREE DUNWOODY RD 250, ATLANTA, GA 30342</td>\n",
       "      <td>33.9093875,-84.3529096</td>\n",
       "      <td>30342.0</td>\n",
       "    </tr>\n",
       "    <tr>\n",
       "      <th>4</th>\n",
       "      <td>4</td>\n",
       "      <td>L545</td>\n",
       "      <td>1204 IL HWY 164, OQUAWKA, IL 61469</td>\n",
       "      <td>40.9309925,-90.9437598</td>\n",
       "      <td>61469.0</td>\n",
       "    </tr>\n",
       "  </tbody>\n",
       "</table>\n",
       "</div>"
      ],
      "text/plain": [
       "   Unnamed: 0 Lab Id                                            Address  \\\n",
       "0           0   L152      3800 PLEASANT HILL RD STE 1, DULUTH, GA 30096   \n",
       "1           1   L520                    1614 N JAMES ST, ROME, NY 13440   \n",
       "2           2   L141     12911 120TH AVE NE STE D60, KIRKLAND, WA 98034   \n",
       "3           3   L524  5667 PEACHTREE DUNWOODY RD 250, ATLANTA, GA 30342   \n",
       "4           4   L545                 1204 IL HWY 164, OQUAWKA, IL 61469   \n",
       "\n",
       "                  Location  Zipcode  \n",
       "0    34.000319,-84.1629724  30096.0  \n",
       "1   43.2311327,-75.4445363  13440.0  \n",
       "2  47.7162786,-122.1838152  98034.0  \n",
       "3   33.9093875,-84.3529096  30342.0  \n",
       "4   40.9309925,-90.9437598  61469.0  "
      ]
     },
     "execution_count": 380,
     "metadata": {},
     "output_type": "execute_result"
    }
   ],
   "source": [
    "df_geocode.head(5)"
   ]
  },
  {
   "cell_type": "markdown",
   "metadata": {},
   "source": [
    "Corrigindo o nome das colunas"
   ]
  },
  {
   "cell_type": "code",
   "execution_count": 381,
   "metadata": {},
   "outputs": [],
   "source": [
    "df_geocode.columns = [x.replace(\" \",\"\") for x in df_geocode.columns] # Renomeando as colunas "
   ]
  },
  {
   "cell_type": "markdown",
   "metadata": {},
   "source": [
    "Descartando a coluna Unnamed:0, pois já o dataframe já contém index"
   ]
  },
  {
   "cell_type": "code",
   "execution_count": 382,
   "metadata": {},
   "outputs": [],
   "source": [
    "df_geocode = df_geocode.iloc[:,1:]"
   ]
  },
  {
   "cell_type": "markdown",
   "metadata": {},
   "source": [
    "Verificando as colunas com valores nulos"
   ]
  },
  {
   "cell_type": "code",
   "execution_count": 383,
   "metadata": {},
   "outputs": [
    {
     "data": {
      "text/plain": [
       "LabId       0\n",
       "Address     0\n",
       "Location    0\n",
       "Zipcode     1\n",
       "dtype: int64"
      ]
     },
     "execution_count": 383,
     "metadata": {},
     "output_type": "execute_result"
    }
   ],
   "source": [
    "df_geocode.isnull().sum()"
   ]
  },
  {
   "cell_type": "code",
   "execution_count": 384,
   "metadata": {},
   "outputs": [
    {
     "data": {
      "text/plain": [
       "1"
      ]
     },
     "execution_count": 384,
     "metadata": {},
     "output_type": "execute_result"
    }
   ],
   "source": [
    "df_geocode[df_geocode.isna().any(axis=1)].shape[0]"
   ]
  },
  {
   "cell_type": "code",
   "execution_count": 385,
   "metadata": {},
   "outputs": [
    {
     "data": {
      "text/html": [
       "<div>\n",
       "<style scoped>\n",
       "    .dataframe tbody tr th:only-of-type {\n",
       "        vertical-align: middle;\n",
       "    }\n",
       "\n",
       "    .dataframe tbody tr th {\n",
       "        vertical-align: top;\n",
       "    }\n",
       "\n",
       "    .dataframe thead th {\n",
       "        text-align: right;\n",
       "    }\n",
       "</style>\n",
       "<table border=\"1\" class=\"dataframe\">\n",
       "  <thead>\n",
       "    <tr style=\"text-align: right;\">\n",
       "      <th></th>\n",
       "      <th>LabId</th>\n",
       "      <th>Address</th>\n",
       "      <th>Location</th>\n",
       "      <th>Zipcode</th>\n",
       "    </tr>\n",
       "  </thead>\n",
       "  <tbody>\n",
       "    <tr>\n",
       "      <th>83</th>\n",
       "      <td>-2</td>\n",
       "      <td>Unavailable</td>\n",
       "      <td>Unavailable</td>\n",
       "      <td>NaN</td>\n",
       "    </tr>\n",
       "  </tbody>\n",
       "</table>\n",
       "</div>"
      ],
      "text/plain": [
       "   LabId      Address     Location  Zipcode\n",
       "83    -2  Unavailable  Unavailable      NaN"
      ]
     },
     "execution_count": 385,
     "metadata": {},
     "output_type": "execute_result"
    }
   ],
   "source": [
    "df_geocode[df_geocode.isna().any(axis=1)]"
   ]
  },
  {
   "cell_type": "markdown",
   "metadata": {},
   "source": [
    "Como podemos ver é apenas uma linha com valores faltantes e além de o zip code estar faltando, o endereço por extenso e as coordenadas também estão, o que impossibilita a busca das informações através de uma API ou dataframe auxiliar com endereços. Logo é necessário remover a linha"
   ]
  },
  {
   "cell_type": "code",
   "execution_count": 386,
   "metadata": {},
   "outputs": [],
   "source": [
    "df_geocode = df_geocode.dropna(how='any') # Dropando os valores nulos"
   ]
  },
  {
   "cell_type": "markdown",
   "metadata": {},
   "source": [
    "Como é possível verificar, não constam mais valores nulos em nenhuma coluna do dataframe"
   ]
  },
  {
   "cell_type": "code",
   "execution_count": 387,
   "metadata": {},
   "outputs": [
    {
     "data": {
      "text/plain": [
       "LabId       0\n",
       "Address     0\n",
       "Location    0\n",
       "Zipcode     0\n",
       "dtype: int64"
      ]
     },
     "execution_count": 387,
     "metadata": {},
     "output_type": "execute_result"
    }
   ],
   "source": [
    "df_geocode.isnull().sum()"
   ]
  },
  {
   "cell_type": "markdown",
   "metadata": {},
   "source": [
    "Corrigindo o index após a remoção dos valores nulos"
   ]
  },
  {
   "cell_type": "code",
   "execution_count": 388,
   "metadata": {},
   "outputs": [],
   "source": [
    "df_geocode = df_geocode.reset_index(drop=True)"
   ]
  },
  {
   "cell_type": "markdown",
   "metadata": {},
   "source": [
    "Verificando o formato dos dados das colunas "
   ]
  },
  {
   "cell_type": "code",
   "execution_count": 389,
   "metadata": {},
   "outputs": [
    {
     "name": "stdout",
     "output_type": "stream",
     "text": [
      "<class 'pandas.core.frame.DataFrame'>\n",
      "RangeIndex: 118 entries, 0 to 117\n",
      "Data columns (total 4 columns):\n",
      " #   Column    Non-Null Count  Dtype  \n",
      "---  ------    --------------  -----  \n",
      " 0   LabId     118 non-null    object \n",
      " 1   Address   118 non-null    object \n",
      " 2   Location  118 non-null    object \n",
      " 3   Zipcode   118 non-null    float64\n",
      "dtypes: float64(1), object(3)\n",
      "memory usage: 3.8+ KB\n"
     ]
    }
   ],
   "source": [
    "df_geocode.info()"
   ]
  },
  {
   "cell_type": "markdown",
   "metadata": {},
   "source": [
    "A coluna location deve se tornar duas colunas, latitude e longitude, visto que ela armazena dois valores, que deveriam estar no formato float, pois os dois são números reais"
   ]
  },
  {
   "cell_type": "code",
   "execution_count": 390,
   "metadata": {},
   "outputs": [],
   "source": [
    "def get_latitude(location):\n",
    "    latitude = location.split(',')[0]\n",
    "    return float(latitude)\n",
    "\n",
    "def get_longitude(location):\n",
    "    longitude = location.split(',')[1]\n",
    "    return float(longitude)\n",
    "\n",
    "df_geocode[\"Latitude\"] = df_geocode[\"Location\"].apply(get_latitude)\n",
    "df_geocode[\"Longitude\"] = df_geocode[\"Location\"].apply(get_longitude)"
   ]
  },
  {
   "cell_type": "code",
   "execution_count": 391,
   "metadata": {},
   "outputs": [],
   "source": [
    "df_geocode[\"LabId\"] = df_geocode[\"LabId\"].astype(pd.StringDtype())\n",
    "df_geocode[\"Address\"] = df_geocode[\"Address\"].astype(pd.StringDtype())\n",
    "df_geocode[\"Zipcode\"] = df_geocode[\"Zipcode\"].astype(\"Int64\")"
   ]
  },
  {
   "cell_type": "code",
   "execution_count": 392,
   "metadata": {},
   "outputs": [],
   "source": [
    "# Removendo a coluna location\n",
    "df_geocode = df_geocode[[\"LabId\",\"Address\",\"Zipcode\",\"Latitude\",\"Longitude\"]]"
   ]
  },
  {
   "cell_type": "markdown",
   "metadata": {},
   "source": [
    "Com isso, todos os Dtype(s) do dataframe foram corrigidos"
   ]
  },
  {
   "cell_type": "code",
   "execution_count": 393,
   "metadata": {},
   "outputs": [
    {
     "name": "stdout",
     "output_type": "stream",
     "text": [
      "<class 'pandas.core.frame.DataFrame'>\n",
      "RangeIndex: 118 entries, 0 to 117\n",
      "Data columns (total 5 columns):\n",
      " #   Column     Non-Null Count  Dtype  \n",
      "---  ------     --------------  -----  \n",
      " 0   LabId      118 non-null    string \n",
      " 1   Address    118 non-null    string \n",
      " 2   Zipcode    118 non-null    Int64  \n",
      " 3   Latitude   118 non-null    float64\n",
      " 4   Longitude  118 non-null    float64\n",
      "dtypes: Int64(1), float64(2), string(2)\n",
      "memory usage: 4.8 KB\n"
     ]
    }
   ],
   "source": [
    "df_geocode.info()"
   ]
  },
  {
   "cell_type": "markdown",
   "metadata": {},
   "source": [
    "## Sanity check df_tests"
   ]
  },
  {
   "cell_type": "code",
   "execution_count": 394,
   "metadata": {},
   "outputs": [
    {
     "data": {
      "text/html": [
       "<div>\n",
       "<style scoped>\n",
       "    .dataframe tbody tr th:only-of-type {\n",
       "        vertical-align: middle;\n",
       "    }\n",
       "\n",
       "    .dataframe tbody tr th {\n",
       "        vertical-align: top;\n",
       "    }\n",
       "\n",
       "    .dataframe thead th {\n",
       "        text-align: right;\n",
       "    }\n",
       "</style>\n",
       "<table border=\"1\" class=\"dataframe\">\n",
       "  <thead>\n",
       "    <tr style=\"text-align: right;\">\n",
       "      <th></th>\n",
       "      <th>CodItem</th>\n",
       "      <th>Desc Item</th>\n",
       "      <th>Category</th>\n",
       "      <th>Family</th>\n",
       "      <th>Speciality</th>\n",
       "      <th>Testing Cost</th>\n",
       "    </tr>\n",
       "  </thead>\n",
       "  <tbody>\n",
       "    <tr>\n",
       "      <th>0</th>\n",
       "      <td>70003237</td>\n",
       "      <td>MAGNESIO, SORO (EXEMPLO DE EXPRESSAO DE RESULT...</td>\n",
       "      <td>CA</td>\n",
       "      <td>CORELAB</td>\n",
       "      <td>BIOCHEMISTRY</td>\n",
       "      <td>1.78</td>\n",
       "    </tr>\n",
       "    <tr>\n",
       "      <th>1</th>\n",
       "      <td>70000638</td>\n",
       "      <td>HEMOGRAMA, AUTOMATIZADO, SANGUE</td>\n",
       "      <td>CA</td>\n",
       "      <td>HEMATO</td>\n",
       "      <td>BLOOD COUNT</td>\n",
       "      <td>2.46</td>\n",
       "    </tr>\n",
       "    <tr>\n",
       "      <th>2</th>\n",
       "      <td>70001597</td>\n",
       "      <td>FERRITINA, SORO</td>\n",
       "      <td>CA</td>\n",
       "      <td>CORELAB</td>\n",
       "      <td>IMMUNOHORMONE</td>\n",
       "      <td>2.11</td>\n",
       "    </tr>\n",
       "    <tr>\n",
       "      <th>3</th>\n",
       "      <td>70000103</td>\n",
       "      <td>FERRO, DOSAGEM, SORO (EXEMPLO DE EXPRESSAO DE ...</td>\n",
       "      <td>CA</td>\n",
       "      <td>CORELAB</td>\n",
       "      <td>BIOCHEMISTRY</td>\n",
       "      <td>0.80</td>\n",
       "    </tr>\n",
       "    <tr>\n",
       "      <th>4</th>\n",
       "      <td>70000224</td>\n",
       "      <td>CALCIO, DOSAGEM, SORO (EXEMPLO DE EXPRESSAO DE...</td>\n",
       "      <td>CA</td>\n",
       "      <td>CORELAB</td>\n",
       "      <td>BIOCHEMISTRY</td>\n",
       "      <td>1.02</td>\n",
       "    </tr>\n",
       "  </tbody>\n",
       "</table>\n",
       "</div>"
      ],
      "text/plain": [
       "    CodItem                                          Desc Item Category  \\\n",
       "0  70003237  MAGNESIO, SORO (EXEMPLO DE EXPRESSAO DE RESULT...       CA   \n",
       "1  70000638                    HEMOGRAMA, AUTOMATIZADO, SANGUE       CA   \n",
       "2  70001597                                    FERRITINA, SORO       CA   \n",
       "3  70000103  FERRO, DOSAGEM, SORO (EXEMPLO DE EXPRESSAO DE ...       CA   \n",
       "4  70000224  CALCIO, DOSAGEM, SORO (EXEMPLO DE EXPRESSAO DE...       CA   \n",
       "\n",
       "    Family     Speciality  Testing Cost  \n",
       "0  CORELAB   BIOCHEMISTRY          1.78  \n",
       "1   HEMATO    BLOOD COUNT          2.46  \n",
       "2  CORELAB  IMMUNOHORMONE          2.11  \n",
       "3  CORELAB   BIOCHEMISTRY          0.80  \n",
       "4  CORELAB   BIOCHEMISTRY          1.02  "
      ]
     },
     "execution_count": 394,
     "metadata": {},
     "output_type": "execute_result"
    }
   ],
   "source": [
    "df_tests.head(5)"
   ]
  },
  {
   "cell_type": "markdown",
   "metadata": {},
   "source": [
    "Corrigindo o nome das colunas"
   ]
  },
  {
   "cell_type": "code",
   "execution_count": 395,
   "metadata": {},
   "outputs": [],
   "source": [
    "df_tests.columns = [x.replace(\" \",\"\") for x in df_tests.columns] # Renomeando as colunas "
   ]
  },
  {
   "cell_type": "markdown",
   "metadata": {},
   "source": [
    "Verificando as colunas com valores nulos"
   ]
  },
  {
   "cell_type": "code",
   "execution_count": 396,
   "metadata": {},
   "outputs": [
    {
     "data": {
      "text/plain": [
       "CodItem        0\n",
       "DescItem       0\n",
       "Category       0\n",
       "Family         0\n",
       "Speciality     0\n",
       "TestingCost    0\n",
       "dtype: int64"
      ]
     },
     "execution_count": 396,
     "metadata": {},
     "output_type": "execute_result"
    }
   ],
   "source": [
    "df_tests.isnull().sum()"
   ]
  },
  {
   "cell_type": "markdown",
   "metadata": {},
   "source": [
    "Como não foi verificado nenhum valor nulo, não é necessário tratamento e podemos passar para a verificação do formato das colunas"
   ]
  },
  {
   "cell_type": "code",
   "execution_count": 397,
   "metadata": {},
   "outputs": [
    {
     "name": "stdout",
     "output_type": "stream",
     "text": [
      "<class 'pandas.core.frame.DataFrame'>\n",
      "RangeIndex: 2002 entries, 0 to 2001\n",
      "Data columns (total 6 columns):\n",
      " #   Column       Non-Null Count  Dtype  \n",
      "---  ------       --------------  -----  \n",
      " 0   CodItem      2002 non-null   int64  \n",
      " 1   DescItem     2002 non-null   object \n",
      " 2   Category     2002 non-null   object \n",
      " 3   Family       2002 non-null   object \n",
      " 4   Speciality   2002 non-null   object \n",
      " 5   TestingCost  2002 non-null   float64\n",
      "dtypes: float64(1), int64(1), object(4)\n",
      "memory usage: 94.0+ KB\n"
     ]
    }
   ],
   "source": [
    "df_tests.info()"
   ]
  },
  {
   "cell_type": "markdown",
   "metadata": {},
   "source": [
    "Aqui é notável que a maioria das colunas estão no formato object e é necessário um casting "
   ]
  },
  {
   "cell_type": "code",
   "execution_count": 398,
   "metadata": {},
   "outputs": [],
   "source": [
    "df_tests[\"CodItem\"] = df_tests[\"CodItem\"].astype(\"Int64\")\n",
    "df_tests[\"DescItem\"] = df_tests[\"DescItem\"].astype(pd.StringDtype())\n",
    "df_tests[\"Category\"] = df_tests[\"Category\"].astype(pd.StringDtype())\n",
    "df_tests[\"Family\"] = df_tests[\"Family\"].astype(pd.StringDtype())\n",
    "df_tests[\"Speciality\"] = df_tests[\"Speciality\"].astype(pd.StringDtype())"
   ]
  },
  {
   "cell_type": "markdown",
   "metadata": {},
   "source": [
    "Com isso, todos os Dtype(s) do dataframe foram corrigidos"
   ]
  },
  {
   "cell_type": "code",
   "execution_count": 399,
   "metadata": {},
   "outputs": [
    {
     "name": "stdout",
     "output_type": "stream",
     "text": [
      "<class 'pandas.core.frame.DataFrame'>\n",
      "RangeIndex: 2002 entries, 0 to 2001\n",
      "Data columns (total 6 columns):\n",
      " #   Column       Non-Null Count  Dtype  \n",
      "---  ------       --------------  -----  \n",
      " 0   CodItem      2002 non-null   Int64  \n",
      " 1   DescItem     2002 non-null   string \n",
      " 2   Category     2002 non-null   string \n",
      " 3   Family       2002 non-null   string \n",
      " 4   Speciality   2002 non-null   string \n",
      " 5   TestingCost  2002 non-null   float64\n",
      "dtypes: Int64(1), float64(1), string(4)\n",
      "memory usage: 95.9 KB\n"
     ]
    }
   ],
   "source": [
    "df_tests.info()"
   ]
  },
  {
   "cell_type": "markdown",
   "metadata": {},
   "source": [
    "## Sanity check df_transactional"
   ]
  },
  {
   "cell_type": "code",
   "execution_count": 400,
   "metadata": {},
   "outputs": [
    {
     "data": {
      "text/html": [
       "<div>\n",
       "<style scoped>\n",
       "    .dataframe tbody tr th:only-of-type {\n",
       "        vertical-align: middle;\n",
       "    }\n",
       "\n",
       "    .dataframe tbody tr th {\n",
       "        vertical-align: top;\n",
       "    }\n",
       "\n",
       "    .dataframe thead th {\n",
       "        text-align: right;\n",
       "    }\n",
       "</style>\n",
       "<table border=\"1\" class=\"dataframe\">\n",
       "  <thead>\n",
       "    <tr style=\"text-align: right;\">\n",
       "      <th></th>\n",
       "      <th>Patient Id</th>\n",
       "      <th>Gender</th>\n",
       "      <th>Date of birth</th>\n",
       "      <th>Date of service</th>\n",
       "      <th>Service Id</th>\n",
       "      <th>Lab Id</th>\n",
       "      <th>CodItem</th>\n",
       "      <th>Testing Cost</th>\n",
       "    </tr>\n",
       "  </thead>\n",
       "  <tbody>\n",
       "    <tr>\n",
       "      <th>0</th>\n",
       "      <td>10210830256-BIO003</td>\n",
       "      <td>F</td>\n",
       "      <td>01/08/1976 00:00:00</td>\n",
       "      <td>2019-01-07</td>\n",
       "      <td>571904533475-38</td>\n",
       "      <td>L133</td>\n",
       "      <td>70003237</td>\n",
       "      <td>9.0</td>\n",
       "    </tr>\n",
       "    <tr>\n",
       "      <th>1</th>\n",
       "      <td>10210830256-BIO003</td>\n",
       "      <td>F</td>\n",
       "      <td>01/08/1976 00:00:00</td>\n",
       "      <td>2019-01-07</td>\n",
       "      <td>571904533475-38</td>\n",
       "      <td>L133</td>\n",
       "      <td>70000638</td>\n",
       "      <td>13.0</td>\n",
       "    </tr>\n",
       "    <tr>\n",
       "      <th>2</th>\n",
       "      <td>10210830256-BIO003</td>\n",
       "      <td>F</td>\n",
       "      <td>01/08/1976 00:00:00</td>\n",
       "      <td>2019-01-07</td>\n",
       "      <td>571904533475-38</td>\n",
       "      <td>L133</td>\n",
       "      <td>70001597</td>\n",
       "      <td>49.0</td>\n",
       "    </tr>\n",
       "    <tr>\n",
       "      <th>3</th>\n",
       "      <td>10210830256-BIO003</td>\n",
       "      <td>F</td>\n",
       "      <td>01/08/1976 00:00:00</td>\n",
       "      <td>2019-01-07</td>\n",
       "      <td>571904533475-38</td>\n",
       "      <td>L133</td>\n",
       "      <td>70000103</td>\n",
       "      <td>11.0</td>\n",
       "    </tr>\n",
       "    <tr>\n",
       "      <th>4</th>\n",
       "      <td>10210830256-BIO003</td>\n",
       "      <td>F</td>\n",
       "      <td>01/08/1976 00:00:00</td>\n",
       "      <td>2019-01-07</td>\n",
       "      <td>571904533475-38</td>\n",
       "      <td>L133</td>\n",
       "      <td>70000224</td>\n",
       "      <td>10.0</td>\n",
       "    </tr>\n",
       "  </tbody>\n",
       "</table>\n",
       "</div>"
      ],
      "text/plain": [
       "           Patient Id Gender        Date of birth Date of service  \\\n",
       "0  10210830256-BIO003      F  01/08/1976 00:00:00      2019-01-07   \n",
       "1  10210830256-BIO003      F  01/08/1976 00:00:00      2019-01-07   \n",
       "2  10210830256-BIO003      F  01/08/1976 00:00:00      2019-01-07   \n",
       "3  10210830256-BIO003      F  01/08/1976 00:00:00      2019-01-07   \n",
       "4  10210830256-BIO003      F  01/08/1976 00:00:00      2019-01-07   \n",
       "\n",
       "        Service Id Lab Id   CodItem  Testing Cost  \n",
       "0  571904533475-38   L133  70003237           9.0  \n",
       "1  571904533475-38   L133  70000638          13.0  \n",
       "2  571904533475-38   L133  70001597          49.0  \n",
       "3  571904533475-38   L133  70000103          11.0  \n",
       "4  571904533475-38   L133  70000224          10.0  "
      ]
     },
     "execution_count": 400,
     "metadata": {},
     "output_type": "execute_result"
    }
   ],
   "source": [
    "df_transactional.head(5)"
   ]
  },
  {
   "cell_type": "markdown",
   "metadata": {},
   "source": [
    "Corrigindo o nome das colunas"
   ]
  },
  {
   "cell_type": "code",
   "execution_count": 401,
   "metadata": {},
   "outputs": [],
   "source": [
    "df_transactional.columns = [x.replace(\" \",\"\") for x in df_transactional.columns] # Renomeando as colunas "
   ]
  },
  {
   "cell_type": "markdown",
   "metadata": {},
   "source": [
    "Verificando as colunas com valores nulos"
   ]
  },
  {
   "cell_type": "code",
   "execution_count": 402,
   "metadata": {},
   "outputs": [
    {
     "data": {
      "text/plain": [
       "PatientId        0\n",
       "Gender           0\n",
       "Dateofbirth      1\n",
       "Dateofservice    0\n",
       "ServiceId        0\n",
       "LabId            0\n",
       "CodItem          0\n",
       "TestingCost      0\n",
       "dtype: int64"
      ]
     },
     "execution_count": 402,
     "metadata": {},
     "output_type": "execute_result"
    }
   ],
   "source": [
    "df_transactional.isnull().sum()"
   ]
  },
  {
   "cell_type": "code",
   "execution_count": 403,
   "metadata": {},
   "outputs": [
    {
     "name": "stdout",
     "output_type": "stream",
     "text": [
      "Como vemos, cerca de 0.003% das 32503 linhas contém dados nulos\n"
     ]
    }
   ],
   "source": [
    "print(f\"Como vemos, cerca de {((100*df_transactional[df_transactional.isna().any(axis=1)].shape[0])/df_demographic.shape[0]):.3f}\\\n",
    "% das {df_demographic.shape[0]} linhas contém dados nulos\")"
   ]
  },
  {
   "cell_type": "code",
   "execution_count": 404,
   "metadata": {},
   "outputs": [
    {
     "data": {
      "text/html": [
       "<div>\n",
       "<style scoped>\n",
       "    .dataframe tbody tr th:only-of-type {\n",
       "        vertical-align: middle;\n",
       "    }\n",
       "\n",
       "    .dataframe tbody tr th {\n",
       "        vertical-align: top;\n",
       "    }\n",
       "\n",
       "    .dataframe thead th {\n",
       "        text-align: right;\n",
       "    }\n",
       "</style>\n",
       "<table border=\"1\" class=\"dataframe\">\n",
       "  <thead>\n",
       "    <tr style=\"text-align: right;\">\n",
       "      <th></th>\n",
       "      <th>PatientId</th>\n",
       "      <th>Gender</th>\n",
       "      <th>Dateofbirth</th>\n",
       "      <th>Dateofservice</th>\n",
       "      <th>ServiceId</th>\n",
       "      <th>LabId</th>\n",
       "      <th>CodItem</th>\n",
       "      <th>TestingCost</th>\n",
       "    </tr>\n",
       "  </thead>\n",
       "  <tbody>\n",
       "    <tr>\n",
       "      <th>1253947</th>\n",
       "      <td>7659985004-1</td>\n",
       "      <td>F</td>\n",
       "      <td>NaN</td>\n",
       "      <td>2020-02-22</td>\n",
       "      <td>7659985004-2-1</td>\n",
       "      <td>L152</td>\n",
       "      <td>70000107</td>\n",
       "      <td>48.0</td>\n",
       "    </tr>\n",
       "  </tbody>\n",
       "</table>\n",
       "</div>"
      ],
      "text/plain": [
       "            PatientId Gender Dateofbirth Dateofservice       ServiceId LabId  \\\n",
       "1253947  7659985004-1      F         NaN    2020-02-22  7659985004-2-1  L152   \n",
       "\n",
       "          CodItem  TestingCost  \n",
       "1253947  70000107         48.0  "
      ]
     },
     "execution_count": 404,
     "metadata": {},
     "output_type": "execute_result"
    }
   ],
   "source": [
    "df_transactional[df_transactional.isna().any(axis=1)]"
   ]
  },
  {
   "cell_type": "markdown",
   "metadata": {},
   "source": [
    "Apesar de ser apenas uma linha, por ser uma série temporal é melhor para não perdermos o dado, e apenas preenchê-lo. Para isso, usaremos uma técnica de interpolação. "
   ]
  },
  {
   "cell_type": "code",
   "execution_count": 405,
   "metadata": {},
   "outputs": [],
   "source": [
    "df_transactional['Dateofbirth'] = df_transactional['Dateofbirth']\\\n",
    "    .interpolate(option=\"spline\")\\\n",
    "        .fillna(method='bfill')"
   ]
  },
  {
   "cell_type": "markdown",
   "metadata": {},
   "source": [
    "Como é possível verificar, não constam mais valores nulos em nenhuma coluna do dataframe"
   ]
  },
  {
   "cell_type": "code",
   "execution_count": 406,
   "metadata": {},
   "outputs": [
    {
     "data": {
      "text/plain": [
       "PatientId        0\n",
       "Gender           0\n",
       "Dateofbirth      0\n",
       "Dateofservice    0\n",
       "ServiceId        0\n",
       "LabId            0\n",
       "CodItem          0\n",
       "TestingCost      0\n",
       "dtype: int64"
      ]
     },
     "execution_count": 406,
     "metadata": {},
     "output_type": "execute_result"
    }
   ],
   "source": [
    "df_transactional.isnull().sum()"
   ]
  },
  {
   "cell_type": "markdown",
   "metadata": {},
   "source": [
    "Corrigindo o index após a remoção dos valores nulos"
   ]
  },
  {
   "cell_type": "code",
   "execution_count": 407,
   "metadata": {},
   "outputs": [],
   "source": [
    "df_transactional = df_transactional.reset_index(drop=True)"
   ]
  },
  {
   "cell_type": "markdown",
   "metadata": {},
   "source": [
    "Verificando o formato dos dados das colunas "
   ]
  },
  {
   "cell_type": "code",
   "execution_count": 408,
   "metadata": {},
   "outputs": [
    {
     "name": "stdout",
     "output_type": "stream",
     "text": [
      "<class 'pandas.core.frame.DataFrame'>\n",
      "RangeIndex: 2355241 entries, 0 to 2355240\n",
      "Data columns (total 8 columns):\n",
      " #   Column         Dtype  \n",
      "---  ------         -----  \n",
      " 0   PatientId      object \n",
      " 1   Gender         object \n",
      " 2   Dateofbirth    object \n",
      " 3   Dateofservice  object \n",
      " 4   ServiceId      object \n",
      " 5   LabId          object \n",
      " 6   CodItem        int64  \n",
      " 7   TestingCost    float64\n",
      "dtypes: float64(1), int64(1), object(6)\n",
      "memory usage: 143.8+ MB\n"
     ]
    }
   ],
   "source": [
    "df_transactional.info()"
   ]
  },
  {
   "cell_type": "code",
   "execution_count": 409,
   "metadata": {},
   "outputs": [
    {
     "data": {
      "text/html": [
       "<div>\n",
       "<style scoped>\n",
       "    .dataframe tbody tr th:only-of-type {\n",
       "        vertical-align: middle;\n",
       "    }\n",
       "\n",
       "    .dataframe tbody tr th {\n",
       "        vertical-align: top;\n",
       "    }\n",
       "\n",
       "    .dataframe thead th {\n",
       "        text-align: right;\n",
       "    }\n",
       "</style>\n",
       "<table border=\"1\" class=\"dataframe\">\n",
       "  <thead>\n",
       "    <tr style=\"text-align: right;\">\n",
       "      <th></th>\n",
       "      <th>PatientId</th>\n",
       "      <th>Gender</th>\n",
       "      <th>Dateofbirth</th>\n",
       "      <th>Dateofservice</th>\n",
       "      <th>ServiceId</th>\n",
       "      <th>LabId</th>\n",
       "      <th>CodItem</th>\n",
       "      <th>TestingCost</th>\n",
       "    </tr>\n",
       "  </thead>\n",
       "  <tbody>\n",
       "    <tr>\n",
       "      <th>0</th>\n",
       "      <td>10210830256-BIO003</td>\n",
       "      <td>F</td>\n",
       "      <td>01/08/1976 00:00:00</td>\n",
       "      <td>2019-01-07</td>\n",
       "      <td>571904533475-38</td>\n",
       "      <td>L133</td>\n",
       "      <td>70003237</td>\n",
       "      <td>9.0</td>\n",
       "    </tr>\n",
       "    <tr>\n",
       "      <th>1</th>\n",
       "      <td>10210830256-BIO003</td>\n",
       "      <td>F</td>\n",
       "      <td>01/08/1976 00:00:00</td>\n",
       "      <td>2019-01-07</td>\n",
       "      <td>571904533475-38</td>\n",
       "      <td>L133</td>\n",
       "      <td>70000638</td>\n",
       "      <td>13.0</td>\n",
       "    </tr>\n",
       "    <tr>\n",
       "      <th>2</th>\n",
       "      <td>10210830256-BIO003</td>\n",
       "      <td>F</td>\n",
       "      <td>01/08/1976 00:00:00</td>\n",
       "      <td>2019-01-07</td>\n",
       "      <td>571904533475-38</td>\n",
       "      <td>L133</td>\n",
       "      <td>70001597</td>\n",
       "      <td>49.0</td>\n",
       "    </tr>\n",
       "    <tr>\n",
       "      <th>3</th>\n",
       "      <td>10210830256-BIO003</td>\n",
       "      <td>F</td>\n",
       "      <td>01/08/1976 00:00:00</td>\n",
       "      <td>2019-01-07</td>\n",
       "      <td>571904533475-38</td>\n",
       "      <td>L133</td>\n",
       "      <td>70000103</td>\n",
       "      <td>11.0</td>\n",
       "    </tr>\n",
       "    <tr>\n",
       "      <th>4</th>\n",
       "      <td>10210830256-BIO003</td>\n",
       "      <td>F</td>\n",
       "      <td>01/08/1976 00:00:00</td>\n",
       "      <td>2019-01-07</td>\n",
       "      <td>571904533475-38</td>\n",
       "      <td>L133</td>\n",
       "      <td>70000224</td>\n",
       "      <td>10.0</td>\n",
       "    </tr>\n",
       "    <tr>\n",
       "      <th>...</th>\n",
       "      <td>...</td>\n",
       "      <td>...</td>\n",
       "      <td>...</td>\n",
       "      <td>...</td>\n",
       "      <td>...</td>\n",
       "      <td>...</td>\n",
       "      <td>...</td>\n",
       "      <td>...</td>\n",
       "    </tr>\n",
       "    <tr>\n",
       "      <th>2355236</th>\n",
       "      <td>7664157546-1</td>\n",
       "      <td>M</td>\n",
       "      <td>06/03/1971 00:00:00</td>\n",
       "      <td>2021-02-12</td>\n",
       "      <td>7664157546-1-1</td>\n",
       "      <td>L697</td>\n",
       "      <td>70004038</td>\n",
       "      <td>10.0</td>\n",
       "    </tr>\n",
       "    <tr>\n",
       "      <th>2355237</th>\n",
       "      <td>7664157546-1</td>\n",
       "      <td>M</td>\n",
       "      <td>06/03/1971 00:00:00</td>\n",
       "      <td>2021-02-12</td>\n",
       "      <td>7664157546-1-1</td>\n",
       "      <td>L697</td>\n",
       "      <td>70004134</td>\n",
       "      <td>10.0</td>\n",
       "    </tr>\n",
       "    <tr>\n",
       "      <th>2355238</th>\n",
       "      <td>7664157546-1</td>\n",
       "      <td>M</td>\n",
       "      <td>06/03/1971 00:00:00</td>\n",
       "      <td>2021-02-12</td>\n",
       "      <td>7664157546-1-1</td>\n",
       "      <td>L697</td>\n",
       "      <td>70003056</td>\n",
       "      <td>9.0</td>\n",
       "    </tr>\n",
       "    <tr>\n",
       "      <th>2355239</th>\n",
       "      <td>7664157546-1</td>\n",
       "      <td>M</td>\n",
       "      <td>06/03/1971 00:00:00</td>\n",
       "      <td>2021-02-12</td>\n",
       "      <td>7664157546-1-1</td>\n",
       "      <td>L697</td>\n",
       "      <td>70004185</td>\n",
       "      <td>13.0</td>\n",
       "    </tr>\n",
       "    <tr>\n",
       "      <th>2355240</th>\n",
       "      <td>7664157546-1</td>\n",
       "      <td>M</td>\n",
       "      <td>06/03/1971 00:00:00</td>\n",
       "      <td>2021-02-12</td>\n",
       "      <td>7664157546-1-1</td>\n",
       "      <td>L697</td>\n",
       "      <td>70000392</td>\n",
       "      <td>8.0</td>\n",
       "    </tr>\n",
       "  </tbody>\n",
       "</table>\n",
       "<p>2355241 rows × 8 columns</p>\n",
       "</div>"
      ],
      "text/plain": [
       "                  PatientId Gender          Dateofbirth Dateofservice  \\\n",
       "0        10210830256-BIO003      F  01/08/1976 00:00:00    2019-01-07   \n",
       "1        10210830256-BIO003      F  01/08/1976 00:00:00    2019-01-07   \n",
       "2        10210830256-BIO003      F  01/08/1976 00:00:00    2019-01-07   \n",
       "3        10210830256-BIO003      F  01/08/1976 00:00:00    2019-01-07   \n",
       "4        10210830256-BIO003      F  01/08/1976 00:00:00    2019-01-07   \n",
       "...                     ...    ...                  ...           ...   \n",
       "2355236        7664157546-1      M  06/03/1971 00:00:00    2021-02-12   \n",
       "2355237        7664157546-1      M  06/03/1971 00:00:00    2021-02-12   \n",
       "2355238        7664157546-1      M  06/03/1971 00:00:00    2021-02-12   \n",
       "2355239        7664157546-1      M  06/03/1971 00:00:00    2021-02-12   \n",
       "2355240        7664157546-1      M  06/03/1971 00:00:00    2021-02-12   \n",
       "\n",
       "               ServiceId LabId   CodItem  TestingCost  \n",
       "0        571904533475-38  L133  70003237          9.0  \n",
       "1        571904533475-38  L133  70000638         13.0  \n",
       "2        571904533475-38  L133  70001597         49.0  \n",
       "3        571904533475-38  L133  70000103         11.0  \n",
       "4        571904533475-38  L133  70000224         10.0  \n",
       "...                  ...   ...       ...          ...  \n",
       "2355236   7664157546-1-1  L697  70004038         10.0  \n",
       "2355237   7664157546-1-1  L697  70004134         10.0  \n",
       "2355238   7664157546-1-1  L697  70003056          9.0  \n",
       "2355239   7664157546-1-1  L697  70004185         13.0  \n",
       "2355240   7664157546-1-1  L697  70000392          8.0  \n",
       "\n",
       "[2355241 rows x 8 columns]"
      ]
     },
     "execution_count": 409,
     "metadata": {},
     "output_type": "execute_result"
    }
   ],
   "source": [
    "df_transactional"
   ]
  },
  {
   "cell_type": "code",
   "execution_count": 410,
   "metadata": {},
   "outputs": [],
   "source": [
    "# Corrigindo o(s) valor(es) que deveria(m) ser do tipo String\n",
    "df_transactional[\"PatientId\"] = df_transactional[\"PatientId\"].astype(pd.StringDtype())\n",
    "df_transactional[\"Gender\"] = df_transactional[\"Gender\"].astype(pd.StringDtype())\n",
    "df_transactional[\"ServiceId\"] = df_transactional[\"ServiceId\"].astype(pd.StringDtype())\n",
    "df_transactional[\"LabId\"] = df_transactional[\"LabId\"].astype(pd.StringDtype())\n",
    "\n",
    "# Corrigindo o(s) valor(es) que deveria(m) ser do tipo Int\n",
    "df_transactional[\"CodItem\"] = df_transactional[\"CodItem\"].astype(\"Int64\")\n",
    "\n",
    "# Corrigindo o(s) valor(es) que deveria(m) ser do tipo Float\n",
    "df_transactional[\"TestingCost\"] = df_transactional[\"TestingCost\"].astype(\"Float64\")\n",
    "\n",
    "# Corrigindo o(s) valor(es) que deveria(m) ser do tipo Datetime\n",
    "df_transactional['Dateofbirth'] = pd.to_datetime(df_transactional['Dateofbirth'])\n",
    "df_transactional['Dateofservice'] = pd.to_datetime(df_transactional['Dateofservice'])"
   ]
  },
  {
   "cell_type": "markdown",
   "metadata": {},
   "source": [
    "Com isso, todos os Dtype(s) do dataframe foram corrigidos"
   ]
  },
  {
   "cell_type": "code",
   "execution_count": 412,
   "metadata": {},
   "outputs": [
    {
     "name": "stdout",
     "output_type": "stream",
     "text": [
      "<class 'pandas.core.frame.DataFrame'>\n",
      "RangeIndex: 2355241 entries, 0 to 2355240\n",
      "Data columns (total 8 columns):\n",
      " #   Column         Dtype         \n",
      "---  ------         -----         \n",
      " 0   PatientId      string        \n",
      " 1   Gender         string        \n",
      " 2   Dateofbirth    datetime64[ns]\n",
      " 3   Dateofservice  datetime64[ns]\n",
      " 4   ServiceId      string        \n",
      " 5   LabId          string        \n",
      " 6   CodItem        Int64         \n",
      " 7   TestingCost    Float64       \n",
      "dtypes: Float64(1), Int64(1), datetime64[ns](2), string(4)\n",
      "memory usage: 148.2 MB\n"
     ]
    }
   ],
   "source": [
    "df_transactional.info()"
   ]
  }
 ],
 "metadata": {
  "kernelspec": {
   "display_name": "Python 3.9.12 ('base')",
   "language": "python",
   "name": "python3"
  },
  "language_info": {
   "codemirror_mode": {
    "name": "ipython",
    "version": 3
   },
   "file_extension": ".py",
   "mimetype": "text/x-python",
   "name": "python",
   "nbconvert_exporter": "python",
   "pygments_lexer": "ipython3",
   "version": "3.9.12"
  },
  "orig_nbformat": 4,
  "vscode": {
   "interpreter": {
    "hash": "065adfb6cf8dde93f3b68adab08bd1730f93fe8bcfc65ba4af5a314086910420"
   }
  }
 },
 "nbformat": 4,
 "nbformat_minor": 2
}
