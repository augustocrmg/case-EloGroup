{
 "cells": [
  {
   "cell_type": "code",
   "execution_count": 171,
   "metadata": {},
   "outputs": [],
   "source": [
    "import pandas as pd\n",
    "import numpy as np"
   ]
  },
  {
   "cell_type": "code",
   "execution_count": 172,
   "metadata": {},
   "outputs": [],
   "source": [
    "prefix  = \"../data/\"\n",
    "\n",
    "df_demographic = pd.read_csv(prefix+\"DemographicData_ZCTAs.csv\")\n",
    "df_economic = pd.read_csv(prefix+\"EconomicData_ZCTAs.csv\")\n",
    "df_geocode = pd.read_csv(prefix+\"df_geocode.csv\")\n",
    "df_tests = pd.read_csv(prefix+\"test_data.csv\")\n",
    "df_transactional = pd.read_csv(prefix+\"transactional_data.csv\")"
   ]
  },
  {
   "cell_type": "markdown",
   "metadata": {},
   "source": [
    "# Sanity check"
   ]
  },
  {
   "cell_type": "markdown",
   "metadata": {},
   "source": [
    "## Sanity check df_demographic"
   ]
  },
  {
   "cell_type": "code",
   "execution_count": 173,
   "metadata": {},
   "outputs": [
    {
     "data": {
      "text/html": [
       "<div>\n",
       "<style scoped>\n",
       "    .dataframe tbody tr th:only-of-type {\n",
       "        vertical-align: middle;\n",
       "    }\n",
       "\n",
       "    .dataframe tbody tr th {\n",
       "        vertical-align: top;\n",
       "    }\n",
       "\n",
       "    .dataframe thead th {\n",
       "        text-align: right;\n",
       "    }\n",
       "</style>\n",
       "<table border=\"1\" class=\"dataframe\">\n",
       "  <thead>\n",
       "    <tr style=\"text-align: right;\">\n",
       "      <th></th>\n",
       "      <th>Unnamed: 0</th>\n",
       "      <th>Id</th>\n",
       "      <th>GeographicAreaName</th>\n",
       "      <th>TotalPopulation</th>\n",
       "      <th>SexRatio(males per 100 females)</th>\n",
       "      <th>Population_Under5Years</th>\n",
       "      <th>Population_5to9Years</th>\n",
       "      <th>Population_10to14Years</th>\n",
       "      <th>Population_15to19Years</th>\n",
       "      <th>Population_20to24Years</th>\n",
       "      <th>Population_25to34Years</th>\n",
       "      <th>Population_35to44Years</th>\n",
       "      <th>Population_45to54Years</th>\n",
       "      <th>Population_55to59Years</th>\n",
       "      <th>Population_60to64Years</th>\n",
       "      <th>Population_65to74Years</th>\n",
       "      <th>Population_75to84Years</th>\n",
       "      <th>Population_85YearsAndOver</th>\n",
       "      <th>MedianAgeInYears</th>\n",
       "    </tr>\n",
       "  </thead>\n",
       "  <tbody>\n",
       "    <tr>\n",
       "      <th>0</th>\n",
       "      <td>0</td>\n",
       "      <td>8600000US35004</td>\n",
       "      <td>ZCTA5 35004</td>\n",
       "      <td>12045</td>\n",
       "      <td>94.1</td>\n",
       "      <td>805</td>\n",
       "      <td>1075</td>\n",
       "      <td>898</td>\n",
       "      <td>477</td>\n",
       "      <td>578</td>\n",
       "      <td>2088</td>\n",
       "      <td>1628</td>\n",
       "      <td>1200</td>\n",
       "      <td>886</td>\n",
       "      <td>683</td>\n",
       "      <td>1017</td>\n",
       "      <td>534</td>\n",
       "      <td>176</td>\n",
       "      <td>35.5</td>\n",
       "    </tr>\n",
       "    <tr>\n",
       "      <th>1</th>\n",
       "      <td>1</td>\n",
       "      <td>8600000US35005</td>\n",
       "      <td>ZCTA5 35005</td>\n",
       "      <td>7344</td>\n",
       "      <td>86.1</td>\n",
       "      <td>504</td>\n",
       "      <td>453</td>\n",
       "      <td>511</td>\n",
       "      <td>499</td>\n",
       "      <td>214</td>\n",
       "      <td>788</td>\n",
       "      <td>795</td>\n",
       "      <td>968</td>\n",
       "      <td>612</td>\n",
       "      <td>561</td>\n",
       "      <td>798</td>\n",
       "      <td>485</td>\n",
       "      <td>156</td>\n",
       "      <td>44.0</td>\n",
       "    </tr>\n",
       "    <tr>\n",
       "      <th>2</th>\n",
       "      <td>2</td>\n",
       "      <td>8600000US35006</td>\n",
       "      <td>ZCTA5 35006</td>\n",
       "      <td>2883</td>\n",
       "      <td>108.2</td>\n",
       "      <td>96</td>\n",
       "      <td>153</td>\n",
       "      <td>303</td>\n",
       "      <td>129</td>\n",
       "      <td>156</td>\n",
       "      <td>183</td>\n",
       "      <td>367</td>\n",
       "      <td>430</td>\n",
       "      <td>296</td>\n",
       "      <td>260</td>\n",
       "      <td>280</td>\n",
       "      <td>201</td>\n",
       "      <td>29</td>\n",
       "      <td>47.2</td>\n",
       "    </tr>\n",
       "    <tr>\n",
       "      <th>3</th>\n",
       "      <td>3</td>\n",
       "      <td>8600000US35007</td>\n",
       "      <td>ZCTA5 35007</td>\n",
       "      <td>26332</td>\n",
       "      <td>95.0</td>\n",
       "      <td>1936</td>\n",
       "      <td>1992</td>\n",
       "      <td>1837</td>\n",
       "      <td>1762</td>\n",
       "      <td>1376</td>\n",
       "      <td>3119</td>\n",
       "      <td>3849</td>\n",
       "      <td>3907</td>\n",
       "      <td>1665</td>\n",
       "      <td>1323</td>\n",
       "      <td>2096</td>\n",
       "      <td>1106</td>\n",
       "      <td>364</td>\n",
       "      <td>37.7</td>\n",
       "    </tr>\n",
       "    <tr>\n",
       "      <th>4</th>\n",
       "      <td>4</td>\n",
       "      <td>8600000US35010</td>\n",
       "      <td>ZCTA5 35010</td>\n",
       "      <td>20613</td>\n",
       "      <td>90.5</td>\n",
       "      <td>1306</td>\n",
       "      <td>1465</td>\n",
       "      <td>944</td>\n",
       "      <td>1217</td>\n",
       "      <td>1128</td>\n",
       "      <td>2513</td>\n",
       "      <td>2106</td>\n",
       "      <td>2950</td>\n",
       "      <td>1512</td>\n",
       "      <td>1472</td>\n",
       "      <td>2421</td>\n",
       "      <td>1155</td>\n",
       "      <td>424</td>\n",
       "      <td>42.6</td>\n",
       "    </tr>\n",
       "  </tbody>\n",
       "</table>\n",
       "</div>"
      ],
      "text/plain": [
       "   Unnamed: 0              Id GeographicAreaName  TotalPopulation  \\\n",
       "0           0  8600000US35004        ZCTA5 35004            12045   \n",
       "1           1  8600000US35005        ZCTA5 35005             7344   \n",
       "2           2  8600000US35006        ZCTA5 35006             2883   \n",
       "3           3  8600000US35007        ZCTA5 35007            26332   \n",
       "4           4  8600000US35010        ZCTA5 35010            20613   \n",
       "\n",
       "   SexRatio(males per 100 females)  Population_Under5Years  \\\n",
       "0                             94.1                     805   \n",
       "1                             86.1                     504   \n",
       "2                            108.2                      96   \n",
       "3                             95.0                    1936   \n",
       "4                             90.5                    1306   \n",
       "\n",
       "   Population_5to9Years  Population_10to14Years  Population_15to19Years  \\\n",
       "0                  1075                     898                     477   \n",
       "1                   453                     511                     499   \n",
       "2                   153                     303                     129   \n",
       "3                  1992                    1837                    1762   \n",
       "4                  1465                     944                    1217   \n",
       "\n",
       "   Population_20to24Years  Population_25to34Years  Population_35to44Years  \\\n",
       "0                     578                    2088                    1628   \n",
       "1                     214                     788                     795   \n",
       "2                     156                     183                     367   \n",
       "3                    1376                    3119                    3849   \n",
       "4                    1128                    2513                    2106   \n",
       "\n",
       "   Population_45to54Years  Population_55to59Years  Population_60to64Years  \\\n",
       "0                    1200                     886                     683   \n",
       "1                     968                     612                     561   \n",
       "2                     430                     296                     260   \n",
       "3                    3907                    1665                    1323   \n",
       "4                    2950                    1512                    1472   \n",
       "\n",
       "   Population_65to74Years  Population_75to84Years  Population_85YearsAndOver  \\\n",
       "0                    1017                     534                        176   \n",
       "1                     798                     485                        156   \n",
       "2                     280                     201                         29   \n",
       "3                    2096                    1106                        364   \n",
       "4                    2421                    1155                        424   \n",
       "\n",
       "   MedianAgeInYears  \n",
       "0              35.5  \n",
       "1              44.0  \n",
       "2              47.2  \n",
       "3              37.7  \n",
       "4              42.6  "
      ]
     },
     "execution_count": 173,
     "metadata": {},
     "output_type": "execute_result"
    }
   ],
   "source": [
    "df_demographic.head(5)"
   ]
  },
  {
   "cell_type": "markdown",
   "metadata": {},
   "source": [
    "Corrigindo o nome das colunas"
   ]
  },
  {
   "cell_type": "code",
   "execution_count": 174,
   "metadata": {},
   "outputs": [],
   "source": [
    "df_demographic.columns = [x.replace(\" \",\"\").replace(\"(\",\"_\").replace(\")\",\"\") for x in df_demographic.columns] # Renomeando as colunas "
   ]
  },
  {
   "cell_type": "markdown",
   "metadata": {},
   "source": [
    "Descartando a coluna Unnamed:0, pois já o dataframe já contém index"
   ]
  },
  {
   "cell_type": "code",
   "execution_count": 175,
   "metadata": {},
   "outputs": [],
   "source": [
    "df_demographic = df_demographic.iloc[:,1:]"
   ]
  },
  {
   "cell_type": "markdown",
   "metadata": {},
   "source": [
    "Verificando as colunas com valores nulos"
   ]
  },
  {
   "cell_type": "code",
   "execution_count": 176,
   "metadata": {},
   "outputs": [
    {
     "data": {
      "text/plain": [
       "Id                             False\n",
       "GeographicAreaName             False\n",
       "TotalPopulation                False\n",
       "SexRatio_malesper100females     True\n",
       "Population_Under5Years         False\n",
       "Population_5to9Years           False\n",
       "Population_10to14Years         False\n",
       "Population_15to19Years         False\n",
       "Population_20to24Years         False\n",
       "Population_25to34Years         False\n",
       "Population_35to44Years         False\n",
       "Population_45to54Years         False\n",
       "Population_55to59Years         False\n",
       "Population_60to64Years         False\n",
       "Population_65to74Years         False\n",
       "Population_75to84Years         False\n",
       "Population_85YearsAndOver      False\n",
       "MedianAgeInYears                True\n",
       "dtype: bool"
      ]
     },
     "execution_count": 176,
     "metadata": {},
     "output_type": "execute_result"
    }
   ],
   "source": [
    "df_demographic.isnull().any()"
   ]
  },
  {
   "cell_type": "code",
   "execution_count": 177,
   "metadata": {},
   "outputs": [
    {
     "name": "stdout",
     "output_type": "stream",
     "text": [
      "Como vemos, cerca de 1.863% das 33120 linhas contém dados nulos\n"
     ]
    }
   ],
   "source": [
    "print(f\"Como vemos, cerca de {((100*df_demographic[df_demographic.isna().any(axis=1)].shape[0])/df_demographic.shape[0]):.3f}\\\n",
    "% das {df_demographic.shape[0]} linhas contém dados nulos\")"
   ]
  },
  {
   "cell_type": "markdown",
   "metadata": {},
   "source": [
    "Como não é possível obter os dados faltantes, as linhas que contém os dados faltantes serão excluidas do dataframe"
   ]
  },
  {
   "cell_type": "code",
   "execution_count": 178,
   "metadata": {},
   "outputs": [],
   "source": [
    "df_demographic = df_demographic.dropna(how='any') # Dropando os valores nulos"
   ]
  },
  {
   "cell_type": "markdown",
   "metadata": {},
   "source": [
    "Como é possível verificar, não constam mais valores nulos em nenhuma coluna do dataframe"
   ]
  },
  {
   "cell_type": "code",
   "execution_count": 179,
   "metadata": {},
   "outputs": [
    {
     "data": {
      "text/plain": [
       "Id                             False\n",
       "GeographicAreaName             False\n",
       "TotalPopulation                False\n",
       "SexRatio_malesper100females    False\n",
       "Population_Under5Years         False\n",
       "Population_5to9Years           False\n",
       "Population_10to14Years         False\n",
       "Population_15to19Years         False\n",
       "Population_20to24Years         False\n",
       "Population_25to34Years         False\n",
       "Population_35to44Years         False\n",
       "Population_45to54Years         False\n",
       "Population_55to59Years         False\n",
       "Population_60to64Years         False\n",
       "Population_65to74Years         False\n",
       "Population_75to84Years         False\n",
       "Population_85YearsAndOver      False\n",
       "MedianAgeInYears               False\n",
       "dtype: bool"
      ]
     },
     "execution_count": 179,
     "metadata": {},
     "output_type": "execute_result"
    }
   ],
   "source": [
    "df_demographic.isnull().any()"
   ]
  },
  {
   "cell_type": "markdown",
   "metadata": {},
   "source": [
    "Corrigindo o index após a remoção dos valores nulos"
   ]
  },
  {
   "cell_type": "code",
   "execution_count": 180,
   "metadata": {},
   "outputs": [],
   "source": [
    "df_demographic = df_demographic.reset_index(drop=True)"
   ]
  },
  {
   "cell_type": "markdown",
   "metadata": {},
   "source": [
    "Verificando os dtypes das colunas "
   ]
  },
  {
   "cell_type": "code",
   "execution_count": 181,
   "metadata": {},
   "outputs": [
    {
     "name": "stdout",
     "output_type": "stream",
     "text": [
      "<class 'pandas.core.frame.DataFrame'>\n",
      "RangeIndex: 32503 entries, 0 to 32502\n",
      "Data columns (total 18 columns):\n",
      " #   Column                       Non-Null Count  Dtype  \n",
      "---  ------                       --------------  -----  \n",
      " 0   Id                           32503 non-null  object \n",
      " 1   GeographicAreaName           32503 non-null  object \n",
      " 2   TotalPopulation              32503 non-null  int64  \n",
      " 3   SexRatio_malesper100females  32503 non-null  float64\n",
      " 4   Population_Under5Years       32503 non-null  int64  \n",
      " 5   Population_5to9Years         32503 non-null  int64  \n",
      " 6   Population_10to14Years       32503 non-null  int64  \n",
      " 7   Population_15to19Years       32503 non-null  int64  \n",
      " 8   Population_20to24Years       32503 non-null  int64  \n",
      " 9   Population_25to34Years       32503 non-null  int64  \n",
      " 10  Population_35to44Years       32503 non-null  int64  \n",
      " 11  Population_45to54Years       32503 non-null  int64  \n",
      " 12  Population_55to59Years       32503 non-null  int64  \n",
      " 13  Population_60to64Years       32503 non-null  int64  \n",
      " 14  Population_65to74Years       32503 non-null  int64  \n",
      " 15  Population_75to84Years       32503 non-null  int64  \n",
      " 16  Population_85YearsAndOver    32503 non-null  int64  \n",
      " 17  MedianAgeInYears             32503 non-null  float64\n",
      "dtypes: float64(2), int64(14), object(2)\n",
      "memory usage: 4.5+ MB\n"
     ]
    }
   ],
   "source": [
    "df_demographic.info()"
   ]
  },
  {
   "cell_type": "markdown",
   "metadata": {},
   "source": [
    "É possível verificar que apenas as colunas \"Id\" e \"GeographicAreaName\" são do tipo \"object\", e serão convertidas para tipos específicos"
   ]
  },
  {
   "cell_type": "code",
   "execution_count": 182,
   "metadata": {},
   "outputs": [],
   "source": [
    "df_demographic[\"Id\"] = df_demographic[\"Id\"].astype(pd.StringDtype())\n",
    "df_demographic[\"GeographicAreaName\"] = df_demographic[\"GeographicAreaName\"].astype(pd.StringDtype())"
   ]
  },
  {
   "cell_type": "markdown",
   "metadata": {},
   "source": [
    "Com isso, todos os Dtype(s) do dataframe foram corrigidos"
   ]
  },
  {
   "cell_type": "code",
   "execution_count": 184,
   "metadata": {},
   "outputs": [
    {
     "name": "stdout",
     "output_type": "stream",
     "text": [
      "<class 'pandas.core.frame.DataFrame'>\n",
      "RangeIndex: 32503 entries, 0 to 32502\n",
      "Data columns (total 18 columns):\n",
      " #   Column                       Non-Null Count  Dtype  \n",
      "---  ------                       --------------  -----  \n",
      " 0   Id                           32503 non-null  string \n",
      " 1   GeographicAreaName           32503 non-null  string \n",
      " 2   TotalPopulation              32503 non-null  int64  \n",
      " 3   SexRatio_malesper100females  32503 non-null  float64\n",
      " 4   Population_Under5Years       32503 non-null  int64  \n",
      " 5   Population_5to9Years         32503 non-null  int64  \n",
      " 6   Population_10to14Years       32503 non-null  int64  \n",
      " 7   Population_15to19Years       32503 non-null  int64  \n",
      " 8   Population_20to24Years       32503 non-null  int64  \n",
      " 9   Population_25to34Years       32503 non-null  int64  \n",
      " 10  Population_35to44Years       32503 non-null  int64  \n",
      " 11  Population_45to54Years       32503 non-null  int64  \n",
      " 12  Population_55to59Years       32503 non-null  int64  \n",
      " 13  Population_60to64Years       32503 non-null  int64  \n",
      " 14  Population_65to74Years       32503 non-null  int64  \n",
      " 15  Population_75to84Years       32503 non-null  int64  \n",
      " 16  Population_85YearsAndOver    32503 non-null  int64  \n",
      " 17  MedianAgeInYears             32503 non-null  float64\n",
      "dtypes: float64(2), int64(14), string(2)\n",
      "memory usage: 4.5 MB\n"
     ]
    }
   ],
   "source": [
    "df_demographic.info()"
   ]
  },
  {
   "cell_type": "markdown",
   "metadata": {},
   "source": [
    "Tratamento de outliers presentes no dataframe"
   ]
  },
  {
   "cell_type": "markdown",
   "metadata": {},
   "source": [
    "## Sanity check df_economic"
   ]
  },
  {
   "cell_type": "code",
   "execution_count": 192,
   "metadata": {},
   "outputs": [
    {
     "data": {
      "text/html": [
       "<div>\n",
       "<style scoped>\n",
       "    .dataframe tbody tr th:only-of-type {\n",
       "        vertical-align: middle;\n",
       "    }\n",
       "\n",
       "    .dataframe tbody tr th {\n",
       "        vertical-align: top;\n",
       "    }\n",
       "\n",
       "    .dataframe thead th {\n",
       "        text-align: right;\n",
       "    }\n",
       "</style>\n",
       "<table border=\"1\" class=\"dataframe\">\n",
       "  <thead>\n",
       "    <tr style=\"text-align: right;\">\n",
       "      <th></th>\n",
       "      <th>Unnamed: 0</th>\n",
       "      <th>id</th>\n",
       "      <th>Geographic Area Name</th>\n",
       "      <th>TotalHouseholds_LessThan$10.000</th>\n",
       "      <th>TotalHouseholds_$10.000to$14.999</th>\n",
       "      <th>TotalHouseholds_$15.000to$24.999</th>\n",
       "      <th>TotalHouseholds_$25.000to$34.999</th>\n",
       "      <th>TotalHouseholds_$35.000to$49.999</th>\n",
       "      <th>TotalHouseholds_$50.000to$74.999</th>\n",
       "      <th>TotalHouseholds_$75.000to$99.999</th>\n",
       "      <th>TotalHouseholds_$100.000to$149.999</th>\n",
       "      <th>TotalHouseholds_$150.000to$199.999</th>\n",
       "      <th>TotalHouseholds_$200.000OrMore</th>\n",
       "    </tr>\n",
       "  </thead>\n",
       "  <tbody>\n",
       "    <tr>\n",
       "      <th>0</th>\n",
       "      <td>0</td>\n",
       "      <td>8600000US35004</td>\n",
       "      <td>ZCTA5 35004</td>\n",
       "      <td>198</td>\n",
       "      <td>71</td>\n",
       "      <td>298</td>\n",
       "      <td>513</td>\n",
       "      <td>647</td>\n",
       "      <td>1117</td>\n",
       "      <td>529</td>\n",
       "      <td>945</td>\n",
       "      <td>245</td>\n",
       "      <td>61</td>\n",
       "    </tr>\n",
       "    <tr>\n",
       "      <th>1</th>\n",
       "      <td>1</td>\n",
       "      <td>8600000US35005</td>\n",
       "      <td>ZCTA5 35005</td>\n",
       "      <td>188</td>\n",
       "      <td>184</td>\n",
       "      <td>318</td>\n",
       "      <td>293</td>\n",
       "      <td>353</td>\n",
       "      <td>562</td>\n",
       "      <td>299</td>\n",
       "      <td>407</td>\n",
       "      <td>67</td>\n",
       "      <td>26</td>\n",
       "    </tr>\n",
       "    <tr>\n",
       "      <th>2</th>\n",
       "      <td>2</td>\n",
       "      <td>8600000US35006</td>\n",
       "      <td>ZCTA5 35006</td>\n",
       "      <td>71</td>\n",
       "      <td>20</td>\n",
       "      <td>117</td>\n",
       "      <td>104</td>\n",
       "      <td>154</td>\n",
       "      <td>176</td>\n",
       "      <td>124</td>\n",
       "      <td>194</td>\n",
       "      <td>51</td>\n",
       "      <td>7</td>\n",
       "    </tr>\n",
       "    <tr>\n",
       "      <th>3</th>\n",
       "      <td>3</td>\n",
       "      <td>8600000US35007</td>\n",
       "      <td>ZCTA5 35007</td>\n",
       "      <td>396</td>\n",
       "      <td>208</td>\n",
       "      <td>670</td>\n",
       "      <td>462</td>\n",
       "      <td>1173</td>\n",
       "      <td>1854</td>\n",
       "      <td>1578</td>\n",
       "      <td>2224</td>\n",
       "      <td>473</td>\n",
       "      <td>254</td>\n",
       "    </tr>\n",
       "    <tr>\n",
       "      <th>4</th>\n",
       "      <td>4</td>\n",
       "      <td>8600000US35010</td>\n",
       "      <td>ZCTA5 35010</td>\n",
       "      <td>700</td>\n",
       "      <td>610</td>\n",
       "      <td>1093</td>\n",
       "      <td>957</td>\n",
       "      <td>1056</td>\n",
       "      <td>1512</td>\n",
       "      <td>807</td>\n",
       "      <td>749</td>\n",
       "      <td>254</td>\n",
       "      <td>249</td>\n",
       "    </tr>\n",
       "  </tbody>\n",
       "</table>\n",
       "</div>"
      ],
      "text/plain": [
       "   Unnamed: 0              id Geographic Area Name  \\\n",
       "0           0  8600000US35004          ZCTA5 35004   \n",
       "1           1  8600000US35005          ZCTA5 35005   \n",
       "2           2  8600000US35006          ZCTA5 35006   \n",
       "3           3  8600000US35007          ZCTA5 35007   \n",
       "4           4  8600000US35010          ZCTA5 35010   \n",
       "\n",
       "   TotalHouseholds_LessThan$10.000  TotalHouseholds_$10.000to$14.999  \\\n",
       "0                              198                                71   \n",
       "1                              188                               184   \n",
       "2                               71                                20   \n",
       "3                              396                               208   \n",
       "4                              700                               610   \n",
       "\n",
       "   TotalHouseholds_$15.000to$24.999  TotalHouseholds_$25.000to$34.999  \\\n",
       "0                               298                               513   \n",
       "1                               318                               293   \n",
       "2                               117                               104   \n",
       "3                               670                               462   \n",
       "4                              1093                               957   \n",
       "\n",
       "   TotalHouseholds_$35.000to$49.999  TotalHouseholds_$50.000to$74.999  \\\n",
       "0                               647                              1117   \n",
       "1                               353                               562   \n",
       "2                               154                               176   \n",
       "3                              1173                              1854   \n",
       "4                              1056                              1512   \n",
       "\n",
       "   TotalHouseholds_$75.000to$99.999  TotalHouseholds_$100.000to$149.999  \\\n",
       "0                               529                                 945   \n",
       "1                               299                                 407   \n",
       "2                               124                                 194   \n",
       "3                              1578                                2224   \n",
       "4                               807                                 749   \n",
       "\n",
       "   TotalHouseholds_$150.000to$199.999  TotalHouseholds_$200.000OrMore  \n",
       "0                                 245                              61  \n",
       "1                                  67                              26  \n",
       "2                                  51                               7  \n",
       "3                                 473                             254  \n",
       "4                                 254                             249  "
      ]
     },
     "execution_count": 192,
     "metadata": {},
     "output_type": "execute_result"
    }
   ],
   "source": [
    "df_economic.head(5)"
   ]
  },
  {
   "cell_type": "markdown",
   "metadata": {},
   "source": [
    "Corrigindo o nome das colunas"
   ]
  },
  {
   "cell_type": "code",
   "execution_count": 193,
   "metadata": {},
   "outputs": [
    {
     "ename": "ValueError",
     "evalue": "Length mismatch: Expected axis has 13 elements, new values have 18 elements",
     "output_type": "error",
     "traceback": [
      "\u001b[0;31m---------------------------------------------------------------------------\u001b[0m",
      "\u001b[0;31mValueError\u001b[0m                                Traceback (most recent call last)",
      "\u001b[1;32m/home/augusto/Documents/case-EloGroup/src/analisys.ipynb Cell 29\u001b[0m in \u001b[0;36m<cell line: 1>\u001b[0;34m()\u001b[0m\n\u001b[0;32m----> <a href='vscode-notebook-cell://wsl%2Bubuntu/home/augusto/Documents/case-EloGroup/src/analisys.ipynb#Y106sdnNjb2RlLXJlbW90ZQ%3D%3D?line=0'>1</a>\u001b[0m df_economic\u001b[39m.\u001b[39mcolumns \u001b[39m=\u001b[39m [x\u001b[39m.\u001b[39mreplace(\u001b[39m\"\u001b[39m\u001b[39m \u001b[39m\u001b[39m\"\u001b[39m,\u001b[39m\"\u001b[39m\u001b[39m\"\u001b[39m)\u001b[39m.\u001b[39mreplace(\u001b[39m\"\u001b[39m\u001b[39m(\u001b[39m\u001b[39m\"\u001b[39m,\u001b[39m\"\u001b[39m\u001b[39m_\u001b[39m\u001b[39m\"\u001b[39m)\u001b[39m.\u001b[39mreplace(\u001b[39m\"\u001b[39m\u001b[39m)\u001b[39m\u001b[39m\"\u001b[39m,\u001b[39m\"\u001b[39m\u001b[39m\"\u001b[39m) \u001b[39mfor\u001b[39;00m x \u001b[39min\u001b[39;00m df_demographic\u001b[39m.\u001b[39mcolumns]\n",
      "File \u001b[0;32m~/anaconda3/lib/python3.9/site-packages/pandas/core/generic.py:5588\u001b[0m, in \u001b[0;36mNDFrame.__setattr__\u001b[0;34m(self, name, value)\u001b[0m\n\u001b[1;32m   5586\u001b[0m \u001b[39mtry\u001b[39;00m:\n\u001b[1;32m   5587\u001b[0m     \u001b[39mobject\u001b[39m\u001b[39m.\u001b[39m\u001b[39m__getattribute__\u001b[39m(\u001b[39mself\u001b[39m, name)\n\u001b[0;32m-> 5588\u001b[0m     \u001b[39mreturn\u001b[39;00m \u001b[39mobject\u001b[39;49m\u001b[39m.\u001b[39;49m\u001b[39m__setattr__\u001b[39;49m(\u001b[39mself\u001b[39;49m, name, value)\n\u001b[1;32m   5589\u001b[0m \u001b[39mexcept\u001b[39;00m \u001b[39mAttributeError\u001b[39;00m:\n\u001b[1;32m   5590\u001b[0m     \u001b[39mpass\u001b[39;00m\n",
      "File \u001b[0;32m~/anaconda3/lib/python3.9/site-packages/pandas/_libs/properties.pyx:70\u001b[0m, in \u001b[0;36mpandas._libs.properties.AxisProperty.__set__\u001b[0;34m()\u001b[0m\n",
      "File \u001b[0;32m~/anaconda3/lib/python3.9/site-packages/pandas/core/generic.py:769\u001b[0m, in \u001b[0;36mNDFrame._set_axis\u001b[0;34m(self, axis, labels)\u001b[0m\n\u001b[1;32m    767\u001b[0m \u001b[39mdef\u001b[39;00m \u001b[39m_set_axis\u001b[39m(\u001b[39mself\u001b[39m, axis: \u001b[39mint\u001b[39m, labels: Index) \u001b[39m-\u001b[39m\u001b[39m>\u001b[39m \u001b[39mNone\u001b[39;00m:\n\u001b[1;32m    768\u001b[0m     labels \u001b[39m=\u001b[39m ensure_index(labels)\n\u001b[0;32m--> 769\u001b[0m     \u001b[39mself\u001b[39;49m\u001b[39m.\u001b[39;49m_mgr\u001b[39m.\u001b[39;49mset_axis(axis, labels)\n\u001b[1;32m    770\u001b[0m     \u001b[39mself\u001b[39m\u001b[39m.\u001b[39m_clear_item_cache()\n",
      "File \u001b[0;32m~/anaconda3/lib/python3.9/site-packages/pandas/core/internals/managers.py:214\u001b[0m, in \u001b[0;36mBaseBlockManager.set_axis\u001b[0;34m(self, axis, new_labels)\u001b[0m\n\u001b[1;32m    212\u001b[0m \u001b[39mdef\u001b[39;00m \u001b[39mset_axis\u001b[39m(\u001b[39mself\u001b[39m, axis: \u001b[39mint\u001b[39m, new_labels: Index) \u001b[39m-\u001b[39m\u001b[39m>\u001b[39m \u001b[39mNone\u001b[39;00m:\n\u001b[1;32m    213\u001b[0m     \u001b[39m# Caller is responsible for ensuring we have an Index object.\u001b[39;00m\n\u001b[0;32m--> 214\u001b[0m     \u001b[39mself\u001b[39;49m\u001b[39m.\u001b[39;49m_validate_set_axis(axis, new_labels)\n\u001b[1;32m    215\u001b[0m     \u001b[39mself\u001b[39m\u001b[39m.\u001b[39maxes[axis] \u001b[39m=\u001b[39m new_labels\n",
      "File \u001b[0;32m~/anaconda3/lib/python3.9/site-packages/pandas/core/internals/base.py:69\u001b[0m, in \u001b[0;36mDataManager._validate_set_axis\u001b[0;34m(self, axis, new_labels)\u001b[0m\n\u001b[1;32m     66\u001b[0m     \u001b[39mpass\u001b[39;00m\n\u001b[1;32m     68\u001b[0m \u001b[39melif\u001b[39;00m new_len \u001b[39m!=\u001b[39m old_len:\n\u001b[0;32m---> 69\u001b[0m     \u001b[39mraise\u001b[39;00m \u001b[39mValueError\u001b[39;00m(\n\u001b[1;32m     70\u001b[0m         \u001b[39mf\u001b[39m\u001b[39m\"\u001b[39m\u001b[39mLength mismatch: Expected axis has \u001b[39m\u001b[39m{\u001b[39;00mold_len\u001b[39m}\u001b[39;00m\u001b[39m elements, new \u001b[39m\u001b[39m\"\u001b[39m\n\u001b[1;32m     71\u001b[0m         \u001b[39mf\u001b[39m\u001b[39m\"\u001b[39m\u001b[39mvalues have \u001b[39m\u001b[39m{\u001b[39;00mnew_len\u001b[39m}\u001b[39;00m\u001b[39m elements\u001b[39m\u001b[39m\"\u001b[39m\n\u001b[1;32m     72\u001b[0m     )\n",
      "\u001b[0;31mValueError\u001b[0m: Length mismatch: Expected axis has 13 elements, new values have 18 elements"
     ]
    }
   ],
   "source": [
    "df_economic.columns = [x.replace(\" \",\"\").replace(\"(\",\"_\").replace(\")\",\"\") for x in df_economic.columns] # Renomeando as colunas "
   ]
  }
 ],
 "metadata": {
  "kernelspec": {
   "display_name": "Python 3.9.12 ('base')",
   "language": "python",
   "name": "python3"
  },
  "language_info": {
   "codemirror_mode": {
    "name": "ipython",
    "version": 3
   },
   "file_extension": ".py",
   "mimetype": "text/x-python",
   "name": "python",
   "nbconvert_exporter": "python",
   "pygments_lexer": "ipython3",
   "version": "3.9.12"
  },
  "orig_nbformat": 4,
  "vscode": {
   "interpreter": {
    "hash": "065adfb6cf8dde93f3b68adab08bd1730f93fe8bcfc65ba4af5a314086910420"
   }
  }
 },
 "nbformat": 4,
 "nbformat_minor": 2
}
